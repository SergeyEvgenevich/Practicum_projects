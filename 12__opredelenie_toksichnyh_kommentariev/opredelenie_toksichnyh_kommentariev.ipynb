{
 "cells": [
  {
   "cell_type": "markdown",
   "id": "6ca78d48-6bb6-4a0f-90d0-de68141f9d5f",
   "metadata": {},
   "source": [
    "## <b>Описание данных и задания </b>"
   ]
  },
  {
   "cell_type": "markdown",
   "id": "e82cc19a-d4f3-4098-b2d6-f82d46176e20",
   "metadata": {},
   "source": [
    "### <b>Техническое задание </b>"
   ]
  },
  {
   "cell_type": "markdown",
   "id": "db5e0660-129a-421d-b906-e5616ae0107c",
   "metadata": {},
   "source": [
    "#### <b>Описание</b>"
   ]
  },
  {
   "cell_type": "markdown",
   "id": "02b29658-49e2-4365-a16d-61da32bd4b63",
   "metadata": {},
   "source": [
    "Интернет-магазин «Викишоп» запускает новый сервис. Теперь пользователи могут редактировать и дополнять описания товаров, как в вики-сообществах. То есть клиенты предлагают свои правки и комментируют изменения других. Магазину нужен инструмент, который будет искать токсичные комментарии и отправлять их на модерацию. "
   ]
  },
  {
   "cell_type": "markdown",
   "id": "2e76656b-bcc8-45ae-bff1-c49cb88705f9",
   "metadata": {},
   "source": [
    "#### toxic_comments.csv"
   ]
  },
  {
   "cell_type": "markdown",
   "id": "7b8dd952-af2c-4c91-b340-59f6e5f7f4d3",
   "metadata": {},
   "source": [
    "●text - содержит текст комментария.\n",
    "<br>●toxic — целевой признак."
   ]
  },
  {
   "cell_type": "markdown",
   "id": "d732385a-fa90-4d72-94d9-d236ceffb47d",
   "metadata": {},
   "source": [
    "Aлгоритм решения:\n",
    "<br>●Загрузить и подготовь данные.\n",
    "<br>●Обучить разные модели.\n",
    "<br>●Сделайть выводы."
   ]
  },
  {
   "cell_type": "markdown",
   "id": "ba733733-9a35-477b-9608-00fc5fa303c2",
   "metadata": {},
   "source": [
    "## <b>Импорт библиотек и функций</b>"
   ]
  },
  {
   "cell_type": "markdown",
   "id": "5dd146e1-ee3d-4233-89f7-e7df33963917",
   "metadata": {},
   "source": [
    "#### <b>Библиотеки</b>"
   ]
  },
  {
   "cell_type": "code",
   "execution_count": 1,
   "id": "e0a1e4e5-c010-446d-8d9e-4964002274b0",
   "metadata": {},
   "outputs": [
    {
     "name": "stderr",
     "output_type": "stream",
     "text": [
      "[nltk_data] Downloading package punkt to /home/jovyan/nltk_data...\n",
      "[nltk_data]   Package punkt is already up-to-date!\n",
      "[nltk_data] Downloading package averaged_perceptron_tagger to\n",
      "[nltk_data]     /home/jovyan/nltk_data...\n",
      "[nltk_data]   Unzipping taggers/averaged_perceptron_tagger.zip.\n",
      "[nltk_data] Downloading package stopwords to /home/jovyan/nltk_data...\n",
      "[nltk_data]   Unzipping corpora/stopwords.zip.\n"
     ]
    }
   ],
   "source": [
    "import pandas as pd\n",
    "import numpy as np\n",
    "import matplotlib.pyplot as mp\n",
    "import matplotlib.pyplot as plt\n",
    "import seaborn as sns\n",
    "\n",
    "import re\n",
    "import nltk\n",
    "nltk.download('punkt')\n",
    "from nltk.stem import WordNetLemmatizer\n",
    "lemmatizer = WordNetLemmatizer()\n",
    "\n",
    "from nltk.corpus import stopwords as nltk_stopwords\n",
    "from sklearn.feature_extraction.text import TfidfVectorizer\n",
    "from nltk.corpus import stopwords \n",
    "import nltk\n",
    "nltk.download('averaged_perceptron_tagger')\n",
    "nltk.download('stopwords')\n",
    "stopwords = set(nltk_stopwords.words('english'))\n",
    "\n",
    "from sklearn.model_selection import train_test_split\n",
    "from sklearn.metrics import f1_score \n",
    "from sklearn.linear_model import LogisticRegression\n",
    "from sklearn.ensemble import RandomForestClassifier\n",
    "from sklearn.tree import DecisionTreeClassifier\n",
    "from lightgbm import LGBMClassifier\n",
    "from catboost import CatBoostClassifier\n",
    "\n",
    "import time\n",
    "import warnings\n",
    "warnings.filterwarnings(\"ignore\")\n",
    "\n",
    "from tqdm.notebook import tqdm\n",
    "from nltk.corpus import wordnet"
   ]
  },
  {
   "cell_type": "markdown",
   "id": "fe5f45e6-d91c-4d4e-8e7c-567c314d9f7c",
   "metadata": {},
   "source": [
    "#### <b>Функции</b>"
   ]
  },
  {
   "cell_type": "code",
   "execution_count": 2,
   "id": "a8112150-b034-49c5-9302-2ca805ab538d",
   "metadata": {},
   "outputs": [],
   "source": [
    "line = '-'*132\n",
    "def percentage_passes (dataset):\n",
    "    print(dataset.info())\n",
    "    print(line)\n",
    "    print('Количество пропущенных значений таблицы:')\n",
    "    for col in dataset.columns:\n",
    "        datcol = np.sum(dataset[col].isnull())\n",
    "        print(col, datcol)  \n",
    "        \n",
    "    print(line)\n",
    "    print('Количество дубликатов -', dataset.duplicated().sum())\n",
    "\n",
    "def radial_diagram (variable, column):\n",
    "    variable[column].value_counts().plot(y='subscription_type', kind='pie',figsize=(6,6), autopct='%1.1f%%')\n",
    "    mp.title(f'Диаграмма для - {column}')\n",
    "    mp.ylabel(\"\")\n",
    "    mp.show()\n",
    "\n",
    "def graph_analis(true, predict):\n",
    "    sns.set()\n",
    "    f1 = f1_score(y_test, predict)\n",
    "    plt.figure(figsize=(7,4))\n",
    "    true.plot(kind='kde', linewidth=2)\n",
    "    pd.Series(predict).plot(kind='kde',linewidth=2)\n",
    "    plt.title('Плотности предсказанных и истинных значений', y=1)\n",
    "    plt.legend(['Истинные значения','Предсказанные значения'])\n",
    "    plt.xlabel('')\n",
    "    plt.ylabel('')\n",
    "    plt.show()"
   ]
  },
  {
   "cell_type": "markdown",
   "id": "0cfae350-b3bf-45c5-8214-249440e2fced",
   "metadata": {},
   "source": [
    "## <b>Загрузка и изучение данных</b>"
   ]
  },
  {
   "cell_type": "code",
   "execution_count": 3,
   "id": "0d165b9d-3d38-4b08-b55d-e24fc997c965",
   "metadata": {},
   "outputs": [],
   "source": [
    "data = pd.read_csv('/datasets/toxic_comments.csv')"
   ]
  },
  {
   "cell_type": "code",
   "execution_count": 4,
   "id": "6082a9d8-70cd-4865-bb7a-993a0642ee3d",
   "metadata": {},
   "outputs": [
    {
     "data": {
      "text/html": [
       "<div>\n",
       "<style scoped>\n",
       "    .dataframe tbody tr th:only-of-type {\n",
       "        vertical-align: middle;\n",
       "    }\n",
       "\n",
       "    .dataframe tbody tr th {\n",
       "        vertical-align: top;\n",
       "    }\n",
       "\n",
       "    .dataframe thead th {\n",
       "        text-align: right;\n",
       "    }\n",
       "</style>\n",
       "<table border=\"1\" class=\"dataframe\">\n",
       "  <thead>\n",
       "    <tr style=\"text-align: right;\">\n",
       "      <th></th>\n",
       "      <th>Unnamed: 0</th>\n",
       "      <th>text</th>\n",
       "      <th>toxic</th>\n",
       "    </tr>\n",
       "  </thead>\n",
       "  <tbody>\n",
       "    <tr>\n",
       "      <th>0</th>\n",
       "      <td>0</td>\n",
       "      <td>Explanation\\nWhy the edits made under my usern...</td>\n",
       "      <td>0</td>\n",
       "    </tr>\n",
       "    <tr>\n",
       "      <th>1</th>\n",
       "      <td>1</td>\n",
       "      <td>D'aww! He matches this background colour I'm s...</td>\n",
       "      <td>0</td>\n",
       "    </tr>\n",
       "    <tr>\n",
       "      <th>2</th>\n",
       "      <td>2</td>\n",
       "      <td>Hey man, I'm really not trying to edit war. It...</td>\n",
       "      <td>0</td>\n",
       "    </tr>\n",
       "    <tr>\n",
       "      <th>3</th>\n",
       "      <td>3</td>\n",
       "      <td>\"\\nMore\\nI can't make any real suggestions on ...</td>\n",
       "      <td>0</td>\n",
       "    </tr>\n",
       "    <tr>\n",
       "      <th>4</th>\n",
       "      <td>4</td>\n",
       "      <td>You, sir, are my hero. Any chance you remember...</td>\n",
       "      <td>0</td>\n",
       "    </tr>\n",
       "  </tbody>\n",
       "</table>\n",
       "</div>"
      ],
      "text/plain": [
       "   Unnamed: 0                                               text  toxic\n",
       "0           0  Explanation\\nWhy the edits made under my usern...      0\n",
       "1           1  D'aww! He matches this background colour I'm s...      0\n",
       "2           2  Hey man, I'm really not trying to edit war. It...      0\n",
       "3           3  \"\\nMore\\nI can't make any real suggestions on ...      0\n",
       "4           4  You, sir, are my hero. Any chance you remember...      0"
      ]
     },
     "execution_count": 4,
     "metadata": {},
     "output_type": "execute_result"
    }
   ],
   "source": [
    "data.head()"
   ]
  },
  {
   "cell_type": "code",
   "execution_count": 5,
   "id": "8337c478-da87-4443-ba4f-ce57776a9422",
   "metadata": {},
   "outputs": [
    {
     "name": "stdout",
     "output_type": "stream",
     "text": [
      "<class 'pandas.core.frame.DataFrame'>\n",
      "RangeIndex: 159292 entries, 0 to 159291\n",
      "Data columns (total 3 columns):\n",
      " #   Column      Non-Null Count   Dtype \n",
      "---  ------      --------------   ----- \n",
      " 0   Unnamed: 0  159292 non-null  int64 \n",
      " 1   text        159292 non-null  object\n",
      " 2   toxic       159292 non-null  int64 \n",
      "dtypes: int64(2), object(1)\n",
      "memory usage: 3.6+ MB\n",
      "None\n",
      "------------------------------------------------------------------------------------------------------------------------------------\n",
      "Количество пропущенных значений таблицы:\n",
      "Unnamed: 0 0\n",
      "text 0\n",
      "toxic 0\n",
      "------------------------------------------------------------------------------------------------------------------------------------\n",
      "Количество дубликатов - 0\n"
     ]
    }
   ],
   "source": [
    "percentage_passes(data)"
   ]
  },
  {
   "cell_type": "markdown",
   "id": "c402737a-a7c6-4c92-ad88-b2c718a5ce32",
   "metadata": {},
   "source": [
    "Столбец \"Unnamed: 0\" переведу в индекс датасета."
   ]
  },
  {
   "cell_type": "code",
   "execution_count": 6,
   "id": "edcaa884-43bb-4c31-ac65-b77a16a8782b",
   "metadata": {},
   "outputs": [],
   "source": [
    "data.rename(columns = {'Unnamed: 0': 'index'}, inplace = True)"
   ]
  },
  {
   "cell_type": "code",
   "execution_count": 7,
   "id": "4928be9a-e1e0-4a0f-a665-331c17cb9752",
   "metadata": {},
   "outputs": [],
   "source": [
    "data = data.set_index('index')"
   ]
  },
  {
   "cell_type": "code",
   "execution_count": 8,
   "id": "e88a7e0c-d524-48d6-92c2-04ae6fb12480",
   "metadata": {},
   "outputs": [
    {
     "data": {
      "image/png": "[encoded data removed]",
      "text/plain": [
       "<Figure size 432x432 with 1 Axes>"
      ]
     },
     "metadata": {},
     "output_type": "display_data"
    }
   ],
   "source": [
    "radial_diagram(data, 'toxic')"
   ]
  },
  {
   "cell_type": "markdown",
   "id": "e92d239e-e098-4bf9-a57d-7d7019933848",
   "metadata": {},
   "source": [
    "<b>Вывод</b>\n",
    "<br>Таблица содержит 159292 строк, дубликатов и пропусков нет. Целевое значение 1(токсичный коментарий) занимает всего 10% таблицы."
   ]
  },
  {
   "cell_type": "markdown",
   "id": "1db2181f-e012-4d64-bace-ae04d74b6dc6",
   "metadata": {},
   "source": [
    "## <b>Очистка и лематизация текста</b>"
   ]
  },
  {
   "cell_type": "code",
   "execution_count": 9,
   "id": "b03bbc53",
   "metadata": {},
   "outputs": [
    {
     "name": "stdout",
     "output_type": "stream",
     "text": [
      "['The', 'strip', 'bat', 'be', 'hang', 'on', 'their', 'foot', 'for', 'best']\n"
     ]
    }
   ],
   "source": [
    "def postag(penntag):\n",
    "    tags = nltk.pos_tag([penntag])[0][1][0].upper()\n",
    "    tags_dict = {\"J\": wordnet.ADJ,\n",
    "                \"N\": wordnet.NOUN,\n",
    "                \"V\": wordnet.VERB,\n",
    "                \"R\": wordnet.ADV}\n",
    "    return tags_dict.get(tags, wordnet.NOUN)\n",
    "\n",
    "sentence = \"The striped bats are hanging on their feet for best\"\n",
    "print([lemmatizer.lemmatize(w, postag(w)) for w in nltk.word_tokenize(sentence)])"
   ]
  },
  {
   "cell_type": "code",
   "execution_count": 10,
   "id": "fd33eec7",
   "metadata": {},
   "outputs": [],
   "source": [
    "#Функция POS тега\n",
    "def postag(penntag):\n",
    "    tags = nltk.pos_tag([penntag])[0][1][0].upper()\n",
    "    tags_dict = {\"J\": wordnet.ADJ,\n",
    "                \"N\": wordnet.NOUN,\n",
    "                \"V\": wordnet.VERB,\n",
    "                \"R\": wordnet.ADV}\n",
    "    return tags_dict.get(tags, wordnet.NOUN)\n",
    "#Лематизация и очистка \n",
    "def new_text(text):\n",
    "    clean = \" \".join(re.sub(r'[^a-zA-z]', ' ', text).lower().split())\n",
    "    words = nltk.word_tokenize(clean)\n",
    "    lemmatized = ' '.join([lemmatizer.lemmatize(w, pos=postag(w)) for w in words])    \n",
    "    return lemmatized"
   ]
  },
  {
   "cell_type": "code",
   "execution_count": 11,
   "id": "eac25d42-b560-4c11-9ce9-8c7ebaa7a82a",
   "metadata": {},
   "outputs": [],
   "source": [
    "data['lemmatize'] = data['text'].apply(new_text)"
   ]
  },
  {
   "cell_type": "code",
   "execution_count": 12,
   "id": "8fca0bee",
   "metadata": {},
   "outputs": [
    {
     "data": {
      "text/html": [
       "<div>\n",
       "<style scoped>\n",
       "    .dataframe tbody tr th:only-of-type {\n",
       "        vertical-align: middle;\n",
       "    }\n",
       "\n",
       "    .dataframe tbody tr th {\n",
       "        vertical-align: top;\n",
       "    }\n",
       "\n",
       "    .dataframe thead th {\n",
       "        text-align: right;\n",
       "    }\n",
       "</style>\n",
       "<table border=\"1\" class=\"dataframe\">\n",
       "  <thead>\n",
       "    <tr style=\"text-align: right;\">\n",
       "      <th></th>\n",
       "      <th>text</th>\n",
       "      <th>toxic</th>\n",
       "      <th>lemmatize</th>\n",
       "    </tr>\n",
       "    <tr>\n",
       "      <th>index</th>\n",
       "      <th></th>\n",
       "      <th></th>\n",
       "      <th></th>\n",
       "    </tr>\n",
       "  </thead>\n",
       "  <tbody>\n",
       "    <tr>\n",
       "      <th>0</th>\n",
       "      <td>Explanation\\nWhy the edits made under my usern...</td>\n",
       "      <td>0</td>\n",
       "      <td>explanation why the edits make under my userna...</td>\n",
       "    </tr>\n",
       "    <tr>\n",
       "      <th>1</th>\n",
       "      <td>D'aww! He matches this background colour I'm s...</td>\n",
       "      <td>0</td>\n",
       "      <td>d aww he match this background colour i m seem...</td>\n",
       "    </tr>\n",
       "    <tr>\n",
       "      <th>2</th>\n",
       "      <td>Hey man, I'm really not trying to edit war. It...</td>\n",
       "      <td>0</td>\n",
       "      <td>hey man i m really not try to edit war it s ju...</td>\n",
       "    </tr>\n",
       "    <tr>\n",
       "      <th>3</th>\n",
       "      <td>\"\\nMore\\nI can't make any real suggestions on ...</td>\n",
       "      <td>0</td>\n",
       "      <td>more i can t make any real suggestion on impro...</td>\n",
       "    </tr>\n",
       "    <tr>\n",
       "      <th>4</th>\n",
       "      <td>You, sir, are my hero. Any chance you remember...</td>\n",
       "      <td>0</td>\n",
       "      <td>you sir be my hero any chance you remember wha...</td>\n",
       "    </tr>\n",
       "  </tbody>\n",
       "</table>\n",
       "</div>"
      ],
      "text/plain": [
       "                                                    text  toxic  \\\n",
       "index                                                             \n",
       "0      Explanation\\nWhy the edits made under my usern...      0   \n",
       "1      D'aww! He matches this background colour I'm s...      0   \n",
       "2      Hey man, I'm really not trying to edit war. It...      0   \n",
       "3      \"\\nMore\\nI can't make any real suggestions on ...      0   \n",
       "4      You, sir, are my hero. Any chance you remember...      0   \n",
       "\n",
       "                                               lemmatize  \n",
       "index                                                     \n",
       "0      explanation why the edits make under my userna...  \n",
       "1      d aww he match this background colour i m seem...  \n",
       "2      hey man i m really not try to edit war it s ju...  \n",
       "3      more i can t make any real suggestion on impro...  \n",
       "4      you sir be my hero any chance you remember wha...  "
      ]
     },
     "execution_count": 12,
     "metadata": {},
     "output_type": "execute_result"
    }
   ],
   "source": [
    "data.head()"
   ]
  },
  {
   "cell_type": "markdown",
   "id": "ea259893-a04b-4c05-96ec-8502a2175da4",
   "metadata": {},
   "source": [
    "Текст успешно очищен и лематизирован."
   ]
  },
  {
   "cell_type": "markdown",
   "id": "34a24bf0-0daf-43a4-acef-ce697cc0b1e6",
   "metadata": {},
   "source": [
    "## <b>Подготовка к обучению</b>"
   ]
  },
  {
   "cell_type": "code",
   "execution_count": 13,
   "id": "27150475-2efc-4dac-9c6f-0ac55bb94f6e",
   "metadata": {},
   "outputs": [
    {
     "name": "stdout",
     "output_type": "stream",
     "text": [
      "Строк в тренировочном датасете - 79646\n",
      "------------------------------------------------------------------------------------------------------------------------------------\n",
      "Строк в валидационном датасете - 39823\n",
      "------------------------------------------------------------------------------------------------------------------------------------\n",
      "Строк в тестовом датасете - 39823\n"
     ]
    }
   ],
   "source": [
    "X = data.drop('toxic', axis=1)\n",
    "y = data.toxic\n",
    "\n",
    "X_train, X_test_and_val, y_train, y_test_and_val = train_test_split(X, y, test_size=0.5, random_state = 42, stratify=y)\n",
    "\n",
    "X_val, X_test, y_val, y_test = train_test_split(X_test_and_val, y_test_and_val, test_size=0.5, random_state = 42, stratify=y_test_and_val)\n",
    "\n",
    "print(f\"Строк в тренировочном датасете - {len(X_train)}\") \n",
    "print(line)\n",
    "print(f\"Строк в валидационном датасете - {len(X_val)}\")\n",
    "print(line)\n",
    "print(f\"Строк в тестовом датасете - {len(X_test)}\")"
   ]
  },
  {
   "cell_type": "code",
   "execution_count": 14,
   "id": "fc65f757-eae4-4a25-b94d-6a104655ac52",
   "metadata": {},
   "outputs": [
    {
     "data": {
      "image/png": "[encoded data removed]",
      "text/plain": [
       "<Figure size 432x432 with 1 Axes>"
      ]
     },
     "metadata": {},
     "output_type": "display_data"
    },
    {
     "name": "stdout",
     "output_type": "stream",
     "text": [
      "------------------------------------------------------------------------------------------------------------------------------------\n"
     ]
    },
    {
     "data": {
      "image/png": "[encoded data removed]",
      "text/plain": [
       "<Figure size 432x432 with 1 Axes>"
      ]
     },
     "metadata": {},
     "output_type": "display_data"
    },
    {
     "name": "stdout",
     "output_type": "stream",
     "text": [
      "------------------------------------------------------------------------------------------------------------------------------------\n"
     ]
    },
    {
     "data": {
      "image/png": "[encoded data removed]",
      "text/plain": [
       "<Figure size 432x432 with 1 Axes>"
      ]
     },
     "metadata": {},
     "output_type": "display_data"
    }
   ],
   "source": [
    "y_train.value_counts().plot(y='subscription_type', kind='pie',figsize=(6,6), autopct='%1.1f%%')\n",
    "mp.ylabel(\"\")\n",
    "mp.show()\n",
    "print(line)\n",
    "y_val.value_counts().plot(y='subscription_type', kind='pie',figsize=(6,6), autopct='%1.1f%%')\n",
    "mp.ylabel(\"\")\n",
    "mp.show()\n",
    "print(line)\n",
    "y_test.value_counts().plot(y='subscription_type', kind='pie',figsize=(6,6), autopct='%1.1f%%')\n",
    "mp.ylabel(\"\")\n",
    "mp.show()"
   ]
  },
  {
   "cell_type": "markdown",
   "id": "8791ded1-c1ee-43a9-bd75-9bd483b254f1",
   "metadata": {},
   "source": [
    "Применю TF-IDF "
   ]
  },
  {
   "cell_type": "code",
   "execution_count": 15,
   "id": "e54757b2-727f-46b3-9131-b1de269d3848",
   "metadata": {},
   "outputs": [
    {
     "name": "stdout",
     "output_type": "stream",
     "text": [
      "(79646, 101662)\n",
      "(39823, 101662)\n",
      "(39823, 101662)\n"
     ]
    }
   ],
   "source": [
    "tf_idf = TfidfVectorizer(stop_words=stopwords)\n",
    "\n",
    "tf_idf_train = tf_idf.fit_transform(X_train['lemmatize'])\n",
    "tf_idf_val = tf_idf.transform(X_val['lemmatize'])\n",
    "tf_idf_test = tf_idf.transform(X_test['lemmatize'])\n",
    "\n",
    "print(tf_idf_train.shape)\n",
    "print(tf_idf_val.shape)\n",
    "print(tf_idf_test.shape)"
   ]
  },
  {
   "cell_type": "markdown",
   "id": "9bad42bf-0ffd-4439-9be5-b7e5076126de",
   "metadata": {},
   "source": [
    "<b>Вывод</b>\n",
    "<br>Данные разделены на тренировочную и тестовую выборку а также обработал текст с помощью TF-IDF."
   ]
  },
  {
   "cell_type": "markdown",
   "id": "a3e574a3-7665-44b2-93a4-44d43f5c08c8",
   "metadata": {},
   "source": [
    "## <b>Обучение</b>"
   ]
  },
  {
   "cell_type": "code",
   "execution_count": 17,
   "id": "e828a688-a130-469f-8c2b-edfa2679a4bd",
   "metadata": {},
   "outputs": [
    {
     "name": "stdout",
     "output_type": "stream",
     "text": [
      "Метрика f1 для LogisticRegression - 0.71\n",
      "Время обучения и предсказания LogisticRegression 46.56608557701111\n",
      "------------------------------------------------------------------------------------------------------------------------------------\n",
      "Метрика f1 для RandomForestClassifier - 0.69\n",
      "Время обучения и предсказания RandomForestClassifier 282.20703506469727\n",
      "------------------------------------------------------------------------------------------------------------------------------------\n",
      "Метрика f1 для RandomForestClassifier - 0.71\n",
      "Время обучения и предсказания DecisionTreeClassifier 221.4051637649536\n",
      "------------------------------------------------------------------------------------------------------------------------------------\n",
      "Метрика f1 для LGBMClassifier - 0.74\n",
      "Время обучения и предсказания LGBMClassifier 761.1945028305054\n",
      "------------------------------------------------------------------------------------------------------------------------------------\n",
      "Learning rate set to 0.066793\n",
      "0:\tlearn: 0.6245812\ttotal: 3.27s\tremaining: 54m 26s\n",
      "1:\tlearn: 0.5672052\ttotal: 5.67s\tremaining: 47m 12s\n",
      "2:\tlearn: 0.5177047\ttotal: 7.9s\tremaining: 43m 45s\n",
      "3:\tlearn: 0.4746789\ttotal: 10.2s\tremaining: 42m 18s\n",
      "4:\tlearn: 0.4406493\ttotal: 12.4s\tremaining: 41m 9s\n",
      "5:\tlearn: 0.4113492\ttotal: 14.7s\tremaining: 40m 30s\n",
      "6:\tlearn: 0.3854048\ttotal: 16.9s\tremaining: 39m 58s\n",
      "7:\tlearn: 0.3625491\ttotal: 19.1s\tremaining: 39m 31s\n",
      "8:\tlearn: 0.3428443\ttotal: 21.4s\tremaining: 39m 11s\n",
      "9:\tlearn: 0.3263053\ttotal: 23.6s\tremaining: 38m 52s\n",
      "10:\tlearn: 0.3127840\ttotal: 25.8s\tremaining: 38m 39s\n",
      "11:\tlearn: 0.3007909\ttotal: 28.1s\tremaining: 38m 29s\n",
      "12:\tlearn: 0.2903249\ttotal: 30.3s\tremaining: 38m 20s\n",
      "13:\tlearn: 0.2813675\ttotal: 32.6s\tremaining: 38m 14s\n",
      "14:\tlearn: 0.2740516\ttotal: 34.7s\tremaining: 38m\n",
      "15:\tlearn: 0.2676040\ttotal: 37.1s\tremaining: 38m 1s\n",
      "16:\tlearn: 0.2613494\ttotal: 39.3s\tremaining: 37m 54s\n",
      "17:\tlearn: 0.2563346\ttotal: 41.5s\tremaining: 37m 44s\n",
      "18:\tlearn: 0.2513075\ttotal: 43.8s\tremaining: 37m 40s\n",
      "19:\tlearn: 0.2474578\ttotal: 46.2s\tremaining: 37m 41s\n",
      "20:\tlearn: 0.2438308\ttotal: 48.4s\tremaining: 37m 38s\n",
      "21:\tlearn: 0.2406992\ttotal: 50.8s\tremaining: 37m 37s\n",
      "22:\tlearn: 0.2380877\ttotal: 53.1s\tremaining: 37m 36s\n",
      "23:\tlearn: 0.2354012\ttotal: 55.3s\tremaining: 37m 28s\n",
      "24:\tlearn: 0.2332340\ttotal: 57.5s\tremaining: 37m 23s\n",
      "25:\tlearn: 0.2309256\ttotal: 59.8s\tremaining: 37m 20s\n",
      "26:\tlearn: 0.2283557\ttotal: 1m 2s\tremaining: 37m 15s\n",
      "27:\tlearn: 0.2265610\ttotal: 1m 4s\tremaining: 37m 13s\n",
      "28:\tlearn: 0.2249752\ttotal: 1m 6s\tremaining: 37m 6s\n",
      "29:\tlearn: 0.2234931\ttotal: 1m 8s\tremaining: 37m\n",
      "30:\tlearn: 0.2220149\ttotal: 1m 10s\tremaining: 36m 55s\n",
      "31:\tlearn: 0.2207392\ttotal: 1m 13s\tremaining: 36m 55s\n",
      "32:\tlearn: 0.2193726\ttotal: 1m 15s\tremaining: 36m 50s\n",
      "33:\tlearn: 0.2183079\ttotal: 1m 17s\tremaining: 36m 45s\n",
      "34:\tlearn: 0.2169138\ttotal: 1m 19s\tremaining: 36m 45s\n",
      "35:\tlearn: 0.2159219\ttotal: 1m 22s\tremaining: 36m 39s\n",
      "36:\tlearn: 0.2146335\ttotal: 1m 24s\tremaining: 36m 37s\n",
      "37:\tlearn: 0.2136007\ttotal: 1m 27s\tremaining: 36m 45s\n",
      "38:\tlearn: 0.2125697\ttotal: 1m 29s\tremaining: 36m 44s\n",
      "39:\tlearn: 0.2116402\ttotal: 1m 31s\tremaining: 36m 43s\n",
      "40:\tlearn: 0.2105262\ttotal: 1m 34s\tremaining: 36m 40s\n",
      "41:\tlearn: 0.2097116\ttotal: 1m 36s\tremaining: 36m 40s\n",
      "42:\tlearn: 0.2090064\ttotal: 1m 38s\tremaining: 36m 38s\n",
      "43:\tlearn: 0.2081114\ttotal: 1m 41s\tremaining: 36m 39s\n",
      "44:\tlearn: 0.2073335\ttotal: 1m 43s\tremaining: 36m 38s\n",
      "45:\tlearn: 0.2065728\ttotal: 1m 46s\tremaining: 36m 41s\n",
      "46:\tlearn: 0.2058769\ttotal: 1m 48s\tremaining: 36m 47s\n",
      "47:\tlearn: 0.2051624\ttotal: 1m 51s\tremaining: 36m 57s\n",
      "48:\tlearn: 0.2045744\ttotal: 1m 54s\tremaining: 37m 5s\n",
      "49:\tlearn: 0.2038174\ttotal: 1m 56s\tremaining: 37m 2s\n",
      "50:\tlearn: 0.2032724\ttotal: 1m 59s\tremaining: 36m 58s\n",
      "51:\tlearn: 0.2027369\ttotal: 2m 1s\tremaining: 37m 1s\n",
      "52:\tlearn: 0.2021165\ttotal: 2m 4s\tremaining: 37m 7s\n",
      "53:\tlearn: 0.2014664\ttotal: 2m 6s\tremaining: 37m 4s\n",
      "54:\tlearn: 0.2008726\ttotal: 2m 9s\tremaining: 37m 3s\n",
      "55:\tlearn: 0.2001915\ttotal: 2m 11s\tremaining: 36m 58s\n",
      "56:\tlearn: 0.1997037\ttotal: 2m 13s\tremaining: 36m 55s\n",
      "57:\tlearn: 0.1990758\ttotal: 2m 16s\tremaining: 36m 50s\n",
      "58:\tlearn: 0.1985457\ttotal: 2m 18s\tremaining: 36m 48s\n",
      "59:\tlearn: 0.1978762\ttotal: 2m 20s\tremaining: 36m 44s\n",
      "60:\tlearn: 0.1973257\ttotal: 2m 22s\tremaining: 36m 39s\n",
      "61:\tlearn: 0.1967710\ttotal: 2m 25s\tremaining: 36m 35s\n",
      "62:\tlearn: 0.1963116\ttotal: 2m 27s\tremaining: 36m 31s\n",
      "63:\tlearn: 0.1957404\ttotal: 2m 29s\tremaining: 36m 27s\n",
      "64:\tlearn: 0.1951033\ttotal: 2m 31s\tremaining: 36m 21s\n",
      "65:\tlearn: 0.1946763\ttotal: 2m 33s\tremaining: 36m 18s\n",
      "66:\tlearn: 0.1940705\ttotal: 2m 36s\tremaining: 36m 15s\n",
      "67:\tlearn: 0.1936106\ttotal: 2m 38s\tremaining: 36m 12s\n",
      "68:\tlearn: 0.1930597\ttotal: 2m 40s\tremaining: 36m 8s\n",
      "69:\tlearn: 0.1924784\ttotal: 2m 42s\tremaining: 36m 5s\n",
      "70:\tlearn: 0.1920342\ttotal: 2m 45s\tremaining: 36m\n",
      "71:\tlearn: 0.1916284\ttotal: 2m 47s\tremaining: 35m 56s\n",
      "72:\tlearn: 0.1912237\ttotal: 2m 49s\tremaining: 35m 52s\n",
      "73:\tlearn: 0.1907928\ttotal: 2m 51s\tremaining: 35m 48s\n",
      "74:\tlearn: 0.1903672\ttotal: 2m 53s\tremaining: 35m 45s\n",
      "75:\tlearn: 0.1899175\ttotal: 2m 56s\tremaining: 35m 41s\n",
      "76:\tlearn: 0.1894841\ttotal: 2m 58s\tremaining: 35m 39s\n",
      "77:\tlearn: 0.1889097\ttotal: 3m\tremaining: 35m 35s\n",
      "78:\tlearn: 0.1885101\ttotal: 3m 2s\tremaining: 35m 31s\n",
      "79:\tlearn: 0.1880173\ttotal: 3m 5s\tremaining: 35m 28s\n",
      "80:\tlearn: 0.1876849\ttotal: 3m 7s\tremaining: 35m 24s\n",
      "81:\tlearn: 0.1872658\ttotal: 3m 9s\tremaining: 35m 20s\n",
      "82:\tlearn: 0.1869143\ttotal: 3m 11s\tremaining: 35m 15s\n",
      "83:\tlearn: 0.1864742\ttotal: 3m 13s\tremaining: 35m 12s\n",
      "84:\tlearn: 0.1861449\ttotal: 3m 15s\tremaining: 35m 8s\n",
      "85:\tlearn: 0.1856610\ttotal: 3m 18s\tremaining: 35m 5s\n",
      "86:\tlearn: 0.1852168\ttotal: 3m 20s\tremaining: 35m 2s\n",
      "87:\tlearn: 0.1848094\ttotal: 3m 22s\tremaining: 34m 58s\n",
      "88:\tlearn: 0.1844998\ttotal: 3m 24s\tremaining: 34m 55s\n",
      "89:\tlearn: 0.1841738\ttotal: 3m 26s\tremaining: 34m 52s\n",
      "90:\tlearn: 0.1837504\ttotal: 3m 29s\tremaining: 34m 49s\n",
      "91:\tlearn: 0.1832901\ttotal: 3m 31s\tremaining: 34m 45s\n",
      "92:\tlearn: 0.1829273\ttotal: 3m 33s\tremaining: 34m 42s\n",
      "93:\tlearn: 0.1826400\ttotal: 3m 35s\tremaining: 34m 40s\n",
      "94:\tlearn: 0.1823277\ttotal: 3m 37s\tremaining: 34m 36s\n",
      "95:\tlearn: 0.1820549\ttotal: 3m 40s\tremaining: 34m 32s\n",
      "96:\tlearn: 0.1817563\ttotal: 3m 42s\tremaining: 34m 29s\n",
      "97:\tlearn: 0.1814700\ttotal: 3m 44s\tremaining: 34m 26s\n",
      "98:\tlearn: 0.1810889\ttotal: 3m 46s\tremaining: 34m 23s\n",
      "99:\tlearn: 0.1805812\ttotal: 3m 49s\tremaining: 34m 21s\n",
      "100:\tlearn: 0.1800966\ttotal: 3m 51s\tremaining: 34m 18s\n",
      "101:\tlearn: 0.1798487\ttotal: 3m 53s\tremaining: 34m 15s\n",
      "102:\tlearn: 0.1795102\ttotal: 3m 55s\tremaining: 34m 12s\n",
      "103:\tlearn: 0.1791823\ttotal: 3m 57s\tremaining: 34m 8s\n",
      "104:\tlearn: 0.1789199\ttotal: 3m 59s\tremaining: 34m 5s\n",
      "105:\tlearn: 0.1786541\ttotal: 4m 2s\tremaining: 34m 1s\n",
      "106:\tlearn: 0.1784156\ttotal: 4m 4s\tremaining: 33m 58s\n",
      "107:\tlearn: 0.1780829\ttotal: 4m 6s\tremaining: 33m 54s\n",
      "108:\tlearn: 0.1778377\ttotal: 4m 8s\tremaining: 33m 51s\n",
      "109:\tlearn: 0.1775914\ttotal: 4m 10s\tremaining: 33m 47s\n",
      "110:\tlearn: 0.1772248\ttotal: 4m 12s\tremaining: 33m 44s\n",
      "111:\tlearn: 0.1769795\ttotal: 4m 15s\tremaining: 33m 42s\n",
      "112:\tlearn: 0.1766121\ttotal: 4m 17s\tremaining: 33m 39s\n",
      "113:\tlearn: 0.1763394\ttotal: 4m 19s\tremaining: 33m 35s\n",
      "114:\tlearn: 0.1760011\ttotal: 4m 21s\tremaining: 33m 32s\n",
      "115:\tlearn: 0.1756263\ttotal: 4m 23s\tremaining: 33m 29s\n",
      "116:\tlearn: 0.1753513\ttotal: 4m 25s\tremaining: 33m 26s\n",
      "117:\tlearn: 0.1749468\ttotal: 4m 28s\tremaining: 33m 25s\n",
      "118:\tlearn: 0.1746940\ttotal: 4m 30s\tremaining: 33m 22s\n",
      "119:\tlearn: 0.1744567\ttotal: 4m 32s\tremaining: 33m 19s\n",
      "120:\tlearn: 0.1742000\ttotal: 4m 34s\tremaining: 33m 16s\n",
      "121:\tlearn: 0.1739552\ttotal: 4m 37s\tremaining: 33m 16s\n",
      "122:\tlearn: 0.1737503\ttotal: 4m 39s\tremaining: 33m 13s\n",
      "123:\tlearn: 0.1735046\ttotal: 4m 41s\tremaining: 33m 10s\n",
      "124:\tlearn: 0.1732604\ttotal: 4m 43s\tremaining: 33m 7s\n",
      "125:\tlearn: 0.1730425\ttotal: 4m 46s\tremaining: 33m 4s\n",
      "126:\tlearn: 0.1727834\ttotal: 4m 48s\tremaining: 33m 1s\n",
      "127:\tlearn: 0.1725585\ttotal: 4m 50s\tremaining: 32m 59s\n",
      "128:\tlearn: 0.1723827\ttotal: 4m 52s\tremaining: 32m 56s\n",
      "129:\tlearn: 0.1720989\ttotal: 4m 55s\tremaining: 32m 54s\n",
      "130:\tlearn: 0.1718913\ttotal: 4m 57s\tremaining: 32m 52s\n",
      "131:\tlearn: 0.1716064\ttotal: 4m 59s\tremaining: 32m 49s\n",
      "132:\tlearn: 0.1713268\ttotal: 5m 1s\tremaining: 32m 46s\n",
      "133:\tlearn: 0.1710290\ttotal: 5m 3s\tremaining: 32m 44s\n",
      "134:\tlearn: 0.1708135\ttotal: 5m 6s\tremaining: 32m 43s\n",
      "135:\tlearn: 0.1706382\ttotal: 5m 8s\tremaining: 32m 39s\n",
      "136:\tlearn: 0.1704435\ttotal: 5m 10s\tremaining: 32m 36s\n",
      "137:\tlearn: 0.1702009\ttotal: 5m 12s\tremaining: 32m 33s\n",
      "138:\tlearn: 0.1700398\ttotal: 5m 14s\tremaining: 32m 30s\n",
      "139:\tlearn: 0.1697268\ttotal: 5m 17s\tremaining: 32m 28s\n",
      "140:\tlearn: 0.1695616\ttotal: 5m 19s\tremaining: 32m 25s\n",
      "141:\tlearn: 0.1693109\ttotal: 5m 21s\tremaining: 32m 22s\n",
      "142:\tlearn: 0.1691028\ttotal: 5m 23s\tremaining: 32m 19s\n",
      "143:\tlearn: 0.1688340\ttotal: 5m 25s\tremaining: 32m 16s\n",
      "144:\tlearn: 0.1685968\ttotal: 5m 28s\tremaining: 32m 14s\n",
      "145:\tlearn: 0.1683677\ttotal: 5m 30s\tremaining: 32m 11s\n",
      "146:\tlearn: 0.1681047\ttotal: 5m 32s\tremaining: 32m 8s\n",
      "147:\tlearn: 0.1679449\ttotal: 5m 34s\tremaining: 32m 5s\n",
      "148:\tlearn: 0.1676855\ttotal: 5m 36s\tremaining: 32m 3s\n",
      "149:\tlearn: 0.1674842\ttotal: 5m 38s\tremaining: 32m\n",
      "150:\tlearn: 0.1672454\ttotal: 5m 41s\tremaining: 31m 57s\n",
      "151:\tlearn: 0.1670319\ttotal: 5m 43s\tremaining: 31m 54s\n",
      "152:\tlearn: 0.1668514\ttotal: 5m 45s\tremaining: 31m 52s\n",
      "153:\tlearn: 0.1667021\ttotal: 5m 47s\tremaining: 31m 49s\n",
      "154:\tlearn: 0.1665301\ttotal: 5m 49s\tremaining: 31m 46s\n",
      "155:\tlearn: 0.1663474\ttotal: 5m 51s\tremaining: 31m 44s\n",
      "156:\tlearn: 0.1661699\ttotal: 5m 54s\tremaining: 31m 41s\n",
      "157:\tlearn: 0.1659908\ttotal: 5m 56s\tremaining: 31m 38s\n",
      "158:\tlearn: 0.1657344\ttotal: 5m 58s\tremaining: 31m 35s\n",
      "159:\tlearn: 0.1655737\ttotal: 6m\tremaining: 31m 33s\n",
      "160:\tlearn: 0.1654060\ttotal: 6m 2s\tremaining: 31m 30s\n",
      "161:\tlearn: 0.1652189\ttotal: 6m 4s\tremaining: 31m 27s\n",
      "162:\tlearn: 0.1650552\ttotal: 6m 6s\tremaining: 31m 24s\n",
      "163:\tlearn: 0.1647920\ttotal: 6m 9s\tremaining: 31m 21s\n",
      "164:\tlearn: 0.1646332\ttotal: 6m 11s\tremaining: 31m 18s\n",
      "165:\tlearn: 0.1644399\ttotal: 6m 13s\tremaining: 31m 15s\n",
      "166:\tlearn: 0.1642738\ttotal: 6m 15s\tremaining: 31m 12s\n",
      "167:\tlearn: 0.1640553\ttotal: 6m 17s\tremaining: 31m 9s\n",
      "168:\tlearn: 0.1638991\ttotal: 6m 19s\tremaining: 31m 7s\n",
      "169:\tlearn: 0.1637305\ttotal: 6m 21s\tremaining: 31m 4s\n",
      "170:\tlearn: 0.1635544\ttotal: 6m 24s\tremaining: 31m 1s\n",
      "171:\tlearn: 0.1633699\ttotal: 6m 26s\tremaining: 30m 59s\n",
      "172:\tlearn: 0.1631207\ttotal: 6m 28s\tremaining: 30m 56s\n",
      "173:\tlearn: 0.1629758\ttotal: 6m 30s\tremaining: 30m 54s\n",
      "174:\tlearn: 0.1627451\ttotal: 6m 32s\tremaining: 30m 51s\n",
      "175:\tlearn: 0.1625822\ttotal: 6m 34s\tremaining: 30m 48s\n",
      "176:\tlearn: 0.1624174\ttotal: 6m 37s\tremaining: 30m 46s\n",
      "177:\tlearn: 0.1622795\ttotal: 6m 39s\tremaining: 30m 44s\n",
      "178:\tlearn: 0.1621468\ttotal: 6m 41s\tremaining: 30m 41s\n",
      "179:\tlearn: 0.1619932\ttotal: 6m 43s\tremaining: 30m 38s\n",
      "180:\tlearn: 0.1618414\ttotal: 6m 45s\tremaining: 30m 36s\n",
      "181:\tlearn: 0.1616109\ttotal: 6m 47s\tremaining: 30m 33s\n",
      "182:\tlearn: 0.1614712\ttotal: 6m 50s\tremaining: 30m 31s\n",
      "183:\tlearn: 0.1612940\ttotal: 6m 52s\tremaining: 30m 29s\n",
      "184:\tlearn: 0.1611500\ttotal: 6m 54s\tremaining: 30m 26s\n",
      "185:\tlearn: 0.1609008\ttotal: 6m 56s\tremaining: 30m 24s\n",
      "186:\tlearn: 0.1607288\ttotal: 6m 59s\tremaining: 30m 21s\n",
      "187:\tlearn: 0.1605806\ttotal: 7m 1s\tremaining: 30m 19s\n",
      "188:\tlearn: 0.1604279\ttotal: 7m 3s\tremaining: 30m 16s\n",
      "189:\tlearn: 0.1602044\ttotal: 7m 5s\tremaining: 30m 14s\n",
      "190:\tlearn: 0.1599752\ttotal: 7m 7s\tremaining: 30m 11s\n",
      "191:\tlearn: 0.1598244\ttotal: 7m 9s\tremaining: 30m 9s\n",
      "192:\tlearn: 0.1596101\ttotal: 7m 12s\tremaining: 30m 6s\n",
      "193:\tlearn: 0.1593513\ttotal: 7m 14s\tremaining: 30m 4s\n",
      "194:\tlearn: 0.1591826\ttotal: 7m 16s\tremaining: 30m 2s\n",
      "195:\tlearn: 0.1590141\ttotal: 7m 18s\tremaining: 29m 59s\n",
      "196:\tlearn: 0.1587965\ttotal: 7m 20s\tremaining: 29m 57s\n",
      "197:\tlearn: 0.1586220\ttotal: 7m 23s\tremaining: 29m 54s\n",
      "198:\tlearn: 0.1584003\ttotal: 7m 25s\tremaining: 29m 52s\n",
      "199:\tlearn: 0.1582276\ttotal: 7m 27s\tremaining: 29m 50s\n",
      "200:\tlearn: 0.1580975\ttotal: 7m 29s\tremaining: 29m 47s\n",
      "201:\tlearn: 0.1579678\ttotal: 7m 31s\tremaining: 29m 45s\n",
      "202:\tlearn: 0.1578182\ttotal: 7m 34s\tremaining: 29m 42s\n",
      "203:\tlearn: 0.1576392\ttotal: 7m 36s\tremaining: 29m 40s\n",
      "204:\tlearn: 0.1574762\ttotal: 7m 38s\tremaining: 29m 37s\n",
      "205:\tlearn: 0.1573590\ttotal: 7m 40s\tremaining: 29m 35s\n",
      "206:\tlearn: 0.1571464\ttotal: 7m 42s\tremaining: 29m 32s\n",
      "207:\tlearn: 0.1568697\ttotal: 7m 45s\tremaining: 29m 30s\n",
      "208:\tlearn: 0.1567489\ttotal: 7m 47s\tremaining: 29m 28s\n",
      "209:\tlearn: 0.1566135\ttotal: 7m 49s\tremaining: 29m 25s\n",
      "210:\tlearn: 0.1564177\ttotal: 7m 51s\tremaining: 29m 23s\n",
      "211:\tlearn: 0.1562859\ttotal: 7m 53s\tremaining: 29m 20s\n",
      "212:\tlearn: 0.1561023\ttotal: 7m 55s\tremaining: 29m 18s\n",
      "213:\tlearn: 0.1558859\ttotal: 7m 58s\tremaining: 29m 16s\n",
      "214:\tlearn: 0.1557417\ttotal: 8m\tremaining: 29m 13s\n",
      "215:\tlearn: 0.1555432\ttotal: 8m 2s\tremaining: 29m 11s\n",
      "216:\tlearn: 0.1554186\ttotal: 8m 4s\tremaining: 29m 9s\n",
      "217:\tlearn: 0.1552343\ttotal: 8m 6s\tremaining: 29m 6s\n",
      "218:\tlearn: 0.1551013\ttotal: 8m 9s\tremaining: 29m 4s\n",
      "219:\tlearn: 0.1549339\ttotal: 8m 11s\tremaining: 29m 1s\n",
      "220:\tlearn: 0.1548002\ttotal: 8m 13s\tremaining: 28m 59s\n",
      "221:\tlearn: 0.1546732\ttotal: 8m 15s\tremaining: 28m 56s\n",
      "222:\tlearn: 0.1544958\ttotal: 8m 17s\tremaining: 28m 54s\n",
      "223:\tlearn: 0.1543116\ttotal: 8m 20s\tremaining: 28m 52s\n",
      "224:\tlearn: 0.1541971\ttotal: 8m 22s\tremaining: 28m 49s\n",
      "225:\tlearn: 0.1540615\ttotal: 8m 24s\tremaining: 28m 47s\n",
      "226:\tlearn: 0.1538694\ttotal: 8m 26s\tremaining: 28m 45s\n",
      "227:\tlearn: 0.1537118\ttotal: 8m 28s\tremaining: 28m 43s\n",
      "228:\tlearn: 0.1535275\ttotal: 8m 31s\tremaining: 28m 40s\n",
      "229:\tlearn: 0.1533921\ttotal: 8m 33s\tremaining: 28m 38s\n",
      "230:\tlearn: 0.1532110\ttotal: 8m 35s\tremaining: 28m 36s\n",
      "231:\tlearn: 0.1530356\ttotal: 8m 37s\tremaining: 28m 34s\n",
      "232:\tlearn: 0.1529029\ttotal: 8m 39s\tremaining: 28m 31s\n",
      "233:\tlearn: 0.1527387\ttotal: 8m 42s\tremaining: 28m 29s\n",
      "234:\tlearn: 0.1525394\ttotal: 8m 44s\tremaining: 28m 27s\n",
      "235:\tlearn: 0.1524197\ttotal: 8m 46s\tremaining: 28m 25s\n",
      "236:\tlearn: 0.1522559\ttotal: 8m 48s\tremaining: 28m 22s\n",
      "237:\tlearn: 0.1521255\ttotal: 8m 51s\tremaining: 28m 20s\n",
      "238:\tlearn: 0.1519699\ttotal: 8m 53s\tremaining: 28m 18s\n",
      "239:\tlearn: 0.1517164\ttotal: 8m 55s\tremaining: 28m 16s\n",
      "240:\tlearn: 0.1515294\ttotal: 8m 57s\tremaining: 28m 13s\n",
      "241:\tlearn: 0.1514152\ttotal: 9m\tremaining: 28m 11s\n",
      "242:\tlearn: 0.1512732\ttotal: 9m 2s\tremaining: 28m 9s\n",
      "243:\tlearn: 0.1511688\ttotal: 9m 4s\tremaining: 28m 7s\n",
      "244:\tlearn: 0.1510276\ttotal: 9m 6s\tremaining: 28m 4s\n",
      "245:\tlearn: 0.1509202\ttotal: 9m 8s\tremaining: 28m 2s\n",
      "246:\tlearn: 0.1508242\ttotal: 9m 11s\tremaining: 28m\n",
      "247:\tlearn: 0.1507032\ttotal: 9m 13s\tremaining: 27m 57s\n",
      "248:\tlearn: 0.1505822\ttotal: 9m 15s\tremaining: 27m 55s\n",
      "249:\tlearn: 0.1504581\ttotal: 9m 17s\tremaining: 27m 53s\n",
      "250:\tlearn: 0.1503374\ttotal: 9m 19s\tremaining: 27m 50s\n",
      "251:\tlearn: 0.1501063\ttotal: 9m 22s\tremaining: 27m 48s\n",
      "252:\tlearn: 0.1499921\ttotal: 9m 24s\tremaining: 27m 46s\n",
      "253:\tlearn: 0.1498939\ttotal: 9m 26s\tremaining: 27m 43s\n",
      "254:\tlearn: 0.1497620\ttotal: 9m 28s\tremaining: 27m 42s\n",
      "255:\tlearn: 0.1496216\ttotal: 9m 31s\tremaining: 27m 39s\n",
      "256:\tlearn: 0.1494959\ttotal: 9m 33s\tremaining: 27m 37s\n",
      "257:\tlearn: 0.1494033\ttotal: 9m 35s\tremaining: 27m 35s\n",
      "258:\tlearn: 0.1492243\ttotal: 9m 37s\tremaining: 27m 33s\n",
      "259:\tlearn: 0.1490323\ttotal: 9m 40s\tremaining: 27m 31s\n",
      "260:\tlearn: 0.1489459\ttotal: 9m 42s\tremaining: 27m 28s\n",
      "261:\tlearn: 0.1488012\ttotal: 9m 44s\tremaining: 27m 26s\n",
      "262:\tlearn: 0.1486747\ttotal: 9m 46s\tremaining: 27m 24s\n",
      "263:\tlearn: 0.1484400\ttotal: 9m 48s\tremaining: 27m 21s\n",
      "264:\tlearn: 0.1482964\ttotal: 9m 51s\tremaining: 27m 19s\n",
      "265:\tlearn: 0.1481760\ttotal: 9m 53s\tremaining: 27m 17s\n",
      "266:\tlearn: 0.1480809\ttotal: 9m 55s\tremaining: 27m 15s\n",
      "267:\tlearn: 0.1480067\ttotal: 9m 57s\tremaining: 27m 12s\n",
      "268:\tlearn: 0.1479038\ttotal: 9m 59s\tremaining: 27m 9s\n",
      "269:\tlearn: 0.1477870\ttotal: 10m 1s\tremaining: 27m 7s\n",
      "270:\tlearn: 0.1476581\ttotal: 10m 3s\tremaining: 27m 4s\n",
      "271:\tlearn: 0.1475016\ttotal: 10m 6s\tremaining: 27m 2s\n",
      "272:\tlearn: 0.1473789\ttotal: 10m 8s\tremaining: 26m 59s\n",
      "273:\tlearn: 0.1472635\ttotal: 10m 10s\tremaining: 26m 57s\n",
      "274:\tlearn: 0.1471437\ttotal: 10m 12s\tremaining: 26m 55s\n",
      "275:\tlearn: 0.1470072\ttotal: 10m 15s\tremaining: 26m 54s\n",
      "276:\tlearn: 0.1468970\ttotal: 10m 17s\tremaining: 26m 52s\n",
      "277:\tlearn: 0.1468079\ttotal: 10m 19s\tremaining: 26m 50s\n",
      "278:\tlearn: 0.1466163\ttotal: 10m 22s\tremaining: 26m 47s\n",
      "279:\tlearn: 0.1464381\ttotal: 10m 24s\tremaining: 26m 45s\n",
      "280:\tlearn: 0.1463484\ttotal: 10m 26s\tremaining: 26m 43s\n",
      "281:\tlearn: 0.1462597\ttotal: 10m 28s\tremaining: 26m 41s\n",
      "282:\tlearn: 0.1461940\ttotal: 10m 30s\tremaining: 26m 38s\n",
      "283:\tlearn: 0.1460689\ttotal: 10m 32s\tremaining: 26m 35s\n",
      "284:\tlearn: 0.1459446\ttotal: 10m 35s\tremaining: 26m 33s\n",
      "285:\tlearn: 0.1458130\ttotal: 10m 37s\tremaining: 26m 31s\n",
      "286:\tlearn: 0.1456254\ttotal: 10m 39s\tremaining: 26m 29s\n",
      "287:\tlearn: 0.1455139\ttotal: 10m 41s\tremaining: 26m 26s\n",
      "288:\tlearn: 0.1454300\ttotal: 10m 43s\tremaining: 26m 24s\n",
      "289:\tlearn: 0.1452903\ttotal: 10m 46s\tremaining: 26m 22s\n",
      "290:\tlearn: 0.1451026\ttotal: 10m 48s\tremaining: 26m 20s\n",
      "291:\tlearn: 0.1448899\ttotal: 10m 50s\tremaining: 26m 18s\n",
      "292:\tlearn: 0.1447875\ttotal: 10m 52s\tremaining: 26m 15s\n",
      "293:\tlearn: 0.1446771\ttotal: 10m 55s\tremaining: 26m 14s\n",
      "294:\tlearn: 0.1445553\ttotal: 10m 57s\tremaining: 26m 12s\n",
      "295:\tlearn: 0.1444791\ttotal: 10m 59s\tremaining: 26m 9s\n",
      "296:\tlearn: 0.1443687\ttotal: 11m 2s\tremaining: 26m 7s\n",
      "297:\tlearn: 0.1442433\ttotal: 11m 4s\tremaining: 26m 4s\n",
      "298:\tlearn: 0.1441333\ttotal: 11m 6s\tremaining: 26m 2s\n",
      "299:\tlearn: 0.1440284\ttotal: 11m 8s\tremaining: 25m 59s\n",
      "300:\tlearn: 0.1438919\ttotal: 11m 10s\tremaining: 25m 56s\n",
      "301:\tlearn: 0.1438158\ttotal: 11m 12s\tremaining: 25m 54s\n",
      "302:\tlearn: 0.1437168\ttotal: 11m 14s\tremaining: 25m 52s\n",
      "303:\tlearn: 0.1435817\ttotal: 11m 17s\tremaining: 25m 50s\n",
      "304:\tlearn: 0.1434737\ttotal: 11m 19s\tremaining: 25m 47s\n",
      "305:\tlearn: 0.1433873\ttotal: 11m 21s\tremaining: 25m 45s\n",
      "306:\tlearn: 0.1433090\ttotal: 11m 23s\tremaining: 25m 42s\n",
      "307:\tlearn: 0.1432075\ttotal: 11m 25s\tremaining: 25m 39s\n",
      "308:\tlearn: 0.1431317\ttotal: 11m 27s\tremaining: 25m 37s\n",
      "309:\tlearn: 0.1429998\ttotal: 11m 29s\tremaining: 25m 35s\n",
      "310:\tlearn: 0.1429046\ttotal: 11m 32s\tremaining: 25m 33s\n",
      "311:\tlearn: 0.1427243\ttotal: 11m 34s\tremaining: 25m 30s\n",
      "312:\tlearn: 0.1426598\ttotal: 11m 36s\tremaining: 25m 28s\n",
      "313:\tlearn: 0.1424722\ttotal: 11m 38s\tremaining: 25m 26s\n",
      "314:\tlearn: 0.1423858\ttotal: 11m 40s\tremaining: 25m 24s\n",
      "315:\tlearn: 0.1423048\ttotal: 11m 43s\tremaining: 25m 21s\n",
      "316:\tlearn: 0.1421962\ttotal: 11m 45s\tremaining: 25m 19s\n",
      "317:\tlearn: 0.1420734\ttotal: 11m 47s\tremaining: 25m 17s\n",
      "318:\tlearn: 0.1419615\ttotal: 11m 49s\tremaining: 25m 15s\n",
      "319:\tlearn: 0.1418196\ttotal: 11m 52s\tremaining: 25m 13s\n",
      "320:\tlearn: 0.1417169\ttotal: 11m 54s\tremaining: 25m 10s\n",
      "321:\tlearn: 0.1416346\ttotal: 11m 56s\tremaining: 25m 8s\n",
      "322:\tlearn: 0.1415710\ttotal: 11m 58s\tremaining: 25m 5s\n",
      "323:\tlearn: 0.1414080\ttotal: 12m\tremaining: 25m 3s\n",
      "324:\tlearn: 0.1413424\ttotal: 12m 2s\tremaining: 25m 1s\n",
      "325:\tlearn: 0.1412266\ttotal: 12m 4s\tremaining: 24m 58s\n",
      "326:\tlearn: 0.1411288\ttotal: 12m 7s\tremaining: 24m 56s\n",
      "327:\tlearn: 0.1409748\ttotal: 12m 9s\tremaining: 24m 54s\n",
      "328:\tlearn: 0.1409167\ttotal: 12m 11s\tremaining: 24m 51s\n",
      "329:\tlearn: 0.1407451\ttotal: 12m 13s\tremaining: 24m 49s\n",
      "330:\tlearn: 0.1406863\ttotal: 12m 15s\tremaining: 24m 47s\n",
      "331:\tlearn: 0.1406160\ttotal: 12m 18s\tremaining: 24m 44s\n",
      "332:\tlearn: 0.1404865\ttotal: 12m 20s\tremaining: 24m 42s\n",
      "333:\tlearn: 0.1404198\ttotal: 12m 22s\tremaining: 24m 40s\n",
      "334:\tlearn: 0.1403029\ttotal: 12m 24s\tremaining: 24m 37s\n",
      "335:\tlearn: 0.1402036\ttotal: 12m 26s\tremaining: 24m 35s\n",
      "336:\tlearn: 0.1401324\ttotal: 12m 28s\tremaining: 24m 33s\n",
      "337:\tlearn: 0.1400467\ttotal: 12m 31s\tremaining: 24m 31s\n",
      "338:\tlearn: 0.1399762\ttotal: 12m 33s\tremaining: 24m 28s\n",
      "339:\tlearn: 0.1398580\ttotal: 12m 35s\tremaining: 24m 26s\n",
      "340:\tlearn: 0.1397240\ttotal: 12m 37s\tremaining: 24m 24s\n",
      "341:\tlearn: 0.1396270\ttotal: 12m 40s\tremaining: 24m 22s\n",
      "342:\tlearn: 0.1395407\ttotal: 12m 42s\tremaining: 24m 20s\n",
      "343:\tlearn: 0.1394844\ttotal: 12m 44s\tremaining: 24m 17s\n",
      "344:\tlearn: 0.1393732\ttotal: 12m 46s\tremaining: 24m 15s\n",
      "345:\tlearn: 0.1392505\ttotal: 12m 48s\tremaining: 24m 13s\n",
      "346:\tlearn: 0.1391421\ttotal: 12m 51s\tremaining: 24m 11s\n",
      "347:\tlearn: 0.1390761\ttotal: 12m 53s\tremaining: 24m 8s\n",
      "348:\tlearn: 0.1389508\ttotal: 12m 55s\tremaining: 24m 6s\n",
      "349:\tlearn: 0.1388635\ttotal: 12m 57s\tremaining: 24m 4s\n",
      "350:\tlearn: 0.1388061\ttotal: 12m 59s\tremaining: 24m 1s\n",
      "351:\tlearn: 0.1387569\ttotal: 13m 1s\tremaining: 23m 59s\n",
      "352:\tlearn: 0.1386271\ttotal: 13m 4s\tremaining: 23m 57s\n",
      "353:\tlearn: 0.1385637\ttotal: 13m 6s\tremaining: 23m 54s\n",
      "354:\tlearn: 0.1384527\ttotal: 13m 8s\tremaining: 23m 52s\n",
      "355:\tlearn: 0.1383014\ttotal: 13m 10s\tremaining: 23m 50s\n",
      "356:\tlearn: 0.1381704\ttotal: 13m 13s\tremaining: 23m 48s\n",
      "357:\tlearn: 0.1381156\ttotal: 13m 15s\tremaining: 23m 45s\n",
      "358:\tlearn: 0.1379969\ttotal: 13m 17s\tremaining: 23m 43s\n",
      "359:\tlearn: 0.1379034\ttotal: 13m 19s\tremaining: 23m 41s\n",
      "360:\tlearn: 0.1378412\ttotal: 13m 21s\tremaining: 23m 39s\n",
      "361:\tlearn: 0.1377733\ttotal: 13m 23s\tremaining: 23m 36s\n",
      "362:\tlearn: 0.1376875\ttotal: 13m 26s\tremaining: 23m 34s\n",
      "363:\tlearn: 0.1375907\ttotal: 13m 28s\tremaining: 23m 32s\n",
      "364:\tlearn: 0.1374745\ttotal: 13m 30s\tremaining: 23m 30s\n",
      "365:\tlearn: 0.1373812\ttotal: 13m 32s\tremaining: 23m 27s\n",
      "366:\tlearn: 0.1372851\ttotal: 13m 34s\tremaining: 23m 25s\n",
      "367:\tlearn: 0.1372244\ttotal: 13m 37s\tremaining: 23m 23s\n",
      "368:\tlearn: 0.1371501\ttotal: 13m 39s\tremaining: 23m 21s\n",
      "369:\tlearn: 0.1369966\ttotal: 13m 41s\tremaining: 23m 18s\n",
      "370:\tlearn: 0.1369481\ttotal: 13m 43s\tremaining: 23m 16s\n",
      "371:\tlearn: 0.1368529\ttotal: 13m 45s\tremaining: 23m 14s\n",
      "372:\tlearn: 0.1367368\ttotal: 13m 48s\tremaining: 23m 11s\n",
      "373:\tlearn: 0.1366549\ttotal: 13m 50s\tremaining: 23m 9s\n",
      "374:\tlearn: 0.1366035\ttotal: 13m 52s\tremaining: 23m 7s\n",
      "375:\tlearn: 0.1365428\ttotal: 13m 54s\tremaining: 23m 5s\n",
      "376:\tlearn: 0.1364654\ttotal: 13m 56s\tremaining: 23m 2s\n",
      "377:\tlearn: 0.1363344\ttotal: 13m 59s\tremaining: 23m\n",
      "378:\tlearn: 0.1362410\ttotal: 14m 1s\tremaining: 22m 58s\n",
      "379:\tlearn: 0.1361577\ttotal: 14m 3s\tremaining: 22m 56s\n",
      "380:\tlearn: 0.1360716\ttotal: 14m 5s\tremaining: 22m 53s\n",
      "381:\tlearn: 0.1359949\ttotal: 14m 7s\tremaining: 22m 51s\n",
      "382:\tlearn: 0.1359449\ttotal: 14m 10s\tremaining: 22m 49s\n",
      "383:\tlearn: 0.1358590\ttotal: 14m 12s\tremaining: 22m 47s\n",
      "384:\tlearn: 0.1358153\ttotal: 14m 14s\tremaining: 22m 45s\n",
      "385:\tlearn: 0.1357579\ttotal: 14m 16s\tremaining: 22m 42s\n",
      "386:\tlearn: 0.1356737\ttotal: 14m 18s\tremaining: 22m 40s\n",
      "387:\tlearn: 0.1356272\ttotal: 14m 21s\tremaining: 22m 38s\n",
      "388:\tlearn: 0.1355215\ttotal: 14m 23s\tremaining: 22m 35s\n",
      "389:\tlearn: 0.1354404\ttotal: 14m 25s\tremaining: 22m 33s\n",
      "390:\tlearn: 0.1353394\ttotal: 14m 27s\tremaining: 22m 31s\n",
      "391:\tlearn: 0.1352968\ttotal: 14m 29s\tremaining: 22m 28s\n",
      "392:\tlearn: 0.1352133\ttotal: 14m 31s\tremaining: 22m 26s\n",
      "393:\tlearn: 0.1351508\ttotal: 14m 33s\tremaining: 22m 24s\n",
      "394:\tlearn: 0.1350441\ttotal: 14m 36s\tremaining: 22m 22s\n",
      "395:\tlearn: 0.1350017\ttotal: 14m 38s\tremaining: 22m 19s\n",
      "396:\tlearn: 0.1349477\ttotal: 14m 40s\tremaining: 22m 17s\n",
      "397:\tlearn: 0.1348657\ttotal: 14m 42s\tremaining: 22m 14s\n",
      "398:\tlearn: 0.1347471\ttotal: 14m 44s\tremaining: 22m 12s\n",
      "399:\tlearn: 0.1347061\ttotal: 14m 46s\tremaining: 22m 10s\n",
      "400:\tlearn: 0.1346436\ttotal: 14m 48s\tremaining: 22m 7s\n",
      "401:\tlearn: 0.1345472\ttotal: 14m 51s\tremaining: 22m 5s\n",
      "402:\tlearn: 0.1344435\ttotal: 14m 53s\tremaining: 22m 3s\n",
      "403:\tlearn: 0.1343878\ttotal: 14m 55s\tremaining: 22m\n",
      "404:\tlearn: 0.1343247\ttotal: 14m 57s\tremaining: 21m 58s\n",
      "405:\tlearn: 0.1342524\ttotal: 14m 59s\tremaining: 21m 56s\n",
      "406:\tlearn: 0.1341674\ttotal: 15m 1s\tremaining: 21m 53s\n",
      "407:\tlearn: 0.1340488\ttotal: 15m 3s\tremaining: 21m 51s\n",
      "408:\tlearn: 0.1339664\ttotal: 15m 5s\tremaining: 21m 49s\n",
      "409:\tlearn: 0.1339056\ttotal: 15m 8s\tremaining: 21m 46s\n",
      "410:\tlearn: 0.1338543\ttotal: 15m 10s\tremaining: 21m 44s\n",
      "411:\tlearn: 0.1337630\ttotal: 15m 12s\tremaining: 21m 41s\n",
      "412:\tlearn: 0.1336948\ttotal: 15m 14s\tremaining: 21m 39s\n",
      "413:\tlearn: 0.1335873\ttotal: 15m 16s\tremaining: 21m 37s\n",
      "414:\tlearn: 0.1334745\ttotal: 15m 18s\tremaining: 21m 34s\n",
      "415:\tlearn: 0.1334195\ttotal: 15m 20s\tremaining: 21m 32s\n",
      "416:\tlearn: 0.1333117\ttotal: 15m 22s\tremaining: 21m 30s\n",
      "417:\tlearn: 0.1332525\ttotal: 15m 24s\tremaining: 21m 27s\n",
      "418:\tlearn: 0.1331240\ttotal: 15m 27s\tremaining: 21m 25s\n",
      "419:\tlearn: 0.1330557\ttotal: 15m 29s\tremaining: 21m 23s\n",
      "420:\tlearn: 0.1329580\ttotal: 15m 31s\tremaining: 21m 20s\n",
      "421:\tlearn: 0.1328728\ttotal: 15m 33s\tremaining: 21m 18s\n",
      "422:\tlearn: 0.1328239\ttotal: 15m 35s\tremaining: 21m 16s\n",
      "423:\tlearn: 0.1327466\ttotal: 15m 37s\tremaining: 21m 13s\n",
      "424:\tlearn: 0.1326549\ttotal: 15m 39s\tremaining: 21m 11s\n",
      "425:\tlearn: 0.1326095\ttotal: 15m 41s\tremaining: 21m 9s\n",
      "426:\tlearn: 0.1325392\ttotal: 15m 44s\tremaining: 21m 6s\n",
      "427:\tlearn: 0.1324207\ttotal: 15m 46s\tremaining: 21m 4s\n",
      "428:\tlearn: 0.1323464\ttotal: 15m 48s\tremaining: 21m 2s\n",
      "429:\tlearn: 0.1322921\ttotal: 15m 50s\tremaining: 21m\n",
      "430:\tlearn: 0.1322113\ttotal: 15m 52s\tremaining: 20m 57s\n",
      "431:\tlearn: 0.1321120\ttotal: 15m 54s\tremaining: 20m 55s\n",
      "432:\tlearn: 0.1320330\ttotal: 15m 56s\tremaining: 20m 53s\n",
      "433:\tlearn: 0.1319736\ttotal: 15m 59s\tremaining: 20m 50s\n",
      "434:\tlearn: 0.1318694\ttotal: 16m 1s\tremaining: 20m 48s\n",
      "435:\tlearn: 0.1317985\ttotal: 16m 3s\tremaining: 20m 46s\n",
      "436:\tlearn: 0.1317530\ttotal: 16m 5s\tremaining: 20m 43s\n",
      "437:\tlearn: 0.1316851\ttotal: 16m 7s\tremaining: 20m 41s\n",
      "438:\tlearn: 0.1316074\ttotal: 16m 9s\tremaining: 20m 39s\n",
      "439:\tlearn: 0.1314878\ttotal: 16m 11s\tremaining: 20m 36s\n",
      "440:\tlearn: 0.1313643\ttotal: 16m 13s\tremaining: 20m 34s\n",
      "441:\tlearn: 0.1312902\ttotal: 16m 16s\tremaining: 20m 32s\n",
      "442:\tlearn: 0.1311902\ttotal: 16m 18s\tremaining: 20m 29s\n",
      "443:\tlearn: 0.1311393\ttotal: 16m 20s\tremaining: 20m 27s\n",
      "444:\tlearn: 0.1311014\ttotal: 16m 22s\tremaining: 20m 25s\n",
      "445:\tlearn: 0.1309713\ttotal: 16m 24s\tremaining: 20m 22s\n",
      "446:\tlearn: 0.1309266\ttotal: 16m 26s\tremaining: 20m 20s\n",
      "447:\tlearn: 0.1308242\ttotal: 16m 28s\tremaining: 20m 18s\n",
      "448:\tlearn: 0.1307053\ttotal: 16m 30s\tremaining: 20m 16s\n",
      "449:\tlearn: 0.1306318\ttotal: 16m 33s\tremaining: 20m 13s\n",
      "450:\tlearn: 0.1305507\ttotal: 16m 35s\tremaining: 20m 11s\n",
      "451:\tlearn: 0.1305030\ttotal: 16m 37s\tremaining: 20m 9s\n",
      "452:\tlearn: 0.1304169\ttotal: 16m 39s\tremaining: 20m 6s\n",
      "453:\tlearn: 0.1303508\ttotal: 16m 41s\tremaining: 20m 4s\n",
      "454:\tlearn: 0.1302945\ttotal: 16m 43s\tremaining: 20m 2s\n",
      "455:\tlearn: 0.1301899\ttotal: 16m 46s\tremaining: 20m\n",
      "456:\tlearn: 0.1301105\ttotal: 16m 48s\tremaining: 19m 57s\n",
      "457:\tlearn: 0.1300718\ttotal: 16m 50s\tremaining: 19m 55s\n",
      "458:\tlearn: 0.1300096\ttotal: 16m 52s\tremaining: 19m 53s\n",
      "459:\tlearn: 0.1298929\ttotal: 16m 54s\tremaining: 19m 51s\n",
      "460:\tlearn: 0.1298195\ttotal: 16m 56s\tremaining: 19m 48s\n",
      "461:\tlearn: 0.1297493\ttotal: 16m 58s\tremaining: 19m 46s\n",
      "462:\tlearn: 0.1297126\ttotal: 17m\tremaining: 19m 44s\n",
      "463:\tlearn: 0.1296378\ttotal: 17m 3s\tremaining: 19m 41s\n",
      "464:\tlearn: 0.1295805\ttotal: 17m 5s\tremaining: 19m 39s\n",
      "465:\tlearn: 0.1295440\ttotal: 17m 7s\tremaining: 19m 37s\n",
      "466:\tlearn: 0.1294535\ttotal: 17m 9s\tremaining: 19m 34s\n",
      "467:\tlearn: 0.1293607\ttotal: 17m 11s\tremaining: 19m 32s\n",
      "468:\tlearn: 0.1293161\ttotal: 17m 13s\tremaining: 19m 30s\n",
      "469:\tlearn: 0.1292804\ttotal: 17m 15s\tremaining: 19m 27s\n",
      "470:\tlearn: 0.1291954\ttotal: 17m 17s\tremaining: 19m 25s\n",
      "471:\tlearn: 0.1291125\ttotal: 17m 19s\tremaining: 19m 23s\n",
      "472:\tlearn: 0.1290429\ttotal: 17m 22s\tremaining: 19m 21s\n",
      "473:\tlearn: 0.1290049\ttotal: 17m 24s\tremaining: 19m 18s\n",
      "474:\tlearn: 0.1289553\ttotal: 17m 26s\tremaining: 19m 16s\n",
      "475:\tlearn: 0.1289047\ttotal: 17m 28s\tremaining: 19m 14s\n",
      "476:\tlearn: 0.1288714\ttotal: 17m 30s\tremaining: 19m 11s\n",
      "477:\tlearn: 0.1288369\ttotal: 17m 32s\tremaining: 19m 9s\n",
      "478:\tlearn: 0.1287938\ttotal: 17m 34s\tremaining: 19m 7s\n",
      "479:\tlearn: 0.1287596\ttotal: 17m 36s\tremaining: 19m 4s\n",
      "480:\tlearn: 0.1286708\ttotal: 17m 38s\tremaining: 19m 2s\n",
      "481:\tlearn: 0.1286006\ttotal: 17m 40s\tremaining: 19m\n",
      "482:\tlearn: 0.1285677\ttotal: 17m 42s\tremaining: 18m 57s\n",
      "483:\tlearn: 0.1284904\ttotal: 17m 45s\tremaining: 18m 55s\n",
      "484:\tlearn: 0.1284075\ttotal: 17m 47s\tremaining: 18m 53s\n",
      "485:\tlearn: 0.1283508\ttotal: 17m 49s\tremaining: 18m 51s\n",
      "486:\tlearn: 0.1283175\ttotal: 17m 51s\tremaining: 18m 48s\n",
      "487:\tlearn: 0.1282858\ttotal: 17m 53s\tremaining: 18m 46s\n",
      "488:\tlearn: 0.1282327\ttotal: 17m 55s\tremaining: 18m 44s\n",
      "489:\tlearn: 0.1281543\ttotal: 17m 57s\tremaining: 18m 41s\n",
      "490:\tlearn: 0.1281221\ttotal: 17m 59s\tremaining: 18m 39s\n",
      "491:\tlearn: 0.1280533\ttotal: 18m 1s\tremaining: 18m 36s\n",
      "492:\tlearn: 0.1280186\ttotal: 18m 3s\tremaining: 18m 34s\n",
      "493:\tlearn: 0.1279523\ttotal: 18m 5s\tremaining: 18m 32s\n",
      "494:\tlearn: 0.1279181\ttotal: 18m 8s\tremaining: 18m 30s\n",
      "495:\tlearn: 0.1278878\ttotal: 18m 10s\tremaining: 18m 27s\n",
      "496:\tlearn: 0.1278206\ttotal: 18m 12s\tremaining: 18m 25s\n",
      "497:\tlearn: 0.1277860\ttotal: 18m 14s\tremaining: 18m 23s\n",
      "498:\tlearn: 0.1276968\ttotal: 18m 16s\tremaining: 18m 20s\n",
      "499:\tlearn: 0.1276449\ttotal: 18m 18s\tremaining: 18m 18s\n",
      "500:\tlearn: 0.1275633\ttotal: 18m 20s\tremaining: 18m 16s\n",
      "501:\tlearn: 0.1275333\ttotal: 18m 22s\tremaining: 18m 13s\n",
      "502:\tlearn: 0.1274393\ttotal: 18m 24s\tremaining: 18m 11s\n",
      "503:\tlearn: 0.1273984\ttotal: 18m 26s\tremaining: 18m 9s\n",
      "504:\tlearn: 0.1273211\ttotal: 18m 29s\tremaining: 18m 7s\n",
      "505:\tlearn: 0.1272539\ttotal: 18m 31s\tremaining: 18m 4s\n",
      "506:\tlearn: 0.1272191\ttotal: 18m 33s\tremaining: 18m 2s\n",
      "507:\tlearn: 0.1271881\ttotal: 18m 35s\tremaining: 18m\n",
      "508:\tlearn: 0.1270654\ttotal: 18m 37s\tremaining: 17m 58s\n",
      "509:\tlearn: 0.1270256\ttotal: 18m 39s\tremaining: 17m 55s\n",
      "510:\tlearn: 0.1269938\ttotal: 18m 41s\tremaining: 17m 53s\n",
      "511:\tlearn: 0.1269641\ttotal: 18m 43s\tremaining: 17m 51s\n",
      "512:\tlearn: 0.1269327\ttotal: 18m 45s\tremaining: 17m 48s\n",
      "513:\tlearn: 0.1268630\ttotal: 18m 48s\tremaining: 17m 46s\n",
      "514:\tlearn: 0.1267870\ttotal: 18m 50s\tremaining: 17m 44s\n",
      "515:\tlearn: 0.1267403\ttotal: 18m 52s\tremaining: 17m 42s\n",
      "516:\tlearn: 0.1266776\ttotal: 18m 54s\tremaining: 17m 39s\n",
      "517:\tlearn: 0.1265892\ttotal: 18m 56s\tremaining: 17m 37s\n",
      "518:\tlearn: 0.1265597\ttotal: 18m 58s\tremaining: 17m 35s\n",
      "519:\tlearn: 0.1265122\ttotal: 19m\tremaining: 17m 33s\n",
      "520:\tlearn: 0.1264471\ttotal: 19m 2s\tremaining: 17m 30s\n",
      "521:\tlearn: 0.1264082\ttotal: 19m 4s\tremaining: 17m 28s\n",
      "522:\tlearn: 0.1263090\ttotal: 19m 7s\tremaining: 17m 26s\n",
      "523:\tlearn: 0.1262787\ttotal: 19m 9s\tremaining: 17m 23s\n",
      "524:\tlearn: 0.1262086\ttotal: 19m 11s\tremaining: 17m 21s\n",
      "525:\tlearn: 0.1261647\ttotal: 19m 13s\tremaining: 17m 19s\n",
      "526:\tlearn: 0.1260591\ttotal: 19m 15s\tremaining: 17m 17s\n",
      "527:\tlearn: 0.1260158\ttotal: 19m 17s\tremaining: 17m 14s\n",
      "528:\tlearn: 0.1259676\ttotal: 19m 19s\tremaining: 17m 12s\n",
      "529:\tlearn: 0.1259012\ttotal: 19m 21s\tremaining: 17m 10s\n",
      "530:\tlearn: 0.1258641\ttotal: 19m 23s\tremaining: 17m 7s\n",
      "531:\tlearn: 0.1258330\ttotal: 19m 25s\tremaining: 17m 5s\n",
      "532:\tlearn: 0.1258035\ttotal: 19m 28s\tremaining: 17m 3s\n",
      "533:\tlearn: 0.1257295\ttotal: 19m 30s\tremaining: 17m 1s\n",
      "534:\tlearn: 0.1257007\ttotal: 19m 32s\tremaining: 16m 58s\n",
      "535:\tlearn: 0.1256137\ttotal: 19m 34s\tremaining: 16m 56s\n",
      "536:\tlearn: 0.1255554\ttotal: 19m 36s\tremaining: 16m 54s\n",
      "537:\tlearn: 0.1254937\ttotal: 19m 38s\tremaining: 16m 52s\n",
      "538:\tlearn: 0.1254019\ttotal: 19m 40s\tremaining: 16m 50s\n",
      "539:\tlearn: 0.1253562\ttotal: 19m 42s\tremaining: 16m 47s\n",
      "540:\tlearn: 0.1253163\ttotal: 19m 45s\tremaining: 16m 45s\n",
      "541:\tlearn: 0.1252469\ttotal: 19m 47s\tremaining: 16m 43s\n",
      "542:\tlearn: 0.1252125\ttotal: 19m 49s\tremaining: 16m 40s\n",
      "543:\tlearn: 0.1251696\ttotal: 19m 51s\tremaining: 16m 38s\n",
      "544:\tlearn: 0.1251405\ttotal: 19m 53s\tremaining: 16m 36s\n",
      "545:\tlearn: 0.1250728\ttotal: 19m 55s\tremaining: 16m 34s\n",
      "546:\tlearn: 0.1249964\ttotal: 19m 57s\tremaining: 16m 31s\n",
      "547:\tlearn: 0.1249294\ttotal: 19m 59s\tremaining: 16m 29s\n",
      "548:\tlearn: 0.1249005\ttotal: 20m 1s\tremaining: 16m 27s\n",
      "549:\tlearn: 0.1248718\ttotal: 20m 4s\tremaining: 16m 25s\n",
      "550:\tlearn: 0.1247938\ttotal: 20m 6s\tremaining: 16m 22s\n",
      "551:\tlearn: 0.1247272\ttotal: 20m 8s\tremaining: 16m 20s\n",
      "552:\tlearn: 0.1246372\ttotal: 20m 10s\tremaining: 16m 18s\n",
      "553:\tlearn: 0.1246105\ttotal: 20m 12s\tremaining: 16m 16s\n",
      "554:\tlearn: 0.1245497\ttotal: 20m 14s\tremaining: 16m 13s\n",
      "555:\tlearn: 0.1244872\ttotal: 20m 16s\tremaining: 16m 11s\n",
      "556:\tlearn: 0.1243973\ttotal: 20m 18s\tremaining: 16m 9s\n",
      "557:\tlearn: 0.1243403\ttotal: 20m 20s\tremaining: 16m 7s\n",
      "558:\tlearn: 0.1242834\ttotal: 20m 23s\tremaining: 16m 4s\n",
      "559:\tlearn: 0.1242488\ttotal: 20m 25s\tremaining: 16m 2s\n",
      "560:\tlearn: 0.1242191\ttotal: 20m 27s\tremaining: 16m\n",
      "561:\tlearn: 0.1241920\ttotal: 20m 29s\tremaining: 15m 58s\n",
      "562:\tlearn: 0.1241625\ttotal: 20m 31s\tremaining: 15m 55s\n",
      "563:\tlearn: 0.1241361\ttotal: 20m 33s\tremaining: 15m 53s\n",
      "564:\tlearn: 0.1240860\ttotal: 20m 35s\tremaining: 15m 51s\n",
      "565:\tlearn: 0.1240157\ttotal: 20m 38s\tremaining: 15m 49s\n",
      "566:\tlearn: 0.1239471\ttotal: 20m 40s\tremaining: 15m 47s\n",
      "567:\tlearn: 0.1239190\ttotal: 20m 42s\tremaining: 15m 44s\n",
      "568:\tlearn: 0.1238857\ttotal: 20m 44s\tremaining: 15m 42s\n",
      "569:\tlearn: 0.1237962\ttotal: 20m 46s\tremaining: 15m 40s\n",
      "570:\tlearn: 0.1237528\ttotal: 20m 49s\tremaining: 15m 38s\n",
      "571:\tlearn: 0.1237267\ttotal: 20m 51s\tremaining: 15m 36s\n",
      "572:\tlearn: 0.1236537\ttotal: 20m 53s\tremaining: 15m 33s\n",
      "573:\tlearn: 0.1235910\ttotal: 20m 55s\tremaining: 15m 31s\n",
      "574:\tlearn: 0.1235140\ttotal: 20m 57s\tremaining: 15m 29s\n",
      "575:\tlearn: 0.1234874\ttotal: 20m 59s\tremaining: 15m 27s\n",
      "576:\tlearn: 0.1234534\ttotal: 21m 2s\tremaining: 15m 25s\n",
      "577:\tlearn: 0.1234176\ttotal: 21m 4s\tremaining: 15m 22s\n",
      "578:\tlearn: 0.1233586\ttotal: 21m 6s\tremaining: 15m 20s\n",
      "579:\tlearn: 0.1233319\ttotal: 21m 8s\tremaining: 15m 18s\n",
      "580:\tlearn: 0.1231987\ttotal: 21m 10s\tremaining: 15m 16s\n",
      "581:\tlearn: 0.1231281\ttotal: 21m 12s\tremaining: 15m 14s\n",
      "582:\tlearn: 0.1230821\ttotal: 21m 14s\tremaining: 15m 11s\n",
      "583:\tlearn: 0.1230139\ttotal: 21m 16s\tremaining: 15m 9s\n",
      "584:\tlearn: 0.1229727\ttotal: 21m 18s\tremaining: 15m 7s\n",
      "585:\tlearn: 0.1228736\ttotal: 21m 21s\tremaining: 15m 5s\n",
      "586:\tlearn: 0.1228303\ttotal: 21m 23s\tremaining: 15m 2s\n",
      "587:\tlearn: 0.1227495\ttotal: 21m 25s\tremaining: 15m\n",
      "588:\tlearn: 0.1227036\ttotal: 21m 27s\tremaining: 14m 58s\n",
      "589:\tlearn: 0.1226777\ttotal: 21m 29s\tremaining: 14m 56s\n",
      "590:\tlearn: 0.1226512\ttotal: 21m 31s\tremaining: 14m 53s\n",
      "591:\tlearn: 0.1225839\ttotal: 21m 33s\tremaining: 14m 51s\n",
      "592:\tlearn: 0.1225225\ttotal: 21m 36s\tremaining: 14m 49s\n",
      "593:\tlearn: 0.1224967\ttotal: 21m 38s\tremaining: 14m 47s\n",
      "594:\tlearn: 0.1224702\ttotal: 21m 40s\tremaining: 14m 45s\n",
      "595:\tlearn: 0.1224381\ttotal: 21m 42s\tremaining: 14m 43s\n",
      "596:\tlearn: 0.1223549\ttotal: 21m 45s\tremaining: 14m 41s\n",
      "597:\tlearn: 0.1222952\ttotal: 21m 47s\tremaining: 14m 38s\n",
      "598:\tlearn: 0.1222681\ttotal: 21m 49s\tremaining: 14m 36s\n",
      "599:\tlearn: 0.1221953\ttotal: 21m 51s\tremaining: 14m 34s\n",
      "600:\tlearn: 0.1221477\ttotal: 21m 53s\tremaining: 14m 32s\n",
      "601:\tlearn: 0.1221195\ttotal: 21m 56s\tremaining: 14m 30s\n",
      "602:\tlearn: 0.1220872\ttotal: 21m 58s\tremaining: 14m 27s\n",
      "603:\tlearn: 0.1220465\ttotal: 22m\tremaining: 14m 25s\n",
      "604:\tlearn: 0.1220207\ttotal: 22m 2s\tremaining: 14m 23s\n",
      "605:\tlearn: 0.1219822\ttotal: 22m 4s\tremaining: 14m 21s\n",
      "606:\tlearn: 0.1219199\ttotal: 22m 6s\tremaining: 14m 18s\n",
      "607:\tlearn: 0.1218307\ttotal: 22m 8s\tremaining: 14m 16s\n",
      "608:\tlearn: 0.1218049\ttotal: 22m 11s\tremaining: 14m 14s\n",
      "609:\tlearn: 0.1217647\ttotal: 22m 13s\tremaining: 14m 12s\n",
      "610:\tlearn: 0.1216654\ttotal: 22m 15s\tremaining: 14m 10s\n",
      "611:\tlearn: 0.1216390\ttotal: 22m 17s\tremaining: 14m 8s\n",
      "612:\tlearn: 0.1215770\ttotal: 22m 19s\tremaining: 14m 5s\n",
      "613:\tlearn: 0.1215511\ttotal: 22m 21s\tremaining: 14m 3s\n",
      "614:\tlearn: 0.1215269\ttotal: 22m 23s\tremaining: 14m 1s\n",
      "615:\tlearn: 0.1214495\ttotal: 22m 26s\tremaining: 13m 59s\n",
      "616:\tlearn: 0.1214146\ttotal: 22m 28s\tremaining: 13m 56s\n",
      "617:\tlearn: 0.1213555\ttotal: 22m 30s\tremaining: 13m 54s\n",
      "618:\tlearn: 0.1213257\ttotal: 22m 32s\tremaining: 13m 52s\n",
      "619:\tlearn: 0.1213010\ttotal: 22m 34s\tremaining: 13m 50s\n",
      "620:\tlearn: 0.1212466\ttotal: 22m 37s\tremaining: 13m 48s\n",
      "621:\tlearn: 0.1212208\ttotal: 22m 39s\tremaining: 13m 46s\n",
      "622:\tlearn: 0.1211533\ttotal: 22m 41s\tremaining: 13m 43s\n",
      "623:\tlearn: 0.1210642\ttotal: 22m 43s\tremaining: 13m 41s\n",
      "624:\tlearn: 0.1209975\ttotal: 22m 45s\tremaining: 13m 39s\n",
      "625:\tlearn: 0.1209609\ttotal: 22m 48s\tremaining: 13m 37s\n",
      "626:\tlearn: 0.1208977\ttotal: 22m 50s\tremaining: 13m 35s\n",
      "627:\tlearn: 0.1208549\ttotal: 22m 52s\tremaining: 13m 33s\n",
      "628:\tlearn: 0.1207745\ttotal: 22m 54s\tremaining: 13m 30s\n",
      "629:\tlearn: 0.1207507\ttotal: 22m 57s\tremaining: 13m 28s\n",
      "630:\tlearn: 0.1206606\ttotal: 22m 59s\tremaining: 13m 26s\n",
      "631:\tlearn: 0.1206163\ttotal: 23m 1s\tremaining: 13m 24s\n",
      "632:\tlearn: 0.1205432\ttotal: 23m 3s\tremaining: 13m 22s\n",
      "633:\tlearn: 0.1204888\ttotal: 23m 5s\tremaining: 13m 19s\n",
      "634:\tlearn: 0.1204369\ttotal: 23m 7s\tremaining: 13m 17s\n",
      "635:\tlearn: 0.1203618\ttotal: 23m 10s\tremaining: 13m 15s\n",
      "636:\tlearn: 0.1203320\ttotal: 23m 12s\tremaining: 13m 13s\n",
      "637:\tlearn: 0.1202694\ttotal: 23m 14s\tremaining: 13m 11s\n",
      "638:\tlearn: 0.1201993\ttotal: 23m 16s\tremaining: 13m 9s\n",
      "639:\tlearn: 0.1201679\ttotal: 23m 18s\tremaining: 13m 6s\n",
      "640:\tlearn: 0.1200967\ttotal: 23m 21s\tremaining: 13m 4s\n",
      "641:\tlearn: 0.1200711\ttotal: 23m 23s\tremaining: 13m 2s\n",
      "642:\tlearn: 0.1199931\ttotal: 23m 25s\tremaining: 13m\n",
      "643:\tlearn: 0.1199676\ttotal: 23m 27s\tremaining: 12m 58s\n",
      "644:\tlearn: 0.1199340\ttotal: 23m 29s\tremaining: 12m 55s\n",
      "645:\tlearn: 0.1199101\ttotal: 23m 32s\tremaining: 12m 53s\n",
      "646:\tlearn: 0.1198857\ttotal: 23m 34s\tremaining: 12m 51s\n",
      "647:\tlearn: 0.1198192\ttotal: 23m 36s\tremaining: 12m 49s\n",
      "648:\tlearn: 0.1197411\ttotal: 23m 38s\tremaining: 12m 47s\n",
      "649:\tlearn: 0.1197187\ttotal: 23m 40s\tremaining: 12m 44s\n",
      "650:\tlearn: 0.1196807\ttotal: 23m 42s\tremaining: 12m 42s\n",
      "651:\tlearn: 0.1196108\ttotal: 23m 45s\tremaining: 12m 40s\n",
      "652:\tlearn: 0.1195806\ttotal: 23m 47s\tremaining: 12m 38s\n",
      "653:\tlearn: 0.1195563\ttotal: 23m 49s\tremaining: 12m 36s\n",
      "654:\tlearn: 0.1195095\ttotal: 23m 51s\tremaining: 12m 34s\n",
      "655:\tlearn: 0.1194533\ttotal: 23m 53s\tremaining: 12m 31s\n",
      "656:\tlearn: 0.1193824\ttotal: 23m 56s\tremaining: 12m 29s\n",
      "657:\tlearn: 0.1193587\ttotal: 23m 58s\tremaining: 12m 27s\n",
      "658:\tlearn: 0.1192711\ttotal: 24m\tremaining: 12m 25s\n",
      "659:\tlearn: 0.1192041\ttotal: 24m 2s\tremaining: 12m 23s\n",
      "660:\tlearn: 0.1191321\ttotal: 24m 4s\tremaining: 12m 21s\n",
      "661:\tlearn: 0.1190368\ttotal: 24m 7s\tremaining: 12m 18s\n",
      "662:\tlearn: 0.1190107\ttotal: 24m 9s\tremaining: 12m 16s\n",
      "663:\tlearn: 0.1189698\ttotal: 24m 11s\tremaining: 12m 14s\n",
      "664:\tlearn: 0.1189374\ttotal: 24m 13s\tremaining: 12m 12s\n",
      "665:\tlearn: 0.1189154\ttotal: 24m 15s\tremaining: 12m 9s\n",
      "666:\tlearn: 0.1188552\ttotal: 24m 17s\tremaining: 12m 7s\n",
      "667:\tlearn: 0.1187969\ttotal: 24m 19s\tremaining: 12m 5s\n",
      "668:\tlearn: 0.1187447\ttotal: 24m 21s\tremaining: 12m 3s\n",
      "669:\tlearn: 0.1187189\ttotal: 24m 23s\tremaining: 12m\n",
      "670:\tlearn: 0.1186946\ttotal: 24m 25s\tremaining: 11m 58s\n",
      "671:\tlearn: 0.1186716\ttotal: 24m 27s\tremaining: 11m 56s\n",
      "672:\tlearn: 0.1186056\ttotal: 24m 29s\tremaining: 11m 54s\n",
      "673:\tlearn: 0.1185684\ttotal: 24m 32s\tremaining: 11m 51s\n",
      "674:\tlearn: 0.1185308\ttotal: 24m 34s\tremaining: 11m 49s\n",
      "675:\tlearn: 0.1185083\ttotal: 24m 36s\tremaining: 11m 47s\n",
      "676:\tlearn: 0.1184390\ttotal: 24m 38s\tremaining: 11m 45s\n",
      "677:\tlearn: 0.1184168\ttotal: 24m 40s\tremaining: 11m 43s\n",
      "678:\tlearn: 0.1183705\ttotal: 24m 42s\tremaining: 11m 40s\n",
      "679:\tlearn: 0.1183390\ttotal: 24m 44s\tremaining: 11m 38s\n",
      "680:\tlearn: 0.1182775\ttotal: 24m 46s\tremaining: 11m 36s\n",
      "681:\tlearn: 0.1181992\ttotal: 24m 49s\tremaining: 11m 34s\n",
      "682:\tlearn: 0.1181768\ttotal: 24m 51s\tremaining: 11m 32s\n",
      "683:\tlearn: 0.1181257\ttotal: 24m 53s\tremaining: 11m 29s\n",
      "684:\tlearn: 0.1180703\ttotal: 24m 55s\tremaining: 11m 27s\n",
      "685:\tlearn: 0.1180435\ttotal: 24m 57s\tremaining: 11m 25s\n",
      "686:\tlearn: 0.1179814\ttotal: 24m 59s\tremaining: 11m 23s\n",
      "687:\tlearn: 0.1179252\ttotal: 25m 1s\tremaining: 11m 21s\n",
      "688:\tlearn: 0.1178694\ttotal: 25m 3s\tremaining: 11m 18s\n",
      "689:\tlearn: 0.1178469\ttotal: 25m 6s\tremaining: 11m 16s\n",
      "690:\tlearn: 0.1178111\ttotal: 25m 8s\tremaining: 11m 14s\n",
      "691:\tlearn: 0.1177830\ttotal: 25m 10s\tremaining: 11m 12s\n",
      "692:\tlearn: 0.1177468\ttotal: 25m 12s\tremaining: 11m 9s\n",
      "693:\tlearn: 0.1176961\ttotal: 25m 14s\tremaining: 11m 7s\n",
      "694:\tlearn: 0.1176725\ttotal: 25m 16s\tremaining: 11m 5s\n",
      "695:\tlearn: 0.1176505\ttotal: 25m 18s\tremaining: 11m 3s\n",
      "696:\tlearn: 0.1175965\ttotal: 25m 20s\tremaining: 11m 1s\n",
      "697:\tlearn: 0.1175757\ttotal: 25m 22s\tremaining: 10m 58s\n",
      "698:\tlearn: 0.1175191\ttotal: 25m 25s\tremaining: 10m 56s\n",
      "699:\tlearn: 0.1174457\ttotal: 25m 27s\tremaining: 10m 54s\n",
      "700:\tlearn: 0.1174058\ttotal: 25m 29s\tremaining: 10m 52s\n",
      "701:\tlearn: 0.1173708\ttotal: 25m 31s\tremaining: 10m 50s\n",
      "702:\tlearn: 0.1172725\ttotal: 25m 34s\tremaining: 10m 48s\n",
      "703:\tlearn: 0.1171926\ttotal: 25m 36s\tremaining: 10m 46s\n",
      "704:\tlearn: 0.1171567\ttotal: 25m 38s\tremaining: 10m 43s\n",
      "705:\tlearn: 0.1171346\ttotal: 25m 40s\tremaining: 10m 41s\n",
      "706:\tlearn: 0.1170766\ttotal: 25m 42s\tremaining: 10m 39s\n",
      "707:\tlearn: 0.1170301\ttotal: 25m 45s\tremaining: 10m 37s\n",
      "708:\tlearn: 0.1169716\ttotal: 25m 47s\tremaining: 10m 35s\n",
      "709:\tlearn: 0.1169208\ttotal: 25m 49s\tremaining: 10m 32s\n",
      "710:\tlearn: 0.1168931\ttotal: 25m 51s\tremaining: 10m 30s\n",
      "711:\tlearn: 0.1168105\ttotal: 25m 54s\tremaining: 10m 28s\n",
      "712:\tlearn: 0.1167898\ttotal: 25m 56s\tremaining: 10m 26s\n",
      "713:\tlearn: 0.1167156\ttotal: 25m 58s\tremaining: 10m 24s\n",
      "714:\tlearn: 0.1166945\ttotal: 26m\tremaining: 10m 22s\n",
      "715:\tlearn: 0.1166567\ttotal: 26m 2s\tremaining: 10m 19s\n",
      "716:\tlearn: 0.1166088\ttotal: 26m 5s\tremaining: 10m 17s\n",
      "717:\tlearn: 0.1165783\ttotal: 26m 7s\tremaining: 10m 15s\n",
      "718:\tlearn: 0.1165414\ttotal: 26m 9s\tremaining: 10m 13s\n",
      "719:\tlearn: 0.1165208\ttotal: 26m 11s\tremaining: 10m 11s\n",
      "720:\tlearn: 0.1164524\ttotal: 26m 14s\tremaining: 10m 9s\n",
      "721:\tlearn: 0.1163552\ttotal: 26m 16s\tremaining: 10m 7s\n",
      "722:\tlearn: 0.1163337\ttotal: 26m 18s\tremaining: 10m 4s\n",
      "723:\tlearn: 0.1162873\ttotal: 26m 21s\tremaining: 10m 2s\n",
      "724:\tlearn: 0.1162678\ttotal: 26m 23s\tremaining: 10m\n",
      "725:\tlearn: 0.1162177\ttotal: 26m 25s\tremaining: 9m 58s\n",
      "726:\tlearn: 0.1161744\ttotal: 26m 27s\tremaining: 9m 56s\n",
      "727:\tlearn: 0.1161369\ttotal: 26m 29s\tremaining: 9m 54s\n",
      "728:\tlearn: 0.1160900\ttotal: 26m 32s\tremaining: 9m 51s\n",
      "729:\tlearn: 0.1160199\ttotal: 26m 34s\tremaining: 9m 49s\n",
      "730:\tlearn: 0.1159503\ttotal: 26m 37s\tremaining: 9m 47s\n",
      "731:\tlearn: 0.1158784\ttotal: 26m 39s\tremaining: 9m 45s\n",
      "732:\tlearn: 0.1158507\ttotal: 26m 41s\tremaining: 9m 43s\n",
      "733:\tlearn: 0.1158187\ttotal: 26m 43s\tremaining: 9m 41s\n",
      "734:\tlearn: 0.1157944\ttotal: 26m 45s\tremaining: 9m 39s\n",
      "735:\tlearn: 0.1157687\ttotal: 26m 48s\tremaining: 9m 36s\n",
      "736:\tlearn: 0.1157492\ttotal: 26m 50s\tremaining: 9m 34s\n",
      "737:\tlearn: 0.1157281\ttotal: 26m 52s\tremaining: 9m 32s\n",
      "738:\tlearn: 0.1157000\ttotal: 26m 54s\tremaining: 9m 30s\n",
      "739:\tlearn: 0.1156559\ttotal: 26m 57s\tremaining: 9m 28s\n",
      "740:\tlearn: 0.1156135\ttotal: 26m 59s\tremaining: 9m 25s\n",
      "741:\tlearn: 0.1155618\ttotal: 27m 1s\tremaining: 9m 23s\n",
      "742:\tlearn: 0.1155104\ttotal: 27m 3s\tremaining: 9m 21s\n",
      "743:\tlearn: 0.1154626\ttotal: 27m 5s\tremaining: 9m 19s\n",
      "744:\tlearn: 0.1154404\ttotal: 27m 8s\tremaining: 9m 17s\n",
      "745:\tlearn: 0.1153590\ttotal: 27m 10s\tremaining: 9m 15s\n",
      "746:\tlearn: 0.1152941\ttotal: 27m 12s\tremaining: 9m 12s\n",
      "747:\tlearn: 0.1152739\ttotal: 27m 14s\tremaining: 9m 10s\n",
      "748:\tlearn: 0.1152537\ttotal: 27m 17s\tremaining: 9m 8s\n",
      "749:\tlearn: 0.1151991\ttotal: 27m 19s\tremaining: 9m 6s\n",
      "750:\tlearn: 0.1151788\ttotal: 27m 21s\tremaining: 9m 4s\n",
      "751:\tlearn: 0.1151249\ttotal: 27m 23s\tremaining: 9m 2s\n",
      "752:\tlearn: 0.1150794\ttotal: 27m 26s\tremaining: 8m 59s\n",
      "753:\tlearn: 0.1150127\ttotal: 27m 28s\tremaining: 8m 57s\n",
      "754:\tlearn: 0.1149345\ttotal: 27m 30s\tremaining: 8m 55s\n",
      "755:\tlearn: 0.1148927\ttotal: 27m 32s\tremaining: 8m 53s\n",
      "756:\tlearn: 0.1148516\ttotal: 27m 35s\tremaining: 8m 51s\n",
      "757:\tlearn: 0.1147976\ttotal: 27m 37s\tremaining: 8m 49s\n",
      "758:\tlearn: 0.1147635\ttotal: 27m 39s\tremaining: 8m 47s\n",
      "759:\tlearn: 0.1147111\ttotal: 27m 42s\tremaining: 8m 44s\n",
      "760:\tlearn: 0.1146494\ttotal: 27m 44s\tremaining: 8m 42s\n",
      "761:\tlearn: 0.1146290\ttotal: 27m 46s\tremaining: 8m 40s\n",
      "762:\tlearn: 0.1146092\ttotal: 27m 48s\tremaining: 8m 38s\n",
      "763:\tlearn: 0.1145895\ttotal: 27m 50s\tremaining: 8m 36s\n",
      "764:\tlearn: 0.1145243\ttotal: 27m 53s\tremaining: 8m 33s\n",
      "765:\tlearn: 0.1145047\ttotal: 27m 55s\tremaining: 8m 31s\n",
      "766:\tlearn: 0.1144711\ttotal: 27m 57s\tremaining: 8m 29s\n",
      "767:\tlearn: 0.1144176\ttotal: 27m 59s\tremaining: 8m 27s\n",
      "768:\tlearn: 0.1143886\ttotal: 28m 2s\tremaining: 8m 25s\n",
      "769:\tlearn: 0.1143390\ttotal: 28m 4s\tremaining: 8m 23s\n",
      "770:\tlearn: 0.1143120\ttotal: 28m 6s\tremaining: 8m 20s\n",
      "771:\tlearn: 0.1142560\ttotal: 28m 8s\tremaining: 8m 18s\n",
      "772:\tlearn: 0.1142356\ttotal: 28m 11s\tremaining: 8m 16s\n",
      "773:\tlearn: 0.1142146\ttotal: 28m 13s\tremaining: 8m 14s\n",
      "774:\tlearn: 0.1141635\ttotal: 28m 15s\tremaining: 8m 12s\n",
      "775:\tlearn: 0.1140983\ttotal: 28m 17s\tremaining: 8m 10s\n",
      "776:\tlearn: 0.1140787\ttotal: 28m 20s\tremaining: 8m 7s\n",
      "777:\tlearn: 0.1140243\ttotal: 28m 22s\tremaining: 8m 5s\n",
      "778:\tlearn: 0.1139747\ttotal: 28m 24s\tremaining: 8m 3s\n",
      "779:\tlearn: 0.1139560\ttotal: 28m 26s\tremaining: 8m 1s\n",
      "780:\tlearn: 0.1138837\ttotal: 28m 28s\tremaining: 7m 59s\n",
      "781:\tlearn: 0.1138594\ttotal: 28m 30s\tremaining: 7m 56s\n",
      "782:\tlearn: 0.1137978\ttotal: 28m 33s\tremaining: 7m 54s\n",
      "783:\tlearn: 0.1137666\ttotal: 28m 35s\tremaining: 7m 52s\n",
      "784:\tlearn: 0.1137281\ttotal: 28m 37s\tremaining: 7m 50s\n",
      "785:\tlearn: 0.1137095\ttotal: 28m 39s\tremaining: 7m 48s\n",
      "786:\tlearn: 0.1136668\ttotal: 28m 42s\tremaining: 7m 46s\n",
      "787:\tlearn: 0.1136138\ttotal: 28m 44s\tremaining: 7m 43s\n",
      "788:\tlearn: 0.1135918\ttotal: 28m 46s\tremaining: 7m 41s\n",
      "789:\tlearn: 0.1135505\ttotal: 28m 48s\tremaining: 7m 39s\n",
      "790:\tlearn: 0.1134785\ttotal: 28m 51s\tremaining: 7m 37s\n",
      "791:\tlearn: 0.1134596\ttotal: 28m 53s\tremaining: 7m 35s\n",
      "792:\tlearn: 0.1133934\ttotal: 28m 55s\tremaining: 7m 33s\n",
      "793:\tlearn: 0.1133733\ttotal: 28m 57s\tremaining: 7m 30s\n",
      "794:\tlearn: 0.1133188\ttotal: 28m 59s\tremaining: 7m 28s\n",
      "795:\tlearn: 0.1132535\ttotal: 29m 2s\tremaining: 7m 26s\n",
      "796:\tlearn: 0.1132096\ttotal: 29m 4s\tremaining: 7m 24s\n",
      "797:\tlearn: 0.1131903\ttotal: 29m 6s\tremaining: 7m 22s\n",
      "798:\tlearn: 0.1131611\ttotal: 29m 8s\tremaining: 7m 19s\n",
      "799:\tlearn: 0.1131208\ttotal: 29m 11s\tremaining: 7m 17s\n",
      "800:\tlearn: 0.1131019\ttotal: 29m 13s\tremaining: 7m 15s\n",
      "801:\tlearn: 0.1130422\ttotal: 29m 15s\tremaining: 7m 13s\n",
      "802:\tlearn: 0.1130128\ttotal: 29m 17s\tremaining: 7m 11s\n",
      "803:\tlearn: 0.1129819\ttotal: 29m 19s\tremaining: 7m 9s\n",
      "804:\tlearn: 0.1129636\ttotal: 29m 22s\tremaining: 7m 6s\n",
      "805:\tlearn: 0.1129062\ttotal: 29m 24s\tremaining: 7m 4s\n",
      "806:\tlearn: 0.1128805\ttotal: 29m 26s\tremaining: 7m 2s\n",
      "807:\tlearn: 0.1128451\ttotal: 29m 28s\tremaining: 7m\n",
      "808:\tlearn: 0.1127950\ttotal: 29m 31s\tremaining: 6m 58s\n",
      "809:\tlearn: 0.1127455\ttotal: 29m 33s\tremaining: 6m 56s\n",
      "810:\tlearn: 0.1126912\ttotal: 29m 35s\tremaining: 6m 53s\n",
      "811:\tlearn: 0.1126698\ttotal: 29m 37s\tremaining: 6m 51s\n",
      "812:\tlearn: 0.1126162\ttotal: 29m 39s\tremaining: 6m 49s\n",
      "813:\tlearn: 0.1125858\ttotal: 29m 41s\tremaining: 6m 47s\n",
      "814:\tlearn: 0.1125675\ttotal: 29m 43s\tremaining: 6m 44s\n",
      "815:\tlearn: 0.1125254\ttotal: 29m 46s\tremaining: 6m 42s\n",
      "816:\tlearn: 0.1125050\ttotal: 29m 48s\tremaining: 6m 40s\n",
      "817:\tlearn: 0.1124567\ttotal: 29m 50s\tremaining: 6m 38s\n",
      "818:\tlearn: 0.1124360\ttotal: 29m 52s\tremaining: 6m 36s\n",
      "819:\tlearn: 0.1123923\ttotal: 29m 54s\tremaining: 6m 33s\n",
      "820:\tlearn: 0.1123563\ttotal: 29m 56s\tremaining: 6m 31s\n",
      "821:\tlearn: 0.1123079\ttotal: 29m 58s\tremaining: 6m 29s\n",
      "822:\tlearn: 0.1122557\ttotal: 30m\tremaining: 6m 27s\n",
      "823:\tlearn: 0.1122146\ttotal: 30m 2s\tremaining: 6m 25s\n",
      "824:\tlearn: 0.1121951\ttotal: 30m 5s\tremaining: 6m 22s\n",
      "825:\tlearn: 0.1121712\ttotal: 30m 7s\tremaining: 6m 20s\n",
      "826:\tlearn: 0.1121195\ttotal: 30m 9s\tremaining: 6m 18s\n",
      "827:\tlearn: 0.1120605\ttotal: 30m 11s\tremaining: 6m 16s\n",
      "828:\tlearn: 0.1119993\ttotal: 30m 13s\tremaining: 6m 14s\n",
      "829:\tlearn: 0.1119429\ttotal: 30m 15s\tremaining: 6m 11s\n",
      "830:\tlearn: 0.1119238\ttotal: 30m 17s\tremaining: 6m 9s\n",
      "831:\tlearn: 0.1119048\ttotal: 30m 19s\tremaining: 6m 7s\n",
      "832:\tlearn: 0.1118344\ttotal: 30m 22s\tremaining: 6m 5s\n",
      "833:\tlearn: 0.1118118\ttotal: 30m 24s\tremaining: 6m 3s\n",
      "834:\tlearn: 0.1117861\ttotal: 30m 26s\tremaining: 6m\n",
      "835:\tlearn: 0.1117669\ttotal: 30m 28s\tremaining: 5m 58s\n",
      "836:\tlearn: 0.1117415\ttotal: 30m 30s\tremaining: 5m 56s\n",
      "837:\tlearn: 0.1117219\ttotal: 30m 32s\tremaining: 5m 54s\n",
      "838:\tlearn: 0.1117022\ttotal: 30m 35s\tremaining: 5m 52s\n",
      "839:\tlearn: 0.1116467\ttotal: 30m 37s\tremaining: 5m 49s\n",
      "840:\tlearn: 0.1116289\ttotal: 30m 39s\tremaining: 5m 47s\n",
      "841:\tlearn: 0.1115807\ttotal: 30m 41s\tremaining: 5m 45s\n",
      "842:\tlearn: 0.1115464\ttotal: 30m 43s\tremaining: 5m 43s\n",
      "843:\tlearn: 0.1114734\ttotal: 30m 46s\tremaining: 5m 41s\n",
      "844:\tlearn: 0.1114493\ttotal: 30m 48s\tremaining: 5m 39s\n",
      "845:\tlearn: 0.1113939\ttotal: 30m 50s\tremaining: 5m 36s\n",
      "846:\tlearn: 0.1113749\ttotal: 30m 52s\tremaining: 5m 34s\n",
      "847:\tlearn: 0.1113362\ttotal: 30m 55s\tremaining: 5m 32s\n",
      "848:\tlearn: 0.1112924\ttotal: 30m 57s\tremaining: 5m 30s\n",
      "849:\tlearn: 0.1112576\ttotal: 30m 59s\tremaining: 5m 28s\n",
      "850:\tlearn: 0.1112033\ttotal: 31m 2s\tremaining: 5m 26s\n",
      "851:\tlearn: 0.1111698\ttotal: 31m 4s\tremaining: 5m 23s\n",
      "852:\tlearn: 0.1111359\ttotal: 31m 6s\tremaining: 5m 21s\n",
      "853:\tlearn: 0.1110404\ttotal: 31m 9s\tremaining: 5m 19s\n",
      "854:\tlearn: 0.1110156\ttotal: 31m 11s\tremaining: 5m 17s\n",
      "855:\tlearn: 0.1109486\ttotal: 31m 13s\tremaining: 5m 15s\n",
      "856:\tlearn: 0.1109248\ttotal: 31m 16s\tremaining: 5m 13s\n",
      "857:\tlearn: 0.1108495\ttotal: 31m 18s\tremaining: 5m 10s\n",
      "858:\tlearn: 0.1107903\ttotal: 31m 20s\tremaining: 5m 8s\n",
      "859:\tlearn: 0.1107714\ttotal: 31m 22s\tremaining: 5m 6s\n",
      "860:\tlearn: 0.1106853\ttotal: 31m 24s\tremaining: 5m 4s\n",
      "861:\tlearn: 0.1106535\ttotal: 31m 27s\tremaining: 5m 2s\n",
      "862:\tlearn: 0.1106077\ttotal: 31m 29s\tremaining: 4m 59s\n",
      "863:\tlearn: 0.1105529\ttotal: 31m 31s\tremaining: 4m 57s\n",
      "864:\tlearn: 0.1105144\ttotal: 31m 34s\tremaining: 4m 55s\n",
      "865:\tlearn: 0.1104966\ttotal: 31m 36s\tremaining: 4m 53s\n",
      "866:\tlearn: 0.1104457\ttotal: 31m 38s\tremaining: 4m 51s\n",
      "867:\tlearn: 0.1104192\ttotal: 31m 41s\tremaining: 4m 49s\n",
      "868:\tlearn: 0.1103926\ttotal: 31m 43s\tremaining: 4m 46s\n",
      "869:\tlearn: 0.1103745\ttotal: 31m 45s\tremaining: 4m 44s\n",
      "870:\tlearn: 0.1103576\ttotal: 31m 47s\tremaining: 4m 42s\n",
      "871:\tlearn: 0.1102812\ttotal: 31m 50s\tremaining: 4m 40s\n",
      "872:\tlearn: 0.1102244\ttotal: 31m 52s\tremaining: 4m 38s\n",
      "873:\tlearn: 0.1101827\ttotal: 31m 54s\tremaining: 4m 36s\n",
      "874:\tlearn: 0.1101643\ttotal: 31m 56s\tremaining: 4m 33s\n",
      "875:\tlearn: 0.1101348\ttotal: 31m 59s\tremaining: 4m 31s\n",
      "876:\tlearn: 0.1100727\ttotal: 32m 1s\tremaining: 4m 29s\n",
      "877:\tlearn: 0.1100385\ttotal: 32m 3s\tremaining: 4m 27s\n",
      "878:\tlearn: 0.1100213\ttotal: 32m 6s\tremaining: 4m 25s\n",
      "879:\tlearn: 0.1099435\ttotal: 32m 8s\tremaining: 4m 22s\n",
      "880:\tlearn: 0.1099258\ttotal: 32m 10s\tremaining: 4m 20s\n",
      "881:\tlearn: 0.1098907\ttotal: 32m 13s\tremaining: 4m 18s\n",
      "882:\tlearn: 0.1098672\ttotal: 32m 15s\tremaining: 4m 16s\n",
      "883:\tlearn: 0.1098061\ttotal: 32m 17s\tremaining: 4m 14s\n",
      "884:\tlearn: 0.1097797\ttotal: 32m 19s\tremaining: 4m 12s\n",
      "885:\tlearn: 0.1097366\ttotal: 32m 21s\tremaining: 4m 9s\n",
      "886:\tlearn: 0.1096758\ttotal: 32m 24s\tremaining: 4m 7s\n",
      "887:\tlearn: 0.1096484\ttotal: 32m 26s\tremaining: 4m 5s\n",
      "888:\tlearn: 0.1096132\ttotal: 32m 28s\tremaining: 4m 3s\n",
      "889:\tlearn: 0.1095908\ttotal: 32m 30s\tremaining: 4m 1s\n",
      "890:\tlearn: 0.1095137\ttotal: 32m 33s\tremaining: 3m 58s\n",
      "891:\tlearn: 0.1094915\ttotal: 32m 35s\tremaining: 3m 56s\n",
      "892:\tlearn: 0.1094170\ttotal: 32m 37s\tremaining: 3m 54s\n",
      "893:\tlearn: 0.1093753\ttotal: 32m 40s\tremaining: 3m 52s\n",
      "894:\tlearn: 0.1093243\ttotal: 32m 42s\tremaining: 3m 50s\n",
      "895:\tlearn: 0.1092886\ttotal: 32m 44s\tremaining: 3m 48s\n",
      "896:\tlearn: 0.1092621\ttotal: 32m 47s\tremaining: 3m 45s\n",
      "897:\tlearn: 0.1092199\ttotal: 32m 49s\tremaining: 3m 43s\n",
      "898:\tlearn: 0.1091645\ttotal: 32m 51s\tremaining: 3m 41s\n",
      "899:\tlearn: 0.1091390\ttotal: 32m 53s\tremaining: 3m 39s\n",
      "900:\tlearn: 0.1090945\ttotal: 32m 56s\tremaining: 3m 37s\n",
      "901:\tlearn: 0.1090520\ttotal: 32m 58s\tremaining: 3m 34s\n",
      "902:\tlearn: 0.1090353\ttotal: 33m\tremaining: 3m 32s\n",
      "903:\tlearn: 0.1090172\ttotal: 33m 3s\tremaining: 3m 30s\n",
      "904:\tlearn: 0.1089677\ttotal: 33m 5s\tremaining: 3m 28s\n",
      "905:\tlearn: 0.1089201\ttotal: 33m 7s\tremaining: 3m 26s\n",
      "906:\tlearn: 0.1088749\ttotal: 33m 10s\tremaining: 3m 24s\n",
      "907:\tlearn: 0.1088332\ttotal: 33m 12s\tremaining: 3m 21s\n",
      "908:\tlearn: 0.1088158\ttotal: 33m 14s\tremaining: 3m 19s\n",
      "909:\tlearn: 0.1087533\ttotal: 33m 17s\tremaining: 3m 17s\n",
      "910:\tlearn: 0.1087040\ttotal: 33m 19s\tremaining: 3m 15s\n",
      "911:\tlearn: 0.1086793\ttotal: 33m 21s\tremaining: 3m 13s\n",
      "912:\tlearn: 0.1086218\ttotal: 33m 24s\tremaining: 3m 10s\n",
      "913:\tlearn: 0.1085959\ttotal: 33m 26s\tremaining: 3m 8s\n",
      "914:\tlearn: 0.1085732\ttotal: 33m 28s\tremaining: 3m 6s\n",
      "915:\tlearn: 0.1085559\ttotal: 33m 31s\tremaining: 3m 4s\n",
      "916:\tlearn: 0.1084965\ttotal: 33m 33s\tremaining: 3m 2s\n",
      "917:\tlearn: 0.1084745\ttotal: 33m 35s\tremaining: 3m\n",
      "918:\tlearn: 0.1084450\ttotal: 33m 38s\tremaining: 2m 57s\n",
      "919:\tlearn: 0.1084290\ttotal: 33m 40s\tremaining: 2m 55s\n",
      "920:\tlearn: 0.1083867\ttotal: 33m 42s\tremaining: 2m 53s\n",
      "921:\tlearn: 0.1083382\ttotal: 33m 45s\tremaining: 2m 51s\n",
      "922:\tlearn: 0.1083220\ttotal: 33m 47s\tremaining: 2m 49s\n",
      "923:\tlearn: 0.1082751\ttotal: 33m 49s\tremaining: 2m 46s\n",
      "924:\tlearn: 0.1082499\ttotal: 33m 51s\tremaining: 2m 44s\n",
      "925:\tlearn: 0.1081896\ttotal: 33m 54s\tremaining: 2m 42s\n",
      "926:\tlearn: 0.1081727\ttotal: 33m 56s\tremaining: 2m 40s\n",
      "927:\tlearn: 0.1081258\ttotal: 33m 58s\tremaining: 2m 38s\n",
      "928:\tlearn: 0.1080861\ttotal: 34m 1s\tremaining: 2m 35s\n",
      "929:\tlearn: 0.1080647\ttotal: 34m 3s\tremaining: 2m 33s\n",
      "930:\tlearn: 0.1080315\ttotal: 34m 5s\tremaining: 2m 31s\n",
      "931:\tlearn: 0.1080145\ttotal: 34m 7s\tremaining: 2m 29s\n",
      "932:\tlearn: 0.1079661\ttotal: 34m 10s\tremaining: 2m 27s\n",
      "933:\tlearn: 0.1079497\ttotal: 34m 12s\tremaining: 2m 25s\n",
      "934:\tlearn: 0.1078885\ttotal: 34m 14s\tremaining: 2m 22s\n",
      "935:\tlearn: 0.1078715\ttotal: 34m 16s\tremaining: 2m 20s\n",
      "936:\tlearn: 0.1078546\ttotal: 34m 19s\tremaining: 2m 18s\n",
      "937:\tlearn: 0.1078336\ttotal: 34m 21s\tremaining: 2m 16s\n",
      "938:\tlearn: 0.1077957\ttotal: 34m 23s\tremaining: 2m 14s\n",
      "939:\tlearn: 0.1077340\ttotal: 34m 26s\tremaining: 2m 11s\n",
      "940:\tlearn: 0.1076703\ttotal: 34m 28s\tremaining: 2m 9s\n",
      "941:\tlearn: 0.1076528\ttotal: 34m 30s\tremaining: 2m 7s\n",
      "942:\tlearn: 0.1076069\ttotal: 34m 33s\tremaining: 2m 5s\n",
      "943:\tlearn: 0.1075648\ttotal: 34m 35s\tremaining: 2m 3s\n",
      "944:\tlearn: 0.1075182\ttotal: 34m 38s\tremaining: 2m\n",
      "945:\tlearn: 0.1074483\ttotal: 34m 40s\tremaining: 1m 58s\n",
      "946:\tlearn: 0.1074232\ttotal: 34m 43s\tremaining: 1m 56s\n",
      "947:\tlearn: 0.1074062\ttotal: 34m 45s\tremaining: 1m 54s\n",
      "948:\tlearn: 0.1073896\ttotal: 34m 47s\tremaining: 1m 52s\n",
      "949:\tlearn: 0.1073444\ttotal: 34m 50s\tremaining: 1m 50s\n",
      "950:\tlearn: 0.1073146\ttotal: 34m 52s\tremaining: 1m 47s\n",
      "951:\tlearn: 0.1072747\ttotal: 34m 55s\tremaining: 1m 45s\n",
      "952:\tlearn: 0.1072433\ttotal: 34m 57s\tremaining: 1m 43s\n",
      "953:\tlearn: 0.1072059\ttotal: 35m\tremaining: 1m 41s\n",
      "954:\tlearn: 0.1071908\ttotal: 35m 2s\tremaining: 1m 39s\n",
      "955:\tlearn: 0.1071630\ttotal: 35m 4s\tremaining: 1m 36s\n",
      "956:\tlearn: 0.1071482\ttotal: 35m 6s\tremaining: 1m 34s\n",
      "957:\tlearn: 0.1071177\ttotal: 35m 9s\tremaining: 1m 32s\n",
      "958:\tlearn: 0.1070693\ttotal: 35m 11s\tremaining: 1m 30s\n",
      "959:\tlearn: 0.1070474\ttotal: 35m 14s\tremaining: 1m 28s\n",
      "960:\tlearn: 0.1070327\ttotal: 35m 16s\tremaining: 1m 25s\n",
      "961:\tlearn: 0.1069978\ttotal: 35m 18s\tremaining: 1m 23s\n",
      "962:\tlearn: 0.1069811\ttotal: 35m 21s\tremaining: 1m 21s\n",
      "963:\tlearn: 0.1069660\ttotal: 35m 23s\tremaining: 1m 19s\n",
      "964:\tlearn: 0.1069441\ttotal: 35m 25s\tremaining: 1m 17s\n",
      "965:\tlearn: 0.1068985\ttotal: 35m 28s\tremaining: 1m 14s\n",
      "966:\tlearn: 0.1068595\ttotal: 35m 30s\tremaining: 1m 12s\n",
      "967:\tlearn: 0.1068453\ttotal: 35m 33s\tremaining: 1m 10s\n",
      "968:\tlearn: 0.1067854\ttotal: 35m 35s\tremaining: 1m 8s\n",
      "969:\tlearn: 0.1067710\ttotal: 35m 37s\tremaining: 1m 6s\n",
      "970:\tlearn: 0.1067072\ttotal: 35m 40s\tremaining: 1m 3s\n",
      "971:\tlearn: 0.1066644\ttotal: 35m 42s\tremaining: 1m 1s\n",
      "972:\tlearn: 0.1066240\ttotal: 35m 45s\tremaining: 59.5s\n",
      "973:\tlearn: 0.1066000\ttotal: 35m 47s\tremaining: 57.3s\n",
      "974:\tlearn: 0.1065590\ttotal: 35m 50s\tremaining: 55.1s\n",
      "975:\tlearn: 0.1065304\ttotal: 35m 52s\tremaining: 52.9s\n",
      "976:\tlearn: 0.1064898\ttotal: 35m 54s\tremaining: 50.7s\n",
      "977:\tlearn: 0.1064754\ttotal: 35m 57s\tremaining: 48.5s\n",
      "978:\tlearn: 0.1064326\ttotal: 35m 59s\tremaining: 46.3s\n",
      "979:\tlearn: 0.1064035\ttotal: 36m 1s\tremaining: 44.1s\n",
      "980:\tlearn: 0.1063532\ttotal: 36m 4s\tremaining: 41.9s\n",
      "981:\tlearn: 0.1063374\ttotal: 36m 6s\tremaining: 39.7s\n",
      "982:\tlearn: 0.1062669\ttotal: 36m 9s\tremaining: 37.5s\n",
      "983:\tlearn: 0.1062517\ttotal: 36m 11s\tremaining: 35.3s\n",
      "984:\tlearn: 0.1062089\ttotal: 36m 13s\tremaining: 33.1s\n",
      "985:\tlearn: 0.1061545\ttotal: 36m 16s\tremaining: 30.9s\n",
      "986:\tlearn: 0.1061320\ttotal: 36m 18s\tremaining: 28.7s\n",
      "987:\tlearn: 0.1060762\ttotal: 36m 21s\tremaining: 26.5s\n",
      "988:\tlearn: 0.1060625\ttotal: 36m 23s\tremaining: 24.3s\n",
      "989:\tlearn: 0.1060303\ttotal: 36m 25s\tremaining: 22.1s\n",
      "990:\tlearn: 0.1059716\ttotal: 36m 28s\tremaining: 19.9s\n",
      "991:\tlearn: 0.1059304\ttotal: 36m 30s\tremaining: 17.7s\n",
      "992:\tlearn: 0.1058612\ttotal: 36m 32s\tremaining: 15.5s\n",
      "993:\tlearn: 0.1058411\ttotal: 36m 35s\tremaining: 13.3s\n",
      "994:\tlearn: 0.1057931\ttotal: 36m 37s\tremaining: 11s\n",
      "995:\tlearn: 0.1057428\ttotal: 36m 40s\tremaining: 8.84s\n",
      "996:\tlearn: 0.1057273\ttotal: 36m 42s\tremaining: 6.63s\n",
      "997:\tlearn: 0.1057130\ttotal: 36m 44s\tremaining: 4.42s\n",
      "998:\tlearn: 0.1056733\ttotal: 36m 47s\tremaining: 2.21s\n",
      "999:\tlearn: 0.1056406\ttotal: 36m 49s\tremaining: 0us\n",
      "Метрика f1 для CatBoostClassifier - 0.75\n",
      "Время обучения и предсказания CatBoostClassifier 2236.60568857193\n"
     ]
    }
   ],
   "source": [
    "start = time.time()\n",
    "LR = LogisticRegression()\n",
    "\n",
    "LR.fit(tf_idf_train, y_train) \n",
    "\n",
    "pred_LR = LR.predict(tf_idf_val)\n",
    "\n",
    "f1_LR = f1_score(y_val, pred_LR) \n",
    "print('Метрика f1 для LogisticRegression -', f1_LR.round(2))\n",
    "end = time.time()\n",
    "total_time = end - start\n",
    "print('Время обучения и предсказания LogisticRegression', total_time)\n",
    "print(line)\n",
    "\n",
    "start = time.time()\n",
    "RFC = RandomForestClassifier()\n",
    "\n",
    "RFC.fit(tf_idf_train, y_train) \n",
    "\n",
    "pred_RFC = RFC.predict(tf_idf_val)\n",
    "\n",
    "f1_RFC = f1_score(y_val, pred_RFC) \n",
    "print('Метрика f1 для RandomForestClassifier -', f1_RFC.round(2))\n",
    "end = time.time()\n",
    "total_time = end - start\n",
    "print('Время обучения и предсказания RandomForestClassifier', total_time)\n",
    "print(line)\n",
    "\n",
    "start = time.time()\n",
    "DTCL = DecisionTreeClassifier()\n",
    "\n",
    "DTCL.fit(tf_idf_train, y_train) \n",
    "\n",
    "pred_DTCL = DTCL.predict(tf_idf_val)\n",
    "\n",
    "f1_DTCL = f1_score(y_val, pred_DTCL) \n",
    "print('Метрика f1 для RandomForestClassifier -', f1_DTCL.round(2))\n",
    "end = time.time()\n",
    "total_time = end - start\n",
    "print('Время обучения и предсказания DecisionTreeClassifier', total_time)\n",
    "print(line)\n",
    "\n",
    "start = time.time()\n",
    "LGBMCl = LGBMClassifier()\n",
    "\n",
    "LGBMCl.fit(tf_idf_train, y_train) \n",
    "\n",
    "pred_LGBMCl = LGBMCl.predict(tf_idf_val)\n",
    "\n",
    "f1_LGBMCl = f1_score(y_val, pred_LGBMCl) \n",
    "print('Метрика f1 для LGBMClassifier -', f1_LGBMCl.round(2))\n",
    "end = time.time()\n",
    "total_time = end - start\n",
    "print('Время обучения и предсказания LGBMClassifier', total_time)\n",
    "print(line)\n",
    "\n",
    "start = time.time()\n",
    "CBCL = CatBoostClassifier()\n",
    "\n",
    "CBCL.fit(tf_idf_train, y_train) \n",
    "\n",
    "pred_CBCL = CBCL.predict(tf_idf_val)\n",
    "\n",
    "f1_CBCL = f1_score(y_val, pred_CBCL) \n",
    "print('Метрика f1 для CatBoostClassifier -', f1_CBCL.round(2))\n",
    "end = time.time()\n",
    "total_time = end - start\n",
    "print('Время обучения и предсказания CatBoostClassifier', total_time)"
   ]
  },
  {
   "cell_type": "markdown",
   "id": "0cd5231b-dadf-4565-9326-8c89f3ba3174",
   "metadata": {},
   "source": [
    "Лучше всего стправились 2 модели CatBoostClassifier и LGBMClassifier. LGBMClassifier обучилась намного быстрее, но у CatBoostClassifier больше метрика."
   ]
  },
  {
   "cell_type": "markdown",
   "id": "df5ccda0-e0e9-44ce-8185-da1409a7a45b",
   "metadata": {},
   "source": [
    "Проверю как эти модели справились со своей задачей."
   ]
  },
  {
   "cell_type": "code",
   "execution_count": 18,
   "id": "27649423-9666-4f72-aea1-95630ecc4897",
   "metadata": {},
   "outputs": [
    {
     "data": {
      "image/png": "[encoded data removed]",
      "text/plain": [
       "<Figure size 504x288 with 1 Axes>"
      ]
     },
     "metadata": {},
     "output_type": "display_data"
    },
    {
     "name": "stdout",
     "output_type": "stream",
     "text": [
      "------------------------------------------------------------------------------------------------------------------------------------\n"
     ]
    },
    {
     "data": {
      "image/png": "[encoded data removed]",
      "text/plain": [
       "<Figure size 504x288 with 1 Axes>"
      ]
     },
     "metadata": {},
     "output_type": "display_data"
    }
   ],
   "source": [
    "graph_analis(y_val,pred_CBCL)\n",
    "print(line)\n",
    "graph_analis(y_val,pred_LGBMCl)"
   ]
  },
  {
   "cell_type": "markdown",
   "id": "ddf68a2d-e2b2-437c-b756-5df5a3b9ea91",
   "metadata": {},
   "source": [
    "Графики смотрятся одинаково."
   ]
  },
  {
   "cell_type": "markdown",
   "id": "b77c1dce",
   "metadata": {},
   "source": [
    "Протестирую CatBoostClassifier на тестовой выборке."
   ]
  },
  {
   "cell_type": "code",
   "execution_count": 19,
   "id": "41e914eb",
   "metadata": {},
   "outputs": [
    {
     "name": "stdout",
     "output_type": "stream",
     "text": [
      "Метрика f1 для CatBoostClassifier - 0.75\n"
     ]
    }
   ],
   "source": [
    "pred_CBCL = CBCL.predict(tf_idf_test)\n",
    "\n",
    "f1_CBCL = f1_score(y_test, pred_CBCL) \n",
    "print('Метрика f1 для CatBoostClassifier -', f1_CBCL.round(2))"
   ]
  },
  {
   "cell_type": "markdown",
   "id": "ea2c94e6",
   "metadata": {},
   "source": [
    "Метрика получилась как и при тестировании на валидации."
   ]
  },
  {
   "cell_type": "markdown",
   "id": "96d1a3e0-6dc0-42df-9fb1-863e42771779",
   "metadata": {},
   "source": [
    "## <b>Общий вывод</b>"
   ]
  },
  {
   "cell_type": "markdown",
   "id": "f402a712-a767-4b9c-a18e-6ce6927bfe16",
   "metadata": {},
   "source": [
    "Желательно увеличить выборку токсичных коментариев для достижения более лучшего результата.\n",
    "<br>В процессе текст был очищен и лематизирован с помощью WordNetLemmatizer а так-же трансформирован с помощью TF-IDF. \n",
    "<br>Таблица была разделена на 3 части:\n",
    "<br>train - 79646 строк.\n",
    "<br>valid и test по 39823 строк.\n",
    "<br>Были обучены и протестированы (на валидации) 5 моделей - LogisticRegression, RandomForestClassifier,DecisionTreeClassifier, LGBMClassifier и CatBoostClassifier. Лучшей моделью с метрике f1 оказалась CatBoostClassifier с показателем 0.75 такой-же показатель модель показала и на тестовой выборке"
   ]
  }
 ],
 "metadata": {
  "ExecuteTimeLog": [
   {
    "duration": 2420,
    "start_time": "2025-05-25T16:33:20.226Z"
   },
   {
    "duration": 6,
    "start_time": "2025-05-25T16:33:22.648Z"
   },
   {
    "duration": 174,
    "start_time": "2025-05-25T16:33:24.366Z"
   },
   {
    "duration": 9,
    "start_time": "2025-05-25T16:33:24.615Z"
   },
   {
    "duration": 10,
    "start_time": "2025-05-25T16:33:24.863Z"
   },
   {
    "duration": 892,
    "start_time": "2025-05-25T16:33:55.424Z"
   },
   {
    "duration": 10,
    "start_time": "2025-05-25T16:33:56.318Z"
   },
   {
    "duration": 294,
    "start_time": "2025-05-25T16:33:56.550Z"
   },
   {
    "duration": 4,
    "start_time": "2025-05-25T16:33:58.726Z"
   },
   {
    "duration": 8,
    "start_time": "2025-05-25T16:33:58.914Z"
   },
   {
    "duration": 103,
    "start_time": "2025-05-25T16:33:59.155Z"
   },
   {
    "duration": 30,
    "start_time": "2025-05-25T16:34:11.163Z"
   },
   {
    "duration": 1795,
    "start_time": "2025-05-25T16:34:30.435Z"
   },
   {
    "duration": 11,
    "start_time": "2025-05-25T16:34:51.398Z"
   },
   {
    "duration": 1202828,
    "start_time": "2025-05-25T16:34:59.615Z"
   },
   {
    "duration": 71,
    "start_time": "2025-05-25T16:55:15.858Z"
   },
   {
    "duration": 8,
    "start_time": "2025-05-25T16:55:28.431Z"
   },
   {
    "duration": 54,
    "start_time": "2025-05-25T16:56:04.163Z"
   },
   {
    "duration": 62,
    "start_time": "2025-05-25T16:56:08.015Z"
   },
   {
    "duration": 56,
    "start_time": "2025-05-25T16:56:16.799Z"
   },
   {
    "duration": 5,
    "start_time": "2025-05-25T16:56:59.974Z"
   },
   {
    "duration": 54,
    "start_time": "2025-05-25T16:57:05.256Z"
   },
   {
    "duration": 8,
    "start_time": "2025-05-25T16:57:05.920Z"
   },
   {
    "duration": 34,
    "start_time": "2025-05-25T16:57:10.085Z"
   },
   {
    "duration": 92,
    "start_time": "2025-05-25T16:57:11.307Z"
   },
   {
    "duration": 49,
    "start_time": "2025-05-25T16:58:16.500Z"
   },
   {
    "duration": 9,
    "start_time": "2025-05-25T16:58:19.411Z"
   },
   {
    "duration": 2091,
    "start_time": "2025-05-25T16:59:09.693Z"
   },
   {
    "duration": 2079,
    "start_time": "2025-05-25T17:02:05.440Z"
   },
   {
    "duration": 6,
    "start_time": "2025-05-25T17:02:07.521Z"
   },
   {
    "duration": 932,
    "start_time": "2025-05-25T17:02:07.529Z"
   },
   {
    "duration": 11,
    "start_time": "2025-05-25T17:02:08.462Z"
   },
   {
    "duration": 339,
    "start_time": "2025-05-25T17:02:08.475Z"
   },
   {
    "duration": 3,
    "start_time": "2025-05-25T17:02:08.816Z"
   },
   {
    "duration": 81,
    "start_time": "2025-05-25T17:02:08.821Z"
   },
   {
    "duration": 97,
    "start_time": "2025-05-25T17:02:08.904Z"
   },
   {
    "duration": 4,
    "start_time": "2025-05-25T17:02:09.003Z"
   },
   {
    "duration": 167,
    "start_time": "2025-05-25T17:02:09.008Z"
   },
   {
    "duration": 0,
    "start_time": "2025-05-25T17:02:09.177Z"
   },
   {
    "duration": 0,
    "start_time": "2025-05-25T17:02:09.178Z"
   },
   {
    "duration": 0,
    "start_time": "2025-05-25T17:02:09.179Z"
   },
   {
    "duration": 0,
    "start_time": "2025-05-25T17:02:09.180Z"
   },
   {
    "duration": 0,
    "start_time": "2025-05-25T17:02:09.181Z"
   },
   {
    "duration": 0,
    "start_time": "2025-05-25T17:02:09.183Z"
   },
   {
    "duration": 0,
    "start_time": "2025-05-25T17:02:09.184Z"
   },
   {
    "duration": 0,
    "start_time": "2025-05-25T17:02:09.185Z"
   },
   {
    "duration": 77,
    "start_time": "2025-05-25T17:02:37.283Z"
   },
   {
    "duration": 76,
    "start_time": "2025-05-25T17:03:24.904Z"
   },
   {
    "duration": 2053,
    "start_time": "2025-05-25T17:36:56.158Z"
   },
   {
    "duration": 6,
    "start_time": "2025-05-25T17:36:58.213Z"
   },
   {
    "duration": 939,
    "start_time": "2025-05-25T17:36:58.221Z"
   },
   {
    "duration": 14,
    "start_time": "2025-05-25T17:36:59.163Z"
   },
   {
    "duration": 321,
    "start_time": "2025-05-25T17:36:59.179Z"
   },
   {
    "duration": 4,
    "start_time": "2025-05-25T17:36:59.501Z"
   },
   {
    "duration": 10,
    "start_time": "2025-05-25T17:36:59.507Z"
   },
   {
    "duration": 117,
    "start_time": "2025-05-25T17:36:59.519Z"
   },
   {
    "duration": 4,
    "start_time": "2025-05-25T17:36:59.638Z"
   },
   {
    "duration": 92,
    "start_time": "2025-05-25T17:36:59.644Z"
   },
   {
    "duration": 0,
    "start_time": "2025-05-25T17:36:59.739Z"
   },
   {
    "duration": 0,
    "start_time": "2025-05-25T17:36:59.739Z"
   },
   {
    "duration": 0,
    "start_time": "2025-05-25T17:36:59.741Z"
   },
   {
    "duration": 0,
    "start_time": "2025-05-25T17:36:59.742Z"
   },
   {
    "duration": 0,
    "start_time": "2025-05-25T17:36:59.743Z"
   },
   {
    "duration": 0,
    "start_time": "2025-05-25T17:36:59.744Z"
   },
   {
    "duration": 0,
    "start_time": "2025-05-25T17:36:59.745Z"
   },
   {
    "duration": 0,
    "start_time": "2025-05-25T17:36:59.746Z"
   },
   {
    "duration": 267,
    "start_time": "2025-05-25T17:37:10.762Z"
   },
   {
    "duration": 142,
    "start_time": "2025-05-25T17:37:16.832Z"
   },
   {
    "duration": 92,
    "start_time": "2025-05-25T17:37:40.167Z"
   },
   {
    "duration": 1207488,
    "start_time": "2025-05-25T17:38:14.087Z"
   },
   {
    "duration": 45,
    "start_time": "2025-05-25T17:58:28.078Z"
   },
   {
    "duration": 8,
    "start_time": "2025-05-25T17:58:29.091Z"
   },
   {
    "duration": 34,
    "start_time": "2025-05-25T17:58:33.696Z"
   },
   {
    "duration": 98,
    "start_time": "2025-05-25T17:58:35.324Z"
   },
   {
    "duration": 236,
    "start_time": "2025-05-25T17:58:39.661Z"
   },
   {
    "duration": 14,
    "start_time": "2025-05-25T17:58:44.456Z"
   },
   {
    "duration": 11,
    "start_time": "2025-05-25T17:59:03.548Z"
   },
   {
    "duration": 4,
    "start_time": "2025-05-25T17:59:23.872Z"
   },
   {
    "duration": 7,
    "start_time": "2025-05-25T17:59:29.512Z"
   },
   {
    "duration": 9,
    "start_time": "2025-05-25T18:00:00.643Z"
   },
   {
    "duration": 21,
    "start_time": "2025-05-25T18:00:11.274Z"
   },
   {
    "duration": 1199,
    "start_time": "2025-05-25T18:02:28.303Z"
   },
   {
    "duration": 11019,
    "start_time": "2025-05-25T18:02:47.004Z"
   },
   {
    "duration": 55,
    "start_time": "2025-05-25T18:14:00.898Z"
   },
   {
    "duration": 2065,
    "start_time": "2025-05-25T18:14:09.918Z"
   },
   {
    "duration": 7,
    "start_time": "2025-05-25T18:14:11.986Z"
   },
   {
    "duration": 1008,
    "start_time": "2025-05-25T18:14:11.994Z"
   },
   {
    "duration": 11,
    "start_time": "2025-05-25T18:14:13.003Z"
   },
   {
    "duration": 310,
    "start_time": "2025-05-25T18:14:13.016Z"
   },
   {
    "duration": 4,
    "start_time": "2025-05-25T18:14:13.327Z"
   },
   {
    "duration": 18,
    "start_time": "2025-05-25T18:14:13.332Z"
   },
   {
    "duration": 122,
    "start_time": "2025-05-25T18:14:13.358Z"
   },
   {
    "duration": 4,
    "start_time": "2025-05-25T18:14:13.482Z"
   },
   {
    "duration": 1183974,
    "start_time": "2025-05-25T18:14:13.488Z"
   },
   {
    "duration": 44,
    "start_time": "2025-05-25T18:33:57.463Z"
   },
   {
    "duration": 8,
    "start_time": "2025-05-25T18:33:57.508Z"
   },
   {
    "duration": 54,
    "start_time": "2025-05-25T18:33:57.517Z"
   },
   {
    "duration": 99,
    "start_time": "2025-05-25T18:33:57.573Z"
   },
   {
    "duration": 239,
    "start_time": "2025-05-25T18:33:57.673Z"
   },
   {
    "duration": 11104,
    "start_time": "2025-05-25T18:33:57.913Z"
   },
   {
    "duration": 56,
    "start_time": "2025-05-27T16:10:08.815Z"
   },
   {
    "duration": 3097,
    "start_time": "2025-05-27T16:10:13.334Z"
   },
   {
    "duration": 7,
    "start_time": "2025-05-27T16:10:16.434Z"
   },
   {
    "duration": 993,
    "start_time": "2025-05-27T16:10:16.443Z"
   },
   {
    "duration": 14,
    "start_time": "2025-05-27T16:10:17.437Z"
   },
   {
    "duration": 329,
    "start_time": "2025-05-27T16:10:17.453Z"
   },
   {
    "duration": 4,
    "start_time": "2025-05-27T16:10:17.784Z"
   },
   {
    "duration": 12,
    "start_time": "2025-05-27T16:10:17.789Z"
   },
   {
    "duration": 127,
    "start_time": "2025-05-27T16:10:17.803Z"
   },
   {
    "duration": 6,
    "start_time": "2025-05-27T16:10:17.932Z"
   },
   {
    "duration": 5,
    "start_time": "2025-05-27T16:10:17.939Z"
   },
   {
    "duration": 1350511,
    "start_time": "2025-05-27T16:10:17.946Z"
   },
   {
    "duration": 55,
    "start_time": "2025-05-27T16:32:48.472Z"
   },
   {
    "duration": 11,
    "start_time": "2025-05-27T16:32:48.529Z"
   },
   {
    "duration": 55,
    "start_time": "2025-05-27T16:32:48.544Z"
   },
   {
    "duration": 138,
    "start_time": "2025-05-27T16:32:48.601Z"
   },
   {
    "duration": 303,
    "start_time": "2025-05-27T16:32:48.741Z"
   },
   {
    "duration": 161,
    "start_time": "2025-05-27T16:32:49.046Z"
   },
   {
    "duration": 0,
    "start_time": "2025-05-27T16:32:49.209Z"
   },
   {
    "duration": 0,
    "start_time": "2025-05-27T16:32:49.210Z"
   },
   {
    "duration": 57,
    "start_time": "2025-05-27T16:33:48.860Z"
   },
   {
    "duration": 9,
    "start_time": "2025-05-27T16:33:52.969Z"
   },
   {
    "duration": 22,
    "start_time": "2025-05-27T16:33:59.868Z"
   },
   {
    "duration": 120,
    "start_time": "2025-05-27T16:34:08.891Z"
   },
   {
    "duration": 442,
    "start_time": "2025-05-27T16:34:10.457Z"
   },
   {
    "duration": 92,
    "start_time": "2025-05-27T16:35:08.678Z"
   },
   {
    "duration": 12,
    "start_time": "2025-05-27T16:35:14.324Z"
   },
   {
    "duration": 17,
    "start_time": "2025-05-27T16:35:49.611Z"
   },
   {
    "duration": 7,
    "start_time": "2025-05-27T16:36:53.586Z"
   },
   {
    "duration": 5,
    "start_time": "2025-05-27T16:44:04.629Z"
   },
   {
    "duration": 5,
    "start_time": "2025-05-27T16:44:24.003Z"
   },
   {
    "duration": 7,
    "start_time": "2025-05-27T16:44:34.262Z"
   },
   {
    "duration": 7,
    "start_time": "2025-05-27T16:49:31.063Z"
   },
   {
    "duration": 8,
    "start_time": "2025-05-27T16:49:32.265Z"
   },
   {
    "duration": 10,
    "start_time": "2025-05-27T16:51:37.444Z"
   },
   {
    "duration": 1656,
    "start_time": "2025-05-27T16:51:50.156Z"
   },
   {
    "duration": 10,
    "start_time": "2025-05-27T16:52:02.979Z"
   },
   {
    "duration": 4440,
    "start_time": "2025-05-27T16:52:06.957Z"
   },
   {
    "duration": 26,
    "start_time": "2025-05-27T16:52:19.642Z"
   },
   {
    "duration": 2111,
    "start_time": "2025-05-27T16:52:32.900Z"
   },
   {
    "duration": 8571,
    "start_time": "2025-05-27T16:55:41.986Z"
   },
   {
    "duration": 3350228,
    "start_time": "2025-05-27T16:55:57.576Z"
   },
   {
    "duration": 3988,
    "start_time": "2025-05-27T17:57:06.826Z"
   },
   {
    "duration": 3857,
    "start_time": "2025-05-27T17:57:26.758Z"
   },
   {
    "duration": 7168,
    "start_time": "2025-05-27T18:00:04.628Z"
   },
   {
    "duration": 7113,
    "start_time": "2025-05-27T18:00:31.664Z"
   },
   {
    "duration": 7097,
    "start_time": "2025-05-27T18:00:56.617Z"
   },
   {
    "duration": 4097,
    "start_time": "2025-05-27T18:05:36.194Z"
   },
   {
    "duration": 2867,
    "start_time": "2025-05-28T15:23:17.942Z"
   },
   {
    "duration": 7,
    "start_time": "2025-05-28T15:23:20.811Z"
   },
   {
    "duration": 891,
    "start_time": "2025-05-28T15:23:20.819Z"
   },
   {
    "duration": 11,
    "start_time": "2025-05-28T15:23:21.712Z"
   },
   {
    "duration": 288,
    "start_time": "2025-05-28T15:23:21.724Z"
   },
   {
    "duration": 3,
    "start_time": "2025-05-28T15:23:22.015Z"
   },
   {
    "duration": 32,
    "start_time": "2025-05-28T15:23:22.020Z"
   },
   {
    "duration": 98,
    "start_time": "2025-05-28T15:23:22.053Z"
   },
   {
    "duration": 4,
    "start_time": "2025-05-28T15:23:22.153Z"
   },
   {
    "duration": 1207624,
    "start_time": "2025-05-28T15:23:22.163Z"
   },
   {
    "duration": 52,
    "start_time": "2025-05-28T15:43:29.789Z"
   },
   {
    "duration": 26,
    "start_time": "2025-05-28T15:43:29.843Z"
   },
   {
    "duration": 176,
    "start_time": "2025-05-28T15:43:29.871Z"
   },
   {
    "duration": 283,
    "start_time": "2025-05-28T15:43:30.049Z"
   },
   {
    "duration": 6892,
    "start_time": "2025-05-28T15:43:30.334Z"
   },
   {
    "duration": 2927138,
    "start_time": "2025-05-28T15:43:37.228Z"
   },
   {
    "duration": 3730,
    "start_time": "2025-05-28T16:32:24.369Z"
   },
   {
    "duration": 158,
    "start_time": "2025-05-28T16:32:28.101Z"
   },
   {
    "duration": 0,
    "start_time": "2025-05-28T16:32:28.261Z"
   },
   {
    "duration": 560,
    "start_time": "2025-05-28T16:41:11.075Z"
   },
   {
    "duration": 3156,
    "start_time": "2025-08-03T14:17:13.579Z"
   },
   {
    "duration": 7,
    "start_time": "2025-08-03T14:17:16.738Z"
   },
   {
    "duration": 969,
    "start_time": "2025-08-03T14:17:16.746Z"
   },
   {
    "duration": 11,
    "start_time": "2025-08-03T14:17:17.717Z"
   },
   {
    "duration": 309,
    "start_time": "2025-08-03T14:17:17.730Z"
   },
   {
    "duration": 4,
    "start_time": "2025-08-03T14:17:18.041Z"
   },
   {
    "duration": 31,
    "start_time": "2025-08-03T14:17:18.047Z"
   },
   {
    "duration": 120,
    "start_time": "2025-08-03T14:17:18.083Z"
   },
   {
    "duration": 1452,
    "start_time": "2025-08-03T14:17:18.205Z"
   },
   {
    "duration": 22,
    "start_time": "2025-08-03T14:17:19.660Z"
   },
   {
    "duration": 1395109,
    "start_time": "2025-08-03T14:17:19.684Z"
   },
   {
    "duration": 9,
    "start_time": "2025-08-03T14:40:34.797Z"
   },
   {
    "duration": 155,
    "start_time": "2025-08-03T14:40:34.808Z"
   },
   {
    "duration": 294,
    "start_time": "2025-08-03T14:40:34.965Z"
   },
   {
    "duration": 8181,
    "start_time": "2025-08-03T14:40:35.261Z"
   },
   {
    "duration": 46513,
    "start_time": "2025-08-03T14:40:43.444Z"
   },
   {
    "duration": 0,
    "start_time": "2025-08-03T14:41:29.958Z"
   },
   {
    "duration": 0,
    "start_time": "2025-08-03T14:41:29.960Z"
   },
   {
    "duration": 3547990,
    "start_time": "2025-08-03T15:14:21.026Z"
   },
   {
    "duration": 3927,
    "start_time": "2025-08-03T16:18:53.863Z"
   },
   {
    "duration": 509,
    "start_time": "2025-08-03T16:18:57.793Z"
   }
  ],
  "kernelspec": {
   "display_name": "Python 3 (ipykernel)",
   "language": "python",
   "name": "python3"
  },
  "language_info": {
   "codemirror_mode": {
    "name": "ipython",
    "version": 3
   },
   "file_extension": ".py",
   "mimetype": "text/x-python",
   "name": "python",
   "nbconvert_exporter": "python",
   "pygments_lexer": "ipython3",
   "version": "3.13.5"
  },
  "toc": {
   "base_numbering": 1,
   "nav_menu": {},
   "number_sections": true,
   "sideBar": true,
   "skip_h1_title": true,
   "title_cell": "Table of Contents",
   "title_sidebar": "Contents",
   "toc_cell": false,
   "toc_position": {
    "height": "calc(100% - 180px)",
    "left": "10px",
    "top": "150px",
    "width": "165px"
   },
   "toc_section_display": true,
   "toc_window_display": true
  }
 },
 "nbformat": 4,
 "nbformat_minor": 5
}
