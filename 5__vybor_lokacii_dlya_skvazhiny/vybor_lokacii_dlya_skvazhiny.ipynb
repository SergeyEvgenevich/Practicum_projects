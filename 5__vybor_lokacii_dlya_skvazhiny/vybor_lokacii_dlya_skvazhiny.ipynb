{
 "cells": [
  {
   "cell_type": "markdown",
   "metadata": {},
   "source": [
    "# Выбор локации для скважины"
   ]
  },
  {
   "cell_type": "markdown",
   "metadata": {},
   "source": [
    "Предоставлены пробы нефти в трёх регионах: в каждом 10 000 месторождений, где измерили качество нефти и объём её запасов. Задача построить модель машинного обучения, которая поможет определить регион, где добыча принесёт наибольшую прибыль. Проанализировать возможную прибыль и риски.\n",
    "Шаги для выбора локации:\n",
    "\n",
    "- В избранном регионе ищут месторождения, для каждого определяют значения признаков;\n",
    "- Строят модель и оценивают объём запасов;\n",
    "- Выбирают месторождения с самым высокими оценками значений. Количество месторождений зависит от бюджета компании и стоимости разработки одной скважины;\n",
    "- Прибыль равна суммарной прибыли отобранных месторождений."
   ]
  },
  {
   "cell_type": "markdown",
   "metadata": {},
   "source": [
    "## Загрузка и подготовка данных"
   ]
  },
  {
   "cell_type": "markdown",
   "metadata": {},
   "source": [
    "Импортируем нужные библиотеки"
   ]
  },
  {
   "cell_type": "code",
   "execution_count": 1,
   "metadata": {},
   "outputs": [],
   "source": [
    "import pandas as df\n",
    "\n",
    "line = '-'*127\n",
    "\n",
    "import seaborn as sns\n",
    "\n",
    "from matplotlib import pyplot as plt\n",
    "\n",
    "from sklearn.model_selection import train_test_split\n",
    "\n",
    "RANDOM_STATE = 42\n",
    "\n",
    "from sklearn.linear_model import LinearRegression\n",
    "\n",
    "from sklearn.preprocessing import StandardScaler\n",
    "\n",
    "from sklearn.metrics import accuracy_score\n",
    "\n",
    "import warnings\n",
    "\n",
    "warnings.filterwarnings(\"ignore\")\n",
    "\n",
    "from sklearn.metrics import mean_squared_error\n",
    "\n",
    "import numpy as np\n",
    "\n",
    "state = np.random.RandomState(12345)"
   ]
  },
  {
   "cell_type": "markdown",
   "metadata": {},
   "source": [
    "<div style=\"border:solid black 1px; padding: 10px\">\n",
    "Сохраняем файл '/datasets/geo_data_0.csv' в переменную 'region_1' выводим первые пять строк и информацию о датафрейме."
   ]
  },
  {
   "cell_type": "code",
   "execution_count": 2,
   "metadata": {},
   "outputs": [
    {
     "name": "stdout",
     "output_type": "stream",
     "text": [
      "      id        f0        f1        f2     product\n",
      "0  txEyH  0.705745 -0.497823  1.221170  105.280062\n",
      "1  2acmU  1.334711 -0.340164  4.365080   73.037750\n",
      "2  409Wp  1.022732  0.151990  1.419926   85.265647\n",
      "3  iJLyR -0.032172  0.139033  2.978566  168.620776\n",
      "4  Xdl7t  1.988431  0.155413  4.751769  154.036647\n",
      "-------------------------------------------------------------------------------------------------------------------------------\n",
      "<class 'pandas.core.frame.DataFrame'>\n",
      "RangeIndex: 100000 entries, 0 to 99999\n",
      "Data columns (total 5 columns):\n",
      " #   Column   Non-Null Count   Dtype  \n",
      "---  ------   --------------   -----  \n",
      " 0   id       100000 non-null  object \n",
      " 1   f0       100000 non-null  float64\n",
      " 2   f1       100000 non-null  float64\n",
      " 3   f2       100000 non-null  float64\n",
      " 4   product  100000 non-null  float64\n",
      "dtypes: float64(4), object(1)\n",
      "memory usage: 3.8+ MB\n",
      "None\n",
      "-------------------------------------------------------------------------------------------------------------------------------\n",
      "Количество дубликатов - 0\n"
     ]
    }
   ],
   "source": [
    "region_1 = df.read_csv('/datasets/geo_data_0.csv')\n",
    "print(region_1.head())\n",
    "print(line)\n",
    "print(region_1.info())\n",
    "print(line)\n",
    "print(f'Количество дубликатов - {region_1.duplicated().sum()}')"
   ]
  },
  {
   "cell_type": "markdown",
   "metadata": {},
   "source": [
    "<div style=\"border:solid black 1px; padding: 10px\">\n",
    "Таблица region_1 имеет 100000 строк и 5 столбцов, пропусков нет."
   ]
  },
  {
   "cell_type": "markdown",
   "metadata": {},
   "source": [
    "<div style=\"border:solid black 1px; padding: 10px\">\n",
    "Сохраняем файл '/datasets/geo_data_1.csv' в переменную 'region_2' выводим первые пять строк и информацию о датафрейме."
   ]
  },
  {
   "cell_type": "code",
   "execution_count": 3,
   "metadata": {},
   "outputs": [
    {
     "name": "stdout",
     "output_type": "stream",
     "text": [
      "      id         f0         f1        f2     product\n",
      "0  kBEdx -15.001348  -8.276000 -0.005876    3.179103\n",
      "1  62mP7  14.272088  -3.475083  0.999183   26.953261\n",
      "2  vyE1P   6.263187  -5.948386  5.001160  134.766305\n",
      "3  KcrkZ -13.081196 -11.506057  4.999415  137.945408\n",
      "4  AHL4O  12.702195  -8.147433  5.004363  134.766305\n",
      "-------------------------------------------------------------------------------------------------------------------------------\n",
      "<class 'pandas.core.frame.DataFrame'>\n",
      "RangeIndex: 100000 entries, 0 to 99999\n",
      "Data columns (total 5 columns):\n",
      " #   Column   Non-Null Count   Dtype  \n",
      "---  ------   --------------   -----  \n",
      " 0   id       100000 non-null  object \n",
      " 1   f0       100000 non-null  float64\n",
      " 2   f1       100000 non-null  float64\n",
      " 3   f2       100000 non-null  float64\n",
      " 4   product  100000 non-null  float64\n",
      "dtypes: float64(4), object(1)\n",
      "memory usage: 3.8+ MB\n",
      "None\n",
      "-------------------------------------------------------------------------------------------------------------------------------\n",
      "Количество дубликатов - 0\n"
     ]
    }
   ],
   "source": [
    "region_2 = df.read_csv('/datasets/geo_data_1.csv')\n",
    "print(region_2.head())\n",
    "print(line)\n",
    "print(region_2.info())\n",
    "print(line)\n",
    "print(f'Количество дубликатов - {region_2.duplicated().sum()}')"
   ]
  },
  {
   "cell_type": "markdown",
   "metadata": {},
   "source": [
    "<div style=\"border:solid black 1px; padding: 10px\">\n",
    "Таблица region_2 имеет 100000 строк и 5 столбцов, пропусков нет."
   ]
  },
  {
   "cell_type": "markdown",
   "metadata": {},
   "source": [
    "<div style=\"border:solid black 1px; padding: 10px\">\n",
    "Сохраняем файл '/datasets/geo_data_2.csv' в переменную 'region_3' выводим первые пять строк и информацию о датафрейме."
   ]
  },
  {
   "cell_type": "code",
   "execution_count": 4,
   "metadata": {},
   "outputs": [
    {
     "name": "stdout",
     "output_type": "stream",
     "text": [
      "      id        f0        f1        f2     product\n",
      "0  fwXo0 -1.146987  0.963328 -0.828965   27.758673\n",
      "1  WJtFt  0.262778  0.269839 -2.530187   56.069697\n",
      "2  ovLUW  0.194587  0.289035 -5.586433   62.871910\n",
      "3  q6cA6  2.236060 -0.553760  0.930038  114.572842\n",
      "4  WPMUX -0.515993  1.716266  5.899011  149.600746\n",
      "-------------------------------------------------------------------------------------------------------------------------------\n",
      "<class 'pandas.core.frame.DataFrame'>\n",
      "RangeIndex: 100000 entries, 0 to 99999\n",
      "Data columns (total 5 columns):\n",
      " #   Column   Non-Null Count   Dtype  \n",
      "---  ------   --------------   -----  \n",
      " 0   id       100000 non-null  object \n",
      " 1   f0       100000 non-null  float64\n",
      " 2   f1       100000 non-null  float64\n",
      " 3   f2       100000 non-null  float64\n",
      " 4   product  100000 non-null  float64\n",
      "dtypes: float64(4), object(1)\n",
      "memory usage: 3.8+ MB\n",
      "None\n",
      "-------------------------------------------------------------------------------------------------------------------------------\n",
      "Количество дубликатов - 0\n"
     ]
    }
   ],
   "source": [
    "region_3 = df.read_csv('/datasets/geo_data_2.csv')\n",
    "print(region_3.head())\n",
    "print(line)\n",
    "print(region_3.info())\n",
    "print(line)\n",
    "print(f'Количество дубликатов - {region_3.duplicated().sum()}')"
   ]
  },
  {
   "cell_type": "markdown",
   "metadata": {},
   "source": [
    "<div style=\"border:solid black 1px; padding: 10px\">\n",
    "Таблица region_1 имеет 100000 строк и 5 столбцов, пропусков и жубликатов нет."
   ]
  },
  {
   "cell_type": "markdown",
   "metadata": {},
   "source": [
    "<div style=\"border:solid black 1px; padding: 10px\">\n",
    "Построим графики для понимаения объема во всех 3х таблицах."
   ]
  },
  {
   "cell_type": "code",
   "execution_count": 5,
   "metadata": {},
   "outputs": [],
   "source": [
    "def data_analysis (variable, column):\n",
    "    means = variable[column].mean()\n",
    "    medians = variable[column].median()\n",
    "    sns.set()\n",
    "    f, axes = plt.subplots(1, 2, figsize=(16, 4))\n",
    "    axes[0].axvline(x=means, color='green')\n",
    "    axes[0].axvline(x=medians, color='red')\n",
    "    axes[0].legend(['Среднее значение - {:.2f}'.format(means),\n",
    "                  'Медианное значение - {:.2f}'.format(medians)])\n",
    "    axes[0].set_title(f'Гистограмма для - {column}', fontsize=15)\n",
    "    axes[0].set_ylabel('Количество', fontsize=10)\n",
    "    sns.histplot(variable, bins=20, kde=True, ax=axes[0], x=column)\n",
    "    axes[1].set_title(f'График ящик с усами для - {column}', fontsize=15)\n",
    "    sns.boxplot(data=variable, ax=axes[1], y=column)\n",
    "    axes[1].set_ylabel(column, fontsize=10)\n",
    "    plt.show()"
   ]
  },
  {
   "cell_type": "code",
   "execution_count": 6,
   "metadata": {},
   "outputs": [
    {
     "data": {
      "image/png": "[encoded data removed]",
      "text/plain": [
       "<Figure size 1152x288 with 2 Axes>"
      ]
     },
     "metadata": {},
     "output_type": "display_data"
    },
    {
     "name": "stdout",
     "output_type": "stream",
     "text": [
      "-------------------------------------------------------------------------------------------------------------------------------\n"
     ]
    },
    {
     "data": {
      "image/png": "[encoded data removed]",
      "text/plain": [
       "<Figure size 1152x288 with 2 Axes>"
      ]
     },
     "metadata": {},
     "output_type": "display_data"
    },
    {
     "name": "stdout",
     "output_type": "stream",
     "text": [
      "-------------------------------------------------------------------------------------------------------------------------------\n"
     ]
    },
    {
     "data": {
      "image/png": "[encoded data removed]",
      "text/plain": [
       "<Figure size 1152x288 with 2 Axes>"
      ]
     },
     "metadata": {},
     "output_type": "display_data"
    }
   ],
   "source": [
    "data_analysis(region_1, 'product')\n",
    "print(line)\n",
    "data_analysis(region_2, 'product')\n",
    "print(line)\n",
    "data_analysis(region_3, 'product')"
   ]
  },
  {
   "cell_type": "markdown",
   "metadata": {},
   "source": [
    "<div style=\"border:solid black 1px; padding: 10px\">\n",
    "Данные таблицы 'region_1' и 'region_3' очень похожи между собой так-же у эти регионов среднее и медиана мало различаются, 'region_2' очень отличается от двух остальных видно что в этом регионе запас нефти гораздо меньше. "
   ]
  },
  {
   "cell_type": "markdown",
   "metadata": {},
   "source": [
    "<div style=\"border:solid black 1px; padding: 10px\">\n",
    "Построим корреляцию для таблиц."
   ]
  },
  {
   "cell_type": "code",
   "execution_count": 7,
   "metadata": {},
   "outputs": [],
   "source": [
    "def correlation(dataframe):\n",
    "    print(dataframe.corr())\n",
    "    print(line)\n",
    "    plt.figure(figsize=(12,12))\n",
    "    sns.heatmap(dataframe.corr(), annot=True, fmt='.2f')"
   ]
  },
  {
   "cell_type": "code",
   "execution_count": 8,
   "metadata": {},
   "outputs": [
    {
     "name": "stdout",
     "output_type": "stream",
     "text": [
      "               f0        f1        f2   product\n",
      "f0       1.000000 -0.440723 -0.003153  0.143536\n",
      "f1      -0.440723  1.000000  0.001724 -0.192356\n",
      "f2      -0.003153  0.001724  1.000000  0.483663\n",
      "product  0.143536 -0.192356  0.483663  1.000000\n",
      "-------------------------------------------------------------------------------------------------------------------------------\n"
     ]
    },
    {
     "data": {
      "image/png": "[encoded data removed]",
      "text/plain": [
       "<Figure size 864x864 with 2 Axes>"
      ]
     },
     "metadata": {},
     "output_type": "display_data"
    }
   ],
   "source": [
    "correlation(region_1)"
   ]
  },
  {
   "cell_type": "code",
   "execution_count": 9,
   "metadata": {},
   "outputs": [
    {
     "name": "stdout",
     "output_type": "stream",
     "text": [
      "               f0        f1        f2   product\n",
      "f0       1.000000  0.182287 -0.001777 -0.030491\n",
      "f1       0.182287  1.000000 -0.002595 -0.010155\n",
      "f2      -0.001777 -0.002595  1.000000  0.999397\n",
      "product -0.030491 -0.010155  0.999397  1.000000\n",
      "-------------------------------------------------------------------------------------------------------------------------------\n"
     ]
    },
    {
     "data": {
      "image/png": "[encoded data removed]",
      "text/plain": [
       "<Figure size 864x864 with 2 Axes>"
      ]
     },
     "metadata": {},
     "output_type": "display_data"
    }
   ],
   "source": [
    "correlation(region_2)"
   ]
  },
  {
   "cell_type": "code",
   "execution_count": 10,
   "metadata": {},
   "outputs": [
    {
     "name": "stdout",
     "output_type": "stream",
     "text": [
      "               f0        f1        f2   product\n",
      "f0       1.000000  0.000528 -0.000448 -0.001987\n",
      "f1       0.000528  1.000000  0.000779 -0.001012\n",
      "f2      -0.000448  0.000779  1.000000  0.445871\n",
      "product -0.001987 -0.001012  0.445871  1.000000\n",
      "-------------------------------------------------------------------------------------------------------------------------------\n"
     ]
    },
    {
     "data": {
      "image/png": "[encoded data removed]",
      "text/plain": [
       "<Figure size 864x864 with 2 Axes>"
      ]
     },
     "metadata": {},
     "output_type": "display_data"
    }
   ],
   "source": [
    "correlation(region_3)"
   ]
  },
  {
   "cell_type": "markdown",
   "metadata": {},
   "source": [
    "<div style=\"border:solid black 1px; padding: 10px\">\n",
    "Во всех трех таблицах на целевой признак лучше всего влияет столбец 'f2'"
   ]
  },
  {
   "cell_type": "markdown",
   "metadata": {},
   "source": [
    "<div style=\"border:solid black 1px; padding: 10px\">\n",
    "<b>Вывод:</b>\n",
    "<br>Были созданы 3 таблицы\n",
    "<br>1 - 'region_1'\n",
    "<br>1 - 'region_2'\n",
    "<br>1 - 'region_3'\n",
    "<br>Пропусков в таблицах нет.\n",
    "<br>Были построены грайики для таблиц. Регион с самым меньшим запасом сырья является 'region_2'\n",
    "<br>Согласно корреляции во всех трех таблицах на целевой признак лучше всего влияет столбец 'f2'"
   ]
  },
  {
   "cell_type": "markdown",
   "metadata": {},
   "source": [
    "## Обучение и проверка модели"
   ]
  },
  {
   "cell_type": "markdown",
   "metadata": {},
   "source": [
    "<div style=\"border:solid black 1px; padding: 10px\">\n",
    "Создадим функцию для предсказания и вывода данных."
   ]
  },
  {
   "cell_type": "code",
   "execution_count": 11,
   "metadata": {},
   "outputs": [],
   "source": [
    "def Linearregression (dataframe):\n",
    "    X = dataframe.drop(columns=['product', 'id'])\n",
    "    y = dataframe['product']\n",
    "    \n",
    "    X_train, X_test, y_train, y_test = \\\n",
    "    train_test_split(X, y, test_size=0.25, random_state=RANDOM_STATE)\n",
    "    \n",
    "    model_lr = LinearRegression()\n",
    "    model_lr.fit(X_train, y_train)\n",
    "    \n",
    "    predictions = model_lr.predict(X_test)\n",
    "    \n",
    "    X_test['product'] = y_test\n",
    "    X_test['product_pred'] = predictions\n",
    "    \n",
    "    average_predicted = X_test['product_pred'].mean()\n",
    "    rmse = mean_squared_error(y_test, predictions, squared=False)\n",
    "    \n",
    "    print(f'Средний запас предсказанного сырья - {average_predicted}')\n",
    "    print(line)\n",
    "    print(f'RMSE - {rmse}')\n",
    "    return X_test"
   ]
  },
  {
   "cell_type": "markdown",
   "metadata": {},
   "source": [
    "<div style=\"border:solid black 1px; padding: 10px\">\n",
    "Создадим валидационную выборку из 'region_1' сделаем на ней предсказания и сохраним в переменной 'region_1_valid'. Выведем данные среднего запаса и RMSE"
   ]
  },
  {
   "cell_type": "code",
   "execution_count": 12,
   "metadata": {},
   "outputs": [
    {
     "name": "stdout",
     "output_type": "stream",
     "text": [
      "Средний запас предсказанного сырья - 92.39879990657768\n",
      "-------------------------------------------------------------------------------------------------------------------------------\n",
      "RMSE - 37.75660035026169\n",
      "-------------------------------------------------------------------------------------------------------------------------------\n"
     ]
    },
    {
     "data": {
      "text/html": [
       "<div>\n",
       "<style scoped>\n",
       "    .dataframe tbody tr th:only-of-type {\n",
       "        vertical-align: middle;\n",
       "    }\n",
       "\n",
       "    .dataframe tbody tr th {\n",
       "        vertical-align: top;\n",
       "    }\n",
       "\n",
       "    .dataframe thead th {\n",
       "        text-align: right;\n",
       "    }\n",
       "</style>\n",
       "<table border=\"1\" class=\"dataframe\">\n",
       "  <thead>\n",
       "    <tr style=\"text-align: right;\">\n",
       "      <th></th>\n",
       "      <th>f0</th>\n",
       "      <th>f1</th>\n",
       "      <th>f2</th>\n",
       "      <th>product</th>\n",
       "      <th>product_pred</th>\n",
       "    </tr>\n",
       "  </thead>\n",
       "  <tbody>\n",
       "    <tr>\n",
       "      <th>75721</th>\n",
       "      <td>0.599283</td>\n",
       "      <td>-0.557623</td>\n",
       "      <td>2.121187</td>\n",
       "      <td>122.073350</td>\n",
       "      <td>101.901017</td>\n",
       "    </tr>\n",
       "    <tr>\n",
       "      <th>80184</th>\n",
       "      <td>0.739017</td>\n",
       "      <td>-0.463156</td>\n",
       "      <td>-1.347584</td>\n",
       "      <td>48.738540</td>\n",
       "      <td>78.217774</td>\n",
       "    </tr>\n",
       "    <tr>\n",
       "      <th>19864</th>\n",
       "      <td>1.422743</td>\n",
       "      <td>-0.534917</td>\n",
       "      <td>3.718798</td>\n",
       "      <td>131.338088</td>\n",
       "      <td>115.266901</td>\n",
       "    </tr>\n",
       "    <tr>\n",
       "      <th>76699</th>\n",
       "      <td>1.580244</td>\n",
       "      <td>-0.238458</td>\n",
       "      <td>2.805149</td>\n",
       "      <td>88.327757</td>\n",
       "      <td>105.618618</td>\n",
       "    </tr>\n",
       "    <tr>\n",
       "      <th>92991</th>\n",
       "      <td>0.918974</td>\n",
       "      <td>0.023961</td>\n",
       "      <td>2.598575</td>\n",
       "      <td>36.959266</td>\n",
       "      <td>97.980185</td>\n",
       "    </tr>\n",
       "  </tbody>\n",
       "</table>\n",
       "</div>"
      ],
      "text/plain": [
       "             f0        f1        f2     product  product_pred\n",
       "75721  0.599283 -0.557623  2.121187  122.073350    101.901017\n",
       "80184  0.739017 -0.463156 -1.347584   48.738540     78.217774\n",
       "19864  1.422743 -0.534917  3.718798  131.338088    115.266901\n",
       "76699  1.580244 -0.238458  2.805149   88.327757    105.618618\n",
       "92991  0.918974  0.023961  2.598575   36.959266     97.980185"
      ]
     },
     "execution_count": 12,
     "metadata": {},
     "output_type": "execute_result"
    }
   ],
   "source": [
    "region_1_valid = Linearregression(region_1)\n",
    "print(line)\n",
    "region_1_valid.head()"
   ]
  },
  {
   "cell_type": "markdown",
   "metadata": {},
   "source": [
    "<div style=\"border:solid black 1px; padding: 10px\">\n",
    "Создадим валидационную выборку из 'region_2' сделаем на ней предсказания и сохраним в переменной 'region_2_valid'. Выведем данные среднего запаса и RMSE"
   ]
  },
  {
   "cell_type": "code",
   "execution_count": 13,
   "metadata": {},
   "outputs": [
    {
     "name": "stdout",
     "output_type": "stream",
     "text": [
      "Средний запас предсказанного сырья - 68.71287803913762\n",
      "-------------------------------------------------------------------------------------------------------------------------------\n",
      "RMSE - 0.890280100102884\n",
      "-------------------------------------------------------------------------------------------------------------------------------\n"
     ]
    },
    {
     "data": {
      "text/html": [
       "<div>\n",
       "<style scoped>\n",
       "    .dataframe tbody tr th:only-of-type {\n",
       "        vertical-align: middle;\n",
       "    }\n",
       "\n",
       "    .dataframe tbody tr th {\n",
       "        vertical-align: top;\n",
       "    }\n",
       "\n",
       "    .dataframe thead th {\n",
       "        text-align: right;\n",
       "    }\n",
       "</style>\n",
       "<table border=\"1\" class=\"dataframe\">\n",
       "  <thead>\n",
       "    <tr style=\"text-align: right;\">\n",
       "      <th></th>\n",
       "      <th>f0</th>\n",
       "      <th>f1</th>\n",
       "      <th>f2</th>\n",
       "      <th>product</th>\n",
       "      <th>product_pred</th>\n",
       "    </tr>\n",
       "  </thead>\n",
       "  <tbody>\n",
       "    <tr>\n",
       "      <th>75721</th>\n",
       "      <td>6.078076</td>\n",
       "      <td>0.084568</td>\n",
       "      <td>0.002957</td>\n",
       "      <td>0.000000</td>\n",
       "      <td>0.844738</td>\n",
       "    </tr>\n",
       "    <tr>\n",
       "      <th>80184</th>\n",
       "      <td>16.462386</td>\n",
       "      <td>2.712946</td>\n",
       "      <td>1.993030</td>\n",
       "      <td>53.906522</td>\n",
       "      <td>52.921612</td>\n",
       "    </tr>\n",
       "    <tr>\n",
       "      <th>19864</th>\n",
       "      <td>7.051898</td>\n",
       "      <td>0.766983</td>\n",
       "      <td>4.990194</td>\n",
       "      <td>134.766305</td>\n",
       "      <td>135.110385</td>\n",
       "    </tr>\n",
       "    <tr>\n",
       "      <th>76699</th>\n",
       "      <td>-0.240045</td>\n",
       "      <td>-0.380804</td>\n",
       "      <td>3.999693</td>\n",
       "      <td>107.813044</td>\n",
       "      <td>109.494863</td>\n",
       "    </tr>\n",
       "    <tr>\n",
       "      <th>92991</th>\n",
       "      <td>13.350111</td>\n",
       "      <td>-8.558281</td>\n",
       "      <td>0.002010</td>\n",
       "      <td>0.000000</td>\n",
       "      <td>-0.047292</td>\n",
       "    </tr>\n",
       "  </tbody>\n",
       "</table>\n",
       "</div>"
      ],
      "text/plain": [
       "              f0        f1        f2     product  product_pred\n",
       "75721   6.078076  0.084568  0.002957    0.000000      0.844738\n",
       "80184  16.462386  2.712946  1.993030   53.906522     52.921612\n",
       "19864   7.051898  0.766983  4.990194  134.766305    135.110385\n",
       "76699  -0.240045 -0.380804  3.999693  107.813044    109.494863\n",
       "92991  13.350111 -8.558281  0.002010    0.000000     -0.047292"
      ]
     },
     "execution_count": 13,
     "metadata": {},
     "output_type": "execute_result"
    }
   ],
   "source": [
    "region_2_valid = Linearregression(region_2)\n",
    "print(line)\n",
    "region_2_valid.head()"
   ]
  },
  {
   "cell_type": "markdown",
   "metadata": {},
   "source": [
    "<div style=\"border:solid black 1px; padding: 10px\">\n",
    "Создадим валидационную выборку из 'region_3' сделаем на ней предсказания и сохраним в переменной 'region_3_valid'. Выведем данные среднего запаса и RMSE"
   ]
  },
  {
   "cell_type": "code",
   "execution_count": 14,
   "metadata": {},
   "outputs": [
    {
     "name": "stdout",
     "output_type": "stream",
     "text": [
      "Средний запас предсказанного сырья - 94.77102387765939\n",
      "-------------------------------------------------------------------------------------------------------------------------------\n",
      "RMSE - 40.145872311342174\n",
      "-------------------------------------------------------------------------------------------------------------------------------\n"
     ]
    },
    {
     "data": {
      "text/html": [
       "<div>\n",
       "<style scoped>\n",
       "    .dataframe tbody tr th:only-of-type {\n",
       "        vertical-align: middle;\n",
       "    }\n",
       "\n",
       "    .dataframe tbody tr th {\n",
       "        vertical-align: top;\n",
       "    }\n",
       "\n",
       "    .dataframe thead th {\n",
       "        text-align: right;\n",
       "    }\n",
       "</style>\n",
       "<table border=\"1\" class=\"dataframe\">\n",
       "  <thead>\n",
       "    <tr style=\"text-align: right;\">\n",
       "      <th></th>\n",
       "      <th>f0</th>\n",
       "      <th>f1</th>\n",
       "      <th>f2</th>\n",
       "      <th>product</th>\n",
       "      <th>product_pred</th>\n",
       "    </tr>\n",
       "  </thead>\n",
       "  <tbody>\n",
       "    <tr>\n",
       "      <th>75721</th>\n",
       "      <td>2.111118</td>\n",
       "      <td>-1.679773</td>\n",
       "      <td>3.112240</td>\n",
       "      <td>117.441301</td>\n",
       "      <td>98.301916</td>\n",
       "    </tr>\n",
       "    <tr>\n",
       "      <th>80184</th>\n",
       "      <td>0.734759</td>\n",
       "      <td>0.747788</td>\n",
       "      <td>3.670879</td>\n",
       "      <td>47.841249</td>\n",
       "      <td>101.592461</td>\n",
       "    </tr>\n",
       "    <tr>\n",
       "      <th>19864</th>\n",
       "      <td>-2.513109</td>\n",
       "      <td>0.844631</td>\n",
       "      <td>-4.922889</td>\n",
       "      <td>45.883483</td>\n",
       "      <td>52.449099</td>\n",
       "    </tr>\n",
       "    <tr>\n",
       "      <th>76699</th>\n",
       "      <td>-2.035301</td>\n",
       "      <td>-1.522988</td>\n",
       "      <td>5.072839</td>\n",
       "      <td>139.014608</td>\n",
       "      <td>109.922127</td>\n",
       "    </tr>\n",
       "    <tr>\n",
       "      <th>92991</th>\n",
       "      <td>2.744145</td>\n",
       "      <td>1.429952</td>\n",
       "      <td>-1.372661</td>\n",
       "      <td>84.004276</td>\n",
       "      <td>72.411847</td>\n",
       "    </tr>\n",
       "  </tbody>\n",
       "</table>\n",
       "</div>"
      ],
      "text/plain": [
       "             f0        f1        f2     product  product_pred\n",
       "75721  2.111118 -1.679773  3.112240  117.441301     98.301916\n",
       "80184  0.734759  0.747788  3.670879   47.841249    101.592461\n",
       "19864 -2.513109  0.844631 -4.922889   45.883483     52.449099\n",
       "76699 -2.035301 -1.522988  5.072839  139.014608    109.922127\n",
       "92991  2.744145  1.429952 -1.372661   84.004276     72.411847"
      ]
     },
     "execution_count": 14,
     "metadata": {},
     "output_type": "execute_result"
    }
   ],
   "source": [
    "region_3_valid = Linearregression(region_3)\n",
    "print(line)\n",
    "region_3_valid.head()"
   ]
  },
  {
   "cell_type": "markdown",
   "metadata": {},
   "source": [
    "<div style=\"border:solid black 1px; padding: 10px\">\n",
    "<b>Вывод:</b>\n",
    "<br>Лучшее RMSE у region_1 - 37 \n",
    "<br>Самый большой средний запас сырья у region_3 - 94.7"
   ]
  },
  {
   "cell_type": "markdown",
   "metadata": {},
   "source": [
    "## Подготовка к расчёту прибыли"
   ]
  },
  {
   "cell_type": "markdown",
   "metadata": {},
   "source": [
    "<div style=\"border:solid black 1px; padding: 10px\">\n",
    "Сохраним ключевые значения в отдельных перменных"
   ]
  },
  {
   "cell_type": "code",
   "execution_count": 15,
   "metadata": {},
   "outputs": [],
   "source": [
    "budget = 10000000000\n",
    "\n",
    "best_points = 200 \n",
    "\n",
    "income = 450000\n",
    "\n",
    "selected = 500"
   ]
  },
  {
   "cell_type": "markdown",
   "metadata": {},
   "source": [
    "<div style=\"border:solid black 1px; padding: 10px\">\n",
    "Создадим функцию для расчета безубыточной разработки, среднего значения скважин, разницы и количества подходящих скважин"
   ]
  },
  {
   "cell_type": "code",
   "execution_count": 16,
   "metadata": {},
   "outputs": [],
   "source": [
    "def payback_period (dataframe, number):\n",
    "    payback = (budget / best_points) / income\n",
    "    average = dataframe.mean()\n",
    "    difference = payback - average\n",
    "    print(f'Достаточный объём сырья для безубыточной разработки новой скважины - {payback}')\n",
    "    print(line)\n",
    "    print(f'Среднее значение скважин region_{number} - {average}')\n",
    "    print(line)\n",
    "    print(f'Разница между средним значением в region_{number} и достаточным объемом сырья - {difference}')\n",
    "    print(line)\n",
    "    print(f'Количество скважин которые больше или равны безубыточного объема - {sum(dataframe >= payback)}')"
   ]
  },
  {
   "cell_type": "markdown",
   "metadata": {},
   "source": [
    "<div style=\"border:solid black 1px; padding: 10px\">\n",
    "Применим функцию payback_period к region_1"
   ]
  },
  {
   "cell_type": "code",
   "execution_count": 17,
   "metadata": {},
   "outputs": [
    {
     "name": "stdout",
     "output_type": "stream",
     "text": [
      "Достаточный объём сырья для безубыточной разработки новой скважины - 111.11111111111111\n",
      "-------------------------------------------------------------------------------------------------------------------------------\n",
      "Среднее значение скважин region_1 - 92.39879990657768\n",
      "-------------------------------------------------------------------------------------------------------------------------------\n",
      "Разница между средним значением в region_1 и достаточным объемом сырья - 18.712311204533435\n",
      "-------------------------------------------------------------------------------------------------------------------------------\n",
      "Количество скважин которые больше или равны безубыточного объема - 5258\n"
     ]
    }
   ],
   "source": [
    "payback_period(region_1_valid['product_pred'], 1)"
   ]
  },
  {
   "cell_type": "markdown",
   "metadata": {},
   "source": [
    "<div style=\"border:solid black 1px; padding: 10px\">\n",
    "Применим функцию payback_period к region_2"
   ]
  },
  {
   "cell_type": "code",
   "execution_count": 18,
   "metadata": {},
   "outputs": [
    {
     "name": "stdout",
     "output_type": "stream",
     "text": [
      "Достаточный объём сырья для безубыточной разработки новой скважины - 111.11111111111111\n",
      "-------------------------------------------------------------------------------------------------------------------------------\n",
      "Среднее значение скважин region_2 - 68.71287803913762\n",
      "-------------------------------------------------------------------------------------------------------------------------------\n",
      "Разница между средним значением в region_2 и достаточным объемом сырья - 42.39823307197349\n",
      "-------------------------------------------------------------------------------------------------------------------------------\n",
      "Количество скважин которые больше или равны безубыточного объема - 4520\n"
     ]
    }
   ],
   "source": [
    "payback_period(region_2_valid['product_pred'], 2)"
   ]
  },
  {
   "cell_type": "markdown",
   "metadata": {},
   "source": [
    "<div style=\"border:solid black 1px; padding: 10px\">\n",
    "Применим функцию payback_period к region_3"
   ]
  },
  {
   "cell_type": "code",
   "execution_count": 19,
   "metadata": {},
   "outputs": [
    {
     "name": "stdout",
     "output_type": "stream",
     "text": [
      "Достаточный объём сырья для безубыточной разработки новой скважины - 111.11111111111111\n",
      "-------------------------------------------------------------------------------------------------------------------------------\n",
      "Среднее значение скважин region_3 - 94.77102387765939\n",
      "-------------------------------------------------------------------------------------------------------------------------------\n",
      "Разница между средним значением в region_3 и достаточным объемом сырья - 16.340087233451726\n",
      "-------------------------------------------------------------------------------------------------------------------------------\n",
      "Количество скважин которые больше или равны безубыточного объема - 5239\n"
     ]
    }
   ],
   "source": [
    "payback_period(region_3_valid['product_pred'], 3)"
   ]
  },
  {
   "cell_type": "markdown",
   "metadata": {},
   "source": [
    "<div style=\"border:solid black 1px; padding: 10px\">\n",
    "<b>Вывод:</b>\n",
    "<br>Достаточный объём сырья для безубыточной разработки новой скважины - 111\n",
    "<br>Самый большой средний запас сырья у region_3 - 94.7\n",
    "<br>Меньшая разница между средним значением и достаточным объемом сырья у region_3 - 16.3\n",
    "<br>Количество скважин которые больше или равны безубыточного объема у region_1 - 4520"
   ]
  },
  {
   "cell_type": "markdown",
   "metadata": {},
   "source": [
    "## Расчёт прибыли и рисков "
   ]
  },
  {
   "cell_type": "markdown",
   "metadata": {},
   "source": [
    "<div style=\"border:solid black 1px; padding: 10px\">\n",
    "Создадим функцию для расчета прибыли"
   ]
  },
  {
   "cell_type": "code",
   "execution_count": 20,
   "metadata": {},
   "outputs": [],
   "source": [
    "def profit_calculation(dataframe, number):\n",
    "    payback = (budget / best_points) / income\n",
    "    best = dataframe[dataframe['product_pred'] >= payback]\n",
    "    summ = best['product'].sum()\n",
    "    profit = summ*income\n",
    "    profits = profit - budget\n",
    "    dataframe['profit_well'] = dataframe['product']*income\n",
    "    print(f'Сумма целевого значения объёма сырья для region_{number} - {summ}')\n",
    "    print(line)\n",
    "    print(f'Сумма прибыли для region_{number} - {profit}')\n",
    "    print(line)\n",
    "    print(f'Сумма чистой прибыли для region_{number} - {profits}')\n",
    "    return dataframe"
   ]
  },
  {
   "cell_type": "markdown",
   "metadata": {},
   "source": [
    "<div style=\"border:solid black 1px; padding: 10px\">\n",
    "Применим функцию profit_calculation к region_1"
   ]
  },
  {
   "cell_type": "code",
   "execution_count": 21,
   "metadata": {},
   "outputs": [
    {
     "name": "stdout",
     "output_type": "stream",
     "text": [
      "Сумма целевого значения объёма сырья для region_1 - 654176.1715377384\n",
      "-------------------------------------------------------------------------------------------------------------------------------\n",
      "Сумма прибыли для region_1 - 294379277191.9823\n",
      "-------------------------------------------------------------------------------------------------------------------------------\n",
      "Сумма чистой прибыли для region_1 - 284379277191.9823\n",
      "-------------------------------------------------------------------------------------------------------------------------------\n"
     ]
    },
    {
     "data": {
      "text/html": [
       "<div>\n",
       "<style scoped>\n",
       "    .dataframe tbody tr th:only-of-type {\n",
       "        vertical-align: middle;\n",
       "    }\n",
       "\n",
       "    .dataframe tbody tr th {\n",
       "        vertical-align: top;\n",
       "    }\n",
       "\n",
       "    .dataframe thead th {\n",
       "        text-align: right;\n",
       "    }\n",
       "</style>\n",
       "<table border=\"1\" class=\"dataframe\">\n",
       "  <thead>\n",
       "    <tr style=\"text-align: right;\">\n",
       "      <th></th>\n",
       "      <th>f0</th>\n",
       "      <th>f1</th>\n",
       "      <th>f2</th>\n",
       "      <th>product</th>\n",
       "      <th>product_pred</th>\n",
       "      <th>profit_well</th>\n",
       "    </tr>\n",
       "  </thead>\n",
       "  <tbody>\n",
       "    <tr>\n",
       "      <th>75721</th>\n",
       "      <td>0.599283</td>\n",
       "      <td>-0.557623</td>\n",
       "      <td>2.121187</td>\n",
       "      <td>122.073350</td>\n",
       "      <td>101.901017</td>\n",
       "      <td>5.493301e+07</td>\n",
       "    </tr>\n",
       "    <tr>\n",
       "      <th>80184</th>\n",
       "      <td>0.739017</td>\n",
       "      <td>-0.463156</td>\n",
       "      <td>-1.347584</td>\n",
       "      <td>48.738540</td>\n",
       "      <td>78.217774</td>\n",
       "      <td>2.193234e+07</td>\n",
       "    </tr>\n",
       "    <tr>\n",
       "      <th>19864</th>\n",
       "      <td>1.422743</td>\n",
       "      <td>-0.534917</td>\n",
       "      <td>3.718798</td>\n",
       "      <td>131.338088</td>\n",
       "      <td>115.266901</td>\n",
       "      <td>5.910214e+07</td>\n",
       "    </tr>\n",
       "    <tr>\n",
       "      <th>76699</th>\n",
       "      <td>1.580244</td>\n",
       "      <td>-0.238458</td>\n",
       "      <td>2.805149</td>\n",
       "      <td>88.327757</td>\n",
       "      <td>105.618618</td>\n",
       "      <td>3.974749e+07</td>\n",
       "    </tr>\n",
       "    <tr>\n",
       "      <th>92991</th>\n",
       "      <td>0.918974</td>\n",
       "      <td>0.023961</td>\n",
       "      <td>2.598575</td>\n",
       "      <td>36.959266</td>\n",
       "      <td>97.980185</td>\n",
       "      <td>1.663167e+07</td>\n",
       "    </tr>\n",
       "  </tbody>\n",
       "</table>\n",
       "</div>"
      ],
      "text/plain": [
       "             f0        f1        f2     product  product_pred   profit_well\n",
       "75721  0.599283 -0.557623  2.121187  122.073350    101.901017  5.493301e+07\n",
       "80184  0.739017 -0.463156 -1.347584   48.738540     78.217774  2.193234e+07\n",
       "19864  1.422743 -0.534917  3.718798  131.338088    115.266901  5.910214e+07\n",
       "76699  1.580244 -0.238458  2.805149   88.327757    105.618618  3.974749e+07\n",
       "92991  0.918974  0.023961  2.598575   36.959266     97.980185  1.663167e+07"
      ]
     },
     "execution_count": 21,
     "metadata": {},
     "output_type": "execute_result"
    }
   ],
   "source": [
    "region_1_valid = profit_calculation(region_1_valid, 1)\n",
    "print(line)\n",
    "region_1_valid.head()"
   ]
  },
  {
   "cell_type": "markdown",
   "metadata": {},
   "source": [
    "<div style=\"border:solid black 1px; padding: 10px\">\n",
    "Применим функцию profit_calculation к region_2"
   ]
  },
  {
   "cell_type": "code",
   "execution_count": 22,
   "metadata": {},
   "outputs": [
    {
     "name": "stdout",
     "output_type": "stream",
     "text": [
      "Сумма целевого значения объёма сырья для region_2 - 606279.60432903\n",
      "-------------------------------------------------------------------------------------------------------------------------------\n",
      "Сумма прибыли для region_2 - 272825821948.0635\n",
      "-------------------------------------------------------------------------------------------------------------------------------\n",
      "Сумма чистой прибыли для region_2 - 262825821948.0635\n"
     ]
    }
   ],
   "source": [
    "region_2_valid = profit_calculation(region_2_valid, 2)"
   ]
  },
  {
   "cell_type": "markdown",
   "metadata": {},
   "source": [
    "<div style=\"border:solid black 1px; padding: 10px\">\n",
    "Применим функцию profit_calculation к region_3"
   ]
  },
  {
   "cell_type": "code",
   "execution_count": 23,
   "metadata": {},
   "outputs": [
    {
     "name": "stdout",
     "output_type": "stream",
     "text": [
      "Сумма целевого значения объёма сырья для region_3 - 644810.4682064274\n",
      "-------------------------------------------------------------------------------------------------------------------------------\n",
      "Сумма прибыли для region_3 - 290164710692.89233\n",
      "-------------------------------------------------------------------------------------------------------------------------------\n",
      "Сумма чистой прибыли для region_3 - 280164710692.89233\n",
      "-------------------------------------------------------------------------------------------------------------------------------\n"
     ]
    },
    {
     "data": {
      "text/html": [
       "<div>\n",
       "<style scoped>\n",
       "    .dataframe tbody tr th:only-of-type {\n",
       "        vertical-align: middle;\n",
       "    }\n",
       "\n",
       "    .dataframe tbody tr th {\n",
       "        vertical-align: top;\n",
       "    }\n",
       "\n",
       "    .dataframe thead th {\n",
       "        text-align: right;\n",
       "    }\n",
       "</style>\n",
       "<table border=\"1\" class=\"dataframe\">\n",
       "  <thead>\n",
       "    <tr style=\"text-align: right;\">\n",
       "      <th></th>\n",
       "      <th>f0</th>\n",
       "      <th>f1</th>\n",
       "      <th>f2</th>\n",
       "      <th>product</th>\n",
       "      <th>product_pred</th>\n",
       "      <th>profit_well</th>\n",
       "    </tr>\n",
       "  </thead>\n",
       "  <tbody>\n",
       "    <tr>\n",
       "      <th>75721</th>\n",
       "      <td>2.111118</td>\n",
       "      <td>-1.679773</td>\n",
       "      <td>3.112240</td>\n",
       "      <td>117.441301</td>\n",
       "      <td>98.301916</td>\n",
       "      <td>5.284859e+07</td>\n",
       "    </tr>\n",
       "    <tr>\n",
       "      <th>80184</th>\n",
       "      <td>0.734759</td>\n",
       "      <td>0.747788</td>\n",
       "      <td>3.670879</td>\n",
       "      <td>47.841249</td>\n",
       "      <td>101.592461</td>\n",
       "      <td>2.152856e+07</td>\n",
       "    </tr>\n",
       "    <tr>\n",
       "      <th>19864</th>\n",
       "      <td>-2.513109</td>\n",
       "      <td>0.844631</td>\n",
       "      <td>-4.922889</td>\n",
       "      <td>45.883483</td>\n",
       "      <td>52.449099</td>\n",
       "      <td>2.064757e+07</td>\n",
       "    </tr>\n",
       "    <tr>\n",
       "      <th>76699</th>\n",
       "      <td>-2.035301</td>\n",
       "      <td>-1.522988</td>\n",
       "      <td>5.072839</td>\n",
       "      <td>139.014608</td>\n",
       "      <td>109.922127</td>\n",
       "      <td>6.255657e+07</td>\n",
       "    </tr>\n",
       "    <tr>\n",
       "      <th>92991</th>\n",
       "      <td>2.744145</td>\n",
       "      <td>1.429952</td>\n",
       "      <td>-1.372661</td>\n",
       "      <td>84.004276</td>\n",
       "      <td>72.411847</td>\n",
       "      <td>3.780192e+07</td>\n",
       "    </tr>\n",
       "  </tbody>\n",
       "</table>\n",
       "</div>"
      ],
      "text/plain": [
       "             f0        f1        f2     product  product_pred   profit_well\n",
       "75721  2.111118 -1.679773  3.112240  117.441301     98.301916  5.284859e+07\n",
       "80184  0.734759  0.747788  3.670879   47.841249    101.592461  2.152856e+07\n",
       "19864 -2.513109  0.844631 -4.922889   45.883483     52.449099  2.064757e+07\n",
       "76699 -2.035301 -1.522988  5.072839  139.014608    109.922127  6.255657e+07\n",
       "92991  2.744145  1.429952 -1.372661   84.004276     72.411847  3.780192e+07"
      ]
     },
     "execution_count": 23,
     "metadata": {},
     "output_type": "execute_result"
    }
   ],
   "source": [
    "region_3_valid = profit_calculation(region_3_valid, 3)\n",
    "print(line)\n",
    "region_3_valid.head()"
   ]
  },
  {
   "cell_type": "markdown",
   "metadata": {},
   "source": [
    "<div style=\"border:solid black 1px; padding: 10px\">\n",
    "Создадим функцию для подсчета рисков"
   ]
  },
  {
   "cell_type": "code",
   "execution_count": 24,
   "metadata": {},
   "outputs": [],
   "source": [
    "def revenu(target, predictions, count):\n",
    "    \n",
    "    target = target.reset_index(drop=True)# Ни интернет Ни куратор не смогли мне точно ответить что ты от меня хочешь....... Я больше вообще не знаю куда применять этот reset_index ибо если его применять не в этоцй функции а в функции bootstrap то все равно срабатывает твоя 'печать'.... Даже если я обновлю индекса в датасетах отдельно от фенкций, угадай что... Ни в обучении и вооооооообще нигде не было про такое сказано а где про это почитать я вообще не знаю.\n",
    "    predictions = predictions.reset_index(drop=True)\n",
    "    \n",
    "    predictions_sorted = predictions.sort_values(ascending=False)\n",
    "    selected = target[predictions_sorted.index][:count]\n",
    "\n",
    "\n",
    "\n",
    "    # КОД РЕВЬЮЕРА, debug\n",
    "    if target[predictions_sorted.index].shape[0] != predictions_sorted.shape[0]:\n",
    "        print(f\"Shape mismatch! You took {target[predictions_sorted.index].shape[0]} target values!\")\n",
    "\n",
    "\n",
    "    return income * selected.sum() - budget\n",
    "\n",
    "def bootstrap(target,namber):\n",
    "    predictions = target['product_pred']\n",
    "    target = target['product'] \n",
    "    \n",
    "    values = []\n",
    "    for i in range(1000):\n",
    "        target_materials  = target.sample(selected, replace=True, random_state=state)\n",
    "        predictions_materials = predictions[target_materials.index]\n",
    "        \n",
    "        values.append(revenu(target_materials, predictions_materials, best_points))\n",
    "        \n",
    "    values = df.Series(values)\n",
    "    mean = values.mean()\n",
    "    interval = (values.quantile(0.025), values.quantile(0.975))\n",
    "    lower = values.quantile(0.025)\n",
    "    risk = (values < 0).mean()\n",
    "    \n",
    "    values.hist(figsize=(15, 6), bins=50)\n",
    "    plt.grid(True)\n",
    "    plt.axvline(values.quantile(0.025),linewidth = 2, linestyle =\"--\", color='green')\n",
    "    plt.axvline(values.quantile(0.975),linewidth = 2, linestyle =\"--\", color='red')\n",
    "    plt.legend(['Нижняя граница 95%-го доверительного интервала', \n",
    "                'Верхняя граница 95%-го доверительного интервала', \n",
    "                f'Распределение прибыли для region_{namber}'])\n",
    "    plt.xlabel('Прибыль')\n",
    "    plt.ylabel('Количество скважин из 200')\n",
    "    plt.title(f'Распределение прибыли для region_{namber}')\n",
    "    plt.show()\n",
    "    print(line)\n",
    "    print(f'Средняя прибыль с region_{namber} - {mean}')\n",
    "    print(line)\n",
    "    print(f'Доверительный интервал для region_{namber} - {interval}')\n",
    "    print(line)\n",
    "    print(f'25% квантиль для region_{namber} - {lower}')\n",
    "    print(line)\n",
    "    print('Риск для region_',namber,'{:.2%}'.format(risk))"
   ]
  },
  {
   "cell_type": "markdown",
   "metadata": {},
   "source": [
    "<div style=\"border:solid black 1px; padding: 10px\">\n",
    "Применим функцию bootstrap к region_1"
   ]
  },
  {
   "cell_type": "code",
   "execution_count": 27,
   "metadata": {},
   "outputs": [
    {
     "data": {
      "image/png": "[encoded data removed]",
      "text/plain": [
       "<Figure size 1080x432 with 1 Axes>"
      ]
     },
     "metadata": {},
     "output_type": "display_data"
    },
    {
     "name": "stdout",
     "output_type": "stream",
     "text": [
      "-------------------------------------------------------------------------------------------------------------------------------\n",
      "Средняя прибыль с region_1 - 406278783.42441905\n",
      "-------------------------------------------------------------------------------------------------------------------------------\n",
      "Доверительный интервал для region_1 - (-117742136.49486831, 911737050.7514055)\n",
      "-------------------------------------------------------------------------------------------------------------------------------\n",
      "25% квантиль для region_1 - -117742136.49486831\n",
      "-------------------------------------------------------------------------------------------------------------------------------\n",
      "Риск для region_ 1 6.70%\n"
     ]
    }
   ],
   "source": [
    "bootstrap(region_1_valid,1)"
   ]
  },
  {
   "cell_type": "markdown",
   "metadata": {},
   "source": [
    "<div style=\"border:solid black 1px; padding: 10px\">\n",
    "Применим функцию bootstrap к region_2"
   ]
  },
  {
   "cell_type": "code",
   "execution_count": 28,
   "metadata": {},
   "outputs": [
    {
     "data": {
      "image/png": "[encoded data removed]",
      "text/plain": [
       "<Figure size 1080x432 with 1 Axes>"
      ]
     },
     "metadata": {},
     "output_type": "display_data"
    },
    {
     "name": "stdout",
     "output_type": "stream",
     "text": [
      "-------------------------------------------------------------------------------------------------------------------------------\n",
      "Средняя прибыль с region_2 - 441504277.5922549\n",
      "-------------------------------------------------------------------------------------------------------------------------------\n",
      "Доверительный интервал для region_2 - (35728489.280851334, 828006639.0043902)\n",
      "-------------------------------------------------------------------------------------------------------------------------------\n",
      "25% квантиль для region_2 - 35728489.280851334\n",
      "-------------------------------------------------------------------------------------------------------------------------------\n",
      "Риск для region_ 2 1.60%\n"
     ]
    }
   ],
   "source": [
    "bootstrap(region_2_valid,2)"
   ]
  },
  {
   "cell_type": "markdown",
   "metadata": {},
   "source": [
    "<div style=\"border:solid black 1px; padding: 10px\">\n",
    "Применим функцию bootstrap к region_3"
   ]
  },
  {
   "cell_type": "code",
   "execution_count": 29,
   "metadata": {},
   "outputs": [
    {
     "data": {
      "image/png": "[encoded data removed]",
      "text/plain": [
       "<Figure size 1080x432 with 1 Axes>"
      ]
     },
     "metadata": {},
     "output_type": "display_data"
    },
    {
     "name": "stdout",
     "output_type": "stream",
     "text": [
      "-------------------------------------------------------------------------------------------------------------------------------\n",
      "Средняя прибыль с region_3 - 385213195.91415244\n",
      "-------------------------------------------------------------------------------------------------------------------------------\n",
      "Доверительный интервал для region_3 - (-164785166.1090443, 888206234.1976783)\n",
      "-------------------------------------------------------------------------------------------------------------------------------\n",
      "25% квантиль для region_3 - -164785166.1090443\n",
      "-------------------------------------------------------------------------------------------------------------------------------\n",
      "Риск для region_ 3 7.80%\n"
     ]
    }
   ],
   "source": [
    "bootstrap(region_3_valid,3)"
   ]
  },
  {
   "cell_type": "markdown",
   "metadata": {},
   "source": [
    "<div style=\"border:solid black 1px; padding: 10px\">\n",
    "<b>Вывод:</b>\n",
    "<br>Лучшая сумма целевого значения объёма сырья у region_1 - 654176.1715377384\n",
    "<br>Лушая сумма прибыли у region_1 - 294379277191.9823\n",
    "<br>Лучшая сумма чистой прибыли у region_1 - 284379277191.9823\n",
    "<br>Лучшая средняя прибыль у region_2 - 441504277.5922549\n",
    "<br>Самый высокий 25% квантиль у region_2 - 35728489.280851334\n",
    "<br>Меньший риск у region_2 - 1.60%"
   ]
  },
  {
   "cell_type": "markdown",
   "metadata": {},
   "source": [
    "<div style=\"border:solid black 1px; padding: 10px\">\n",
    "<b>Итоговый вывод:</b>\n",
    "<br>Данные по трем регионам:\n",
    "<br>    \n",
    "<b>Регион 1:</b> \n",
    "<br>Средний запас предсказанного сырья - 92.39879990657768\n",
    "<br>Разница между средним значением и достаточным объемом сырья - 18.712311204533435\n",
    "<br>Количество скважин которые больше или равны безубыточного объема - 5258    \n",
    "<br>Сумма целевого значения объёма сырья - 654176.1715377384\n",
    "<br>Сумма прибыли - 294379277191.9823\n",
    "<br>Сумма чистой прибыли - 284379277191.9823\n",
    "<br>Средняя прибыль с region_1 - 406278783.42441905\n",
    "<br>Доверительный интервал для region_1 - (-117742136.49486831, 911737050.7514055)\n",
    "<br>25% квантиль для region_1 - -117742136.49486831\n",
    "<br>Риск для region_ 1 6.70%\n",
    "<br>  \n",
    "<b>Регион 2:</b> \n",
    "<br>Средний запас предсказанного сырья - 68.71287803913762\n",
    "<br>Разница между средним значением и достаточным объемом сырья - 42.39823307197349\n",
    "<br>Количество скважин которые больше или равны безубыточного объема - 4520\n",
    "<br>Сумма целевого значения объёма сырья - 606279.60432903\n",
    "<br>Сумма прибыли - 272825821948.0635\n",
    "<br>Сумма чистой прибыли - 262825821948.0635\n",
    "<br>Средняя прибыль с region_2 - 441504277.5922549\n",
    "<br>Доверительный интервал для region_2 - (35728489.280851334, 828006639.0043902)\n",
    "<br>25% квантиль для region_2 - 35728489.280851334\n",
    "<br>Риск для region_ 2 1.60%\n",
    "<br>  \n",
    "<b>Регион 3:</b>\n",
    "<br>Средний запас предсказанного сырья - 94.77102387765939\n",
    "<br>Разница между средним значением и достаточным объемом сырья - 16.340087233451726\n",
    "<br>Количество скважин которые больше или равны безубыточного объема - 5239\n",
    "<br>Сумма целевого значения объёма сырья - 644810.4682064274\n",
    "<br>Сумма прибыли - 290164710692.89233\n",
    "<br>Сумма чистой прибыли - 280164710692.89233\n",
    "<br>Средняя прибыль с region_3 - 385213195.91415244\n",
    "<br>Доверительный интервал для region_3 - (-164785166.1090443, 888206234.1976783)\n",
    "<br>25% квантиль для region_3 - -164785166.1090443\n",
    "<br>Риск для region_ 3 7.80%   \n",
    "<br>  \n",
    "<b>Рекомендация:</b>\n",
    "<br>Лучше всего для разработки новых кважин выбирать между первым и третим регионом так как они похожи между собой. У них почти одинаковая сумма чистой прибыли и объема срья. Хоть наименьший показатель риска у второго региона, смотря на его расспределение объема сырья и другие показатели он выглядит самым нестабильным."
   ]
  }
 ],
 "metadata": {
  "ExecuteTimeLog": [
   {
    "duration": 361,
    "start_time": "2024-10-15T16:58:49.400Z"
   },
   {
    "duration": 533,
    "start_time": "2024-10-15T16:59:25.261Z"
   },
   {
    "duration": 167,
    "start_time": "2024-10-15T16:59:33.246Z"
   },
   {
    "duration": 166,
    "start_time": "2024-10-15T17:00:10.373Z"
   },
   {
    "duration": 168,
    "start_time": "2024-10-15T17:00:25.463Z"
   },
   {
    "duration": 61,
    "start_time": "2024-10-15T17:00:44.472Z"
   },
   {
    "duration": 171,
    "start_time": "2024-10-15T17:00:52.439Z"
   },
   {
    "duration": 224,
    "start_time": "2024-10-15T17:01:25.360Z"
   },
   {
    "duration": 4,
    "start_time": "2024-10-15T17:01:30.579Z"
   },
   {
    "duration": 3,
    "start_time": "2024-10-15T17:01:30.874Z"
   },
   {
    "duration": 161,
    "start_time": "2024-10-15T17:01:34.147Z"
   },
   {
    "duration": 3,
    "start_time": "2024-10-15T17:01:42.417Z"
   },
   {
    "duration": 3,
    "start_time": "2024-10-15T17:01:42.607Z"
   },
   {
    "duration": 180,
    "start_time": "2024-10-15T17:01:42.791Z"
   },
   {
    "duration": 3,
    "start_time": "2024-10-15T17:01:47.439Z"
   },
   {
    "duration": 5,
    "start_time": "2024-10-15T17:01:47.639Z"
   },
   {
    "duration": 196,
    "start_time": "2024-10-15T17:01:47.815Z"
   },
   {
    "duration": 261,
    "start_time": "2024-10-15T17:02:10.296Z"
   },
   {
    "duration": 253,
    "start_time": "2024-10-15T17:02:26.169Z"
   },
   {
    "duration": 8,
    "start_time": "2024-10-15T17:09:10.840Z"
   },
   {
    "duration": 11,
    "start_time": "2024-10-15T17:09:39.414Z"
   },
   {
    "duration": 18,
    "start_time": "2024-10-15T17:09:46.344Z"
   },
   {
    "duration": 1032,
    "start_time": "2024-10-15T17:10:06.587Z"
   },
   {
    "duration": 58,
    "start_time": "2024-10-15T17:10:09.734Z"
   },
   {
    "duration": 3,
    "start_time": "2024-10-15T17:10:25.193Z"
   },
   {
    "duration": 957,
    "start_time": "2024-10-15T17:10:30.181Z"
   },
   {
    "duration": 848,
    "start_time": "2024-10-15T17:10:41.994Z"
   },
   {
    "duration": 1739,
    "start_time": "2024-10-15T17:10:49.724Z"
   },
   {
    "duration": 2789,
    "start_time": "2024-10-15T17:11:17.783Z"
   },
   {
    "duration": 7,
    "start_time": "2024-10-15T17:12:30.079Z"
   },
   {
    "duration": 2968,
    "start_time": "2024-10-15T17:12:31.719Z"
   },
   {
    "duration": 63,
    "start_time": "2024-10-15T17:12:42.726Z"
   },
   {
    "duration": 2898,
    "start_time": "2024-10-15T17:12:43.095Z"
   },
   {
    "duration": 12,
    "start_time": "2024-10-15T17:13:52.002Z"
   },
   {
    "duration": 12,
    "start_time": "2024-10-15T17:14:11.885Z"
   },
   {
    "duration": 64,
    "start_time": "2024-10-15T17:14:17.210Z"
   },
   {
    "duration": 5,
    "start_time": "2024-10-15T17:14:25.968Z"
   },
   {
    "duration": 2421,
    "start_time": "2024-10-15T17:14:26.850Z"
   },
   {
    "duration": 5,
    "start_time": "2024-10-15T17:14:50.583Z"
   },
   {
    "duration": 329,
    "start_time": "2024-10-15T17:14:51.071Z"
   },
   {
    "duration": 5,
    "start_time": "2024-10-15T17:14:57.158Z"
   },
   {
    "duration": 2402,
    "start_time": "2024-10-15T17:14:57.329Z"
   },
   {
    "duration": 10,
    "start_time": "2024-10-15T17:15:30.023Z"
   },
   {
    "duration": 17,
    "start_time": "2024-10-15T17:15:38.238Z"
   },
   {
    "duration": 9,
    "start_time": "2024-10-15T17:17:50.573Z"
   },
   {
    "duration": 4,
    "start_time": "2024-10-15T17:17:53.312Z"
   },
   {
    "duration": 8,
    "start_time": "2024-10-15T17:18:26.009Z"
   },
   {
    "duration": 0,
    "start_time": "2024-10-15T17:18:26.019Z"
   },
   {
    "duration": 0,
    "start_time": "2024-10-15T17:18:26.046Z"
   },
   {
    "duration": 9,
    "start_time": "2024-10-15T17:18:36.184Z"
   },
   {
    "duration": 1197,
    "start_time": "2024-10-15T17:18:36.194Z"
   },
   {
    "duration": 169,
    "start_time": "2024-10-15T17:18:37.392Z"
   },
   {
    "duration": 145,
    "start_time": "2024-10-15T17:18:37.563Z"
   },
   {
    "duration": 161,
    "start_time": "2024-10-15T17:18:37.710Z"
   },
   {
    "duration": 5,
    "start_time": "2024-10-15T17:18:37.874Z"
   },
   {
    "duration": 2323,
    "start_time": "2024-10-15T17:18:37.881Z"
   },
   {
    "duration": 113,
    "start_time": "2024-10-15T17:31:08.092Z"
   },
   {
    "duration": 296,
    "start_time": "2024-10-15T17:31:59.972Z"
   },
   {
    "duration": 30,
    "start_time": "2024-10-15T17:32:03.131Z"
   },
   {
    "duration": 18,
    "start_time": "2024-10-15T17:32:24.901Z"
   },
   {
    "duration": 33,
    "start_time": "2024-10-15T17:32:32.338Z"
   },
   {
    "duration": 19,
    "start_time": "2024-10-15T17:32:44.275Z"
   },
   {
    "duration": 23,
    "start_time": "2024-10-15T17:35:18.769Z"
   },
   {
    "duration": 12,
    "start_time": "2024-10-15T17:35:29.669Z"
   },
   {
    "duration": 3,
    "start_time": "2024-10-15T17:35:48.921Z"
   },
   {
    "duration": 14,
    "start_time": "2024-10-15T17:35:53.109Z"
   },
   {
    "duration": 23,
    "start_time": "2024-10-15T17:36:45.541Z"
   },
   {
    "duration": 3,
    "start_time": "2024-10-15T17:37:00.602Z"
   },
   {
    "duration": 14,
    "start_time": "2024-10-15T17:38:34.914Z"
   },
   {
    "duration": 3,
    "start_time": "2024-10-15T17:38:49.281Z"
   },
   {
    "duration": 41,
    "start_time": "2024-10-15T17:38:52.607Z"
   },
   {
    "duration": 4,
    "start_time": "2024-10-15T17:39:08.289Z"
   },
   {
    "duration": 83,
    "start_time": "2024-10-15T17:39:12.069Z"
   },
   {
    "duration": 39,
    "start_time": "2024-10-15T17:39:34.906Z"
   },
   {
    "duration": 11,
    "start_time": "2024-10-15T17:40:58.266Z"
   },
   {
    "duration": 21,
    "start_time": "2024-10-15T17:41:40.249Z"
   },
   {
    "duration": 29,
    "start_time": "2024-10-15T17:41:44.638Z"
   },
   {
    "duration": 78,
    "start_time": "2024-10-15T17:42:33.491Z"
   },
   {
    "duration": 116,
    "start_time": "2024-10-15T19:03:20.345Z"
   },
   {
    "duration": 30,
    "start_time": "2024-10-15T19:03:31.672Z"
   },
   {
    "duration": 41,
    "start_time": "2024-10-15T19:03:46.108Z"
   },
   {
    "duration": 140,
    "start_time": "2024-10-15T19:06:56.103Z"
   },
   {
    "duration": 172,
    "start_time": "2024-10-15T19:07:09.474Z"
   },
   {
    "duration": 45,
    "start_time": "2024-10-15T19:07:57.418Z"
   },
   {
    "duration": 48,
    "start_time": "2024-10-15T19:09:01.397Z"
   },
   {
    "duration": 4,
    "start_time": "2024-10-15T19:11:11.792Z"
   },
   {
    "duration": 170,
    "start_time": "2024-10-15T19:11:12.171Z"
   },
   {
    "duration": 158,
    "start_time": "2024-10-15T19:11:12.376Z"
   },
   {
    "duration": 164,
    "start_time": "2024-10-15T19:11:12.575Z"
   },
   {
    "duration": 5,
    "start_time": "2024-10-15T19:11:12.785Z"
   },
   {
    "duration": 2308,
    "start_time": "2024-10-15T19:11:12.995Z"
   },
   {
    "duration": 140,
    "start_time": "2024-10-15T19:11:15.305Z"
   },
   {
    "duration": 196,
    "start_time": "2024-10-15T19:11:15.448Z"
   },
   {
    "duration": 196,
    "start_time": "2024-10-15T19:11:15.647Z"
   },
   {
    "duration": 63,
    "start_time": "2024-10-15T19:16:43.182Z"
   },
   {
    "duration": 121,
    "start_time": "2024-10-15T19:19:06.423Z"
   },
   {
    "duration": 4,
    "start_time": "2024-10-15T19:19:42.779Z"
   },
   {
    "duration": 70,
    "start_time": "2024-10-15T19:19:47.575Z"
   },
   {
    "duration": 25,
    "start_time": "2024-10-15T19:20:00.275Z"
   },
   {
    "duration": 61,
    "start_time": "2024-10-15T19:22:28.081Z"
   },
   {
    "duration": 175,
    "start_time": "2024-10-15T19:22:33.871Z"
   },
   {
    "duration": 7,
    "start_time": "2024-10-16T08:06:32.534Z"
   },
   {
    "duration": 1705,
    "start_time": "2024-10-16T08:06:32.542Z"
   },
   {
    "duration": 504,
    "start_time": "2024-10-16T08:06:34.249Z"
   },
   {
    "duration": 213,
    "start_time": "2024-10-16T08:06:34.755Z"
   },
   {
    "duration": 217,
    "start_time": "2024-10-16T08:06:34.970Z"
   },
   {
    "duration": 4,
    "start_time": "2024-10-16T08:06:35.189Z"
   },
   {
    "duration": 2208,
    "start_time": "2024-10-16T08:06:35.194Z"
   },
   {
    "duration": 318,
    "start_time": "2024-10-16T08:06:37.407Z"
   },
   {
    "duration": 89,
    "start_time": "2024-10-16T08:06:37.726Z"
   },
   {
    "duration": 191,
    "start_time": "2024-10-16T08:06:37.817Z"
   },
   {
    "duration": 25,
    "start_time": "2024-10-16T08:07:16.366Z"
   },
   {
    "duration": 11,
    "start_time": "2024-10-16T08:07:40.316Z"
   },
   {
    "duration": 32,
    "start_time": "2024-10-16T08:07:46.932Z"
   },
   {
    "duration": 21,
    "start_time": "2024-10-16T08:07:53.612Z"
   },
   {
    "duration": 14,
    "start_time": "2024-10-16T08:08:33.784Z"
   },
   {
    "duration": 29,
    "start_time": "2024-10-16T08:08:46.460Z"
   },
   {
    "duration": 21,
    "start_time": "2024-10-16T08:08:49.517Z"
   },
   {
    "duration": 7,
    "start_time": "2024-10-16T08:08:55.243Z"
   },
   {
    "duration": 1395,
    "start_time": "2024-10-16T08:08:55.252Z"
   },
   {
    "duration": 147,
    "start_time": "2024-10-16T08:08:56.648Z"
   },
   {
    "duration": 121,
    "start_time": "2024-10-16T08:08:56.797Z"
   },
   {
    "duration": 124,
    "start_time": "2024-10-16T08:08:56.920Z"
   },
   {
    "duration": 91,
    "start_time": "2024-10-16T08:08:57.045Z"
   },
   {
    "duration": 2228,
    "start_time": "2024-10-16T08:08:57.137Z"
   },
   {
    "duration": 49,
    "start_time": "2024-10-16T08:08:59.366Z"
   },
   {
    "duration": 290,
    "start_time": "2024-10-16T08:08:59.418Z"
   },
   {
    "duration": 112,
    "start_time": "2024-10-16T08:08:59.710Z"
   },
   {
    "duration": 216,
    "start_time": "2024-10-16T08:09:22.035Z"
   },
   {
    "duration": 33,
    "start_time": "2024-10-16T08:09:46.965Z"
   },
   {
    "duration": 14,
    "start_time": "2024-10-16T08:10:09.688Z"
   },
   {
    "duration": 12,
    "start_time": "2024-10-16T08:10:11.817Z"
   },
   {
    "duration": 25,
    "start_time": "2024-10-16T08:10:43.185Z"
   },
   {
    "duration": 67,
    "start_time": "2024-10-16T08:11:21.810Z"
   },
   {
    "duration": 101,
    "start_time": "2024-10-16T08:12:41.493Z"
   },
   {
    "duration": 35,
    "start_time": "2024-10-16T08:12:49.276Z"
   },
   {
    "duration": 7,
    "start_time": "2024-10-16T08:13:19.948Z"
   },
   {
    "duration": 1302,
    "start_time": "2024-10-16T08:13:19.958Z"
   },
   {
    "duration": 151,
    "start_time": "2024-10-16T08:13:21.262Z"
   },
   {
    "duration": 125,
    "start_time": "2024-10-16T08:13:21.414Z"
   },
   {
    "duration": 128,
    "start_time": "2024-10-16T08:13:21.540Z"
   },
   {
    "duration": 5,
    "start_time": "2024-10-16T08:13:21.670Z"
   },
   {
    "duration": 2071,
    "start_time": "2024-10-16T08:13:21.676Z"
   },
   {
    "duration": 59,
    "start_time": "2024-10-16T08:13:23.749Z"
   },
   {
    "duration": 124,
    "start_time": "2024-10-16T08:13:23.809Z"
   },
   {
    "duration": 343,
    "start_time": "2024-10-16T08:13:23.935Z"
   },
   {
    "duration": 24,
    "start_time": "2024-10-16T08:13:59.191Z"
   },
   {
    "duration": 24,
    "start_time": "2024-10-16T08:14:02.957Z"
   },
   {
    "duration": 198,
    "start_time": "2024-10-16T08:14:24.510Z"
   },
   {
    "duration": 82,
    "start_time": "2024-10-16T08:14:37.426Z"
   },
   {
    "duration": 20,
    "start_time": "2024-10-16T08:14:40.974Z"
   },
   {
    "duration": 14,
    "start_time": "2024-10-16T08:14:41.374Z"
   },
   {
    "duration": 23,
    "start_time": "2024-10-16T08:14:58.126Z"
   },
   {
    "duration": 14,
    "start_time": "2024-10-16T08:15:06.286Z"
   },
   {
    "duration": 21,
    "start_time": "2024-10-16T08:16:19.946Z"
   },
   {
    "duration": 23,
    "start_time": "2024-10-16T08:16:44.354Z"
   },
   {
    "duration": 22,
    "start_time": "2024-10-16T08:17:16.935Z"
   },
   {
    "duration": 16,
    "start_time": "2024-10-16T08:17:40.706Z"
   },
   {
    "duration": 17,
    "start_time": "2024-10-16T08:17:49.698Z"
   },
   {
    "duration": 15,
    "start_time": "2024-10-16T08:18:11.994Z"
   },
   {
    "duration": 16,
    "start_time": "2024-10-16T08:19:04.939Z"
   },
   {
    "duration": 15,
    "start_time": "2024-10-16T08:19:09.730Z"
   },
   {
    "duration": 23,
    "start_time": "2024-10-16T08:19:14.042Z"
   },
   {
    "duration": 16,
    "start_time": "2024-10-16T08:19:41.563Z"
   },
   {
    "duration": 22,
    "start_time": "2024-10-16T08:19:44.326Z"
   },
   {
    "duration": 15,
    "start_time": "2024-10-16T08:19:44.508Z"
   },
   {
    "duration": 8,
    "start_time": "2024-10-16T10:38:04.744Z"
   },
   {
    "duration": 1586,
    "start_time": "2024-10-16T10:38:04.753Z"
   },
   {
    "duration": 631,
    "start_time": "2024-10-16T10:38:06.341Z"
   },
   {
    "duration": 565,
    "start_time": "2024-10-16T10:38:06.974Z"
   },
   {
    "duration": 578,
    "start_time": "2024-10-16T10:38:07.540Z"
   },
   {
    "duration": 5,
    "start_time": "2024-10-16T10:38:08.120Z"
   },
   {
    "duration": 2381,
    "start_time": "2024-10-16T10:38:08.126Z"
   },
   {
    "duration": 168,
    "start_time": "2024-10-16T10:38:10.509Z"
   },
   {
    "duration": 99,
    "start_time": "2024-10-16T10:38:10.679Z"
   },
   {
    "duration": 201,
    "start_time": "2024-10-16T10:38:10.780Z"
   },
   {
    "duration": 4,
    "start_time": "2024-10-16T10:41:02.479Z"
   },
   {
    "duration": 26,
    "start_time": "2024-10-16T10:41:13.742Z"
   },
   {
    "duration": 4,
    "start_time": "2024-10-16T10:41:53.357Z"
   },
   {
    "duration": 26,
    "start_time": "2024-10-16T10:41:55.214Z"
   },
   {
    "duration": 105,
    "start_time": "2024-10-16T10:42:42.919Z"
   },
   {
    "duration": 5,
    "start_time": "2024-10-16T10:44:27.538Z"
   },
   {
    "duration": 66,
    "start_time": "2024-10-16T10:44:28.016Z"
   },
   {
    "duration": 28,
    "start_time": "2024-10-16T10:44:53.022Z"
   },
   {
    "duration": 118,
    "start_time": "2024-10-16T10:44:58.368Z"
   },
   {
    "duration": 30,
    "start_time": "2024-10-16T10:45:03.104Z"
   },
   {
    "duration": 12,
    "start_time": "2024-10-16T10:45:08.401Z"
   },
   {
    "duration": 5,
    "start_time": "2024-10-16T10:45:16.213Z"
   },
   {
    "duration": 283,
    "start_time": "2024-10-16T10:45:46.497Z"
   },
   {
    "duration": 28,
    "start_time": "2024-10-16T10:45:54.535Z"
   },
   {
    "duration": 26,
    "start_time": "2024-10-16T10:45:58.867Z"
   },
   {
    "duration": 9,
    "start_time": "2024-10-16T10:46:08.900Z"
   },
   {
    "duration": 4,
    "start_time": "2024-10-16T10:47:48.617Z"
   },
   {
    "duration": 33,
    "start_time": "2024-10-16T10:47:49.153Z"
   },
   {
    "duration": 4,
    "start_time": "2024-10-16T10:48:02.881Z"
   },
   {
    "duration": 27,
    "start_time": "2024-10-16T10:48:03.233Z"
   },
   {
    "duration": 27,
    "start_time": "2024-10-16T10:48:18.697Z"
   },
   {
    "duration": 183,
    "start_time": "2024-10-16T10:48:24.893Z"
   },
   {
    "duration": 42,
    "start_time": "2024-10-16T10:48:31.038Z"
   },
   {
    "duration": 113,
    "start_time": "2024-10-16T10:48:45.769Z"
   },
   {
    "duration": 71,
    "start_time": "2024-10-16T10:49:13.909Z"
   },
   {
    "duration": 120,
    "start_time": "2024-10-16T10:49:22.058Z"
   },
   {
    "duration": 4,
    "start_time": "2024-10-16T10:51:34.283Z"
   },
   {
    "duration": 59,
    "start_time": "2024-10-16T10:51:34.761Z"
   },
   {
    "duration": 8,
    "start_time": "2024-10-16T10:51:51.912Z"
   },
   {
    "duration": 1328,
    "start_time": "2024-10-16T10:51:51.922Z"
   },
   {
    "duration": 168,
    "start_time": "2024-10-16T10:51:53.252Z"
   },
   {
    "duration": 149,
    "start_time": "2024-10-16T10:51:53.422Z"
   },
   {
    "duration": 148,
    "start_time": "2024-10-16T10:51:53.573Z"
   },
   {
    "duration": 5,
    "start_time": "2024-10-16T10:51:53.722Z"
   },
   {
    "duration": 2274,
    "start_time": "2024-10-16T10:51:53.728Z"
   },
   {
    "duration": 5,
    "start_time": "2024-10-16T10:51:56.004Z"
   },
   {
    "duration": 175,
    "start_time": "2024-10-16T10:51:56.011Z"
   },
   {
    "duration": 0,
    "start_time": "2024-10-16T10:51:56.187Z"
   },
   {
    "duration": 0,
    "start_time": "2024-10-16T10:51:56.189Z"
   },
   {
    "duration": 19,
    "start_time": "2024-10-16T10:53:03.902Z"
   },
   {
    "duration": 1106,
    "start_time": "2024-10-16T10:53:09.558Z"
   },
   {
    "duration": 5,
    "start_time": "2024-10-16T10:53:31.755Z"
   },
   {
    "duration": 291,
    "start_time": "2024-10-16T10:53:32.159Z"
   },
   {
    "duration": 95,
    "start_time": "2024-10-16T10:53:32.586Z"
   },
   {
    "duration": 117,
    "start_time": "2024-10-16T10:53:32.961Z"
   },
   {
    "duration": 3,
    "start_time": "2024-10-16T11:17:43.685Z"
   },
   {
    "duration": 4,
    "start_time": "2024-10-16T11:18:02.792Z"
   },
   {
    "duration": 16,
    "start_time": "2024-10-16T11:18:05.597Z"
   },
   {
    "duration": 4,
    "start_time": "2024-10-16T11:18:54.017Z"
   },
   {
    "duration": 15,
    "start_time": "2024-10-16T11:18:56.120Z"
   },
   {
    "duration": 14,
    "start_time": "2024-10-16T11:19:26.941Z"
   },
   {
    "duration": 15,
    "start_time": "2024-10-16T11:19:45.785Z"
   },
   {
    "duration": 15,
    "start_time": "2024-10-16T11:19:46.008Z"
   },
   {
    "duration": 15,
    "start_time": "2024-10-16T11:19:46.195Z"
   },
   {
    "duration": 5,
    "start_time": "2024-10-16T11:20:09.025Z"
   },
   {
    "duration": 15,
    "start_time": "2024-10-16T11:44:06.255Z"
   },
   {
    "duration": 8,
    "start_time": "2024-10-16T11:44:15.987Z"
   },
   {
    "duration": 1384,
    "start_time": "2024-10-16T11:44:15.997Z"
   },
   {
    "duration": 185,
    "start_time": "2024-10-16T11:44:17.383Z"
   },
   {
    "duration": 155,
    "start_time": "2024-10-16T11:44:17.571Z"
   },
   {
    "duration": 155,
    "start_time": "2024-10-16T11:44:17.727Z"
   },
   {
    "duration": 5,
    "start_time": "2024-10-16T11:44:17.883Z"
   },
   {
    "duration": 2393,
    "start_time": "2024-10-16T11:44:17.890Z"
   },
   {
    "duration": 5,
    "start_time": "2024-10-16T11:44:20.285Z"
   },
   {
    "duration": 268,
    "start_time": "2024-10-16T11:44:20.291Z"
   },
   {
    "duration": 120,
    "start_time": "2024-10-16T11:44:20.561Z"
   },
   {
    "duration": 196,
    "start_time": "2024-10-16T11:44:20.684Z"
   },
   {
    "duration": 103,
    "start_time": "2024-10-16T11:44:20.882Z"
   },
   {
    "duration": 8,
    "start_time": "2024-10-16T14:27:57.849Z"
   },
   {
    "duration": 1719,
    "start_time": "2024-10-16T14:27:57.859Z"
   },
   {
    "duration": 745,
    "start_time": "2024-10-16T14:27:59.580Z"
   },
   {
    "duration": 600,
    "start_time": "2024-10-16T14:28:00.327Z"
   },
   {
    "duration": 607,
    "start_time": "2024-10-16T14:28:00.929Z"
   },
   {
    "duration": 4,
    "start_time": "2024-10-16T14:28:01.538Z"
   },
   {
    "duration": 2606,
    "start_time": "2024-10-16T14:28:01.544Z"
   },
   {
    "duration": 5,
    "start_time": "2024-10-16T14:28:04.151Z"
   },
   {
    "duration": 147,
    "start_time": "2024-10-16T14:28:04.158Z"
   },
   {
    "duration": 293,
    "start_time": "2024-10-16T14:28:04.307Z"
   },
   {
    "duration": 205,
    "start_time": "2024-10-16T14:28:04.602Z"
   },
   {
    "duration": 14,
    "start_time": "2024-10-16T14:28:04.898Z"
   },
   {
    "duration": 8,
    "start_time": "2024-10-17T16:11:11.211Z"
   },
   {
    "duration": 1614,
    "start_time": "2024-10-17T16:11:11.220Z"
   },
   {
    "duration": 722,
    "start_time": "2024-10-17T16:11:12.835Z"
   },
   {
    "duration": 592,
    "start_time": "2024-10-17T16:11:13.559Z"
   },
   {
    "duration": 558,
    "start_time": "2024-10-17T16:11:14.153Z"
   },
   {
    "duration": 5,
    "start_time": "2024-10-17T16:11:14.712Z"
   },
   {
    "duration": 2250,
    "start_time": "2024-10-17T16:11:14.718Z"
   },
   {
    "duration": 5,
    "start_time": "2024-10-17T16:11:16.970Z"
   },
   {
    "duration": 438,
    "start_time": "2024-10-17T16:11:16.976Z"
   },
   {
    "duration": 137,
    "start_time": "2024-10-17T16:11:17.416Z"
   },
   {
    "duration": 293,
    "start_time": "2024-10-17T16:11:17.559Z"
   },
   {
    "duration": 12,
    "start_time": "2024-10-17T16:11:17.854Z"
   },
   {
    "duration": 2,
    "start_time": "2024-10-17T16:16:28.704Z"
   },
   {
    "duration": 5,
    "start_time": "2024-10-17T16:16:46.243Z"
   },
   {
    "duration": 5,
    "start_time": "2024-10-17T16:17:20.062Z"
   },
   {
    "duration": 3,
    "start_time": "2024-10-17T16:17:37.503Z"
   },
   {
    "duration": 4,
    "start_time": "2024-10-17T16:19:23.115Z"
   },
   {
    "duration": 2,
    "start_time": "2024-10-17T16:19:24.867Z"
   },
   {
    "duration": 3,
    "start_time": "2024-10-17T16:19:25.040Z"
   },
   {
    "duration": 4,
    "start_time": "2024-10-17T16:19:25.746Z"
   },
   {
    "duration": 5,
    "start_time": "2024-10-17T16:20:49.315Z"
   },
   {
    "duration": 3,
    "start_time": "2024-10-17T16:22:34.741Z"
   },
   {
    "duration": 3,
    "start_time": "2024-10-17T16:23:11.036Z"
   },
   {
    "duration": 3,
    "start_time": "2024-10-17T16:23:45.037Z"
   },
   {
    "duration": 4,
    "start_time": "2024-10-17T16:24:21.611Z"
   },
   {
    "duration": 4,
    "start_time": "2024-10-17T16:24:38.117Z"
   },
   {
    "duration": 3,
    "start_time": "2024-10-17T16:24:52.988Z"
   },
   {
    "duration": 4,
    "start_time": "2024-10-17T16:24:57.316Z"
   },
   {
    "duration": 5,
    "start_time": "2024-10-17T16:25:40.553Z"
   },
   {
    "duration": 7,
    "start_time": "2024-10-17T16:25:44.729Z"
   },
   {
    "duration": 7,
    "start_time": "2024-10-17T16:26:14.012Z"
   },
   {
    "duration": 8,
    "start_time": "2024-10-17T16:26:23.140Z"
   },
   {
    "duration": 3,
    "start_time": "2024-10-17T16:26:43.573Z"
   },
   {
    "duration": 3,
    "start_time": "2024-10-17T16:41:13.484Z"
   },
   {
    "duration": 4,
    "start_time": "2024-10-17T16:41:44.061Z"
   },
   {
    "duration": 3,
    "start_time": "2024-10-17T16:41:59.815Z"
   },
   {
    "duration": 4,
    "start_time": "2024-10-17T16:42:04.952Z"
   },
   {
    "duration": 4,
    "start_time": "2024-10-17T16:42:48.345Z"
   },
   {
    "duration": 4,
    "start_time": "2024-10-17T16:42:52.128Z"
   },
   {
    "duration": 60,
    "start_time": "2024-10-17T16:43:05.075Z"
   },
   {
    "duration": 4,
    "start_time": "2024-10-17T16:43:08.608Z"
   },
   {
    "duration": 4,
    "start_time": "2024-10-17T16:43:21.485Z"
   },
   {
    "duration": 3,
    "start_time": "2024-10-17T16:43:52.033Z"
   },
   {
    "duration": 4,
    "start_time": "2024-10-17T16:45:53.365Z"
   },
   {
    "duration": 4,
    "start_time": "2024-10-17T16:45:59.561Z"
   },
   {
    "duration": 6,
    "start_time": "2024-10-17T16:47:16.106Z"
   },
   {
    "duration": 7,
    "start_time": "2024-10-20T05:46:19.500Z"
   },
   {
    "duration": 1480,
    "start_time": "2024-10-20T05:46:19.508Z"
   },
   {
    "duration": 489,
    "start_time": "2024-10-20T05:46:20.990Z"
   },
   {
    "duration": 199,
    "start_time": "2024-10-20T05:46:21.480Z"
   },
   {
    "duration": 207,
    "start_time": "2024-10-20T05:46:21.680Z"
   },
   {
    "duration": 4,
    "start_time": "2024-10-20T05:46:21.888Z"
   },
   {
    "duration": 2034,
    "start_time": "2024-10-20T05:46:21.894Z"
   },
   {
    "duration": 6,
    "start_time": "2024-10-20T05:46:23.929Z"
   },
   {
    "duration": 182,
    "start_time": "2024-10-20T05:46:23.937Z"
   },
   {
    "duration": 294,
    "start_time": "2024-10-20T05:46:24.120Z"
   },
   {
    "duration": 118,
    "start_time": "2024-10-20T05:46:24.416Z"
   },
   {
    "duration": 14,
    "start_time": "2024-10-20T05:46:24.606Z"
   },
   {
    "duration": 93,
    "start_time": "2024-10-20T05:46:24.621Z"
   },
   {
    "duration": 5,
    "start_time": "2024-10-20T05:46:24.715Z"
   },
   {
    "duration": 5,
    "start_time": "2024-10-20T05:46:24.722Z"
   },
   {
    "duration": 6,
    "start_time": "2024-10-20T05:46:24.728Z"
   },
   {
    "duration": 144,
    "start_time": "2024-10-20T05:47:12.535Z"
   },
   {
    "duration": 133,
    "start_time": "2024-10-20T05:47:14.370Z"
   },
   {
    "duration": 100,
    "start_time": "2024-10-20T05:47:25.197Z"
   },
   {
    "duration": 148,
    "start_time": "2024-10-20T05:47:31.230Z"
   },
   {
    "duration": 2081,
    "start_time": "2024-10-20T05:47:36.372Z"
   },
   {
    "duration": 61,
    "start_time": "2024-10-20T05:47:59.654Z"
   },
   {
    "duration": 77,
    "start_time": "2024-10-20T05:48:20.030Z"
   },
   {
    "duration": 113,
    "start_time": "2024-10-20T05:48:20.894Z"
   },
   {
    "duration": 51,
    "start_time": "2024-10-20T05:48:35.957Z"
   },
   {
    "duration": 2,
    "start_time": "2024-10-20T05:48:46.655Z"
   },
   {
    "duration": 3,
    "start_time": "2024-10-20T06:24:22.245Z"
   },
   {
    "duration": 58,
    "start_time": "2024-10-20T06:24:37.770Z"
   },
   {
    "duration": 64,
    "start_time": "2024-10-20T06:26:30.105Z"
   },
   {
    "duration": 1224,
    "start_time": "2024-10-20T06:27:07.860Z"
   },
   {
    "duration": 141,
    "start_time": "2024-10-20T06:27:09.086Z"
   },
   {
    "duration": 126,
    "start_time": "2024-10-20T06:27:09.228Z"
   },
   {
    "duration": 54,
    "start_time": "2024-10-20T06:27:09.356Z"
   },
   {
    "duration": 0,
    "start_time": "2024-10-20T06:27:09.413Z"
   },
   {
    "duration": 0,
    "start_time": "2024-10-20T06:27:09.414Z"
   },
   {
    "duration": 0,
    "start_time": "2024-10-20T06:27:09.415Z"
   },
   {
    "duration": 0,
    "start_time": "2024-10-20T06:27:09.424Z"
   },
   {
    "duration": 0,
    "start_time": "2024-10-20T06:27:09.425Z"
   },
   {
    "duration": 0,
    "start_time": "2024-10-20T06:27:09.427Z"
   },
   {
    "duration": 0,
    "start_time": "2024-10-20T06:27:09.429Z"
   },
   {
    "duration": 0,
    "start_time": "2024-10-20T06:27:09.430Z"
   },
   {
    "duration": 58,
    "start_time": "2024-10-20T06:30:09.728Z"
   },
   {
    "duration": 55,
    "start_time": "2024-10-20T06:30:18.847Z"
   },
   {
    "duration": 107,
    "start_time": "2024-10-20T06:30:28.070Z"
   },
   {
    "duration": 128,
    "start_time": "2024-10-20T06:30:39.682Z"
   },
   {
    "duration": 5,
    "start_time": "2024-10-20T06:30:39.855Z"
   },
   {
    "duration": 1921,
    "start_time": "2024-10-20T06:30:45.423Z"
   },
   {
    "duration": 59,
    "start_time": "2024-10-20T06:49:33.928Z"
   },
   {
    "duration": 54,
    "start_time": "2024-10-20T06:49:58.358Z"
   },
   {
    "duration": 58,
    "start_time": "2024-10-20T06:58:36.380Z"
   },
   {
    "duration": 4,
    "start_time": "2024-10-20T06:58:47.143Z"
   },
   {
    "duration": 73,
    "start_time": "2024-10-20T06:58:47.895Z"
   },
   {
    "duration": 243,
    "start_time": "2024-10-20T06:58:48.409Z"
   },
   {
    "duration": 39,
    "start_time": "2024-10-20T06:58:48.671Z"
   },
   {
    "duration": 103,
    "start_time": "2024-10-20T06:58:48.908Z"
   },
   {
    "duration": 377,
    "start_time": "2024-10-20T07:21:01.959Z"
   },
   {
    "duration": 73,
    "start_time": "2024-10-20T07:21:19.382Z"
   },
   {
    "duration": 129,
    "start_time": "2024-10-20T07:23:41.286Z"
   },
   {
    "duration": 1359,
    "start_time": "2024-10-20T07:25:00.200Z"
   },
   {
    "duration": 139,
    "start_time": "2024-10-20T07:25:01.561Z"
   },
   {
    "duration": 118,
    "start_time": "2024-10-20T07:25:01.701Z"
   },
   {
    "duration": 121,
    "start_time": "2024-10-20T07:25:01.821Z"
   },
   {
    "duration": 5,
    "start_time": "2024-10-20T07:25:01.943Z"
   },
   {
    "duration": 2198,
    "start_time": "2024-10-20T07:25:01.949Z"
   },
   {
    "duration": 5,
    "start_time": "2024-10-20T07:25:04.148Z"
   },
   {
    "duration": 153,
    "start_time": "2024-10-20T07:25:04.154Z"
   },
   {
    "duration": 206,
    "start_time": "2024-10-20T07:25:04.309Z"
   },
   {
    "duration": 106,
    "start_time": "2024-10-20T07:25:04.606Z"
   },
   {
    "duration": 185,
    "start_time": "2024-10-20T07:25:04.713Z"
   },
   {
    "duration": 1611,
    "start_time": "2024-10-20T19:36:16.274Z"
   },
   {
    "duration": 505,
    "start_time": "2024-10-20T19:36:17.887Z"
   },
   {
    "duration": 228,
    "start_time": "2024-10-20T19:36:18.395Z"
   },
   {
    "duration": 240,
    "start_time": "2024-10-20T19:36:18.626Z"
   },
   {
    "duration": 7,
    "start_time": "2024-10-20T19:36:18.868Z"
   },
   {
    "duration": 2158,
    "start_time": "2024-10-20T19:36:18.877Z"
   },
   {
    "duration": 6,
    "start_time": "2024-10-20T19:36:21.037Z"
   },
   {
    "duration": 266,
    "start_time": "2024-10-20T19:36:21.045Z"
   },
   {
    "duration": 132,
    "start_time": "2024-10-20T19:36:21.313Z"
   },
   {
    "duration": 201,
    "start_time": "2024-10-20T19:36:21.447Z"
   },
   {
    "duration": 196,
    "start_time": "2024-10-20T19:36:21.650Z"
   },
   {
    "duration": 8,
    "start_time": "2024-10-20T19:39:21.432Z"
   },
   {
    "duration": 15,
    "start_time": "2024-10-20T19:40:59.056Z"
   },
   {
    "duration": 10,
    "start_time": "2024-10-20T19:41:01.785Z"
   },
   {
    "duration": 55,
    "start_time": "2024-10-20T19:42:16.281Z"
   },
   {
    "duration": 53,
    "start_time": "2024-10-20T19:44:04.714Z"
   },
   {
    "duration": 3,
    "start_time": "2024-10-20T19:44:13.265Z"
   },
   {
    "duration": 3,
    "start_time": "2024-10-20T19:46:31.190Z"
   },
   {
    "duration": 4,
    "start_time": "2024-10-20T19:47:46.263Z"
   },
   {
    "duration": 3,
    "start_time": "2024-10-20T19:47:51.969Z"
   },
   {
    "duration": 4,
    "start_time": "2024-10-20T19:51:12.211Z"
   },
   {
    "duration": 4,
    "start_time": "2024-10-20T19:51:47.011Z"
   },
   {
    "duration": 4,
    "start_time": "2024-10-20T19:51:58.023Z"
   },
   {
    "duration": 4,
    "start_time": "2024-10-20T19:52:07.285Z"
   },
   {
    "duration": 3,
    "start_time": "2024-10-20T19:52:24.901Z"
   },
   {
    "duration": 4,
    "start_time": "2024-10-20T19:52:25.136Z"
   },
   {
    "duration": 4,
    "start_time": "2024-10-20T19:52:42.971Z"
   },
   {
    "duration": 4,
    "start_time": "2024-10-20T19:52:50.602Z"
   },
   {
    "duration": 4,
    "start_time": "2024-10-20T19:55:00.561Z"
   },
   {
    "duration": 4,
    "start_time": "2024-10-20T19:55:01.736Z"
   },
   {
    "duration": 4,
    "start_time": "2024-10-20T19:55:03.781Z"
   },
   {
    "duration": 4,
    "start_time": "2024-10-20T19:55:03.964Z"
   },
   {
    "duration": 5,
    "start_time": "2024-10-20T19:56:02.217Z"
   },
   {
    "duration": 5,
    "start_time": "2024-10-20T19:56:02.504Z"
   },
   {
    "duration": 5,
    "start_time": "2024-10-20T19:56:02.704Z"
   },
   {
    "duration": 5,
    "start_time": "2024-10-20T19:56:02.888Z"
   },
   {
    "duration": 1382,
    "start_time": "2024-10-20T20:46:51.011Z"
   },
   {
    "duration": 174,
    "start_time": "2024-10-20T20:46:52.395Z"
   },
   {
    "duration": 147,
    "start_time": "2024-10-20T20:46:52.571Z"
   },
   {
    "duration": 151,
    "start_time": "2024-10-20T20:46:52.720Z"
   },
   {
    "duration": 4,
    "start_time": "2024-10-20T20:46:52.873Z"
   },
   {
    "duration": 2288,
    "start_time": "2024-10-20T20:46:52.879Z"
   },
   {
    "duration": 4,
    "start_time": "2024-10-20T20:46:55.169Z"
   },
   {
    "duration": 169,
    "start_time": "2024-10-20T20:46:55.175Z"
   },
   {
    "duration": 295,
    "start_time": "2024-10-20T20:46:55.348Z"
   },
   {
    "duration": 200,
    "start_time": "2024-10-20T20:46:55.645Z"
   },
   {
    "duration": 8,
    "start_time": "2024-10-20T20:46:55.847Z"
   },
   {
    "duration": 28,
    "start_time": "2024-10-20T20:46:55.856Z"
   },
   {
    "duration": 30,
    "start_time": "2024-10-20T20:46:55.885Z"
   },
   {
    "duration": 20,
    "start_time": "2024-10-20T20:46:55.917Z"
   },
   {
    "duration": 4,
    "start_time": "2024-10-20T20:47:38.753Z"
   },
   {
    "duration": 126,
    "start_time": "2024-10-20T20:47:41.017Z"
   },
   {
    "duration": 205,
    "start_time": "2024-10-20T20:47:41.739Z"
   },
   {
    "duration": 102,
    "start_time": "2024-10-20T20:47:42.345Z"
   },
   {
    "duration": 4,
    "start_time": "2024-10-20T20:48:06.318Z"
   },
   {
    "duration": 5,
    "start_time": "2024-10-20T20:48:06.726Z"
   },
   {
    "duration": 5,
    "start_time": "2024-10-20T20:48:07.733Z"
   },
   {
    "duration": 4,
    "start_time": "2024-10-20T20:48:07.964Z"
   },
   {
    "duration": 119,
    "start_time": "2024-10-20T20:53:45.172Z"
   },
   {
    "duration": 4,
    "start_time": "2024-10-20T20:54:01.639Z"
   },
   {
    "duration": 4,
    "start_time": "2024-10-20T20:54:03.185Z"
   },
   {
    "duration": 4,
    "start_time": "2024-10-20T20:54:13.615Z"
   },
   {
    "duration": 3,
    "start_time": "2024-10-20T20:54:13.892Z"
   },
   {
    "duration": 3,
    "start_time": "2024-10-20T20:54:16.323Z"
   },
   {
    "duration": 4,
    "start_time": "2024-10-20T20:55:48.282Z"
   },
   {
    "duration": 7,
    "start_time": "2024-10-20T20:55:48.778Z"
   },
   {
    "duration": 56,
    "start_time": "2024-10-20T20:56:28.023Z"
   },
   {
    "duration": 6,
    "start_time": "2024-10-20T20:56:32.079Z"
   },
   {
    "duration": 6,
    "start_time": "2024-10-20T20:56:32.679Z"
   },
   {
    "duration": 5,
    "start_time": "2024-10-20T20:57:40.228Z"
   },
   {
    "duration": 7,
    "start_time": "2024-10-20T20:57:40.424Z"
   },
   {
    "duration": 5,
    "start_time": "2024-10-20T20:57:47.655Z"
   },
   {
    "duration": 6,
    "start_time": "2024-10-20T20:57:47.871Z"
   },
   {
    "duration": 7,
    "start_time": "2024-10-20T20:57:50.428Z"
   },
   {
    "duration": 6,
    "start_time": "2024-10-20T20:57:52.683Z"
   },
   {
    "duration": 1486,
    "start_time": "2024-10-21T06:56:04.226Z"
   },
   {
    "duration": 495,
    "start_time": "2024-10-21T06:56:05.714Z"
   },
   {
    "duration": 199,
    "start_time": "2024-10-21T06:56:06.211Z"
   },
   {
    "duration": 214,
    "start_time": "2024-10-21T06:56:06.412Z"
   },
   {
    "duration": 5,
    "start_time": "2024-10-21T06:56:06.628Z"
   },
   {
    "duration": 2044,
    "start_time": "2024-10-21T06:56:06.634Z"
   },
   {
    "duration": 4,
    "start_time": "2024-10-21T06:56:08.679Z"
   },
   {
    "duration": 223,
    "start_time": "2024-10-21T06:56:08.685Z"
   },
   {
    "duration": 103,
    "start_time": "2024-10-21T06:56:08.910Z"
   },
   {
    "duration": 296,
    "start_time": "2024-10-21T06:56:09.015Z"
   },
   {
    "duration": 5,
    "start_time": "2024-10-21T06:56:09.313Z"
   },
   {
    "duration": 89,
    "start_time": "2024-10-21T06:56:09.407Z"
   },
   {
    "duration": 5,
    "start_time": "2024-10-21T06:56:09.497Z"
   },
   {
    "duration": 8,
    "start_time": "2024-10-21T06:56:09.504Z"
   },
   {
    "duration": 9,
    "start_time": "2024-10-21T06:57:32.861Z"
   },
   {
    "duration": 10,
    "start_time": "2024-10-21T06:58:04.525Z"
   },
   {
    "duration": 8,
    "start_time": "2024-10-21T06:58:24.703Z"
   },
   {
    "duration": 104,
    "start_time": "2024-10-21T06:58:30.279Z"
   },
   {
    "duration": 10,
    "start_time": "2024-10-21T06:59:06.021Z"
   },
   {
    "duration": 8,
    "start_time": "2024-10-21T07:00:22.887Z"
   },
   {
    "duration": 22,
    "start_time": "2024-10-21T07:00:32.573Z"
   },
   {
    "duration": 10,
    "start_time": "2024-10-21T07:01:07.276Z"
   },
   {
    "duration": 14,
    "start_time": "2024-10-21T07:01:17.343Z"
   },
   {
    "duration": 7,
    "start_time": "2024-10-21T07:02:21.910Z"
   },
   {
    "duration": 19,
    "start_time": "2024-10-21T07:02:26.169Z"
   },
   {
    "duration": 7,
    "start_time": "2024-10-21T07:02:37.910Z"
   },
   {
    "duration": 9,
    "start_time": "2024-10-21T07:02:47.513Z"
   },
   {
    "duration": 4,
    "start_time": "2024-10-21T07:03:28.241Z"
   },
   {
    "duration": 5,
    "start_time": "2024-10-21T07:03:28.497Z"
   },
   {
    "duration": 6,
    "start_time": "2024-10-21T07:03:29.303Z"
   },
   {
    "duration": 6,
    "start_time": "2024-10-21T07:03:29.895Z"
   },
   {
    "duration": 3,
    "start_time": "2024-10-21T07:10:30.984Z"
   },
   {
    "duration": 5,
    "start_time": "2024-10-21T07:10:31.552Z"
   },
   {
    "duration": 4,
    "start_time": "2024-10-21T07:10:58.153Z"
   },
   {
    "duration": 5,
    "start_time": "2024-10-21T07:10:58.378Z"
   },
   {
    "duration": 5,
    "start_time": "2024-10-21T07:10:58.625Z"
   },
   {
    "duration": 5,
    "start_time": "2024-10-21T07:10:58.858Z"
   },
   {
    "duration": 3,
    "start_time": "2024-10-21T07:18:43.361Z"
   },
   {
    "duration": 848,
    "start_time": "2024-10-21T07:18:57.674Z"
   },
   {
    "duration": 2,
    "start_time": "2024-10-21T07:19:35.092Z"
   },
   {
    "duration": 765,
    "start_time": "2024-10-21T07:19:35.284Z"
   },
   {
    "duration": 3,
    "start_time": "2024-10-21T07:19:44.732Z"
   },
   {
    "duration": 6,
    "start_time": "2024-10-21T07:19:44.924Z"
   },
   {
    "duration": 3,
    "start_time": "2024-10-21T07:20:14.694Z"
   },
   {
    "duration": 4,
    "start_time": "2024-10-21T07:20:18.777Z"
   },
   {
    "duration": 3,
    "start_time": "2024-10-21T07:20:30.151Z"
   },
   {
    "duration": 6,
    "start_time": "2024-10-21T07:20:37.595Z"
   },
   {
    "duration": 10,
    "start_time": "2024-10-21T07:20:43.502Z"
   },
   {
    "duration": 4,
    "start_time": "2024-10-21T07:21:06.122Z"
   },
   {
    "duration": 6,
    "start_time": "2024-10-21T07:21:08.978Z"
   },
   {
    "duration": 4,
    "start_time": "2024-10-21T07:22:12.588Z"
   },
   {
    "duration": 5,
    "start_time": "2024-10-21T07:22:17.708Z"
   },
   {
    "duration": 4,
    "start_time": "2024-10-21T07:23:12.748Z"
   },
   {
    "duration": 6,
    "start_time": "2024-10-21T07:23:17.244Z"
   },
   {
    "duration": 3,
    "start_time": "2024-10-21T07:24:32.397Z"
   },
   {
    "duration": 7,
    "start_time": "2024-10-21T07:31:33.015Z"
   },
   {
    "duration": 3,
    "start_time": "2024-10-21T07:31:48.150Z"
   },
   {
    "duration": 8,
    "start_time": "2024-10-21T07:31:48.694Z"
   },
   {
    "duration": 1345,
    "start_time": "2024-10-21T07:32:08.778Z"
   },
   {
    "duration": 143,
    "start_time": "2024-10-21T07:32:10.125Z"
   },
   {
    "duration": 122,
    "start_time": "2024-10-21T07:32:10.270Z"
   },
   {
    "duration": 122,
    "start_time": "2024-10-21T07:32:10.394Z"
   },
   {
    "duration": 5,
    "start_time": "2024-10-21T07:32:10.518Z"
   },
   {
    "duration": 2284,
    "start_time": "2024-10-21T07:32:10.525Z"
   },
   {
    "duration": 5,
    "start_time": "2024-10-21T07:32:12.810Z"
   },
   {
    "duration": 322,
    "start_time": "2024-10-21T07:32:12.816Z"
   },
   {
    "duration": 70,
    "start_time": "2024-10-21T07:32:13.140Z"
   },
   {
    "duration": 196,
    "start_time": "2024-10-21T07:32:13.213Z"
   },
   {
    "duration": 5,
    "start_time": "2024-10-21T07:32:13.410Z"
   },
   {
    "duration": 108,
    "start_time": "2024-10-21T07:32:13.417Z"
   },
   {
    "duration": 7,
    "start_time": "2024-10-21T07:32:13.527Z"
   },
   {
    "duration": 116,
    "start_time": "2024-10-21T07:32:13.536Z"
   },
   {
    "duration": 13,
    "start_time": "2024-10-21T07:32:13.653Z"
   },
   {
    "duration": 100,
    "start_time": "2024-10-21T07:32:13.667Z"
   },
   {
    "duration": 5,
    "start_time": "2024-10-21T07:32:53.221Z"
   },
   {
    "duration": 2,
    "start_time": "2024-10-21T07:32:59.608Z"
   },
   {
    "duration": 4,
    "start_time": "2024-10-21T07:32:59.983Z"
   },
   {
    "duration": 3,
    "start_time": "2024-10-21T07:34:08.069Z"
   },
   {
    "duration": 4,
    "start_time": "2024-10-21T07:34:08.253Z"
   },
   {
    "duration": 4,
    "start_time": "2024-10-21T07:34:55.437Z"
   },
   {
    "duration": 4,
    "start_time": "2024-10-21T07:34:55.724Z"
   },
   {
    "duration": 8,
    "start_time": "2024-10-21T07:36:01.270Z"
   },
   {
    "duration": 3,
    "start_time": "2024-10-21T07:36:03.374Z"
   },
   {
    "duration": 5,
    "start_time": "2024-10-21T07:36:03.553Z"
   },
   {
    "duration": 3,
    "start_time": "2024-10-21T07:36:27.814Z"
   },
   {
    "duration": 5,
    "start_time": "2024-10-21T07:36:28.014Z"
   },
   {
    "duration": 4,
    "start_time": "2024-10-21T07:36:49.310Z"
   },
   {
    "duration": 4,
    "start_time": "2024-10-21T07:36:49.485Z"
   },
   {
    "duration": 6,
    "start_time": "2024-10-21T07:37:31.424Z"
   },
   {
    "duration": 6,
    "start_time": "2024-10-21T07:37:31.600Z"
   },
   {
    "duration": 3,
    "start_time": "2024-10-21T07:48:18.475Z"
   },
   {
    "duration": 8,
    "start_time": "2024-10-21T07:48:18.643Z"
   },
   {
    "duration": 5,
    "start_time": "2024-10-21T07:48:38.051Z"
   },
   {
    "duration": 9,
    "start_time": "2024-10-21T07:49:03.050Z"
   },
   {
    "duration": 15,
    "start_time": "2024-10-21T07:49:11.106Z"
   },
   {
    "duration": 3,
    "start_time": "2024-10-21T07:50:32.499Z"
   },
   {
    "duration": 17,
    "start_time": "2024-10-21T07:50:32.682Z"
   },
   {
    "duration": 17,
    "start_time": "2024-10-21T07:50:39.996Z"
   },
   {
    "duration": 4,
    "start_time": "2024-10-21T07:50:49.747Z"
   },
   {
    "duration": 16,
    "start_time": "2024-10-21T07:50:50.394Z"
   },
   {
    "duration": 3,
    "start_time": "2024-10-21T07:51:04.157Z"
   },
   {
    "duration": 7,
    "start_time": "2024-10-21T07:51:04.314Z"
   },
   {
    "duration": 4,
    "start_time": "2024-10-21T07:53:25.348Z"
   },
   {
    "duration": 769,
    "start_time": "2024-10-21T07:53:25.982Z"
   },
   {
    "duration": 5,
    "start_time": "2024-10-21T07:53:47.764Z"
   },
   {
    "duration": 1244,
    "start_time": "2024-10-21T07:53:53.450Z"
   },
   {
    "duration": 142,
    "start_time": "2024-10-21T07:53:54.696Z"
   },
   {
    "duration": 117,
    "start_time": "2024-10-21T07:53:54.839Z"
   },
   {
    "duration": 118,
    "start_time": "2024-10-21T07:53:54.958Z"
   },
   {
    "duration": 4,
    "start_time": "2024-10-21T07:53:55.078Z"
   },
   {
    "duration": 2052,
    "start_time": "2024-10-21T07:53:55.083Z"
   },
   {
    "duration": 5,
    "start_time": "2024-10-21T07:53:57.136Z"
   },
   {
    "duration": 312,
    "start_time": "2024-10-21T07:53:57.142Z"
   },
   {
    "duration": 55,
    "start_time": "2024-10-21T07:53:57.455Z"
   },
   {
    "duration": 196,
    "start_time": "2024-10-21T07:53:57.512Z"
   },
   {
    "duration": 5,
    "start_time": "2024-10-21T07:53:57.709Z"
   },
   {
    "duration": 117,
    "start_time": "2024-10-21T07:53:57.716Z"
   },
   {
    "duration": 6,
    "start_time": "2024-10-21T07:53:57.835Z"
   },
   {
    "duration": 5,
    "start_time": "2024-10-21T07:53:57.843Z"
   },
   {
    "duration": 23,
    "start_time": "2024-10-21T07:53:57.850Z"
   },
   {
    "duration": 33,
    "start_time": "2024-10-21T07:53:57.874Z"
   },
   {
    "duration": 21,
    "start_time": "2024-10-21T07:53:57.909Z"
   },
   {
    "duration": 18,
    "start_time": "2024-10-21T07:53:57.931Z"
   },
   {
    "duration": 17,
    "start_time": "2024-10-21T07:53:57.951Z"
   },
   {
    "duration": 12,
    "start_time": "2024-10-21T07:55:18.547Z"
   },
   {
    "duration": 11,
    "start_time": "2024-10-21T07:55:29.931Z"
   },
   {
    "duration": 15,
    "start_time": "2024-10-21T07:55:56.956Z"
   },
   {
    "duration": 12,
    "start_time": "2024-10-21T07:56:08.667Z"
   },
   {
    "duration": 1239,
    "start_time": "2024-10-21T09:58:15.670Z"
   },
   {
    "duration": 138,
    "start_time": "2024-10-21T09:58:16.911Z"
   },
   {
    "duration": 119,
    "start_time": "2024-10-21T09:58:17.050Z"
   },
   {
    "duration": 121,
    "start_time": "2024-10-21T09:58:17.170Z"
   },
   {
    "duration": 4,
    "start_time": "2024-10-21T09:58:17.292Z"
   },
   {
    "duration": 2041,
    "start_time": "2024-10-21T09:58:17.298Z"
   },
   {
    "duration": 5,
    "start_time": "2024-10-21T09:58:19.340Z"
   },
   {
    "duration": 265,
    "start_time": "2024-10-21T09:58:19.346Z"
   },
   {
    "duration": 96,
    "start_time": "2024-10-21T09:58:19.612Z"
   },
   {
    "duration": 200,
    "start_time": "2024-10-21T09:58:19.711Z"
   },
   {
    "duration": 91,
    "start_time": "2024-10-21T09:58:19.916Z"
   },
   {
    "duration": 9,
    "start_time": "2024-10-21T09:58:20.009Z"
   },
   {
    "duration": 10,
    "start_time": "2024-10-21T09:58:20.019Z"
   },
   {
    "duration": 14,
    "start_time": "2024-10-21T09:58:20.030Z"
   },
   {
    "duration": 3,
    "start_time": "2024-10-21T09:58:20.046Z"
   },
   {
    "duration": 35,
    "start_time": "2024-10-21T09:58:20.051Z"
   },
   {
    "duration": 11,
    "start_time": "2024-10-21T09:58:20.087Z"
   },
   {
    "duration": 10,
    "start_time": "2024-10-21T09:58:20.099Z"
   },
   {
    "duration": 1466,
    "start_time": "2024-10-22T07:55:45.648Z"
   },
   {
    "duration": 543,
    "start_time": "2024-10-22T07:55:47.116Z"
   },
   {
    "duration": 198,
    "start_time": "2024-10-22T07:55:47.660Z"
   },
   {
    "duration": 206,
    "start_time": "2024-10-22T07:55:47.860Z"
   },
   {
    "duration": 6,
    "start_time": "2024-10-22T07:55:48.067Z"
   },
   {
    "duration": 2185,
    "start_time": "2024-10-22T07:55:48.074Z"
   },
   {
    "duration": 4,
    "start_time": "2024-10-22T07:55:50.260Z"
   },
   {
    "duration": 342,
    "start_time": "2024-10-22T07:55:50.266Z"
   },
   {
    "duration": 101,
    "start_time": "2024-10-22T07:55:50.610Z"
   },
   {
    "duration": 294,
    "start_time": "2024-10-22T07:55:50.714Z"
   },
   {
    "duration": 5,
    "start_time": "2024-10-22T07:55:51.010Z"
   },
   {
    "duration": 103,
    "start_time": "2024-10-22T07:55:51.016Z"
   },
   {
    "duration": 15,
    "start_time": "2024-10-22T07:55:51.121Z"
   },
   {
    "duration": 37,
    "start_time": "2024-10-22T07:55:51.138Z"
   },
   {
    "duration": 5,
    "start_time": "2024-10-22T07:55:51.177Z"
   },
   {
    "duration": 22,
    "start_time": "2024-10-22T07:55:51.184Z"
   },
   {
    "duration": 12,
    "start_time": "2024-10-22T07:55:51.208Z"
   },
   {
    "duration": 36,
    "start_time": "2024-10-22T07:55:51.221Z"
   },
   {
    "duration": 100,
    "start_time": "2024-10-22T08:10:26.981Z"
   },
   {
    "duration": 3,
    "start_time": "2024-10-22T08:10:44.294Z"
   },
   {
    "duration": 3,
    "start_time": "2024-10-22T08:10:48.387Z"
   },
   {
    "duration": 239,
    "start_time": "2024-10-22T08:11:04.577Z"
   },
   {
    "duration": 9,
    "start_time": "2024-10-22T08:11:53.836Z"
   },
   {
    "duration": 923,
    "start_time": "2024-10-22T08:20:11.256Z"
   },
   {
    "duration": 853,
    "start_time": "2024-10-22T08:20:19.512Z"
   },
   {
    "duration": 659,
    "start_time": "2024-10-22T08:22:37.345Z"
   },
   {
    "duration": 661,
    "start_time": "2024-10-22T08:22:48.800Z"
   },
   {
    "duration": 3,
    "start_time": "2024-10-22T08:29:57.475Z"
   },
   {
    "duration": 2,
    "start_time": "2024-10-22T08:31:23.778Z"
   },
   {
    "duration": 4,
    "start_time": "2024-10-22T08:31:42.923Z"
   },
   {
    "duration": 3,
    "start_time": "2024-10-22T08:32:38.771Z"
   },
   {
    "duration": 9,
    "start_time": "2024-10-22T08:33:24.851Z"
   },
   {
    "duration": 276,
    "start_time": "2024-10-22T08:33:30.755Z"
   },
   {
    "duration": 239,
    "start_time": "2024-10-22T08:33:36.869Z"
   },
   {
    "duration": 247,
    "start_time": "2024-10-22T08:34:43.491Z"
   },
   {
    "duration": 313,
    "start_time": "2024-10-22T08:35:44.920Z"
   },
   {
    "duration": 231,
    "start_time": "2024-10-22T08:36:03.461Z"
   },
   {
    "duration": 270,
    "start_time": "2024-10-22T08:36:31.559Z"
   },
   {
    "duration": 238,
    "start_time": "2024-10-22T08:36:35.140Z"
   },
   {
    "duration": 242,
    "start_time": "2024-10-22T09:16:42.475Z"
   },
   {
    "duration": 232,
    "start_time": "2024-10-22T09:17:04.205Z"
   },
   {
    "duration": 236,
    "start_time": "2024-10-22T09:21:33.759Z"
   },
   {
    "duration": 742,
    "start_time": "2024-10-22T09:22:38.408Z"
   },
   {
    "duration": 261,
    "start_time": "2024-10-22T09:23:12.705Z"
   },
   {
    "duration": 12,
    "start_time": "2024-10-22T09:23:18.779Z"
   },
   {
    "duration": 9,
    "start_time": "2024-10-22T09:23:31.760Z"
   },
   {
    "duration": 8,
    "start_time": "2024-10-22T09:23:33.727Z"
   },
   {
    "duration": 240,
    "start_time": "2024-10-22T09:24:08.256Z"
   },
   {
    "duration": 222,
    "start_time": "2024-10-22T09:24:28.601Z"
   },
   {
    "duration": 232,
    "start_time": "2024-10-22T09:24:39.847Z"
   },
   {
    "duration": 14,
    "start_time": "2024-10-22T09:24:47.369Z"
   },
   {
    "duration": 227,
    "start_time": "2024-10-22T09:24:57.872Z"
   },
   {
    "duration": 222,
    "start_time": "2024-10-22T09:25:04.367Z"
   },
   {
    "duration": 217,
    "start_time": "2024-10-22T09:25:10.657Z"
   },
   {
    "duration": 235,
    "start_time": "2024-10-22T09:26:37.081Z"
   },
   {
    "duration": 18,
    "start_time": "2024-10-22T09:26:41.480Z"
   },
   {
    "duration": 11,
    "start_time": "2024-10-22T09:30:15.987Z"
   },
   {
    "duration": 13,
    "start_time": "2024-10-22T09:30:27.161Z"
   },
   {
    "duration": 228,
    "start_time": "2024-10-22T09:30:37.917Z"
   },
   {
    "duration": 229,
    "start_time": "2024-10-22T09:31:05.666Z"
   },
   {
    "duration": 239,
    "start_time": "2024-10-22T09:31:20.231Z"
   },
   {
    "duration": 1536,
    "start_time": "2024-10-22T12:21:52.190Z"
   },
   {
    "duration": 620,
    "start_time": "2024-10-22T12:21:53.728Z"
   },
   {
    "duration": 541,
    "start_time": "2024-10-22T12:21:54.349Z"
   },
   {
    "duration": 552,
    "start_time": "2024-10-22T12:21:54.892Z"
   },
   {
    "duration": 5,
    "start_time": "2024-10-22T12:21:55.446Z"
   },
   {
    "duration": 2120,
    "start_time": "2024-10-22T12:21:55.452Z"
   },
   {
    "duration": 5,
    "start_time": "2024-10-22T12:21:57.574Z"
   },
   {
    "duration": 322,
    "start_time": "2024-10-22T12:21:57.580Z"
   },
   {
    "duration": 172,
    "start_time": "2024-10-22T12:21:57.904Z"
   },
   {
    "duration": 107,
    "start_time": "2024-10-22T12:21:58.079Z"
   },
   {
    "duration": 3,
    "start_time": "2024-10-22T12:21:58.276Z"
   },
   {
    "duration": 4,
    "start_time": "2024-10-22T12:21:58.280Z"
   },
   {
    "duration": 6,
    "start_time": "2024-10-22T12:21:58.286Z"
   },
   {
    "duration": 6,
    "start_time": "2024-10-22T12:21:58.294Z"
   },
   {
    "duration": 6,
    "start_time": "2024-10-22T12:21:58.302Z"
   },
   {
    "duration": 5,
    "start_time": "2024-10-22T12:21:58.310Z"
   },
   {
    "duration": 60,
    "start_time": "2024-10-22T12:21:58.316Z"
   },
   {
    "duration": 15,
    "start_time": "2024-10-22T12:21:58.378Z"
   },
   {
    "duration": 13,
    "start_time": "2024-10-22T12:21:58.395Z"
   },
   {
    "duration": 149,
    "start_time": "2024-10-22T12:21:58.410Z"
   },
   {
    "duration": 0,
    "start_time": "2024-10-22T12:21:58.560Z"
   },
   {
    "duration": 15,
    "start_time": "2024-10-22T12:24:04.805Z"
   },
   {
    "duration": 16,
    "start_time": "2024-10-22T12:32:12.402Z"
   },
   {
    "duration": 16,
    "start_time": "2024-10-22T12:33:49.101Z"
   },
   {
    "duration": 15,
    "start_time": "2024-10-22T12:36:13.819Z"
   },
   {
    "duration": 1427,
    "start_time": "2024-10-22T12:36:19.333Z"
   },
   {
    "duration": 169,
    "start_time": "2024-10-22T12:36:20.762Z"
   },
   {
    "duration": 145,
    "start_time": "2024-10-22T12:36:20.932Z"
   },
   {
    "duration": 146,
    "start_time": "2024-10-22T12:36:21.080Z"
   },
   {
    "duration": 5,
    "start_time": "2024-10-22T12:36:21.228Z"
   },
   {
    "duration": 2136,
    "start_time": "2024-10-22T12:36:21.234Z"
   },
   {
    "duration": 4,
    "start_time": "2024-10-22T12:36:23.376Z"
   },
   {
    "duration": 267,
    "start_time": "2024-10-22T12:36:23.382Z"
   },
   {
    "duration": 131,
    "start_time": "2024-10-22T12:36:23.651Z"
   },
   {
    "duration": 195,
    "start_time": "2024-10-22T12:36:23.786Z"
   },
   {
    "duration": 93,
    "start_time": "2024-10-22T12:36:23.984Z"
   },
   {
    "duration": 5,
    "start_time": "2024-10-22T12:36:24.078Z"
   },
   {
    "duration": 6,
    "start_time": "2024-10-22T12:36:24.085Z"
   },
   {
    "duration": 6,
    "start_time": "2024-10-22T12:36:24.093Z"
   },
   {
    "duration": 7,
    "start_time": "2024-10-22T12:36:24.100Z"
   },
   {
    "duration": 4,
    "start_time": "2024-10-22T12:36:24.108Z"
   },
   {
    "duration": 16,
    "start_time": "2024-10-22T12:36:24.113Z"
   },
   {
    "duration": 59,
    "start_time": "2024-10-22T12:36:24.130Z"
   },
   {
    "duration": 58,
    "start_time": "2024-10-22T12:36:24.190Z"
   },
   {
    "duration": 115,
    "start_time": "2024-10-22T12:36:24.249Z"
   },
   {
    "duration": 0,
    "start_time": "2024-10-22T12:36:24.366Z"
   },
   {
    "duration": 14,
    "start_time": "2024-10-22T12:36:27.742Z"
   },
   {
    "duration": 15,
    "start_time": "2024-10-22T12:43:54.667Z"
   },
   {
    "duration": 303,
    "start_time": "2024-10-22T12:44:47.444Z"
   },
   {
    "duration": 16,
    "start_time": "2024-10-22T12:44:55.051Z"
   },
   {
    "duration": 178381,
    "start_time": "2024-10-22T12:51:02.068Z"
   },
   {
    "duration": 25,
    "start_time": "2024-10-22T12:54:53.787Z"
   },
   {
    "duration": 15,
    "start_time": "2024-10-22T12:54:56.372Z"
   },
   {
    "duration": 7320,
    "start_time": "2024-10-22T12:55:20.100Z"
   },
   {
    "duration": 625,
    "start_time": "2024-10-22T12:55:32.957Z"
   },
   {
    "duration": 0,
    "start_time": "2024-10-22T12:55:33.586Z"
   },
   {
    "duration": 0,
    "start_time": "2024-10-22T12:55:33.588Z"
   },
   {
    "duration": 0,
    "start_time": "2024-10-22T12:55:33.589Z"
   },
   {
    "duration": 0,
    "start_time": "2024-10-22T12:55:33.590Z"
   },
   {
    "duration": 0,
    "start_time": "2024-10-22T12:55:33.591Z"
   },
   {
    "duration": 0,
    "start_time": "2024-10-22T12:55:33.592Z"
   },
   {
    "duration": 0,
    "start_time": "2024-10-22T12:55:33.594Z"
   },
   {
    "duration": 0,
    "start_time": "2024-10-22T12:55:33.595Z"
   },
   {
    "duration": 0,
    "start_time": "2024-10-22T12:55:33.596Z"
   },
   {
    "duration": 0,
    "start_time": "2024-10-22T12:55:33.598Z"
   },
   {
    "duration": 0,
    "start_time": "2024-10-22T12:55:33.599Z"
   },
   {
    "duration": 0,
    "start_time": "2024-10-22T12:55:33.601Z"
   },
   {
    "duration": 0,
    "start_time": "2024-10-22T12:55:33.602Z"
   },
   {
    "duration": 0,
    "start_time": "2024-10-22T12:55:33.603Z"
   },
   {
    "duration": 0,
    "start_time": "2024-10-22T12:55:33.604Z"
   },
   {
    "duration": 0,
    "start_time": "2024-10-22T12:55:33.605Z"
   },
   {
    "duration": 0,
    "start_time": "2024-10-22T12:55:33.606Z"
   },
   {
    "duration": 0,
    "start_time": "2024-10-22T12:55:33.608Z"
   },
   {
    "duration": 0,
    "start_time": "2024-10-22T12:55:33.609Z"
   },
   {
    "duration": 0,
    "start_time": "2024-10-22T12:55:33.610Z"
   },
   {
    "duration": 0,
    "start_time": "2024-10-22T12:55:33.612Z"
   },
   {
    "duration": 3588,
    "start_time": "2024-10-22T12:56:10.102Z"
   },
   {
    "duration": 98,
    "start_time": "2024-10-22T12:56:17.525Z"
   },
   {
    "duration": 3653,
    "start_time": "2024-10-22T12:56:26.004Z"
   },
   {
    "duration": 615,
    "start_time": "2024-10-22T12:56:29.660Z"
   },
   {
    "duration": 0,
    "start_time": "2024-10-22T12:56:30.278Z"
   },
   {
    "duration": 0,
    "start_time": "2024-10-22T12:56:30.280Z"
   },
   {
    "duration": 0,
    "start_time": "2024-10-22T12:56:30.281Z"
   },
   {
    "duration": 0,
    "start_time": "2024-10-22T12:56:30.282Z"
   },
   {
    "duration": 0,
    "start_time": "2024-10-22T12:56:30.283Z"
   },
   {
    "duration": 0,
    "start_time": "2024-10-22T12:56:30.284Z"
   },
   {
    "duration": 0,
    "start_time": "2024-10-22T12:56:30.285Z"
   },
   {
    "duration": 0,
    "start_time": "2024-10-22T12:56:30.287Z"
   },
   {
    "duration": 0,
    "start_time": "2024-10-22T12:56:30.288Z"
   },
   {
    "duration": 0,
    "start_time": "2024-10-22T12:56:30.290Z"
   },
   {
    "duration": 0,
    "start_time": "2024-10-22T12:56:30.291Z"
   },
   {
    "duration": 0,
    "start_time": "2024-10-22T12:56:30.292Z"
   },
   {
    "duration": 0,
    "start_time": "2024-10-22T12:56:30.293Z"
   },
   {
    "duration": 0,
    "start_time": "2024-10-22T12:56:30.294Z"
   },
   {
    "duration": 0,
    "start_time": "2024-10-22T12:56:30.295Z"
   },
   {
    "duration": 0,
    "start_time": "2024-10-22T12:56:30.296Z"
   },
   {
    "duration": 0,
    "start_time": "2024-10-22T12:56:30.298Z"
   },
   {
    "duration": 0,
    "start_time": "2024-10-22T12:56:30.299Z"
   },
   {
    "duration": 0,
    "start_time": "2024-10-22T12:56:30.301Z"
   },
   {
    "duration": 0,
    "start_time": "2024-10-22T12:56:30.302Z"
   },
   {
    "duration": 629,
    "start_time": "2024-10-22T12:56:40.065Z"
   },
   {
    "duration": 0,
    "start_time": "2024-10-22T12:56:40.698Z"
   },
   {
    "duration": 0,
    "start_time": "2024-10-22T12:56:40.700Z"
   },
   {
    "duration": 0,
    "start_time": "2024-10-22T12:56:40.702Z"
   },
   {
    "duration": 0,
    "start_time": "2024-10-22T12:56:40.703Z"
   },
   {
    "duration": 0,
    "start_time": "2024-10-22T12:56:40.705Z"
   },
   {
    "duration": 0,
    "start_time": "2024-10-22T12:56:40.706Z"
   },
   {
    "duration": 0,
    "start_time": "2024-10-22T12:56:40.708Z"
   },
   {
    "duration": 0,
    "start_time": "2024-10-22T12:56:40.709Z"
   },
   {
    "duration": 0,
    "start_time": "2024-10-22T12:56:40.711Z"
   },
   {
    "duration": 0,
    "start_time": "2024-10-22T12:56:40.712Z"
   },
   {
    "duration": 0,
    "start_time": "2024-10-22T12:56:40.714Z"
   },
   {
    "duration": 0,
    "start_time": "2024-10-22T12:56:40.716Z"
   },
   {
    "duration": 0,
    "start_time": "2024-10-22T12:56:40.717Z"
   },
   {
    "duration": 0,
    "start_time": "2024-10-22T12:56:40.720Z"
   },
   {
    "duration": 0,
    "start_time": "2024-10-22T12:56:40.722Z"
   },
   {
    "duration": 0,
    "start_time": "2024-10-22T12:56:40.724Z"
   },
   {
    "duration": 0,
    "start_time": "2024-10-22T12:56:40.725Z"
   },
   {
    "duration": 0,
    "start_time": "2024-10-22T12:56:40.727Z"
   },
   {
    "duration": 0,
    "start_time": "2024-10-22T12:56:40.775Z"
   },
   {
    "duration": 0,
    "start_time": "2024-10-22T12:56:40.778Z"
   },
   {
    "duration": 1563,
    "start_time": "2024-10-22T18:24:17.091Z"
   },
   {
    "duration": 639,
    "start_time": "2024-10-22T18:24:18.657Z"
   },
   {
    "duration": 556,
    "start_time": "2024-10-22T18:24:19.297Z"
   },
   {
    "duration": 579,
    "start_time": "2024-10-22T18:24:19.854Z"
   },
   {
    "duration": 5,
    "start_time": "2024-10-22T18:24:20.435Z"
   },
   {
    "duration": 2151,
    "start_time": "2024-10-22T18:24:20.441Z"
   },
   {
    "duration": 4,
    "start_time": "2024-10-22T18:24:22.594Z"
   },
   {
    "duration": 248,
    "start_time": "2024-10-22T18:24:22.600Z"
   },
   {
    "duration": 129,
    "start_time": "2024-10-22T18:24:22.849Z"
   },
   {
    "duration": 202,
    "start_time": "2024-10-22T18:24:22.981Z"
   },
   {
    "duration": 91,
    "start_time": "2024-10-22T18:24:23.185Z"
   },
   {
    "duration": 12,
    "start_time": "2024-10-22T18:24:23.278Z"
   },
   {
    "duration": 7,
    "start_time": "2024-10-22T18:24:23.291Z"
   },
   {
    "duration": 6,
    "start_time": "2024-10-22T18:24:23.300Z"
   },
   {
    "duration": 6,
    "start_time": "2024-10-22T18:24:23.307Z"
   },
   {
    "duration": 3,
    "start_time": "2024-10-22T18:24:23.315Z"
   },
   {
    "duration": 17,
    "start_time": "2024-10-22T18:24:23.320Z"
   },
   {
    "duration": 42,
    "start_time": "2024-10-22T18:24:23.338Z"
   },
   {
    "duration": 15,
    "start_time": "2024-10-22T18:24:23.382Z"
   },
   {
    "duration": 128,
    "start_time": "2024-10-22T18:24:23.399Z"
   },
   {
    "duration": 0,
    "start_time": "2024-10-22T18:24:23.529Z"
   },
   {
    "duration": 1376,
    "start_time": "2024-10-23T05:27:18.764Z"
   },
   {
    "duration": 525,
    "start_time": "2024-10-23T05:27:20.141Z"
   },
   {
    "duration": 191,
    "start_time": "2024-10-23T05:27:20.670Z"
   },
   {
    "duration": 191,
    "start_time": "2024-10-23T05:27:20.863Z"
   },
   {
    "duration": 4,
    "start_time": "2024-10-23T05:27:21.055Z"
   },
   {
    "duration": 2030,
    "start_time": "2024-10-23T05:27:21.060Z"
   },
   {
    "duration": 4,
    "start_time": "2024-10-23T05:27:23.091Z"
   },
   {
    "duration": 216,
    "start_time": "2024-10-23T05:27:23.097Z"
   },
   {
    "duration": 53,
    "start_time": "2024-10-23T05:27:23.363Z"
   },
   {
    "duration": 196,
    "start_time": "2024-10-23T05:27:23.417Z"
   },
   {
    "duration": 93,
    "start_time": "2024-10-23T05:27:23.619Z"
   },
   {
    "duration": 11,
    "start_time": "2024-10-23T05:27:23.714Z"
   },
   {
    "duration": 24,
    "start_time": "2024-10-23T05:27:23.726Z"
   },
   {
    "duration": 8,
    "start_time": "2024-10-23T05:27:23.751Z"
   },
   {
    "duration": 17,
    "start_time": "2024-10-23T05:27:23.760Z"
   },
   {
    "duration": 4,
    "start_time": "2024-10-23T05:27:23.778Z"
   },
   {
    "duration": 29,
    "start_time": "2024-10-23T05:27:23.783Z"
   },
   {
    "duration": 10,
    "start_time": "2024-10-23T05:27:23.814Z"
   },
   {
    "duration": 16,
    "start_time": "2024-10-23T05:27:23.825Z"
   },
   {
    "duration": 115,
    "start_time": "2024-10-23T05:27:23.842Z"
   },
   {
    "duration": 0,
    "start_time": "2024-10-23T05:27:23.958Z"
   },
   {
    "duration": 618,
    "start_time": "2024-10-23T06:45:03.528Z"
   },
   {
    "duration": 0,
    "start_time": "2024-10-23T06:45:04.148Z"
   },
   {
    "duration": 0,
    "start_time": "2024-10-23T06:45:04.149Z"
   },
   {
    "duration": 0,
    "start_time": "2024-10-23T06:45:04.151Z"
   },
   {
    "duration": 0,
    "start_time": "2024-10-23T06:45:04.152Z"
   },
   {
    "duration": 0,
    "start_time": "2024-10-23T06:45:04.153Z"
   },
   {
    "duration": 0,
    "start_time": "2024-10-23T06:45:04.154Z"
   },
   {
    "duration": 0,
    "start_time": "2024-10-23T06:45:04.155Z"
   },
   {
    "duration": 0,
    "start_time": "2024-10-23T06:45:04.156Z"
   },
   {
    "duration": 0,
    "start_time": "2024-10-23T06:45:04.156Z"
   },
   {
    "duration": 0,
    "start_time": "2024-10-23T06:45:04.157Z"
   },
   {
    "duration": 0,
    "start_time": "2024-10-23T06:45:04.158Z"
   },
   {
    "duration": 0,
    "start_time": "2024-10-23T06:45:04.159Z"
   },
   {
    "duration": 0,
    "start_time": "2024-10-23T06:45:04.160Z"
   },
   {
    "duration": 0,
    "start_time": "2024-10-23T06:45:04.161Z"
   },
   {
    "duration": 0,
    "start_time": "2024-10-23T06:45:04.162Z"
   },
   {
    "duration": 0,
    "start_time": "2024-10-23T06:45:04.163Z"
   },
   {
    "duration": 0,
    "start_time": "2024-10-23T06:45:04.164Z"
   },
   {
    "duration": 0,
    "start_time": "2024-10-23T06:45:04.165Z"
   },
   {
    "duration": 0,
    "start_time": "2024-10-23T06:45:04.166Z"
   },
   {
    "duration": 0,
    "start_time": "2024-10-23T06:45:04.167Z"
   },
   {
    "duration": 626,
    "start_time": "2024-10-23T07:00:31.534Z"
   },
   {
    "duration": 0,
    "start_time": "2024-10-23T07:00:32.162Z"
   },
   {
    "duration": 0,
    "start_time": "2024-10-23T07:00:32.163Z"
   },
   {
    "duration": 0,
    "start_time": "2024-10-23T07:00:32.164Z"
   },
   {
    "duration": 0,
    "start_time": "2024-10-23T07:00:32.165Z"
   },
   {
    "duration": 0,
    "start_time": "2024-10-23T07:00:32.166Z"
   },
   {
    "duration": 0,
    "start_time": "2024-10-23T07:00:32.167Z"
   },
   {
    "duration": 0,
    "start_time": "2024-10-23T07:00:32.168Z"
   },
   {
    "duration": 0,
    "start_time": "2024-10-23T07:00:32.169Z"
   },
   {
    "duration": 0,
    "start_time": "2024-10-23T07:00:32.170Z"
   },
   {
    "duration": 0,
    "start_time": "2024-10-23T07:00:32.171Z"
   },
   {
    "duration": 0,
    "start_time": "2024-10-23T07:00:32.172Z"
   },
   {
    "duration": 0,
    "start_time": "2024-10-23T07:00:32.173Z"
   },
   {
    "duration": 0,
    "start_time": "2024-10-23T07:00:32.174Z"
   },
   {
    "duration": 0,
    "start_time": "2024-10-23T07:00:32.175Z"
   },
   {
    "duration": 0,
    "start_time": "2024-10-23T07:00:32.176Z"
   },
   {
    "duration": 0,
    "start_time": "2024-10-23T07:00:32.177Z"
   },
   {
    "duration": 0,
    "start_time": "2024-10-23T07:00:32.178Z"
   },
   {
    "duration": 0,
    "start_time": "2024-10-23T07:00:32.179Z"
   },
   {
    "duration": 0,
    "start_time": "2024-10-23T07:00:32.180Z"
   },
   {
    "duration": 0,
    "start_time": "2024-10-23T07:00:32.181Z"
   },
   {
    "duration": 622,
    "start_time": "2024-10-23T07:22:21.821Z"
   },
   {
    "duration": 0,
    "start_time": "2024-10-23T07:22:22.445Z"
   },
   {
    "duration": 0,
    "start_time": "2024-10-23T07:22:22.447Z"
   },
   {
    "duration": 0,
    "start_time": "2024-10-23T07:22:22.448Z"
   },
   {
    "duration": 0,
    "start_time": "2024-10-23T07:22:22.450Z"
   },
   {
    "duration": 0,
    "start_time": "2024-10-23T07:22:22.451Z"
   },
   {
    "duration": 0,
    "start_time": "2024-10-23T07:22:22.453Z"
   },
   {
    "duration": 0,
    "start_time": "2024-10-23T07:22:22.454Z"
   },
   {
    "duration": 0,
    "start_time": "2024-10-23T07:22:22.455Z"
   },
   {
    "duration": 0,
    "start_time": "2024-10-23T07:22:22.457Z"
   },
   {
    "duration": 0,
    "start_time": "2024-10-23T07:22:22.458Z"
   },
   {
    "duration": 0,
    "start_time": "2024-10-23T07:22:22.459Z"
   },
   {
    "duration": 0,
    "start_time": "2024-10-23T07:22:22.461Z"
   },
   {
    "duration": 0,
    "start_time": "2024-10-23T07:22:22.462Z"
   },
   {
    "duration": 0,
    "start_time": "2024-10-23T07:22:22.463Z"
   },
   {
    "duration": 0,
    "start_time": "2024-10-23T07:22:22.465Z"
   },
   {
    "duration": 0,
    "start_time": "2024-10-23T07:22:22.466Z"
   },
   {
    "duration": 0,
    "start_time": "2024-10-23T07:22:22.467Z"
   },
   {
    "duration": 0,
    "start_time": "2024-10-23T07:22:22.468Z"
   },
   {
    "duration": 0,
    "start_time": "2024-10-23T07:22:22.470Z"
   },
   {
    "duration": 0,
    "start_time": "2024-10-23T07:22:22.471Z"
   },
   {
    "duration": 2630,
    "start_time": "2024-10-23T07:22:49.060Z"
   },
   {
    "duration": 17,
    "start_time": "2024-10-23T07:22:51.693Z"
   },
   {
    "duration": 2584,
    "start_time": "2024-10-23T07:23:02.964Z"
   },
   {
    "duration": 17,
    "start_time": "2024-10-23T07:23:05.550Z"
   },
   {
    "duration": 642,
    "start_time": "2024-10-23T07:24:24.179Z"
   },
   {
    "duration": 0,
    "start_time": "2024-10-23T07:24:24.822Z"
   },
   {
    "duration": 0,
    "start_time": "2024-10-23T07:24:24.823Z"
   },
   {
    "duration": 0,
    "start_time": "2024-10-23T07:24:24.824Z"
   },
   {
    "duration": 0,
    "start_time": "2024-10-23T07:24:24.825Z"
   },
   {
    "duration": 0,
    "start_time": "2024-10-23T07:24:24.826Z"
   },
   {
    "duration": 0,
    "start_time": "2024-10-23T07:24:24.827Z"
   },
   {
    "duration": 0,
    "start_time": "2024-10-23T07:24:24.828Z"
   },
   {
    "duration": 0,
    "start_time": "2024-10-23T07:24:24.829Z"
   },
   {
    "duration": 0,
    "start_time": "2024-10-23T07:24:24.830Z"
   },
   {
    "duration": 0,
    "start_time": "2024-10-23T07:24:24.831Z"
   },
   {
    "duration": 0,
    "start_time": "2024-10-23T07:24:24.832Z"
   },
   {
    "duration": 0,
    "start_time": "2024-10-23T07:24:24.832Z"
   },
   {
    "duration": 0,
    "start_time": "2024-10-23T07:24:24.833Z"
   },
   {
    "duration": 0,
    "start_time": "2024-10-23T07:24:24.834Z"
   },
   {
    "duration": 0,
    "start_time": "2024-10-23T07:24:24.835Z"
   },
   {
    "duration": 0,
    "start_time": "2024-10-23T07:24:24.836Z"
   },
   {
    "duration": 0,
    "start_time": "2024-10-23T07:24:24.836Z"
   },
   {
    "duration": 0,
    "start_time": "2024-10-23T07:24:24.837Z"
   },
   {
    "duration": 0,
    "start_time": "2024-10-23T07:24:24.838Z"
   },
   {
    "duration": 0,
    "start_time": "2024-10-23T07:24:24.839Z"
   },
   {
    "duration": 1578,
    "start_time": "2024-10-23T19:06:23.384Z"
   },
   {
    "duration": 533,
    "start_time": "2024-10-23T19:06:24.964Z"
   },
   {
    "duration": 201,
    "start_time": "2024-10-23T19:06:25.498Z"
   },
   {
    "duration": 200,
    "start_time": "2024-10-23T19:06:25.701Z"
   },
   {
    "duration": 4,
    "start_time": "2024-10-23T19:06:25.903Z"
   },
   {
    "duration": 2036,
    "start_time": "2024-10-23T19:06:25.908Z"
   },
   {
    "duration": 3,
    "start_time": "2024-10-23T19:06:27.946Z"
   },
   {
    "duration": 257,
    "start_time": "2024-10-23T19:06:27.951Z"
   },
   {
    "duration": 199,
    "start_time": "2024-10-23T19:06:28.209Z"
   },
   {
    "duration": 130,
    "start_time": "2024-10-23T19:06:28.411Z"
   },
   {
    "duration": 5,
    "start_time": "2024-10-23T19:06:28.608Z"
   },
   {
    "duration": 7,
    "start_time": "2024-10-23T19:06:28.620Z"
   },
   {
    "duration": 15,
    "start_time": "2024-10-23T19:06:28.708Z"
   },
   {
    "duration": 9,
    "start_time": "2024-10-23T19:06:28.725Z"
   },
   {
    "duration": 6,
    "start_time": "2024-10-23T19:06:28.735Z"
   },
   {
    "duration": 3,
    "start_time": "2024-10-23T19:06:28.743Z"
   },
   {
    "duration": 25,
    "start_time": "2024-10-23T19:06:28.748Z"
   },
   {
    "duration": 12,
    "start_time": "2024-10-23T19:06:28.774Z"
   },
   {
    "duration": 16,
    "start_time": "2024-10-23T19:06:28.808Z"
   },
   {
    "duration": 130,
    "start_time": "2024-10-23T19:06:28.825Z"
   },
   {
    "duration": 0,
    "start_time": "2024-10-23T19:06:28.956Z"
   },
   {
    "duration": 15,
    "start_time": "2024-10-23T19:10:54.750Z"
   },
   {
    "duration": 3,
    "start_time": "2024-10-23T19:16:21.830Z"
   },
   {
    "duration": 2,
    "start_time": "2024-10-23T19:16:36.470Z"
   },
   {
    "duration": 17,
    "start_time": "2024-10-23T19:16:36.818Z"
   },
   {
    "duration": 1074,
    "start_time": "2024-10-23T19:16:49.638Z"
   },
   {
    "duration": 1076,
    "start_time": "2024-10-23T19:17:00.581Z"
   },
   {
    "duration": 5,
    "start_time": "2024-10-23T19:18:19.035Z"
   },
   {
    "duration": 73,
    "start_time": "2024-10-23T19:21:09.688Z"
   },
   {
    "duration": 1071,
    "start_time": "2024-10-23T19:21:25.100Z"
   },
   {
    "duration": 1047,
    "start_time": "2024-10-23T19:22:52.788Z"
   },
   {
    "duration": 55,
    "start_time": "2024-10-23T19:25:55.726Z"
   },
   {
    "duration": 1071,
    "start_time": "2024-10-23T19:26:03.808Z"
   },
   {
    "duration": 1150,
    "start_time": "2024-10-23T19:27:24.697Z"
   },
   {
    "duration": 55,
    "start_time": "2024-10-23T19:28:44.857Z"
   },
   {
    "duration": 1123,
    "start_time": "2024-10-23T19:28:50.218Z"
   },
   {
    "duration": 6,
    "start_time": "2024-10-23T19:29:03.102Z"
   },
   {
    "duration": 1035,
    "start_time": "2024-10-23T19:29:08.185Z"
   },
   {
    "duration": 1078,
    "start_time": "2024-10-23T19:29:16.389Z"
   },
   {
    "duration": 1124,
    "start_time": "2024-10-23T19:29:25.794Z"
   },
   {
    "duration": 4,
    "start_time": "2024-10-23T19:29:57.589Z"
   },
   {
    "duration": 5,
    "start_time": "2024-10-23T19:31:08.851Z"
   },
   {
    "duration": 1612,
    "start_time": "2024-10-24T19:10:00.516Z"
   },
   {
    "duration": 519,
    "start_time": "2024-10-24T19:10:02.130Z"
   },
   {
    "duration": 249,
    "start_time": "2024-10-24T19:10:02.650Z"
   },
   {
    "duration": 228,
    "start_time": "2024-10-24T19:10:02.901Z"
   },
   {
    "duration": 5,
    "start_time": "2024-10-24T19:10:03.131Z"
   },
   {
    "duration": 2124,
    "start_time": "2024-10-24T19:10:03.137Z"
   },
   {
    "duration": 4,
    "start_time": "2024-10-24T19:10:05.263Z"
   },
   {
    "duration": 389,
    "start_time": "2024-10-24T19:10:05.269Z"
   },
   {
    "duration": 93,
    "start_time": "2024-10-24T19:10:05.659Z"
   },
   {
    "duration": 199,
    "start_time": "2024-10-24T19:10:05.845Z"
   },
   {
    "duration": 12,
    "start_time": "2024-10-24T19:10:06.045Z"
   },
   {
    "duration": 15,
    "start_time": "2024-10-24T19:10:06.058Z"
   },
   {
    "duration": 25,
    "start_time": "2024-10-24T19:10:06.075Z"
   },
   {
    "duration": 10,
    "start_time": "2024-10-24T19:10:06.102Z"
   },
   {
    "duration": 7,
    "start_time": "2024-10-24T19:10:06.114Z"
   },
   {
    "duration": 104,
    "start_time": "2024-10-24T19:10:06.123Z"
   },
   {
    "duration": 62,
    "start_time": "2024-10-24T19:10:06.228Z"
   },
   {
    "duration": 28,
    "start_time": "2024-10-24T19:10:06.292Z"
   },
   {
    "duration": 14,
    "start_time": "2024-10-24T19:10:06.322Z"
   },
   {
    "duration": 7,
    "start_time": "2024-10-24T19:10:06.338Z"
   },
   {
    "duration": 1346,
    "start_time": "2024-10-24T19:10:06.347Z"
   },
   {
    "duration": 1296,
    "start_time": "2024-10-24T19:10:07.695Z"
   },
   {
    "duration": 1316,
    "start_time": "2024-10-24T19:10:08.993Z"
   },
   {
    "duration": 56,
    "start_time": "2024-10-24T19:16:34.256Z"
   },
   {
    "duration": 77,
    "start_time": "2024-10-24T19:27:43.130Z"
   },
   {
    "duration": 82,
    "start_time": "2024-10-24T19:29:36.683Z"
   },
   {
    "duration": 5,
    "start_time": "2024-10-24T19:29:43.323Z"
   },
   {
    "duration": 18,
    "start_time": "2024-10-24T19:29:57.838Z"
   },
   {
    "duration": 14,
    "start_time": "2024-10-24T19:30:00.761Z"
   },
   {
    "duration": 19,
    "start_time": "2024-10-24T19:30:04.021Z"
   },
   {
    "duration": 68,
    "start_time": "2024-10-24T19:30:12.572Z"
   },
   {
    "duration": 78,
    "start_time": "2024-10-24T19:37:11.751Z"
   },
   {
    "duration": 67,
    "start_time": "2024-10-24T19:37:53.195Z"
   },
   {
    "duration": 1452,
    "start_time": "2024-10-25T09:20:55.469Z"
   },
   {
    "duration": 169,
    "start_time": "2024-10-25T09:20:56.923Z"
   },
   {
    "duration": 144,
    "start_time": "2024-10-25T09:20:57.094Z"
   },
   {
    "duration": 149,
    "start_time": "2024-10-25T09:20:57.240Z"
   },
   {
    "duration": 5,
    "start_time": "2024-10-25T09:20:57.391Z"
   },
   {
    "duration": 2268,
    "start_time": "2024-10-25T09:20:57.397Z"
   },
   {
    "duration": 5,
    "start_time": "2024-10-25T09:20:59.666Z"
   },
   {
    "duration": 153,
    "start_time": "2024-10-25T09:20:59.673Z"
   },
   {
    "duration": 293,
    "start_time": "2024-10-25T09:20:59.828Z"
   },
   {
    "duration": 205,
    "start_time": "2024-10-25T09:21:00.125Z"
   },
   {
    "duration": 20,
    "start_time": "2024-10-25T09:21:00.421Z"
   },
   {
    "duration": 31,
    "start_time": "2024-10-25T09:21:00.443Z"
   },
   {
    "duration": 86,
    "start_time": "2024-10-25T09:21:00.476Z"
   },
   {
    "duration": 70,
    "start_time": "2024-10-25T09:21:00.563Z"
   },
   {
    "duration": 46,
    "start_time": "2024-10-25T09:21:00.634Z"
   },
   {
    "duration": 38,
    "start_time": "2024-10-25T09:21:00.681Z"
   },
   {
    "duration": 93,
    "start_time": "2024-10-25T09:21:00.720Z"
   },
   {
    "duration": 39,
    "start_time": "2024-10-25T09:21:00.815Z"
   },
   {
    "duration": 24,
    "start_time": "2024-10-25T09:21:00.856Z"
   },
   {
    "duration": 28,
    "start_time": "2024-10-25T09:21:00.882Z"
   },
   {
    "duration": 2522,
    "start_time": "2024-10-25T09:21:00.912Z"
   },
   {
    "duration": 2485,
    "start_time": "2024-10-25T09:21:03.436Z"
   },
   {
    "duration": 2534,
    "start_time": "2024-10-25T09:21:05.923Z"
   },
   {
    "duration": 6,
    "start_time": "2024-10-25T09:22:48.771Z"
   },
   {
    "duration": 2983,
    "start_time": "2024-10-25T09:22:49.761Z"
   },
   {
    "duration": 3064,
    "start_time": "2024-10-25T09:22:52.746Z"
   },
   {
    "duration": 3052,
    "start_time": "2024-10-25T09:22:55.820Z"
   },
   {
    "duration": 121,
    "start_time": "2024-10-25T09:23:43.723Z"
   },
   {
    "duration": 8,
    "start_time": "2024-10-25T09:23:59.777Z"
   },
   {
    "duration": 7,
    "start_time": "2024-10-25T09:24:29.515Z"
   },
   {
    "duration": 49,
    "start_time": "2024-10-25T16:49:03.702Z"
   },
   {
    "duration": 1613,
    "start_time": "2024-10-25T16:49:08.603Z"
   },
   {
    "duration": 509,
    "start_time": "2024-10-25T16:49:10.219Z"
   },
   {
    "duration": 220,
    "start_time": "2024-10-25T16:49:10.730Z"
   },
   {
    "duration": 236,
    "start_time": "2024-10-25T16:49:10.952Z"
   },
   {
    "duration": 4,
    "start_time": "2024-10-25T16:49:11.190Z"
   },
   {
    "duration": 2459,
    "start_time": "2024-10-25T16:49:11.196Z"
   },
   {
    "duration": 8,
    "start_time": "2024-10-25T16:49:13.657Z"
   },
   {
    "duration": 156,
    "start_time": "2024-10-25T16:49:13.667Z"
   },
   {
    "duration": 304,
    "start_time": "2024-10-25T16:49:13.825Z"
   },
   {
    "duration": 109,
    "start_time": "2024-10-25T16:49:14.219Z"
   },
   {
    "duration": 88,
    "start_time": "2024-10-25T16:49:14.330Z"
   },
   {
    "duration": 6,
    "start_time": "2024-10-25T16:49:14.420Z"
   },
   {
    "duration": 8,
    "start_time": "2024-10-25T16:49:14.428Z"
   },
   {
    "duration": 6,
    "start_time": "2024-10-25T16:49:14.437Z"
   },
   {
    "duration": 15,
    "start_time": "2024-10-25T16:49:14.446Z"
   },
   {
    "duration": 9,
    "start_time": "2024-10-25T16:49:14.463Z"
   },
   {
    "duration": 43,
    "start_time": "2024-10-25T16:49:14.474Z"
   },
   {
    "duration": 14,
    "start_time": "2024-10-25T16:49:14.519Z"
   },
   {
    "duration": 13,
    "start_time": "2024-10-25T16:49:14.534Z"
   },
   {
    "duration": 6,
    "start_time": "2024-10-25T16:49:14.548Z"
   },
   {
    "duration": 16,
    "start_time": "2024-10-25T16:49:14.556Z"
   },
   {
    "duration": 6,
    "start_time": "2024-10-25T16:49:14.573Z"
   },
   {
    "duration": 3179,
    "start_time": "2024-10-25T16:49:14.580Z"
   },
   {
    "duration": 3113,
    "start_time": "2024-10-25T16:49:17.760Z"
   },
   {
    "duration": 3081,
    "start_time": "2024-10-25T16:49:20.874Z"
   },
   {
    "duration": 276,
    "start_time": "2024-10-25T16:49:37.477Z"
   },
   {
    "duration": 215,
    "start_time": "2024-10-25T16:49:44.908Z"
   },
   {
    "duration": 195,
    "start_time": "2024-10-25T16:49:50.549Z"
   },
   {
    "duration": 195,
    "start_time": "2024-10-25T16:49:57.869Z"
   },
   {
    "duration": 195,
    "start_time": "2024-10-25T16:50:02.117Z"
   },
   {
    "duration": 207,
    "start_time": "2024-10-25T16:50:04.789Z"
   },
   {
    "duration": 212,
    "start_time": "2024-10-25T16:50:13.997Z"
   },
   {
    "duration": 212,
    "start_time": "2024-10-25T16:50:45.950Z"
   },
   {
    "duration": 197,
    "start_time": "2024-10-25T16:50:55.958Z"
   },
   {
    "duration": 208,
    "start_time": "2024-10-25T16:51:05.750Z"
   },
   {
    "duration": 11,
    "start_time": "2024-10-25T16:57:02.403Z"
   },
   {
    "duration": 21,
    "start_time": "2024-10-25T16:57:33.796Z"
   },
   {
    "duration": 3295,
    "start_time": "2024-10-25T16:57:48.412Z"
   },
   {
    "duration": 1371,
    "start_time": "2024-10-25T16:58:20.357Z"
   },
   {
    "duration": 217,
    "start_time": "2024-10-25T16:58:21.730Z"
   },
   {
    "duration": 189,
    "start_time": "2024-10-25T16:58:21.949Z"
   },
   {
    "duration": 193,
    "start_time": "2024-10-25T16:58:22.140Z"
   },
   {
    "duration": 5,
    "start_time": "2024-10-25T16:58:22.334Z"
   },
   {
    "duration": 2403,
    "start_time": "2024-10-25T16:58:22.340Z"
   },
   {
    "duration": 2473,
    "start_time": "2024-10-25T16:58:24.745Z"
   },
   {
    "duration": 1519,
    "start_time": "2024-10-26T15:22:20.519Z"
   },
   {
    "duration": 555,
    "start_time": "2024-10-26T15:22:22.040Z"
   },
   {
    "duration": 226,
    "start_time": "2024-10-26T15:22:22.596Z"
   },
   {
    "duration": 234,
    "start_time": "2024-10-26T15:22:22.824Z"
   },
   {
    "duration": 5,
    "start_time": "2024-10-26T15:22:23.060Z"
   },
   {
    "duration": 2035,
    "start_time": "2024-10-26T15:22:23.067Z"
   },
   {
    "duration": 3657,
    "start_time": "2024-10-26T15:22:25.103Z"
   },
   {
    "duration": 1241,
    "start_time": "2024-10-26T15:24:20.431Z"
   },
   {
    "duration": 172,
    "start_time": "2024-10-26T15:24:21.673Z"
   },
   {
    "duration": 147,
    "start_time": "2024-10-26T15:24:21.847Z"
   },
   {
    "duration": 154,
    "start_time": "2024-10-26T15:24:21.996Z"
   },
   {
    "duration": 6,
    "start_time": "2024-10-26T15:24:22.152Z"
   },
   {
    "duration": 2041,
    "start_time": "2024-10-26T15:24:22.160Z"
   },
   {
    "duration": 4,
    "start_time": "2024-10-26T15:24:24.202Z"
   },
   {
    "duration": 154,
    "start_time": "2024-10-26T15:24:24.207Z"
   },
   {
    "duration": 201,
    "start_time": "2024-10-26T15:24:24.362Z"
   },
   {
    "duration": 193,
    "start_time": "2024-10-26T15:24:24.566Z"
   },
   {
    "duration": 2,
    "start_time": "2024-10-26T15:24:24.761Z"
   },
   {
    "duration": 104,
    "start_time": "2024-10-26T15:24:24.767Z"
   },
   {
    "duration": 9,
    "start_time": "2024-10-26T15:24:24.873Z"
   },
   {
    "duration": 5,
    "start_time": "2024-10-26T15:24:24.884Z"
   },
   {
    "duration": 8,
    "start_time": "2024-10-26T15:24:24.890Z"
   },
   {
    "duration": 3,
    "start_time": "2024-10-26T15:24:24.900Z"
   },
   {
    "duration": 11,
    "start_time": "2024-10-26T15:24:24.905Z"
   },
   {
    "duration": 11,
    "start_time": "2024-10-26T15:24:24.917Z"
   },
   {
    "duration": 32,
    "start_time": "2024-10-26T15:24:24.929Z"
   },
   {
    "duration": 6,
    "start_time": "2024-10-26T15:24:24.962Z"
   },
   {
    "duration": 7,
    "start_time": "2024-10-26T15:24:24.969Z"
   },
   {
    "duration": 5,
    "start_time": "2024-10-26T15:24:24.977Z"
   },
   {
    "duration": 2422,
    "start_time": "2024-10-26T15:24:24.983Z"
   },
   {
    "duration": 2414,
    "start_time": "2024-10-26T15:24:27.406Z"
   },
   {
    "duration": 2413,
    "start_time": "2024-10-26T15:24:29.822Z"
   },
   {
    "duration": 1745,
    "start_time": "2024-10-27T09:46:48.374Z"
   },
   {
    "duration": 728,
    "start_time": "2024-10-27T09:46:50.121Z"
   },
   {
    "duration": 635,
    "start_time": "2024-10-27T09:46:50.852Z"
   },
   {
    "duration": 636,
    "start_time": "2024-10-27T09:46:51.489Z"
   },
   {
    "duration": 5,
    "start_time": "2024-10-27T09:46:52.134Z"
   },
   {
    "duration": 2429,
    "start_time": "2024-10-27T09:46:52.140Z"
   },
   {
    "duration": 5,
    "start_time": "2024-10-27T09:46:54.571Z"
   },
   {
    "duration": 257,
    "start_time": "2024-10-27T09:46:54.578Z"
   },
   {
    "duration": 289,
    "start_time": "2024-10-27T09:46:54.837Z"
   },
   {
    "duration": 117,
    "start_time": "2024-10-27T09:46:55.129Z"
   },
   {
    "duration": 79,
    "start_time": "2024-10-27T09:46:55.248Z"
   },
   {
    "duration": 6,
    "start_time": "2024-10-27T09:46:55.335Z"
   },
   {
    "duration": 15,
    "start_time": "2024-10-27T09:46:55.343Z"
   },
   {
    "duration": 10,
    "start_time": "2024-10-27T09:46:55.360Z"
   },
   {
    "duration": 58,
    "start_time": "2024-10-27T09:46:55.372Z"
   },
   {
    "duration": 5,
    "start_time": "2024-10-27T09:46:55.432Z"
   },
   {
    "duration": 41,
    "start_time": "2024-10-27T09:46:55.438Z"
   },
   {
    "duration": 15,
    "start_time": "2024-10-27T09:46:55.480Z"
   },
   {
    "duration": 21,
    "start_time": "2024-10-27T09:46:55.496Z"
   },
   {
    "duration": 18,
    "start_time": "2024-10-27T09:46:55.519Z"
   },
   {
    "duration": 23,
    "start_time": "2024-10-27T09:46:55.539Z"
   },
   {
    "duration": 28,
    "start_time": "2024-10-27T09:46:55.564Z"
   },
   {
    "duration": 4469,
    "start_time": "2024-10-27T09:46:55.594Z"
   },
   {
    "duration": 3479,
    "start_time": "2024-10-27T09:47:00.064Z"
   },
   {
    "duration": 3502,
    "start_time": "2024-10-27T09:47:03.545Z"
   },
   {
    "duration": 25,
    "start_time": "2024-10-27T09:49:24.472Z"
   },
   {
    "duration": 2324,
    "start_time": "2024-10-27T09:49:59.491Z"
   },
   {
    "duration": 479,
    "start_time": "2024-10-27T09:53:01.832Z"
   },
   {
    "duration": 453,
    "start_time": "2024-10-27T09:53:23.864Z"
   },
   {
    "duration": 401,
    "start_time": "2024-10-27T09:53:40.168Z"
   },
   {
    "duration": 361,
    "start_time": "2024-10-27T09:53:48.040Z"
   },
   {
    "duration": 63,
    "start_time": "2024-10-27T09:54:29.655Z"
   },
   {
    "duration": 4,
    "start_time": "2024-10-27T09:54:54.443Z"
   },
   {
    "duration": 400,
    "start_time": "2024-10-27T09:55:06.800Z"
   },
   {
    "duration": 348,
    "start_time": "2024-10-27T09:55:36.842Z"
   },
   {
    "duration": 371,
    "start_time": "2024-10-27T09:55:51.919Z"
   },
   {
    "duration": 7,
    "start_time": "2024-10-27T10:01:02.110Z"
   },
   {
    "duration": 8,
    "start_time": "2024-10-27T10:01:03.628Z"
   },
   {
    "duration": 7,
    "start_time": "2024-10-27T10:01:04.658Z"
   },
   {
    "duration": 120,
    "start_time": "2024-10-27T10:01:06.085Z"
   },
   {
    "duration": 9,
    "start_time": "2024-10-27T10:01:56.950Z"
   },
   {
    "duration": 10,
    "start_time": "2024-10-27T10:01:58.285Z"
   },
   {
    "duration": 8,
    "start_time": "2024-10-27T10:01:58.966Z"
   },
   {
    "duration": 34,
    "start_time": "2024-10-27T10:01:59.934Z"
   },
   {
    "duration": 6,
    "start_time": "2024-10-27T10:06:10.111Z"
   },
   {
    "duration": 10,
    "start_time": "2024-10-27T10:06:10.686Z"
   },
   {
    "duration": 9,
    "start_time": "2024-10-27T10:06:11.055Z"
   },
   {
    "duration": 29,
    "start_time": "2024-10-27T10:06:11.927Z"
   },
   {
    "duration": 7,
    "start_time": "2024-10-27T10:13:41.384Z"
   },
   {
    "duration": 8,
    "start_time": "2024-10-27T10:13:42.201Z"
   },
   {
    "duration": 8,
    "start_time": "2024-10-27T10:13:42.850Z"
   },
   {
    "duration": 3312,
    "start_time": "2024-10-27T10:13:44.010Z"
   },
   {
    "duration": 7,
    "start_time": "2024-10-27T10:14:13.492Z"
   },
   {
    "duration": 10,
    "start_time": "2024-10-27T10:14:14.098Z"
   },
   {
    "duration": 11,
    "start_time": "2024-10-27T10:14:14.464Z"
   },
   {
    "duration": 3330,
    "start_time": "2024-10-27T10:14:15.377Z"
   },
   {
    "duration": 21,
    "start_time": "2024-10-27T10:15:00.619Z"
   },
   {
    "duration": 11,
    "start_time": "2024-10-27T10:15:01.496Z"
   },
   {
    "duration": 10,
    "start_time": "2024-10-27T10:15:01.961Z"
   },
   {
    "duration": 22,
    "start_time": "2024-10-27T10:15:02.785Z"
   },
   {
    "duration": 6,
    "start_time": "2024-10-27T10:17:43.755Z"
   },
   {
    "duration": 8,
    "start_time": "2024-10-27T10:17:44.594Z"
   },
   {
    "duration": 8,
    "start_time": "2024-10-27T10:17:45.058Z"
   },
   {
    "duration": 1071,
    "start_time": "2024-10-27T10:17:46.091Z"
   },
   {
    "duration": 4,
    "start_time": "2024-10-27T10:18:59.181Z"
   },
   {
    "duration": 23,
    "start_time": "2024-10-27T10:19:00.107Z"
   },
   {
    "duration": 6,
    "start_time": "2024-10-27T10:19:35.432Z"
   },
   {
    "duration": 8,
    "start_time": "2024-10-27T10:25:37.786Z"
   },
   {
    "duration": 13,
    "start_time": "2024-10-27T10:25:38.735Z"
   },
   {
    "duration": 8,
    "start_time": "2024-10-27T10:25:39.487Z"
   },
   {
    "duration": 20,
    "start_time": "2024-10-27T10:25:40.371Z"
   },
   {
    "duration": 13,
    "start_time": "2024-10-27T10:26:52.593Z"
   },
   {
    "duration": 7,
    "start_time": "2024-10-27T10:27:08.808Z"
   },
   {
    "duration": 11,
    "start_time": "2024-10-27T10:27:09.438Z"
   },
   {
    "duration": 7,
    "start_time": "2024-10-27T10:27:09.988Z"
   },
   {
    "duration": 1224,
    "start_time": "2024-10-27T10:27:10.916Z"
   },
   {
    "duration": 1238,
    "start_time": "2024-10-27T10:27:22.532Z"
   },
   {
    "duration": 1217,
    "start_time": "2024-10-27T10:27:25.238Z"
   },
   {
    "duration": 1226,
    "start_time": "2024-10-27T10:27:28.411Z"
   },
   {
    "duration": 7,
    "start_time": "2024-10-27T10:28:35.766Z"
   },
   {
    "duration": 11,
    "start_time": "2024-10-27T10:28:36.372Z"
   },
   {
    "duration": 7,
    "start_time": "2024-10-27T10:28:36.847Z"
   },
   {
    "duration": 1136,
    "start_time": "2024-10-27T10:28:37.757Z"
   },
   {
    "duration": 13,
    "start_time": "2024-10-27T10:30:33.644Z"
   },
   {
    "duration": 6,
    "start_time": "2024-10-27T10:30:34.003Z"
   },
   {
    "duration": 9,
    "start_time": "2024-10-27T10:30:34.689Z"
   },
   {
    "duration": 7,
    "start_time": "2024-10-27T10:30:35.043Z"
   },
   {
    "duration": 1084,
    "start_time": "2024-10-27T10:30:35.673Z"
   },
   {
    "duration": 1123,
    "start_time": "2024-10-27T10:30:37.850Z"
   },
   {
    "duration": 1112,
    "start_time": "2024-10-27T10:30:42.146Z"
   },
   {
    "duration": 7,
    "start_time": "2024-10-27T10:30:55.671Z"
   },
   {
    "duration": 12,
    "start_time": "2024-10-27T10:30:56.241Z"
   },
   {
    "duration": 15,
    "start_time": "2024-10-27T10:30:56.631Z"
   },
   {
    "duration": 1302,
    "start_time": "2024-10-27T10:30:57.263Z"
   },
   {
    "duration": 1259,
    "start_time": "2024-10-27T10:30:59.685Z"
   },
   {
    "duration": 1234,
    "start_time": "2024-10-27T10:31:00.949Z"
   },
   {
    "duration": 1443,
    "start_time": "2024-10-27T10:31:07.525Z"
   },
   {
    "duration": 226,
    "start_time": "2024-10-27T10:31:08.970Z"
   },
   {
    "duration": 203,
    "start_time": "2024-10-27T10:31:09.197Z"
   },
   {
    "duration": 202,
    "start_time": "2024-10-27T10:31:09.403Z"
   },
   {
    "duration": 5,
    "start_time": "2024-10-27T10:31:09.606Z"
   },
   {
    "duration": 2390,
    "start_time": "2024-10-27T10:31:09.620Z"
   },
   {
    "duration": 11,
    "start_time": "2024-10-27T10:31:12.012Z"
   },
   {
    "duration": 479,
    "start_time": "2024-10-27T10:31:12.026Z"
   },
   {
    "duration": 389,
    "start_time": "2024-10-27T10:31:12.507Z"
   },
   {
    "duration": 414,
    "start_time": "2024-10-27T10:31:12.899Z"
   },
   {
    "duration": 15,
    "start_time": "2024-10-27T10:31:13.320Z"
   },
   {
    "duration": 185,
    "start_time": "2024-10-27T10:31:13.339Z"
   },
   {
    "duration": 96,
    "start_time": "2024-10-27T10:31:13.528Z"
   },
   {
    "duration": 207,
    "start_time": "2024-10-27T10:31:13.626Z"
   },
   {
    "duration": 82,
    "start_time": "2024-10-27T10:31:13.840Z"
   },
   {
    "duration": 13,
    "start_time": "2024-10-27T10:31:13.926Z"
   },
   {
    "duration": 34,
    "start_time": "2024-10-27T10:31:13.941Z"
   },
   {
    "duration": 28,
    "start_time": "2024-10-27T10:31:13.976Z"
   },
   {
    "duration": 37,
    "start_time": "2024-10-27T10:31:14.006Z"
   },
   {
    "duration": 5,
    "start_time": "2024-10-27T10:31:14.050Z"
   },
   {
    "duration": 18,
    "start_time": "2024-10-27T10:31:14.057Z"
   },
   {
    "duration": 30,
    "start_time": "2024-10-27T10:31:14.077Z"
   },
   {
    "duration": 56,
    "start_time": "2024-10-27T10:31:14.109Z"
   },
   {
    "duration": 25,
    "start_time": "2024-10-27T10:31:14.167Z"
   },
   {
    "duration": 11,
    "start_time": "2024-10-27T10:31:14.194Z"
   },
   {
    "duration": 80,
    "start_time": "2024-10-27T10:31:14.207Z"
   },
   {
    "duration": 7,
    "start_time": "2024-10-27T10:31:14.289Z"
   },
   {
    "duration": 1314,
    "start_time": "2024-10-27T10:31:14.299Z"
   },
   {
    "duration": 1300,
    "start_time": "2024-10-27T10:31:15.614Z"
   },
   {
    "duration": 1388,
    "start_time": "2024-10-27T10:31:16.916Z"
   },
   {
    "duration": 18,
    "start_time": "2024-10-27T10:34:32.422Z"
   },
   {
    "duration": 9,
    "start_time": "2024-10-27T10:34:33.095Z"
   },
   {
    "duration": 7,
    "start_time": "2024-10-27T10:34:33.649Z"
   },
   {
    "duration": 1351,
    "start_time": "2024-10-27T10:34:34.389Z"
   },
   {
    "duration": 1411,
    "start_time": "2024-10-27T10:34:38.745Z"
   },
   {
    "duration": 1305,
    "start_time": "2024-10-27T10:34:41.112Z"
   },
   {
    "duration": 5,
    "start_time": "2024-10-27T10:35:33.847Z"
   },
   {
    "duration": 7,
    "start_time": "2024-10-27T10:35:34.166Z"
   },
   {
    "duration": 7,
    "start_time": "2024-10-27T10:35:35.002Z"
   },
   {
    "duration": 10,
    "start_time": "2024-10-27T10:35:35.438Z"
   },
   {
    "duration": 1346,
    "start_time": "2024-10-27T10:35:36.108Z"
   },
   {
    "duration": 1321,
    "start_time": "2024-10-27T10:35:41.071Z"
   },
   {
    "duration": 11,
    "start_time": "2024-10-27T10:35:54.529Z"
   },
   {
    "duration": 6,
    "start_time": "2024-10-27T10:35:55.071Z"
   },
   {
    "duration": 7,
    "start_time": "2024-10-27T10:35:55.550Z"
   },
   {
    "duration": 135,
    "start_time": "2024-10-27T10:35:56.160Z"
   },
   {
    "duration": 26,
    "start_time": "2024-10-27T10:35:57.131Z"
   },
   {
    "duration": 23,
    "start_time": "2024-10-27T10:35:58.040Z"
   },
   {
    "duration": 7,
    "start_time": "2024-10-27T10:36:14.287Z"
   },
   {
    "duration": 8,
    "start_time": "2024-10-27T10:36:14.798Z"
   },
   {
    "duration": 18,
    "start_time": "2024-10-27T10:36:15.129Z"
   },
   {
    "duration": 3006,
    "start_time": "2024-10-27T10:36:15.648Z"
   },
   {
    "duration": 3118,
    "start_time": "2024-10-27T10:36:18.657Z"
   },
   {
    "duration": 3171,
    "start_time": "2024-10-27T10:36:21.777Z"
   },
   {
    "duration": 17,
    "start_time": "2024-10-27T10:37:31.921Z"
   },
   {
    "duration": 11,
    "start_time": "2024-10-27T10:37:32.508Z"
   },
   {
    "duration": 8,
    "start_time": "2024-10-27T10:37:32.903Z"
   },
   {
    "duration": 2590,
    "start_time": "2024-10-27T10:37:33.511Z"
   },
   {
    "duration": 2670,
    "start_time": "2024-10-27T10:37:36.103Z"
   },
   {
    "duration": 7,
    "start_time": "2024-10-27T10:39:23.879Z"
   },
   {
    "duration": 10,
    "start_time": "2024-10-27T10:39:25.128Z"
   },
   {
    "duration": 7,
    "start_time": "2024-10-27T10:39:25.491Z"
   },
   {
    "duration": 25,
    "start_time": "2024-10-27T10:39:26.628Z"
   },
   {
    "duration": 52,
    "start_time": "2024-10-27T10:44:29.171Z"
   },
   {
    "duration": 1352,
    "start_time": "2024-10-27T10:44:38.037Z"
   },
   {
    "duration": 224,
    "start_time": "2024-10-27T10:44:39.391Z"
   },
   {
    "duration": 186,
    "start_time": "2024-10-27T10:44:39.616Z"
   },
   {
    "duration": 189,
    "start_time": "2024-10-27T10:44:39.803Z"
   },
   {
    "duration": 5,
    "start_time": "2024-10-27T10:44:39.993Z"
   },
   {
    "duration": 2243,
    "start_time": "2024-10-27T10:44:39.999Z"
   },
   {
    "duration": 3,
    "start_time": "2024-10-27T10:44:42.244Z"
   },
   {
    "duration": 532,
    "start_time": "2024-10-27T10:44:42.248Z"
   },
   {
    "duration": 392,
    "start_time": "2024-10-27T10:44:42.782Z"
   },
   {
    "duration": 380,
    "start_time": "2024-10-27T10:44:43.177Z"
   },
   {
    "duration": 6,
    "start_time": "2024-10-27T10:44:43.559Z"
   },
   {
    "duration": 157,
    "start_time": "2024-10-27T10:44:43.567Z"
   },
   {
    "duration": 195,
    "start_time": "2024-10-27T10:44:43.726Z"
   },
   {
    "duration": 105,
    "start_time": "2024-10-27T10:44:43.923Z"
   },
   {
    "duration": 92,
    "start_time": "2024-10-27T10:44:44.030Z"
   },
   {
    "duration": 80,
    "start_time": "2024-10-27T10:44:44.123Z"
   },
   {
    "duration": 12,
    "start_time": "2024-10-27T10:44:44.205Z"
   },
   {
    "duration": 6,
    "start_time": "2024-10-27T10:44:44.218Z"
   },
   {
    "duration": 12,
    "start_time": "2024-10-27T10:44:44.225Z"
   },
   {
    "duration": 4,
    "start_time": "2024-10-27T10:44:44.238Z"
   },
   {
    "duration": 15,
    "start_time": "2024-10-27T10:44:44.243Z"
   },
   {
    "duration": 13,
    "start_time": "2024-10-27T10:44:44.259Z"
   },
   {
    "duration": 14,
    "start_time": "2024-10-27T10:44:44.273Z"
   },
   {
    "duration": 85,
    "start_time": "2024-10-27T10:44:44.288Z"
   },
   {
    "duration": 10,
    "start_time": "2024-10-27T10:44:44.374Z"
   },
   {
    "duration": 6,
    "start_time": "2024-10-27T10:44:44.386Z"
   },
   {
    "duration": 2981,
    "start_time": "2024-10-27T10:44:44.394Z"
   },
   {
    "duration": 2973,
    "start_time": "2024-10-27T10:44:47.379Z"
   },
   {
    "duration": 3022,
    "start_time": "2024-10-27T10:44:50.353Z"
   },
   {
    "duration": 32,
    "start_time": "2024-10-27T10:45:27.899Z"
   },
   {
    "duration": 3,
    "start_time": "2024-10-27T10:45:29.232Z"
   },
   {
    "duration": 4,
    "start_time": "2024-10-27T10:45:29.592Z"
   },
   {
    "duration": 6,
    "start_time": "2024-10-27T10:45:29.959Z"
   },
   {
    "duration": 5,
    "start_time": "2024-10-27T10:45:30.513Z"
   },
   {
    "duration": 6,
    "start_time": "2024-10-27T10:45:30.921Z"
   },
   {
    "duration": 4,
    "start_time": "2024-10-27T10:45:31.971Z"
   },
   {
    "duration": 14,
    "start_time": "2024-10-27T10:45:32.784Z"
   },
   {
    "duration": 14,
    "start_time": "2024-10-27T10:45:33.857Z"
   },
   {
    "duration": 14,
    "start_time": "2024-10-27T10:45:34.817Z"
   },
   {
    "duration": 6,
    "start_time": "2024-10-27T10:45:35.690Z"
   },
   {
    "duration": 7,
    "start_time": "2024-10-27T10:48:34.336Z"
   },
   {
    "duration": 8,
    "start_time": "2024-10-27T10:48:35.494Z"
   },
   {
    "duration": 7,
    "start_time": "2024-10-27T10:48:35.877Z"
   },
   {
    "duration": 2697,
    "start_time": "2024-10-27T10:48:36.661Z"
   },
   {
    "duration": 7,
    "start_time": "2024-10-27T10:48:49.130Z"
   },
   {
    "duration": 7,
    "start_time": "2024-10-27T10:48:50.017Z"
   },
   {
    "duration": 7,
    "start_time": "2024-10-27T10:48:50.418Z"
   },
   {
    "duration": 113,
    "start_time": "2024-10-27T10:48:51.097Z"
   },
   {
    "duration": 7,
    "start_time": "2024-10-27T10:49:10.050Z"
   },
   {
    "duration": 8,
    "start_time": "2024-10-27T10:49:10.617Z"
   },
   {
    "duration": 6,
    "start_time": "2024-10-27T10:49:11.025Z"
   },
   {
    "duration": 19,
    "start_time": "2024-10-27T10:49:12.097Z"
   },
   {
    "duration": 7,
    "start_time": "2024-10-27T10:49:21.146Z"
   },
   {
    "duration": 8,
    "start_time": "2024-10-27T10:49:21.717Z"
   },
   {
    "duration": 6,
    "start_time": "2024-10-27T10:49:22.082Z"
   },
   {
    "duration": 22,
    "start_time": "2024-10-27T10:49:23.010Z"
   },
   {
    "duration": 9,
    "start_time": "2024-10-27T10:52:14.708Z"
   },
   {
    "duration": 9,
    "start_time": "2024-10-27T10:52:15.677Z"
   },
   {
    "duration": 7,
    "start_time": "2024-10-27T10:52:16.067Z"
   },
   {
    "duration": 19,
    "start_time": "2024-10-27T10:52:17.011Z"
   },
   {
    "duration": 9,
    "start_time": "2024-10-27T10:54:07.824Z"
   },
   {
    "duration": 10,
    "start_time": "2024-10-27T10:54:08.751Z"
   },
   {
    "duration": 8,
    "start_time": "2024-10-27T10:54:09.106Z"
   },
   {
    "duration": 2774,
    "start_time": "2024-10-27T10:54:09.975Z"
   },
   {
    "duration": 6,
    "start_time": "2024-10-27T10:54:30.572Z"
   },
   {
    "duration": 7,
    "start_time": "2024-10-27T10:54:31.482Z"
   },
   {
    "duration": 6,
    "start_time": "2024-10-27T10:54:31.876Z"
   },
   {
    "duration": 2802,
    "start_time": "2024-10-27T10:54:33.098Z"
   },
   {
    "duration": 6,
    "start_time": "2024-10-27T10:55:39.234Z"
   },
   {
    "duration": 9,
    "start_time": "2024-10-27T10:55:39.431Z"
   },
   {
    "duration": 7,
    "start_time": "2024-10-27T10:55:39.783Z"
   },
   {
    "duration": 16,
    "start_time": "2024-10-27T10:55:40.599Z"
   },
   {
    "duration": 6,
    "start_time": "2024-10-27T10:55:51.720Z"
   },
   {
    "duration": 8,
    "start_time": "2024-10-27T10:55:52.270Z"
   },
   {
    "duration": 7,
    "start_time": "2024-10-27T10:55:52.633Z"
   },
   {
    "duration": 24,
    "start_time": "2024-10-27T10:55:54.254Z"
   },
   {
    "duration": 7,
    "start_time": "2024-10-27T10:57:24.847Z"
   },
   {
    "duration": 8,
    "start_time": "2024-10-27T10:57:25.684Z"
   },
   {
    "duration": 6,
    "start_time": "2024-10-27T10:57:26.187Z"
   },
   {
    "duration": 2187,
    "start_time": "2024-10-27T10:57:27.091Z"
   },
   {
    "duration": 6,
    "start_time": "2024-10-27T11:00:23.806Z"
   },
   {
    "duration": 7,
    "start_time": "2024-10-27T11:00:24.516Z"
   },
   {
    "duration": 6,
    "start_time": "2024-10-27T11:00:24.931Z"
   },
   {
    "duration": 17,
    "start_time": "2024-10-27T11:00:25.925Z"
   },
   {
    "duration": 7,
    "start_time": "2024-10-27T11:00:59.169Z"
   },
   {
    "duration": 8,
    "start_time": "2024-10-27T11:00:59.728Z"
   },
   {
    "duration": 6,
    "start_time": "2024-10-27T11:01:00.441Z"
   },
   {
    "duration": 17,
    "start_time": "2024-10-27T11:01:01.312Z"
   },
   {
    "duration": 7,
    "start_time": "2024-10-27T11:01:15.813Z"
   },
   {
    "duration": 7,
    "start_time": "2024-10-27T11:01:16.387Z"
   },
   {
    "duration": 6,
    "start_time": "2024-10-27T11:01:16.805Z"
   },
   {
    "duration": 2140,
    "start_time": "2024-10-27T11:01:17.475Z"
   },
   {
    "duration": 6,
    "start_time": "2024-10-27T11:02:11.062Z"
   },
   {
    "duration": 16,
    "start_time": "2024-10-27T11:05:11.249Z"
   },
   {
    "duration": 13,
    "start_time": "2024-10-27T11:05:34.953Z"
   },
   {
    "duration": 13,
    "start_time": "2024-10-27T11:05:41.805Z"
   },
   {
    "duration": 13,
    "start_time": "2024-10-27T11:07:44.309Z"
   },
   {
    "duration": 17,
    "start_time": "2024-10-27T11:08:02.357Z"
   },
   {
    "duration": 121,
    "start_time": "2024-10-27T11:08:45.602Z"
   },
   {
    "duration": 164,
    "start_time": "2024-10-27T11:09:28.975Z"
   },
   {
    "duration": 70,
    "start_time": "2024-10-27T11:09:41.158Z"
   },
   {
    "duration": 209,
    "start_time": "2024-10-27T11:09:44.414Z"
   },
   {
    "duration": 67,
    "start_time": "2024-10-27T11:11:37.158Z"
   },
   {
    "duration": 62,
    "start_time": "2024-10-27T11:11:52.070Z"
   },
   {
    "duration": 153,
    "start_time": "2024-10-27T11:12:04.269Z"
   },
   {
    "duration": 8,
    "start_time": "2024-10-27T11:12:35.952Z"
   },
   {
    "duration": 179,
    "start_time": "2024-10-27T11:12:36.943Z"
   },
   {
    "duration": 7,
    "start_time": "2024-10-27T11:12:51.174Z"
   },
   {
    "duration": 71,
    "start_time": "2024-10-27T11:12:52.433Z"
   },
   {
    "duration": 6,
    "start_time": "2024-10-27T11:18:24.147Z"
   },
   {
    "duration": 32,
    "start_time": "2024-10-27T11:18:25.603Z"
   },
   {
    "duration": 6,
    "start_time": "2024-10-27T11:18:45.599Z"
   },
   {
    "duration": 41,
    "start_time": "2024-10-27T11:18:46.688Z"
   },
   {
    "duration": 38,
    "start_time": "2024-10-27T11:19:01.632Z"
   },
   {
    "duration": 11,
    "start_time": "2024-10-27T11:19:59.364Z"
   },
   {
    "duration": 887,
    "start_time": "2024-10-27T11:20:00.366Z"
   },
   {
    "duration": 5,
    "start_time": "2024-10-27T11:21:40.504Z"
   },
   {
    "duration": 40,
    "start_time": "2024-10-27T11:21:41.576Z"
   },
   {
    "duration": 16,
    "start_time": "2024-10-27T11:23:15.350Z"
   },
   {
    "duration": 4,
    "start_time": "2024-10-27T11:23:34.745Z"
   },
   {
    "duration": 14,
    "start_time": "2024-10-27T11:23:40.329Z"
   },
   {
    "duration": 1382,
    "start_time": "2024-10-27T11:23:48.725Z"
   },
   {
    "duration": 218,
    "start_time": "2024-10-27T11:23:50.109Z"
   },
   {
    "duration": 181,
    "start_time": "2024-10-27T11:23:50.329Z"
   },
   {
    "duration": 187,
    "start_time": "2024-10-27T11:23:50.520Z"
   },
   {
    "duration": 12,
    "start_time": "2024-10-27T11:23:50.709Z"
   },
   {
    "duration": 2103,
    "start_time": "2024-10-27T11:23:50.723Z"
   },
   {
    "duration": 3,
    "start_time": "2024-10-27T11:23:52.828Z"
   },
   {
    "duration": 489,
    "start_time": "2024-10-27T11:23:52.834Z"
   },
   {
    "duration": 347,
    "start_time": "2024-10-27T11:23:53.324Z"
   },
   {
    "duration": 376,
    "start_time": "2024-10-27T11:23:53.672Z"
   },
   {
    "duration": 16,
    "start_time": "2024-10-27T11:23:54.050Z"
   },
   {
    "duration": 8,
    "start_time": "2024-10-27T11:23:54.067Z"
   },
   {
    "duration": 150,
    "start_time": "2024-10-27T11:23:54.076Z"
   },
   {
    "duration": 0,
    "start_time": "2024-10-27T11:23:54.228Z"
   },
   {
    "duration": 0,
    "start_time": "2024-10-27T11:23:54.229Z"
   },
   {
    "duration": 0,
    "start_time": "2024-10-27T11:23:54.230Z"
   },
   {
    "duration": 0,
    "start_time": "2024-10-27T11:23:54.231Z"
   },
   {
    "duration": 0,
    "start_time": "2024-10-27T11:23:54.232Z"
   },
   {
    "duration": 0,
    "start_time": "2024-10-27T11:23:54.234Z"
   },
   {
    "duration": 0,
    "start_time": "2024-10-27T11:23:54.235Z"
   },
   {
    "duration": 0,
    "start_time": "2024-10-27T11:23:54.235Z"
   },
   {
    "duration": 0,
    "start_time": "2024-10-27T11:23:54.237Z"
   },
   {
    "duration": 0,
    "start_time": "2024-10-27T11:23:54.238Z"
   },
   {
    "duration": 0,
    "start_time": "2024-10-27T11:23:54.239Z"
   },
   {
    "duration": 0,
    "start_time": "2024-10-27T11:23:54.240Z"
   },
   {
    "duration": 0,
    "start_time": "2024-10-27T11:23:54.241Z"
   },
   {
    "duration": 0,
    "start_time": "2024-10-27T11:23:54.242Z"
   },
   {
    "duration": 0,
    "start_time": "2024-10-27T11:23:54.243Z"
   },
   {
    "duration": 0,
    "start_time": "2024-10-27T11:23:54.244Z"
   },
   {
    "duration": 0,
    "start_time": "2024-10-27T11:23:54.245Z"
   },
   {
    "duration": 0,
    "start_time": "2024-10-27T11:23:54.246Z"
   },
   {
    "duration": 1354,
    "start_time": "2024-10-27T11:24:21.563Z"
   },
   {
    "duration": 216,
    "start_time": "2024-10-27T11:24:22.919Z"
   },
   {
    "duration": 181,
    "start_time": "2024-10-27T11:24:23.136Z"
   },
   {
    "duration": 190,
    "start_time": "2024-10-27T11:24:23.320Z"
   },
   {
    "duration": 9,
    "start_time": "2024-10-27T11:24:23.512Z"
   },
   {
    "duration": 2114,
    "start_time": "2024-10-27T11:24:23.522Z"
   },
   {
    "duration": 3,
    "start_time": "2024-10-27T11:24:25.638Z"
   },
   {
    "duration": 530,
    "start_time": "2024-10-27T11:24:25.643Z"
   },
   {
    "duration": 392,
    "start_time": "2024-10-27T11:24:26.174Z"
   },
   {
    "duration": 389,
    "start_time": "2024-10-27T11:24:26.569Z"
   },
   {
    "duration": 17,
    "start_time": "2024-10-27T11:24:26.963Z"
   },
   {
    "duration": 4,
    "start_time": "2024-10-27T11:24:26.982Z"
   },
   {
    "duration": 135,
    "start_time": "2024-10-27T11:24:26.988Z"
   },
   {
    "duration": 257,
    "start_time": "2024-10-27T11:24:27.126Z"
   },
   {
    "duration": 0,
    "start_time": "2024-10-27T11:24:27.385Z"
   },
   {
    "duration": 0,
    "start_time": "2024-10-27T11:24:27.386Z"
   },
   {
    "duration": 0,
    "start_time": "2024-10-27T11:24:27.387Z"
   },
   {
    "duration": 0,
    "start_time": "2024-10-27T11:24:27.388Z"
   },
   {
    "duration": 0,
    "start_time": "2024-10-27T11:24:27.389Z"
   },
   {
    "duration": 1,
    "start_time": "2024-10-27T11:24:27.390Z"
   },
   {
    "duration": 0,
    "start_time": "2024-10-27T11:24:27.391Z"
   },
   {
    "duration": 0,
    "start_time": "2024-10-27T11:24:27.393Z"
   },
   {
    "duration": 0,
    "start_time": "2024-10-27T11:24:27.394Z"
   },
   {
    "duration": 0,
    "start_time": "2024-10-27T11:24:27.395Z"
   },
   {
    "duration": 0,
    "start_time": "2024-10-27T11:24:27.396Z"
   },
   {
    "duration": 0,
    "start_time": "2024-10-27T11:24:27.397Z"
   },
   {
    "duration": 0,
    "start_time": "2024-10-27T11:24:27.421Z"
   },
   {
    "duration": 0,
    "start_time": "2024-10-27T11:24:27.423Z"
   },
   {
    "duration": 0,
    "start_time": "2024-10-27T11:24:27.424Z"
   },
   {
    "duration": 0,
    "start_time": "2024-10-27T11:24:27.425Z"
   },
   {
    "duration": 0,
    "start_time": "2024-10-27T11:24:27.426Z"
   },
   {
    "duration": 1362,
    "start_time": "2024-10-27T11:25:08.718Z"
   },
   {
    "duration": 215,
    "start_time": "2024-10-27T11:25:10.082Z"
   },
   {
    "duration": 192,
    "start_time": "2024-10-27T11:25:10.301Z"
   },
   {
    "duration": 201,
    "start_time": "2024-10-27T11:25:10.496Z"
   },
   {
    "duration": 5,
    "start_time": "2024-10-27T11:25:10.698Z"
   },
   {
    "duration": 2237,
    "start_time": "2024-10-27T11:25:10.704Z"
   },
   {
    "duration": 7,
    "start_time": "2024-10-27T11:25:12.943Z"
   },
   {
    "duration": 470,
    "start_time": "2024-10-27T11:25:12.952Z"
   },
   {
    "duration": 384,
    "start_time": "2024-10-27T11:25:13.425Z"
   },
   {
    "duration": 354,
    "start_time": "2024-10-27T11:25:13.811Z"
   },
   {
    "duration": 18,
    "start_time": "2024-10-27T11:25:14.166Z"
   },
   {
    "duration": 10,
    "start_time": "2024-10-27T11:25:14.185Z"
   },
   {
    "duration": 128,
    "start_time": "2024-10-27T11:25:14.197Z"
   },
   {
    "duration": 299,
    "start_time": "2024-10-27T11:25:14.326Z"
   },
   {
    "duration": 199,
    "start_time": "2024-10-27T11:25:14.626Z"
   },
   {
    "duration": 3,
    "start_time": "2024-10-27T11:25:14.826Z"
   },
   {
    "duration": 7,
    "start_time": "2024-10-27T11:25:14.830Z"
   },
   {
    "duration": 6,
    "start_time": "2024-10-27T11:25:14.839Z"
   },
   {
    "duration": 7,
    "start_time": "2024-10-27T11:25:14.847Z"
   },
   {
    "duration": 6,
    "start_time": "2024-10-27T11:25:14.855Z"
   },
   {
    "duration": 4,
    "start_time": "2024-10-27T11:25:14.863Z"
   },
   {
    "duration": 57,
    "start_time": "2024-10-27T11:25:14.869Z"
   },
   {
    "duration": 13,
    "start_time": "2024-10-27T11:25:14.927Z"
   },
   {
    "duration": 12,
    "start_time": "2024-10-27T11:25:14.942Z"
   },
   {
    "duration": 12,
    "start_time": "2024-10-27T11:25:14.956Z"
   },
   {
    "duration": 7,
    "start_time": "2024-10-27T11:25:14.969Z"
   },
   {
    "duration": 48,
    "start_time": "2024-10-27T11:25:14.979Z"
   },
   {
    "duration": 19,
    "start_time": "2024-10-27T11:25:15.029Z"
   },
   {
    "duration": 3001,
    "start_time": "2024-10-27T11:25:15.049Z"
   },
   {
    "duration": 2937,
    "start_time": "2024-10-27T11:25:18.052Z"
   },
   {
    "duration": 3055,
    "start_time": "2024-10-27T11:25:20.991Z"
   },
   {
    "duration": 5,
    "start_time": "2024-10-27T11:25:47.353Z"
   },
   {
    "duration": 116,
    "start_time": "2024-10-27T11:25:47.922Z"
   },
   {
    "duration": 20,
    "start_time": "2024-10-27T11:25:48.304Z"
   },
   {
    "duration": 17,
    "start_time": "2024-10-27T11:25:48.673Z"
   },
   {
    "duration": 1417,
    "start_time": "2024-10-27T11:25:55.696Z"
   },
   {
    "duration": 249,
    "start_time": "2024-10-27T11:25:57.115Z"
   },
   {
    "duration": 193,
    "start_time": "2024-10-27T11:25:57.370Z"
   },
   {
    "duration": 210,
    "start_time": "2024-10-27T11:25:57.564Z"
   },
   {
    "duration": 6,
    "start_time": "2024-10-27T11:25:57.776Z"
   },
   {
    "duration": 2439,
    "start_time": "2024-10-27T11:25:57.784Z"
   },
   {
    "duration": 4,
    "start_time": "2024-10-27T11:26:00.224Z"
   },
   {
    "duration": 465,
    "start_time": "2024-10-27T11:26:00.229Z"
   },
   {
    "duration": 364,
    "start_time": "2024-10-27T11:26:00.697Z"
   },
   {
    "duration": 396,
    "start_time": "2024-10-27T11:26:01.062Z"
   },
   {
    "duration": 5,
    "start_time": "2024-10-27T11:26:01.460Z"
   },
   {
    "duration": 165,
    "start_time": "2024-10-27T11:26:01.466Z"
   },
   {
    "duration": 102,
    "start_time": "2024-10-27T11:26:01.721Z"
   },
   {
    "duration": 198,
    "start_time": "2024-10-27T11:26:01.826Z"
   },
   {
    "duration": 4,
    "start_time": "2024-10-27T11:26:02.026Z"
   },
   {
    "duration": 91,
    "start_time": "2024-10-27T11:26:02.032Z"
   },
   {
    "duration": 18,
    "start_time": "2024-10-27T11:26:02.125Z"
   },
   {
    "duration": 27,
    "start_time": "2024-10-27T11:26:02.145Z"
   },
   {
    "duration": 54,
    "start_time": "2024-10-27T11:26:02.174Z"
   },
   {
    "duration": 21,
    "start_time": "2024-10-27T11:26:02.229Z"
   },
   {
    "duration": 38,
    "start_time": "2024-10-27T11:26:02.252Z"
   },
   {
    "duration": 14,
    "start_time": "2024-10-27T11:26:02.292Z"
   },
   {
    "duration": 77,
    "start_time": "2024-10-27T11:26:02.307Z"
   },
   {
    "duration": 13,
    "start_time": "2024-10-27T11:26:02.385Z"
   },
   {
    "duration": 6,
    "start_time": "2024-10-27T11:26:02.400Z"
   },
   {
    "duration": 112,
    "start_time": "2024-10-27T11:26:02.407Z"
   },
   {
    "duration": 22,
    "start_time": "2024-10-27T11:26:02.522Z"
   },
   {
    "duration": 2860,
    "start_time": "2024-10-27T11:26:02.546Z"
   },
   {
    "duration": 2777,
    "start_time": "2024-10-27T11:26:05.407Z"
   },
   {
    "duration": 2816,
    "start_time": "2024-10-27T11:26:08.186Z"
   },
   {
    "duration": 3,
    "start_time": "2024-10-27T11:27:12.889Z"
   },
   {
    "duration": 110,
    "start_time": "2024-10-27T11:27:25.381Z"
   },
   {
    "duration": 9,
    "start_time": "2024-10-27T11:27:41.754Z"
   },
   {
    "duration": 11,
    "start_time": "2024-10-27T11:28:33.385Z"
   },
   {
    "duration": 13,
    "start_time": "2024-10-27T11:28:37.708Z"
   },
   {
    "duration": 10,
    "start_time": "2024-10-27T11:31:09.092Z"
   },
   {
    "duration": 9,
    "start_time": "2024-10-27T11:34:39.039Z"
   },
   {
    "duration": 14,
    "start_time": "2024-10-27T11:34:55.463Z"
   },
   {
    "duration": 9,
    "start_time": "2024-10-27T11:35:14.108Z"
   },
   {
    "duration": 9,
    "start_time": "2024-10-27T11:35:26.179Z"
   },
   {
    "duration": 9,
    "start_time": "2024-10-27T11:36:47.425Z"
   },
   {
    "duration": 14,
    "start_time": "2024-10-27T11:36:56.979Z"
   },
   {
    "duration": 5,
    "start_time": "2024-10-27T11:37:09.464Z"
   },
   {
    "duration": 7,
    "start_time": "2024-10-27T11:37:12.203Z"
   },
   {
    "duration": 8,
    "start_time": "2024-10-27T11:37:12.771Z"
   },
   {
    "duration": 6,
    "start_time": "2024-10-27T11:37:13.170Z"
   },
   {
    "duration": 11,
    "start_time": "2024-10-27T11:37:13.778Z"
   },
   {
    "duration": 2692,
    "start_time": "2024-10-27T11:37:14.277Z"
   },
   {
    "duration": 2623,
    "start_time": "2024-10-27T11:37:17.843Z"
   },
   {
    "duration": 10,
    "start_time": "2024-10-27T11:38:13.560Z"
   },
   {
    "duration": 5,
    "start_time": "2024-10-27T11:38:20.477Z"
   },
   {
    "duration": 15,
    "start_time": "2024-10-27T11:38:25.652Z"
   },
   {
    "duration": 862,
    "start_time": "2024-10-27T11:38:47.236Z"
   },
   {
    "duration": 15,
    "start_time": "2024-10-27T11:38:54.661Z"
   },
   {
    "duration": 11,
    "start_time": "2024-10-27T11:40:10.689Z"
   },
   {
    "duration": 8,
    "start_time": "2024-10-27T11:41:19.244Z"
   },
   {
    "duration": 21,
    "start_time": "2024-10-27T11:41:27.130Z"
   },
   {
    "duration": 912,
    "start_time": "2024-10-27T11:41:41.517Z"
   },
   {
    "duration": 16,
    "start_time": "2024-10-27T11:41:49.093Z"
   },
   {
    "duration": 16,
    "start_time": "2024-10-27T11:42:14.081Z"
   },
   {
    "duration": 12,
    "start_time": "2024-10-27T11:42:23.665Z"
   },
   {
    "duration": 15,
    "start_time": "2024-10-27T11:42:28.744Z"
   },
   {
    "duration": 17,
    "start_time": "2024-10-27T11:46:06.154Z"
   },
   {
    "duration": 22,
    "start_time": "2024-10-27T11:46:10.590Z"
   },
   {
    "duration": 6,
    "start_time": "2024-10-27T11:46:10.934Z"
   },
   {
    "duration": 8,
    "start_time": "2024-10-27T11:46:11.517Z"
   },
   {
    "duration": 6,
    "start_time": "2024-10-27T11:46:12.062Z"
   },
   {
    "duration": 13,
    "start_time": "2024-10-27T11:46:16.872Z"
   },
   {
    "duration": 2895,
    "start_time": "2024-10-27T11:46:21.308Z"
   },
   {
    "duration": 3011,
    "start_time": "2024-10-27T11:46:24.205Z"
   },
   {
    "duration": 1368,
    "start_time": "2024-10-27T11:46:42.045Z"
   },
   {
    "duration": 206,
    "start_time": "2024-10-27T11:46:43.415Z"
   },
   {
    "duration": 198,
    "start_time": "2024-10-27T11:46:43.623Z"
   },
   {
    "duration": 188,
    "start_time": "2024-10-27T11:46:43.823Z"
   },
   {
    "duration": 9,
    "start_time": "2024-10-27T11:46:44.013Z"
   },
   {
    "duration": 2210,
    "start_time": "2024-10-27T11:46:44.023Z"
   },
   {
    "duration": 3,
    "start_time": "2024-10-27T11:46:46.235Z"
   },
   {
    "duration": 457,
    "start_time": "2024-10-27T11:46:46.239Z"
   },
   {
    "duration": 371,
    "start_time": "2024-10-27T11:46:46.698Z"
   },
   {
    "duration": 397,
    "start_time": "2024-10-27T11:46:47.072Z"
   },
   {
    "duration": 5,
    "start_time": "2024-10-27T11:46:47.471Z"
   },
   {
    "duration": 51,
    "start_time": "2024-10-27T11:46:47.477Z"
   },
   {
    "duration": 203,
    "start_time": "2024-10-27T11:46:47.530Z"
   },
   {
    "duration": 104,
    "start_time": "2024-10-27T11:46:47.821Z"
   },
   {
    "duration": 3,
    "start_time": "2024-10-27T11:46:47.927Z"
   },
   {
    "duration": 23,
    "start_time": "2024-10-27T11:46:48.020Z"
   },
   {
    "duration": 18,
    "start_time": "2024-10-27T11:46:48.045Z"
   },
   {
    "duration": 6,
    "start_time": "2024-10-27T11:46:48.064Z"
   },
   {
    "duration": 5,
    "start_time": "2024-10-27T11:46:48.072Z"
   },
   {
    "duration": 5,
    "start_time": "2024-10-27T11:46:48.079Z"
   },
   {
    "duration": 19,
    "start_time": "2024-10-27T11:46:48.085Z"
   },
   {
    "duration": 23,
    "start_time": "2024-10-27T11:46:48.105Z"
   },
   {
    "duration": 14,
    "start_time": "2024-10-27T11:46:48.130Z"
   },
   {
    "duration": 16,
    "start_time": "2024-10-27T11:46:48.145Z"
   },
   {
    "duration": 6,
    "start_time": "2024-10-27T11:46:48.163Z"
   },
   {
    "duration": 9,
    "start_time": "2024-10-27T11:46:48.171Z"
   },
   {
    "duration": 43,
    "start_time": "2024-10-27T11:46:48.182Z"
   },
   {
    "duration": 3067,
    "start_time": "2024-10-27T11:46:48.228Z"
   },
   {
    "duration": 3031,
    "start_time": "2024-10-27T11:46:51.296Z"
   },
   {
    "duration": 3131,
    "start_time": "2024-10-27T11:46:54.329Z"
   },
   {
    "duration": 15,
    "start_time": "2024-10-27T11:47:07.757Z"
   },
   {
    "duration": 7,
    "start_time": "2024-10-27T11:48:17.630Z"
   },
   {
    "duration": 8,
    "start_time": "2024-10-27T11:48:18.245Z"
   },
   {
    "duration": 6,
    "start_time": "2024-10-27T11:48:18.717Z"
   },
   {
    "duration": 2214,
    "start_time": "2024-10-27T11:48:19.533Z"
   },
   {
    "duration": 2249,
    "start_time": "2024-10-27T11:48:21.748Z"
   },
   {
    "duration": 2210,
    "start_time": "2024-10-27T11:48:23.999Z"
   },
   {
    "duration": 14,
    "start_time": "2024-10-27T11:56:47.651Z"
   },
   {
    "duration": 7,
    "start_time": "2024-10-27T12:02:49.954Z"
   },
   {
    "duration": 7,
    "start_time": "2024-10-27T12:02:50.896Z"
   },
   {
    "duration": 6,
    "start_time": "2024-10-27T12:02:51.570Z"
   },
   {
    "duration": 2684,
    "start_time": "2024-10-27T12:02:52.689Z"
   },
   {
    "duration": 9,
    "start_time": "2024-10-27T12:04:58.431Z"
   },
   {
    "duration": 8,
    "start_time": "2024-10-27T12:05:18.387Z"
   },
   {
    "duration": 7,
    "start_time": "2024-10-27T12:05:27.691Z"
   },
   {
    "duration": 7,
    "start_time": "2024-10-27T13:00:21.858Z"
   },
   {
    "duration": 10,
    "start_time": "2024-10-27T13:00:22.487Z"
   },
   {
    "duration": 7,
    "start_time": "2024-10-27T13:00:23.003Z"
   },
   {
    "duration": 133,
    "start_time": "2024-10-27T13:00:24.240Z"
   },
   {
    "duration": 8,
    "start_time": "2024-10-27T13:00:54.762Z"
   },
   {
    "duration": 8,
    "start_time": "2024-10-27T13:00:55.311Z"
   },
   {
    "duration": 10,
    "start_time": "2024-10-27T13:00:55.720Z"
   },
   {
    "duration": 19,
    "start_time": "2024-10-27T13:00:56.344Z"
   },
   {
    "duration": 6,
    "start_time": "2024-10-27T13:01:09.505Z"
   },
   {
    "duration": 6,
    "start_time": "2024-10-27T13:01:10.080Z"
   },
   {
    "duration": 8,
    "start_time": "2024-10-27T13:01:10.529Z"
   },
   {
    "duration": 18,
    "start_time": "2024-10-27T13:01:11.200Z"
   },
   {
    "duration": 6,
    "start_time": "2024-10-27T13:01:39.201Z"
   },
   {
    "duration": 13,
    "start_time": "2024-10-27T13:01:40.021Z"
   },
   {
    "duration": 6,
    "start_time": "2024-10-27T13:01:40.138Z"
   },
   {
    "duration": 2914,
    "start_time": "2024-10-27T13:01:41.040Z"
   },
   {
    "duration": 6,
    "start_time": "2024-10-27T13:03:36.945Z"
   },
   {
    "duration": 7,
    "start_time": "2024-10-27T13:03:37.496Z"
   },
   {
    "duration": 7,
    "start_time": "2024-10-27T13:03:37.905Z"
   },
   {
    "duration": 23,
    "start_time": "2024-10-27T13:03:39.408Z"
   },
   {
    "duration": 7,
    "start_time": "2024-10-27T13:05:49.169Z"
   },
   {
    "duration": 10,
    "start_time": "2024-10-27T13:05:49.730Z"
   },
   {
    "duration": 8,
    "start_time": "2024-10-27T13:05:50.131Z"
   },
   {
    "duration": 23,
    "start_time": "2024-10-27T13:05:50.730Z"
   },
   {
    "duration": 1295,
    "start_time": "2024-10-27T13:15:02.671Z"
   },
   {
    "duration": 211,
    "start_time": "2024-10-27T13:15:03.969Z"
   },
   {
    "duration": 179,
    "start_time": "2024-10-27T13:15:04.181Z"
   },
   {
    "duration": 189,
    "start_time": "2024-10-27T13:15:04.362Z"
   },
   {
    "duration": 5,
    "start_time": "2024-10-27T13:15:04.553Z"
   },
   {
    "duration": 2154,
    "start_time": "2024-10-27T13:15:04.559Z"
   },
   {
    "duration": 8,
    "start_time": "2024-10-27T13:15:06.714Z"
   },
   {
    "duration": 470,
    "start_time": "2024-10-27T13:15:06.723Z"
   },
   {
    "duration": 374,
    "start_time": "2024-10-27T13:15:07.194Z"
   },
   {
    "duration": 388,
    "start_time": "2024-10-27T13:15:07.570Z"
   },
   {
    "duration": 4,
    "start_time": "2024-10-27T13:15:07.959Z"
   },
   {
    "duration": 162,
    "start_time": "2024-10-27T13:15:07.965Z"
   },
   {
    "duration": 198,
    "start_time": "2024-10-27T13:15:08.129Z"
   },
   {
    "duration": 108,
    "start_time": "2024-10-27T13:15:08.421Z"
   },
   {
    "duration": 92,
    "start_time": "2024-10-27T13:15:08.530Z"
   },
   {
    "duration": 8,
    "start_time": "2024-10-27T13:15:08.623Z"
   },
   {
    "duration": 18,
    "start_time": "2024-10-27T13:15:08.633Z"
   },
   {
    "duration": 7,
    "start_time": "2024-10-27T13:15:08.652Z"
   },
   {
    "duration": 17,
    "start_time": "2024-10-27T13:15:08.660Z"
   },
   {
    "duration": 5,
    "start_time": "2024-10-27T13:15:08.679Z"
   },
   {
    "duration": 15,
    "start_time": "2024-10-27T13:15:08.685Z"
   },
   {
    "duration": 28,
    "start_time": "2024-10-27T13:15:08.701Z"
   },
   {
    "duration": 11,
    "start_time": "2024-10-27T13:15:08.731Z"
   },
   {
    "duration": 80,
    "start_time": "2024-10-27T13:15:08.744Z"
   },
   {
    "duration": 105,
    "start_time": "2024-10-27T13:15:08.826Z"
   },
   {
    "duration": 7,
    "start_time": "2024-10-27T13:15:08.933Z"
   },
   {
    "duration": 9,
    "start_time": "2024-10-27T13:15:08.941Z"
   },
   {
    "duration": 6,
    "start_time": "2024-10-27T13:15:08.953Z"
   },
   {
    "duration": 117,
    "start_time": "2024-10-27T13:15:08.960Z"
   },
   {
    "duration": 0,
    "start_time": "2024-10-27T13:15:09.078Z"
   },
   {
    "duration": 0,
    "start_time": "2024-10-27T13:15:09.079Z"
   },
   {
    "duration": 6,
    "start_time": "2024-10-27T13:15:22.362Z"
   },
   {
    "duration": 9,
    "start_time": "2024-10-27T13:15:22.898Z"
   },
   {
    "duration": 7,
    "start_time": "2024-10-27T13:15:23.255Z"
   },
   {
    "duration": 20,
    "start_time": "2024-10-27T13:15:24.072Z"
   },
   {
    "duration": 7,
    "start_time": "2024-10-27T13:16:22.432Z"
   },
   {
    "duration": 8,
    "start_time": "2024-10-27T13:16:23.155Z"
   },
   {
    "duration": 6,
    "start_time": "2024-10-27T13:16:23.668Z"
   },
   {
    "duration": 1475,
    "start_time": "2024-10-27T13:16:24.548Z"
   },
   {
    "duration": 1414,
    "start_time": "2024-10-27T13:16:31.629Z"
   },
   {
    "duration": 1401,
    "start_time": "2024-10-27T13:16:35.035Z"
   },
   {
    "duration": 6,
    "start_time": "2024-10-27T13:16:59.406Z"
   },
   {
    "duration": 8,
    "start_time": "2024-10-27T13:17:00.220Z"
   },
   {
    "duration": 6,
    "start_time": "2024-10-27T13:17:00.859Z"
   },
   {
    "duration": 1329,
    "start_time": "2024-10-27T13:17:02.228Z"
   },
   {
    "duration": 1313,
    "start_time": "2024-10-27T13:17:07.675Z"
   },
   {
    "duration": 1354,
    "start_time": "2024-10-27T13:17:11.725Z"
   },
   {
    "duration": 6,
    "start_time": "2024-10-27T13:18:34.701Z"
   },
   {
    "duration": 7,
    "start_time": "2024-10-27T13:18:35.262Z"
   },
   {
    "duration": 6,
    "start_time": "2024-10-27T13:18:35.909Z"
   },
   {
    "duration": 18,
    "start_time": "2024-10-27T13:18:36.987Z"
   },
   {
    "duration": 7,
    "start_time": "2024-10-27T13:18:59.700Z"
   },
   {
    "duration": 9,
    "start_time": "2024-10-27T13:19:00.374Z"
   },
   {
    "duration": 7,
    "start_time": "2024-10-27T13:19:00.933Z"
   },
   {
    "duration": 19,
    "start_time": "2024-10-27T13:19:01.918Z"
   },
   {
    "duration": 6,
    "start_time": "2024-10-27T13:19:31.998Z"
   },
   {
    "duration": 7,
    "start_time": "2024-10-27T13:19:32.588Z"
   },
   {
    "duration": 6,
    "start_time": "2024-10-27T13:19:33.021Z"
   },
   {
    "duration": 19,
    "start_time": "2024-10-27T13:19:33.613Z"
   },
   {
    "duration": 19,
    "start_time": "2024-10-27T13:19:36.804Z"
   },
   {
    "duration": 6,
    "start_time": "2024-10-27T13:20:06.960Z"
   },
   {
    "duration": 7,
    "start_time": "2024-10-27T13:20:07.654Z"
   },
   {
    "duration": 5,
    "start_time": "2024-10-27T13:20:08.029Z"
   },
   {
    "duration": 1280,
    "start_time": "2024-10-27T13:20:08.934Z"
   },
   {
    "duration": 1309,
    "start_time": "2024-10-27T13:20:13.189Z"
   },
   {
    "duration": 1357,
    "start_time": "2024-10-27T13:20:14.500Z"
   },
   {
    "duration": 11,
    "start_time": "2024-10-27T14:05:24.150Z"
   },
   {
    "duration": 8,
    "start_time": "2024-10-27T14:05:33.416Z"
   },
   {
    "duration": 1305,
    "start_time": "2024-10-27T14:06:10.193Z"
   },
   {
    "duration": 7,
    "start_time": "2024-10-27T14:06:37.937Z"
   },
   {
    "duration": 8,
    "start_time": "2024-10-27T14:06:38.743Z"
   },
   {
    "duration": 6,
    "start_time": "2024-10-27T14:06:39.273Z"
   },
   {
    "duration": 1672,
    "start_time": "2024-10-27T14:06:40.431Z"
   },
   {
    "duration": 8,
    "start_time": "2024-10-27T14:07:01.063Z"
   },
   {
    "duration": 9,
    "start_time": "2024-10-27T14:07:01.632Z"
   },
   {
    "duration": 7,
    "start_time": "2024-10-27T14:07:02.185Z"
   },
   {
    "duration": 1822,
    "start_time": "2024-10-27T14:07:02.842Z"
   },
   {
    "duration": 98,
    "start_time": "2024-10-27T14:07:28.223Z"
   },
   {
    "duration": 8,
    "start_time": "2024-10-27T14:07:28.783Z"
   },
   {
    "duration": 6,
    "start_time": "2024-10-27T14:07:29.185Z"
   },
   {
    "duration": 1728,
    "start_time": "2024-10-27T14:07:30.361Z"
   },
   {
    "duration": 1352,
    "start_time": "2024-10-27T14:07:37.348Z"
   },
   {
    "duration": 205,
    "start_time": "2024-10-27T14:07:38.702Z"
   },
   {
    "duration": 185,
    "start_time": "2024-10-27T14:07:38.908Z"
   },
   {
    "duration": 189,
    "start_time": "2024-10-27T14:07:39.095Z"
   },
   {
    "duration": 5,
    "start_time": "2024-10-27T14:07:39.285Z"
   },
   {
    "duration": 2230,
    "start_time": "2024-10-27T14:07:39.291Z"
   },
   {
    "duration": 4,
    "start_time": "2024-10-27T14:07:41.522Z"
   },
   {
    "duration": 443,
    "start_time": "2024-10-27T14:07:41.527Z"
   },
   {
    "duration": 375,
    "start_time": "2024-10-27T14:07:41.972Z"
   },
   {
    "duration": 330,
    "start_time": "2024-10-27T14:07:42.350Z"
   },
   {
    "duration": 5,
    "start_time": "2024-10-27T14:07:42.681Z"
   },
   {
    "duration": 136,
    "start_time": "2024-10-27T14:07:42.687Z"
   },
   {
    "duration": 198,
    "start_time": "2024-10-27T14:07:42.824Z"
   },
   {
    "duration": 205,
    "start_time": "2024-10-27T14:07:43.024Z"
   },
   {
    "duration": 91,
    "start_time": "2024-10-27T14:07:43.231Z"
   },
   {
    "duration": 7,
    "start_time": "2024-10-27T14:07:43.323Z"
   },
   {
    "duration": 40,
    "start_time": "2024-10-27T14:07:43.331Z"
   },
   {
    "duration": 6,
    "start_time": "2024-10-27T14:07:43.373Z"
   },
   {
    "duration": 6,
    "start_time": "2024-10-27T14:07:43.381Z"
   },
   {
    "duration": 8,
    "start_time": "2024-10-27T14:07:43.388Z"
   },
   {
    "duration": 23,
    "start_time": "2024-10-27T14:07:43.397Z"
   },
   {
    "duration": 13,
    "start_time": "2024-10-27T14:07:43.421Z"
   },
   {
    "duration": 13,
    "start_time": "2024-10-27T14:07:43.435Z"
   },
   {
    "duration": 58,
    "start_time": "2024-10-27T14:07:43.450Z"
   },
   {
    "duration": 0,
    "start_time": "2024-10-27T14:07:43.510Z"
   },
   {
    "duration": 0,
    "start_time": "2024-10-27T14:07:43.512Z"
   },
   {
    "duration": 0,
    "start_time": "2024-10-27T14:07:43.513Z"
   },
   {
    "duration": 0,
    "start_time": "2024-10-27T14:07:43.515Z"
   },
   {
    "duration": 0,
    "start_time": "2024-10-27T14:07:43.516Z"
   },
   {
    "duration": 7,
    "start_time": "2024-10-27T14:07:57.770Z"
   },
   {
    "duration": 7,
    "start_time": "2024-10-27T14:07:59.280Z"
   },
   {
    "duration": 6,
    "start_time": "2024-10-27T14:08:00.144Z"
   },
   {
    "duration": 1782,
    "start_time": "2024-10-27T14:08:01.167Z"
   },
   {
    "duration": 1652,
    "start_time": "2024-10-27T14:08:24.288Z"
   },
   {
    "duration": 7,
    "start_time": "2024-10-27T14:08:34.406Z"
   },
   {
    "duration": 1670,
    "start_time": "2024-10-27T14:08:36.569Z"
   },
   {
    "duration": 9,
    "start_time": "2024-10-27T14:09:28.006Z"
   },
   {
    "duration": 1895,
    "start_time": "2024-10-27T14:09:30.609Z"
   },
   {
    "duration": 91,
    "start_time": "2024-10-27T14:09:39.121Z"
   },
   {
    "duration": 1713,
    "start_time": "2024-10-27T14:09:41.465Z"
   },
   {
    "duration": 8,
    "start_time": "2024-10-27T14:10:06.305Z"
   },
   {
    "duration": 1732,
    "start_time": "2024-10-27T14:10:09.785Z"
   },
   {
    "duration": 7,
    "start_time": "2024-10-27T14:10:27.033Z"
   },
   {
    "duration": 1754,
    "start_time": "2024-10-27T14:10:27.238Z"
   },
   {
    "duration": 6,
    "start_time": "2024-10-27T14:10:50.877Z"
   },
   {
    "duration": 1286,
    "start_time": "2024-10-27T14:10:51.145Z"
   },
   {
    "duration": 8,
    "start_time": "2024-10-27T14:11:09.354Z"
   },
   {
    "duration": 1623,
    "start_time": "2024-10-27T14:11:10.988Z"
   },
   {
    "duration": 8,
    "start_time": "2024-10-27T14:11:21.035Z"
   },
   {
    "duration": 1746,
    "start_time": "2024-10-27T14:11:21.213Z"
   },
   {
    "duration": 9,
    "start_time": "2024-10-27T14:11:27.202Z"
   },
   {
    "duration": 1758,
    "start_time": "2024-10-27T14:11:27.474Z"
   },
   {
    "duration": 100,
    "start_time": "2024-10-27T14:11:39.428Z"
   },
   {
    "duration": 1800,
    "start_time": "2024-10-27T14:11:42.842Z"
   },
   {
    "duration": 8,
    "start_time": "2024-10-27T14:12:25.450Z"
   },
   {
    "duration": 7,
    "start_time": "2024-10-27T14:12:36.890Z"
   },
   {
    "duration": 1791,
    "start_time": "2024-10-27T14:12:38.358Z"
   },
   {
    "duration": 8,
    "start_time": "2024-10-27T14:13:03.342Z"
   },
   {
    "duration": 1681,
    "start_time": "2024-10-27T14:13:04.971Z"
   },
   {
    "duration": 9,
    "start_time": "2024-10-27T14:13:49.771Z"
   },
   {
    "duration": 1715,
    "start_time": "2024-10-27T14:13:51.388Z"
   },
   {
    "duration": 8,
    "start_time": "2024-10-27T14:14:09.995Z"
   },
   {
    "duration": 1750,
    "start_time": "2024-10-27T14:14:10.771Z"
   },
   {
    "duration": 8,
    "start_time": "2024-10-27T14:14:38.643Z"
   },
   {
    "duration": 1801,
    "start_time": "2024-10-27T14:14:38.950Z"
   },
   {
    "duration": 1844,
    "start_time": "2024-10-27T14:14:52.899Z"
   },
   {
    "duration": 1777,
    "start_time": "2024-10-27T14:14:54.745Z"
   },
   {
    "duration": 1726,
    "start_time": "2024-10-27T14:15:00.020Z"
   },
   {
    "duration": 4,
    "start_time": "2024-10-27T14:16:41.222Z"
   },
   {
    "duration": 242,
    "start_time": "2024-10-27T14:16:41.501Z"
   },
   {
    "duration": 5,
    "start_time": "2024-10-27T14:17:08.420Z"
   },
   {
    "duration": 236,
    "start_time": "2024-10-27T14:17:08.757Z"
   },
   {
    "duration": 5,
    "start_time": "2024-10-27T14:17:21.574Z"
   },
   {
    "duration": 230,
    "start_time": "2024-10-27T14:17:21.921Z"
   },
   {
    "duration": 4,
    "start_time": "2024-10-27T14:17:28.628Z"
   },
   {
    "duration": 2505,
    "start_time": "2024-10-27T14:17:28.820Z"
   },
   {
    "duration": 97,
    "start_time": "2024-10-27T14:20:31.267Z"
   },
   {
    "duration": 5,
    "start_time": "2024-10-27T14:20:37.625Z"
   },
   {
    "duration": 257,
    "start_time": "2024-10-27T14:20:37.879Z"
   },
   {
    "duration": 5,
    "start_time": "2024-10-27T14:20:43.328Z"
   },
   {
    "duration": 243,
    "start_time": "2024-10-27T14:20:43.539Z"
   },
   {
    "duration": 59,
    "start_time": "2024-10-27T14:21:03.864Z"
   },
   {
    "duration": 236,
    "start_time": "2024-10-27T14:21:04.169Z"
   },
   {
    "duration": 63,
    "start_time": "2024-10-27T14:21:12.236Z"
   },
   {
    "duration": 230,
    "start_time": "2024-10-27T14:21:12.660Z"
   },
   {
    "duration": 57,
    "start_time": "2024-10-27T14:21:21.875Z"
   },
   {
    "duration": 232,
    "start_time": "2024-10-27T14:21:22.277Z"
   },
   {
    "duration": 5,
    "start_time": "2024-10-27T14:21:34.686Z"
   },
   {
    "duration": 2358,
    "start_time": "2024-10-27T14:21:34.854Z"
   },
   {
    "duration": 70,
    "start_time": "2024-10-27T14:22:20.534Z"
   },
   {
    "duration": 10,
    "start_time": "2024-10-27T14:22:21.564Z"
   },
   {
    "duration": 7,
    "start_time": "2024-10-27T14:22:21.980Z"
   },
   {
    "duration": 1851,
    "start_time": "2024-10-27T14:22:23.228Z"
   },
   {
    "duration": 8,
    "start_time": "2024-10-27T14:22:38.768Z"
   },
   {
    "duration": 8,
    "start_time": "2024-10-27T14:22:39.360Z"
   },
   {
    "duration": 7,
    "start_time": "2024-10-27T14:22:39.610Z"
   },
   {
    "duration": 1810,
    "start_time": "2024-10-27T14:22:40.148Z"
   },
   {
    "duration": 10,
    "start_time": "2024-10-27T14:23:12.524Z"
   },
   {
    "duration": 7,
    "start_time": "2024-10-27T14:23:13.084Z"
   },
   {
    "duration": 6,
    "start_time": "2024-10-27T14:23:13.476Z"
   },
   {
    "duration": 1735,
    "start_time": "2024-10-27T14:23:14.236Z"
   },
   {
    "duration": 6,
    "start_time": "2024-10-27T14:25:07.577Z"
   },
   {
    "duration": 2420,
    "start_time": "2024-10-27T14:25:07.790Z"
   },
   {
    "duration": 5,
    "start_time": "2024-10-27T14:25:17.064Z"
   },
   {
    "duration": 2362,
    "start_time": "2024-10-27T14:25:17.373Z"
   },
   {
    "duration": 5,
    "start_time": "2024-10-27T14:26:02.205Z"
   },
   {
    "duration": 251,
    "start_time": "2024-10-27T14:26:04.723Z"
   },
   {
    "duration": 5,
    "start_time": "2024-10-27T14:26:14.128Z"
   },
   {
    "duration": 240,
    "start_time": "2024-10-27T14:26:14.352Z"
   },
   {
    "duration": 5,
    "start_time": "2024-10-27T14:29:53.283Z"
   },
   {
    "duration": 2294,
    "start_time": "2024-10-27T14:29:53.757Z"
   },
   {
    "duration": 82,
    "start_time": "2024-10-27T14:30:50.372Z"
   },
   {
    "duration": 2182,
    "start_time": "2024-10-27T14:30:50.724Z"
   },
   {
    "duration": 62,
    "start_time": "2024-10-27T14:31:01.312Z"
   },
   {
    "duration": 2396,
    "start_time": "2024-10-27T14:31:01.600Z"
   },
   {
    "duration": 74,
    "start_time": "2024-10-27T14:31:22.174Z"
   },
   {
    "duration": 62,
    "start_time": "2024-10-27T14:31:45.120Z"
   },
   {
    "duration": 2262,
    "start_time": "2024-10-27T14:31:45.361Z"
   },
   {
    "duration": 8,
    "start_time": "2024-10-27T14:32:08.484Z"
   },
   {
    "duration": 419,
    "start_time": "2024-10-27T14:32:12.462Z"
   },
   {
    "duration": 6,
    "start_time": "2024-10-27T14:33:26.153Z"
   },
   {
    "duration": 305,
    "start_time": "2024-10-27T14:33:26.568Z"
   },
   {
    "duration": 5,
    "start_time": "2024-10-27T14:33:39.396Z"
   },
   {
    "duration": 2340,
    "start_time": "2024-10-27T14:33:39.789Z"
   },
   {
    "duration": 5,
    "start_time": "2024-10-27T14:34:11.236Z"
   },
   {
    "duration": 2435,
    "start_time": "2024-10-27T14:34:11.489Z"
   },
   {
    "duration": 5,
    "start_time": "2024-10-27T14:34:19.382Z"
   },
   {
    "duration": 2370,
    "start_time": "2024-10-27T14:34:19.694Z"
   },
   {
    "duration": 5,
    "start_time": "2024-10-27T14:35:52.477Z"
   },
   {
    "duration": 2510,
    "start_time": "2024-10-27T14:35:53.026Z"
   },
   {
    "duration": 66,
    "start_time": "2024-10-27T14:36:30.593Z"
   },
   {
    "duration": 53,
    "start_time": "2024-10-27T14:37:02.466Z"
   },
   {
    "duration": 61,
    "start_time": "2024-10-27T14:37:08.816Z"
   },
   {
    "duration": 2401,
    "start_time": "2024-10-27T14:37:09.026Z"
   },
   {
    "duration": 61,
    "start_time": "2024-10-27T14:39:11.187Z"
   },
   {
    "duration": 5,
    "start_time": "2024-10-27T14:39:29.746Z"
   },
   {
    "duration": 2390,
    "start_time": "2024-10-27T14:39:30.373Z"
   },
   {
    "duration": 5,
    "start_time": "2024-10-27T14:39:50.110Z"
   },
   {
    "duration": 2367,
    "start_time": "2024-10-27T14:39:50.606Z"
   },
   {
    "duration": 5,
    "start_time": "2024-10-27T14:40:01.558Z"
   },
   {
    "duration": 2426,
    "start_time": "2024-10-27T14:40:01.902Z"
   },
   {
    "duration": 6,
    "start_time": "2024-10-27T14:41:19.443Z"
   },
   {
    "duration": 2225,
    "start_time": "2024-10-27T14:41:20.002Z"
   },
   {
    "duration": 97,
    "start_time": "2024-10-27T14:41:36.874Z"
   },
   {
    "duration": 2418,
    "start_time": "2024-10-27T14:41:37.307Z"
   },
   {
    "duration": 6,
    "start_time": "2024-10-27T14:41:47.934Z"
   },
   {
    "duration": 2396,
    "start_time": "2024-10-27T14:41:48.255Z"
   },
   {
    "duration": 6,
    "start_time": "2024-10-27T14:41:57.402Z"
   },
   {
    "duration": 2340,
    "start_time": "2024-10-27T14:41:57.681Z"
   },
   {
    "duration": 6,
    "start_time": "2024-10-27T14:42:30.324Z"
   },
   {
    "duration": 2489,
    "start_time": "2024-10-27T14:42:30.594Z"
   },
   {
    "duration": 5,
    "start_time": "2024-10-27T14:43:31.887Z"
   },
   {
    "duration": 2399,
    "start_time": "2024-10-27T14:43:32.152Z"
   },
   {
    "duration": 6,
    "start_time": "2024-10-27T14:43:55.271Z"
   },
   {
    "duration": 2833,
    "start_time": "2024-10-27T14:43:55.447Z"
   },
   {
    "duration": 5,
    "start_time": "2024-10-27T14:44:06.875Z"
   },
   {
    "duration": 2366,
    "start_time": "2024-10-27T14:44:07.084Z"
   },
   {
    "duration": 5,
    "start_time": "2024-10-27T14:44:20.083Z"
   },
   {
    "duration": 2628,
    "start_time": "2024-10-27T14:44:20.420Z"
   },
   {
    "duration": 10,
    "start_time": "2024-10-27T14:46:40.318Z"
   },
   {
    "duration": 8,
    "start_time": "2024-10-27T14:46:41.578Z"
   },
   {
    "duration": 7,
    "start_time": "2024-10-27T14:46:41.978Z"
   },
   {
    "duration": 59,
    "start_time": "2024-10-27T14:47:14.456Z"
   },
   {
    "duration": 62,
    "start_time": "2024-10-27T14:47:36.179Z"
   },
   {
    "duration": 1634,
    "start_time": "2024-10-28T11:52:13.170Z"
   },
   {
    "duration": 639,
    "start_time": "2024-10-28T11:52:14.806Z"
   },
   {
    "duration": 563,
    "start_time": "2024-10-28T11:52:15.447Z"
   },
   {
    "duration": 578,
    "start_time": "2024-10-28T11:52:16.013Z"
   },
   {
    "duration": 7,
    "start_time": "2024-10-28T11:52:16.593Z"
   },
   {
    "duration": 2876,
    "start_time": "2024-10-28T11:52:16.602Z"
   },
   {
    "duration": 3,
    "start_time": "2024-10-28T11:52:19.480Z"
   },
   {
    "duration": 477,
    "start_time": "2024-10-28T11:52:19.485Z"
   },
   {
    "duration": 378,
    "start_time": "2024-10-28T11:52:19.964Z"
   },
   {
    "duration": 395,
    "start_time": "2024-10-28T11:52:20.345Z"
   },
   {
    "duration": 5,
    "start_time": "2024-10-28T11:52:20.741Z"
   },
   {
    "duration": 249,
    "start_time": "2024-10-28T11:52:20.747Z"
   },
   {
    "duration": 107,
    "start_time": "2024-10-28T11:52:20.998Z"
   },
   {
    "duration": 193,
    "start_time": "2024-10-28T11:52:21.107Z"
   },
   {
    "duration": 4,
    "start_time": "2024-10-28T11:52:21.302Z"
   },
   {
    "duration": 100,
    "start_time": "2024-10-28T11:52:21.309Z"
   },
   {
    "duration": 41,
    "start_time": "2024-10-28T11:52:21.411Z"
   },
   {
    "duration": 47,
    "start_time": "2024-10-28T11:52:21.454Z"
   },
   {
    "duration": 12,
    "start_time": "2024-10-28T11:52:21.503Z"
   },
   {
    "duration": 6,
    "start_time": "2024-10-28T11:52:21.517Z"
   },
   {
    "duration": 23,
    "start_time": "2024-10-28T11:52:21.525Z"
   },
   {
    "duration": 41,
    "start_time": "2024-10-28T11:52:21.549Z"
   },
   {
    "duration": 23,
    "start_time": "2024-10-28T11:52:21.595Z"
   },
   {
    "duration": 9,
    "start_time": "2024-10-28T11:52:21.619Z"
   },
   {
    "duration": 91,
    "start_time": "2024-10-28T11:52:21.629Z"
   },
   {
    "duration": 16,
    "start_time": "2024-10-28T11:52:21.722Z"
   },
   {
    "duration": 142,
    "start_time": "2024-10-28T11:52:21.739Z"
   },
   {
    "duration": 0,
    "start_time": "2024-10-28T11:52:21.883Z"
   },
   {
    "duration": 0,
    "start_time": "2024-10-28T11:52:21.884Z"
   },
   {
    "duration": 0,
    "start_time": "2024-10-28T12:25:50.528Z"
   },
   {
    "duration": 0,
    "start_time": "2024-10-28T12:25:50.528Z"
   },
   {
    "duration": 0,
    "start_time": "2024-10-28T12:25:50.529Z"
   },
   {
    "duration": 0,
    "start_time": "2024-10-28T12:25:50.530Z"
   },
   {
    "duration": 0,
    "start_time": "2024-10-28T12:25:50.532Z"
   },
   {
    "duration": 0,
    "start_time": "2024-10-28T12:25:50.533Z"
   },
   {
    "duration": 0,
    "start_time": "2024-10-28T12:25:50.534Z"
   },
   {
    "duration": 0,
    "start_time": "2024-10-28T12:25:50.535Z"
   },
   {
    "duration": 0,
    "start_time": "2024-10-28T12:25:50.536Z"
   },
   {
    "duration": 0,
    "start_time": "2024-10-28T12:25:50.537Z"
   },
   {
    "duration": 0,
    "start_time": "2024-10-28T12:25:50.538Z"
   },
   {
    "duration": 0,
    "start_time": "2024-10-28T12:25:50.539Z"
   },
   {
    "duration": 0,
    "start_time": "2024-10-28T12:25:50.540Z"
   },
   {
    "duration": 0,
    "start_time": "2024-10-28T12:25:50.541Z"
   },
   {
    "duration": 0,
    "start_time": "2024-10-28T12:25:50.542Z"
   },
   {
    "duration": 0,
    "start_time": "2024-10-28T12:25:50.543Z"
   },
   {
    "duration": 0,
    "start_time": "2024-10-28T12:25:50.544Z"
   },
   {
    "duration": 0,
    "start_time": "2024-10-28T12:25:50.545Z"
   },
   {
    "duration": 0,
    "start_time": "2024-10-28T12:25:50.546Z"
   },
   {
    "duration": 0,
    "start_time": "2024-10-28T12:25:50.548Z"
   },
   {
    "duration": 0,
    "start_time": "2024-10-28T12:25:50.548Z"
   },
   {
    "duration": 0,
    "start_time": "2024-10-28T12:25:50.550Z"
   },
   {
    "duration": 0,
    "start_time": "2024-10-28T12:25:50.551Z"
   },
   {
    "duration": 0,
    "start_time": "2024-10-28T12:25:50.552Z"
   },
   {
    "duration": 0,
    "start_time": "2024-10-28T12:25:50.603Z"
   },
   {
    "duration": 0,
    "start_time": "2024-10-28T12:25:50.604Z"
   },
   {
    "duration": 0,
    "start_time": "2024-10-28T12:25:50.605Z"
   },
   {
    "duration": 0,
    "start_time": "2024-10-28T12:25:50.605Z"
   },
   {
    "duration": 0,
    "start_time": "2024-10-28T12:25:50.606Z"
   },
   {
    "duration": 1523,
    "start_time": "2024-10-28T12:26:15.500Z"
   },
   {
    "duration": 236,
    "start_time": "2024-10-28T12:26:17.025Z"
   },
   {
    "duration": 206,
    "start_time": "2024-10-28T12:26:17.262Z"
   },
   {
    "duration": 218,
    "start_time": "2024-10-28T12:26:17.470Z"
   },
   {
    "duration": 13,
    "start_time": "2024-10-28T12:26:17.689Z"
   },
   {
    "duration": 2809,
    "start_time": "2024-10-28T12:26:17.703Z"
   },
   {
    "duration": 4,
    "start_time": "2024-10-28T12:26:20.513Z"
   },
   {
    "duration": 528,
    "start_time": "2024-10-28T12:26:20.519Z"
   },
   {
    "duration": 422,
    "start_time": "2024-10-28T12:26:21.048Z"
   },
   {
    "duration": 403,
    "start_time": "2024-10-28T12:26:21.472Z"
   },
   {
    "duration": 4,
    "start_time": "2024-10-28T12:26:21.877Z"
   },
   {
    "duration": 121,
    "start_time": "2024-10-28T12:26:21.883Z"
   },
   {
    "duration": 200,
    "start_time": "2024-10-28T12:26:22.006Z"
   },
   {
    "duration": 196,
    "start_time": "2024-10-28T12:26:22.210Z"
   },
   {
    "duration": 4,
    "start_time": "2024-10-28T12:26:22.408Z"
   },
   {
    "duration": 98,
    "start_time": "2024-10-28T12:26:22.416Z"
   },
   {
    "duration": 49,
    "start_time": "2024-10-28T12:26:22.515Z"
   },
   {
    "duration": 11,
    "start_time": "2024-10-28T12:26:22.565Z"
   },
   {
    "duration": 37,
    "start_time": "2024-10-28T12:26:22.578Z"
   },
   {
    "duration": 5,
    "start_time": "2024-10-28T12:26:22.616Z"
   },
   {
    "duration": 20,
    "start_time": "2024-10-28T12:26:22.623Z"
   },
   {
    "duration": 14,
    "start_time": "2024-10-28T12:26:22.645Z"
   },
   {
    "duration": 14,
    "start_time": "2024-10-28T12:26:22.661Z"
   },
   {
    "duration": 28,
    "start_time": "2024-10-28T12:26:22.677Z"
   },
   {
    "duration": 10,
    "start_time": "2024-10-28T12:26:22.706Z"
   },
   {
    "duration": 7,
    "start_time": "2024-10-28T12:26:22.717Z"
   },
   {
    "duration": 137,
    "start_time": "2024-10-28T12:26:22.725Z"
   },
   {
    "duration": 0,
    "start_time": "2024-10-28T12:26:22.864Z"
   },
   {
    "duration": 0,
    "start_time": "2024-10-28T12:26:22.865Z"
   },
   {
    "duration": 8,
    "start_time": "2024-10-28T12:27:41.044Z"
   },
   {
    "duration": 8,
    "start_time": "2024-10-28T12:27:42.033Z"
   },
   {
    "duration": 6,
    "start_time": "2024-10-28T12:27:42.489Z"
   },
   {
    "duration": 14,
    "start_time": "2024-10-28T12:27:44.579Z"
   },
   {
    "duration": 9,
    "start_time": "2024-10-28T12:27:57.866Z"
   },
   {
    "duration": 8,
    "start_time": "2024-10-28T12:27:58.825Z"
   },
   {
    "duration": 7,
    "start_time": "2024-10-28T12:27:59.438Z"
   },
   {
    "duration": 15,
    "start_time": "2024-10-28T12:28:00.660Z"
   },
   {
    "duration": 9,
    "start_time": "2024-10-28T12:28:19.651Z"
   },
   {
    "duration": 8,
    "start_time": "2024-10-28T12:28:20.530Z"
   },
   {
    "duration": 7,
    "start_time": "2024-10-28T12:28:20.892Z"
   },
   {
    "duration": 14,
    "start_time": "2024-10-28T12:28:22.065Z"
   },
   {
    "duration": 1386,
    "start_time": "2024-10-28T12:29:05.340Z"
   },
   {
    "duration": 244,
    "start_time": "2024-10-28T12:29:06.728Z"
   },
   {
    "duration": 211,
    "start_time": "2024-10-28T12:29:06.974Z"
   },
   {
    "duration": 223,
    "start_time": "2024-10-28T12:29:07.187Z"
   },
   {
    "duration": 6,
    "start_time": "2024-10-28T12:29:07.412Z"
   },
   {
    "duration": 2690,
    "start_time": "2024-10-28T12:29:07.420Z"
   },
   {
    "duration": 3,
    "start_time": "2024-10-28T12:29:10.112Z"
   },
   {
    "duration": 467,
    "start_time": "2024-10-28T12:29:10.117Z"
   },
   {
    "duration": 380,
    "start_time": "2024-10-28T12:29:10.586Z"
   },
   {
    "duration": 417,
    "start_time": "2024-10-28T12:29:10.968Z"
   },
   {
    "duration": 5,
    "start_time": "2024-10-28T12:29:11.386Z"
   },
   {
    "duration": 105,
    "start_time": "2024-10-28T12:29:11.402Z"
   },
   {
    "duration": 198,
    "start_time": "2024-10-28T12:29:11.509Z"
   },
   {
    "duration": 200,
    "start_time": "2024-10-28T12:29:11.709Z"
   },
   {
    "duration": 4,
    "start_time": "2024-10-28T12:29:11.911Z"
   },
   {
    "duration": 91,
    "start_time": "2024-10-28T12:29:11.918Z"
   },
   {
    "duration": 57,
    "start_time": "2024-10-28T12:29:12.011Z"
   },
   {
    "duration": 12,
    "start_time": "2024-10-28T12:29:12.069Z"
   },
   {
    "duration": 29,
    "start_time": "2024-10-28T12:29:12.082Z"
   },
   {
    "duration": 4,
    "start_time": "2024-10-28T12:29:12.114Z"
   },
   {
    "duration": 16,
    "start_time": "2024-10-28T12:29:12.120Z"
   },
   {
    "duration": 14,
    "start_time": "2024-10-28T12:29:12.138Z"
   },
   {
    "duration": 14,
    "start_time": "2024-10-28T12:29:12.154Z"
   },
   {
    "duration": 31,
    "start_time": "2024-10-28T12:29:12.170Z"
   },
   {
    "duration": 28,
    "start_time": "2024-10-28T12:29:12.203Z"
   },
   {
    "duration": 8,
    "start_time": "2024-10-28T12:29:12.233Z"
   },
   {
    "duration": 149,
    "start_time": "2024-10-28T12:29:12.242Z"
   },
   {
    "duration": 0,
    "start_time": "2024-10-28T12:29:12.393Z"
   },
   {
    "duration": 0,
    "start_time": "2024-10-28T12:29:12.397Z"
   },
   {
    "duration": 14,
    "start_time": "2024-10-28T12:29:28.197Z"
   },
   {
    "duration": 8,
    "start_time": "2024-10-28T12:29:29.114Z"
   },
   {
    "duration": 6,
    "start_time": "2024-10-28T12:29:29.521Z"
   },
   {
    "duration": 1910,
    "start_time": "2024-10-28T12:29:31.049Z"
   },
   {
    "duration": 1915,
    "start_time": "2024-10-28T12:29:35.068Z"
   },
   {
    "duration": 1987,
    "start_time": "2024-10-28T12:29:36.985Z"
   },
   {
    "duration": 1904,
    "start_time": "2024-10-28T12:29:39.986Z"
   },
   {
    "duration": 120,
    "start_time": "2024-10-28T12:30:56.733Z"
   },
   {
    "duration": 7,
    "start_time": "2024-10-28T12:30:58.037Z"
   },
   {
    "duration": 6,
    "start_time": "2024-10-28T12:30:58.612Z"
   },
   {
    "duration": 3761,
    "start_time": "2024-10-28T12:30:59.915Z"
   },
   {
    "duration": 9,
    "start_time": "2024-10-28T12:32:48.779Z"
   },
   {
    "duration": 7,
    "start_time": "2024-10-28T12:32:50.027Z"
   },
   {
    "duration": 7,
    "start_time": "2024-10-28T12:32:50.490Z"
   },
   {
    "duration": 3843,
    "start_time": "2024-10-28T12:32:52.046Z"
   },
   {
    "duration": 9,
    "start_time": "2024-10-28T12:33:07.754Z"
   },
   {
    "duration": 9,
    "start_time": "2024-10-28T12:33:08.641Z"
   },
   {
    "duration": 12,
    "start_time": "2024-10-28T12:33:09.006Z"
   },
   {
    "duration": 3768,
    "start_time": "2024-10-28T12:33:10.282Z"
   },
   {
    "duration": 14,
    "start_time": "2024-10-28T12:35:23.192Z"
   },
   {
    "duration": 14,
    "start_time": "2024-10-28T12:35:29.410Z"
   },
   {
    "duration": 9,
    "start_time": "2024-10-28T12:35:29.651Z"
   },
   {
    "duration": 11,
    "start_time": "2024-10-28T12:35:31.205Z"
   },
   {
    "duration": 7,
    "start_time": "2024-10-28T12:35:31.787Z"
   },
   {
    "duration": 3602,
    "start_time": "2024-10-28T12:35:33.891Z"
   },
   {
    "duration": 14,
    "start_time": "2024-10-28T12:35:45.748Z"
   },
   {
    "duration": 23,
    "start_time": "2024-10-28T12:35:49.813Z"
   },
   {
    "duration": 1521,
    "start_time": "2024-10-28T12:35:57.221Z"
   },
   {
    "duration": 231,
    "start_time": "2024-10-28T12:35:58.744Z"
   },
   {
    "duration": 212,
    "start_time": "2024-10-28T12:35:58.977Z"
   },
   {
    "duration": 235,
    "start_time": "2024-10-28T12:35:59.191Z"
   },
   {
    "duration": 6,
    "start_time": "2024-10-28T12:35:59.428Z"
   },
   {
    "duration": 2688,
    "start_time": "2024-10-28T12:35:59.435Z"
   },
   {
    "duration": 3,
    "start_time": "2024-10-28T12:36:02.125Z"
   },
   {
    "duration": 565,
    "start_time": "2024-10-28T12:36:02.129Z"
   },
   {
    "duration": 392,
    "start_time": "2024-10-28T12:36:02.696Z"
   },
   {
    "duration": 384,
    "start_time": "2024-10-28T12:36:03.091Z"
   },
   {
    "duration": 5,
    "start_time": "2024-10-28T12:36:03.476Z"
   },
   {
    "duration": 125,
    "start_time": "2024-10-28T12:36:03.483Z"
   },
   {
    "duration": 205,
    "start_time": "2024-10-28T12:36:03.610Z"
   },
   {
    "duration": 189,
    "start_time": "2024-10-28T12:36:03.817Z"
   },
   {
    "duration": 10,
    "start_time": "2024-10-28T12:36:04.008Z"
   },
   {
    "duration": 112,
    "start_time": "2024-10-28T12:36:04.021Z"
   },
   {
    "duration": 12,
    "start_time": "2024-10-28T12:36:04.134Z"
   },
   {
    "duration": 35,
    "start_time": "2024-10-28T12:36:04.147Z"
   },
   {
    "duration": 50,
    "start_time": "2024-10-28T12:36:04.183Z"
   },
   {
    "duration": 7,
    "start_time": "2024-10-28T12:36:04.234Z"
   },
   {
    "duration": 22,
    "start_time": "2024-10-28T12:36:04.243Z"
   },
   {
    "duration": 14,
    "start_time": "2024-10-28T12:36:04.266Z"
   },
   {
    "duration": 14,
    "start_time": "2024-10-28T12:36:04.282Z"
   },
   {
    "duration": 25,
    "start_time": "2024-10-28T12:36:04.308Z"
   },
   {
    "duration": 21,
    "start_time": "2024-10-28T12:36:04.334Z"
   },
   {
    "duration": 9,
    "start_time": "2024-10-28T12:36:04.356Z"
   },
   {
    "duration": 11,
    "start_time": "2024-10-28T12:36:04.367Z"
   },
   {
    "duration": 3806,
    "start_time": "2024-10-28T12:36:04.381Z"
   },
   {
    "duration": 3775,
    "start_time": "2024-10-28T12:36:08.189Z"
   },
   {
    "duration": 3683,
    "start_time": "2024-10-28T12:36:11.965Z"
   },
   {
    "duration": 9,
    "start_time": "2024-10-28T12:40:22.269Z"
   },
   {
    "duration": 3690,
    "start_time": "2024-10-28T12:40:26.398Z"
   },
   {
    "duration": 112,
    "start_time": "2024-10-28T12:41:14.666Z"
   },
   {
    "duration": 163,
    "start_time": "2024-10-28T12:41:18.420Z"
   },
   {
    "duration": 9,
    "start_time": "2024-10-28T12:41:49.942Z"
   },
   {
    "duration": 8,
    "start_time": "2024-10-28T12:41:51.069Z"
   },
   {
    "duration": 7,
    "start_time": "2024-10-28T12:41:51.461Z"
   },
   {
    "duration": 3671,
    "start_time": "2024-10-28T12:41:52.711Z"
   },
   {
    "duration": 11,
    "start_time": "2024-10-28T12:42:34.607Z"
   },
   {
    "duration": 8,
    "start_time": "2024-10-28T12:42:35.654Z"
   },
   {
    "duration": 6,
    "start_time": "2024-10-28T12:42:36.030Z"
   },
   {
    "duration": 2046,
    "start_time": "2024-10-28T12:42:37.758Z"
   },
   {
    "duration": 1970,
    "start_time": "2024-10-28T12:42:45.630Z"
   },
   {
    "duration": 2049,
    "start_time": "2024-10-28T12:42:47.605Z"
   },
   {
    "duration": 8,
    "start_time": "2024-10-28T12:43:11.760Z"
   },
   {
    "duration": 9,
    "start_time": "2024-10-28T12:43:51.550Z"
   },
   {
    "duration": 8,
    "start_time": "2024-10-28T12:43:52.581Z"
   },
   {
    "duration": 7,
    "start_time": "2024-10-28T12:43:53.414Z"
   },
   {
    "duration": 2108,
    "start_time": "2024-10-28T12:43:55.077Z"
   },
   {
    "duration": 2150,
    "start_time": "2024-10-28T12:44:01.766Z"
   },
   {
    "duration": 2220,
    "start_time": "2024-10-28T12:44:03.919Z"
   },
   {
    "duration": 10,
    "start_time": "2024-10-28T12:57:18.979Z"
   },
   {
    "duration": 9,
    "start_time": "2024-10-28T12:57:20.346Z"
   },
   {
    "duration": 6,
    "start_time": "2024-10-28T12:57:20.761Z"
   },
   {
    "duration": 16,
    "start_time": "2024-10-28T12:57:22.305Z"
   },
   {
    "duration": 8,
    "start_time": "2024-10-28T12:57:40.610Z"
   },
   {
    "duration": 8,
    "start_time": "2024-10-28T12:57:41.783Z"
   },
   {
    "duration": 6,
    "start_time": "2024-10-28T12:57:42.241Z"
   },
   {
    "duration": 3435,
    "start_time": "2024-10-28T12:57:45.194Z"
   },
   {
    "duration": 9,
    "start_time": "2024-10-28T12:58:20.051Z"
   },
   {
    "duration": 8,
    "start_time": "2024-10-28T12:58:21.019Z"
   },
   {
    "duration": 7,
    "start_time": "2024-10-28T12:58:21.435Z"
   },
   {
    "duration": 3550,
    "start_time": "2024-10-28T12:58:22.825Z"
   },
   {
    "duration": 9,
    "start_time": "2024-10-28T12:58:44.055Z"
   },
   {
    "duration": 3525,
    "start_time": "2024-10-28T12:58:48.373Z"
   },
   {
    "duration": 9,
    "start_time": "2024-10-28T12:59:04.285Z"
   },
   {
    "duration": 3457,
    "start_time": "2024-10-28T12:59:08.446Z"
   },
   {
    "duration": 9,
    "start_time": "2024-10-28T12:59:46.179Z"
   },
   {
    "duration": 19,
    "start_time": "2024-10-28T12:59:51.090Z"
   },
   {
    "duration": 9,
    "start_time": "2024-10-28T13:00:06.659Z"
   },
   {
    "duration": 10,
    "start_time": "2024-10-28T13:06:12.156Z"
   },
   {
    "duration": 9,
    "start_time": "2024-10-28T13:06:13.189Z"
   },
   {
    "duration": 7,
    "start_time": "2024-10-28T13:06:13.731Z"
   },
   {
    "duration": 1843,
    "start_time": "2024-10-28T13:06:15.524Z"
   },
   {
    "duration": 119,
    "start_time": "2024-10-28T13:11:23.024Z"
   },
   {
    "duration": 7,
    "start_time": "2024-10-28T13:11:24.525Z"
   },
   {
    "duration": 7,
    "start_time": "2024-10-28T13:11:25.255Z"
   },
   {
    "duration": 17,
    "start_time": "2024-10-28T13:11:26.828Z"
   },
   {
    "duration": 9,
    "start_time": "2024-10-28T13:12:00.118Z"
   },
   {
    "duration": 9,
    "start_time": "2024-10-28T13:12:01.061Z"
   },
   {
    "duration": 6,
    "start_time": "2024-10-28T13:12:01.421Z"
   },
   {
    "duration": 19,
    "start_time": "2024-10-28T13:12:02.677Z"
   },
   {
    "duration": 9,
    "start_time": "2024-10-28T13:12:32.903Z"
   },
   {
    "duration": 8,
    "start_time": "2024-10-28T13:12:34.276Z"
   },
   {
    "duration": 7,
    "start_time": "2024-10-28T13:12:34.668Z"
   },
   {
    "duration": 18,
    "start_time": "2024-10-28T13:12:36.309Z"
   },
   {
    "duration": 9,
    "start_time": "2024-10-28T13:12:58.254Z"
   },
   {
    "duration": 8,
    "start_time": "2024-10-28T13:12:59.166Z"
   },
   {
    "duration": 6,
    "start_time": "2024-10-28T13:12:59.519Z"
   },
   {
    "duration": 1933,
    "start_time": "2024-10-28T13:13:00.806Z"
   },
   {
    "duration": 9,
    "start_time": "2024-10-28T13:13:10.624Z"
   },
   {
    "duration": 7,
    "start_time": "2024-10-28T13:13:11.656Z"
   },
   {
    "duration": 6,
    "start_time": "2024-10-28T13:13:12.438Z"
   },
   {
    "duration": 1861,
    "start_time": "2024-10-28T13:13:14.510Z"
   },
   {
    "duration": 64,
    "start_time": "2024-10-28T13:18:18.454Z"
   },
   {
    "duration": 8,
    "start_time": "2024-10-28T13:21:11.909Z"
   },
   {
    "duration": 1746,
    "start_time": "2024-10-29T11:09:29.468Z"
   },
   {
    "duration": 602,
    "start_time": "2024-10-29T11:09:31.217Z"
   },
   {
    "duration": 273,
    "start_time": "2024-10-29T11:09:31.820Z"
   },
   {
    "duration": 271,
    "start_time": "2024-10-29T11:09:32.094Z"
   },
   {
    "duration": 6,
    "start_time": "2024-10-29T11:09:32.367Z"
   },
   {
    "duration": 2730,
    "start_time": "2024-10-29T11:09:32.375Z"
   },
   {
    "duration": 3,
    "start_time": "2024-10-29T11:09:35.107Z"
   },
   {
    "duration": 471,
    "start_time": "2024-10-29T11:09:35.111Z"
   },
   {
    "duration": 396,
    "start_time": "2024-10-29T11:09:35.584Z"
   },
   {
    "duration": 398,
    "start_time": "2024-10-29T11:09:35.981Z"
   },
   {
    "duration": 5,
    "start_time": "2024-10-29T11:09:36.380Z"
   },
   {
    "duration": 238,
    "start_time": "2024-10-29T11:09:36.386Z"
   },
   {
    "duration": 196,
    "start_time": "2024-10-29T11:09:36.626Z"
   },
   {
    "duration": 199,
    "start_time": "2024-10-29T11:09:36.827Z"
   },
   {
    "duration": 91,
    "start_time": "2024-10-29T11:09:37.028Z"
   },
   {
    "duration": 12,
    "start_time": "2024-10-29T11:09:37.121Z"
   },
   {
    "duration": 69,
    "start_time": "2024-10-29T11:09:37.134Z"
   },
   {
    "duration": 18,
    "start_time": "2024-10-29T11:09:37.205Z"
   },
   {
    "duration": 24,
    "start_time": "2024-10-29T11:09:37.224Z"
   },
   {
    "duration": 34,
    "start_time": "2024-10-29T11:09:37.249Z"
   },
   {
    "duration": 35,
    "start_time": "2024-10-29T11:09:37.285Z"
   },
   {
    "duration": 13,
    "start_time": "2024-10-29T11:09:37.322Z"
   },
   {
    "duration": 25,
    "start_time": "2024-10-29T11:09:37.337Z"
   },
   {
    "duration": 47,
    "start_time": "2024-10-29T11:09:37.363Z"
   },
   {
    "duration": 74,
    "start_time": "2024-10-29T11:09:37.412Z"
   },
   {
    "duration": 42,
    "start_time": "2024-10-29T11:09:37.488Z"
   },
   {
    "duration": 1844,
    "start_time": "2024-10-29T11:09:37.531Z"
   },
   {
    "duration": 1878,
    "start_time": "2024-10-29T11:09:39.377Z"
   },
   {
    "duration": 1826,
    "start_time": "2024-10-29T11:09:41.257Z"
   },
   {
    "duration": 9,
    "start_time": "2024-10-29T11:12:20.553Z"
   },
   {
    "duration": 7,
    "start_time": "2024-10-29T11:12:22.657Z"
   },
   {
    "duration": 6,
    "start_time": "2024-10-29T11:12:23.446Z"
   },
   {
    "duration": 1897,
    "start_time": "2024-10-29T11:12:24.897Z"
   },
   {
    "duration": 6,
    "start_time": "2024-10-29T11:12:35.420Z"
   },
   {
    "duration": 4,
    "start_time": "2024-10-29T11:12:39.429Z"
   },
   {
    "duration": 107,
    "start_time": "2024-10-29T11:14:11.379Z"
   },
   {
    "duration": 9,
    "start_time": "2024-10-29T11:14:13.077Z"
   },
   {
    "duration": 6,
    "start_time": "2024-10-29T11:14:13.505Z"
   },
   {
    "duration": 1903,
    "start_time": "2024-10-29T11:14:14.850Z"
   },
   {
    "duration": 9,
    "start_time": "2024-10-29T11:14:37.611Z"
   },
   {
    "duration": 9,
    "start_time": "2024-10-29T11:14:38.611Z"
   },
   {
    "duration": 7,
    "start_time": "2024-10-29T11:14:38.959Z"
   },
   {
    "duration": 1858,
    "start_time": "2024-10-29T11:14:39.993Z"
   },
   {
    "duration": 15,
    "start_time": "2024-10-29T11:20:22.496Z"
   },
   {
    "duration": 14,
    "start_time": "2024-10-29T11:20:50.746Z"
   },
   {
    "duration": 13,
    "start_time": "2024-10-29T11:21:08.200Z"
   },
   {
    "duration": 14,
    "start_time": "2024-10-29T11:21:18.989Z"
   },
   {
    "duration": 16,
    "start_time": "2024-10-29T11:21:20.706Z"
   },
   {
    "duration": 5,
    "start_time": "2024-10-29T11:23:34.780Z"
   },
   {
    "duration": 1685,
    "start_time": "2024-10-29T18:23:41.135Z"
   },
   {
    "duration": 733,
    "start_time": "2024-10-29T18:23:42.822Z"
   },
   {
    "duration": 674,
    "start_time": "2024-10-29T18:23:43.557Z"
   },
   {
    "duration": 650,
    "start_time": "2024-10-29T18:23:44.234Z"
   },
   {
    "duration": 7,
    "start_time": "2024-10-29T18:23:44.886Z"
   },
   {
    "duration": 2782,
    "start_time": "2024-10-29T18:23:44.895Z"
   },
   {
    "duration": 3,
    "start_time": "2024-10-29T18:23:47.679Z"
   },
   {
    "duration": 581,
    "start_time": "2024-10-29T18:23:47.684Z"
   },
   {
    "duration": 397,
    "start_time": "2024-10-29T18:23:48.266Z"
   },
   {
    "duration": 390,
    "start_time": "2024-10-29T18:23:48.665Z"
   },
   {
    "duration": 5,
    "start_time": "2024-10-29T18:23:49.057Z"
   },
   {
    "duration": 236,
    "start_time": "2024-10-29T18:23:49.063Z"
   },
   {
    "duration": 200,
    "start_time": "2024-10-29T18:23:49.301Z"
   },
   {
    "duration": 196,
    "start_time": "2024-10-29T18:23:49.503Z"
   },
   {
    "duration": 3,
    "start_time": "2024-10-29T18:23:49.700Z"
   },
   {
    "duration": 45,
    "start_time": "2024-10-29T18:23:49.704Z"
   },
   {
    "duration": 10,
    "start_time": "2024-10-29T18:23:49.750Z"
   },
   {
    "duration": 7,
    "start_time": "2024-10-29T18:23:49.762Z"
   },
   {
    "duration": 11,
    "start_time": "2024-10-29T18:23:49.770Z"
   },
   {
    "duration": 5,
    "start_time": "2024-10-29T18:23:49.783Z"
   },
   {
    "duration": 20,
    "start_time": "2024-10-29T18:23:49.789Z"
   },
   {
    "duration": 15,
    "start_time": "2024-10-29T18:23:49.810Z"
   },
   {
    "duration": 14,
    "start_time": "2024-10-29T18:23:49.827Z"
   },
   {
    "duration": 15,
    "start_time": "2024-10-29T18:23:49.842Z"
   },
   {
    "duration": 41,
    "start_time": "2024-10-29T18:23:49.858Z"
   },
   {
    "duration": 7,
    "start_time": "2024-10-29T18:23:49.900Z"
   },
   {
    "duration": 1935,
    "start_time": "2024-10-29T18:23:49.909Z"
   },
   {
    "duration": 1870,
    "start_time": "2024-10-29T18:23:51.848Z"
   },
   {
    "duration": 1876,
    "start_time": "2024-10-29T18:23:53.719Z"
   },
   {
    "duration": 4,
    "start_time": "2024-10-29T18:29:05.870Z"
   },
   {
    "duration": 123,
    "start_time": "2024-10-29T18:29:07.073Z"
   },
   {
    "duration": 1451,
    "start_time": "2024-10-29T18:29:28.436Z"
   },
   {
    "duration": 219,
    "start_time": "2024-10-29T18:29:29.889Z"
   },
   {
    "duration": 198,
    "start_time": "2024-10-29T18:29:30.110Z"
   },
   {
    "duration": 204,
    "start_time": "2024-10-29T18:29:30.311Z"
   },
   {
    "duration": 7,
    "start_time": "2024-10-29T18:29:30.517Z"
   },
   {
    "duration": 2672,
    "start_time": "2024-10-29T18:29:30.525Z"
   },
   {
    "duration": 3,
    "start_time": "2024-10-29T18:29:33.199Z"
   },
   {
    "duration": 462,
    "start_time": "2024-10-29T18:29:33.204Z"
   },
   {
    "duration": 383,
    "start_time": "2024-10-29T18:29:33.668Z"
   },
   {
    "duration": 391,
    "start_time": "2024-10-29T18:29:34.054Z"
   },
   {
    "duration": 5,
    "start_time": "2024-10-29T18:29:34.446Z"
   },
   {
    "duration": 54,
    "start_time": "2024-10-29T18:29:34.453Z"
   },
   {
    "duration": 204,
    "start_time": "2024-10-29T18:29:34.599Z"
   },
   {
    "duration": 293,
    "start_time": "2024-10-29T18:29:34.805Z"
   },
   {
    "duration": 3,
    "start_time": "2024-10-29T18:29:35.100Z"
   },
   {
    "duration": 26,
    "start_time": "2024-10-29T18:29:35.104Z"
   },
   {
    "duration": 48,
    "start_time": "2024-10-29T18:29:35.131Z"
   },
   {
    "duration": 61,
    "start_time": "2024-10-29T18:29:35.180Z"
   },
   {
    "duration": 35,
    "start_time": "2024-10-29T18:29:35.243Z"
   },
   {
    "duration": 17,
    "start_time": "2024-10-29T18:29:35.280Z"
   },
   {
    "duration": 165,
    "start_time": "2024-10-29T18:29:35.299Z"
   },
   {
    "duration": 0,
    "start_time": "2024-10-29T18:29:35.465Z"
   },
   {
    "duration": 0,
    "start_time": "2024-10-29T18:29:35.467Z"
   },
   {
    "duration": 0,
    "start_time": "2024-10-29T18:29:35.468Z"
   },
   {
    "duration": 0,
    "start_time": "2024-10-29T18:29:35.469Z"
   },
   {
    "duration": 0,
    "start_time": "2024-10-29T18:29:35.471Z"
   },
   {
    "duration": 0,
    "start_time": "2024-10-29T18:29:35.472Z"
   },
   {
    "duration": 0,
    "start_time": "2024-10-29T18:29:35.473Z"
   },
   {
    "duration": 0,
    "start_time": "2024-10-29T18:29:35.474Z"
   },
   {
    "duration": 12,
    "start_time": "2024-10-29T18:30:18.834Z"
   },
   {
    "duration": 11,
    "start_time": "2024-10-29T18:32:29.114Z"
   },
   {
    "duration": 13,
    "start_time": "2024-10-29T18:32:34.170Z"
   },
   {
    "duration": 16,
    "start_time": "2024-10-29T18:32:39.012Z"
   },
   {
    "duration": 14,
    "start_time": "2024-10-29T18:35:21.315Z"
   },
   {
    "duration": 18,
    "start_time": "2024-10-29T18:35:25.563Z"
   },
   {
    "duration": 4,
    "start_time": "2024-10-29T18:37:56.900Z"
   },
   {
    "duration": 12,
    "start_time": "2024-10-29T18:37:59.667Z"
   },
   {
    "duration": 18,
    "start_time": "2024-10-29T18:38:13.508Z"
   },
   {
    "duration": 10,
    "start_time": "2024-10-29T18:38:22.662Z"
   },
   {
    "duration": 5,
    "start_time": "2024-10-29T18:38:33.836Z"
   },
   {
    "duration": 12,
    "start_time": "2024-10-29T18:38:34.268Z"
   },
   {
    "duration": 1463,
    "start_time": "2024-10-29T18:38:40.260Z"
   },
   {
    "duration": 220,
    "start_time": "2024-10-29T18:38:41.725Z"
   },
   {
    "duration": 196,
    "start_time": "2024-10-29T18:38:41.947Z"
   },
   {
    "duration": 201,
    "start_time": "2024-10-29T18:38:42.145Z"
   },
   {
    "duration": 6,
    "start_time": "2024-10-29T18:38:42.348Z"
   },
   {
    "duration": 2851,
    "start_time": "2024-10-29T18:38:42.356Z"
   },
   {
    "duration": 4,
    "start_time": "2024-10-29T18:38:45.209Z"
   },
   {
    "duration": 578,
    "start_time": "2024-10-29T18:38:45.215Z"
   },
   {
    "duration": 386,
    "start_time": "2024-10-29T18:38:45.798Z"
   },
   {
    "duration": 394,
    "start_time": "2024-10-29T18:38:46.187Z"
   },
   {
    "duration": 5,
    "start_time": "2024-10-29T18:38:46.583Z"
   },
   {
    "duration": 110,
    "start_time": "2024-10-29T18:38:46.598Z"
   },
   {
    "duration": 103,
    "start_time": "2024-10-29T18:38:46.798Z"
   },
   {
    "duration": 298,
    "start_time": "2024-10-29T18:38:46.903Z"
   },
   {
    "duration": 3,
    "start_time": "2024-10-29T18:38:47.203Z"
   },
   {
    "duration": 16,
    "start_time": "2024-10-29T18:38:47.207Z"
   },
   {
    "duration": 12,
    "start_time": "2024-10-29T18:38:47.225Z"
   },
   {
    "duration": 28,
    "start_time": "2024-10-29T18:38:47.239Z"
   },
   {
    "duration": 9,
    "start_time": "2024-10-29T18:38:47.269Z"
   },
   {
    "duration": 5,
    "start_time": "2024-10-29T18:38:47.279Z"
   },
   {
    "duration": 15,
    "start_time": "2024-10-29T18:38:47.298Z"
   },
   {
    "duration": 11,
    "start_time": "2024-10-29T18:38:47.315Z"
   },
   {
    "duration": 23,
    "start_time": "2024-10-29T18:38:47.328Z"
   },
   {
    "duration": 8,
    "start_time": "2024-10-29T18:38:47.353Z"
   },
   {
    "duration": 40,
    "start_time": "2024-10-29T18:38:47.363Z"
   },
   {
    "duration": 10,
    "start_time": "2024-10-29T18:38:47.405Z"
   },
   {
    "duration": 1991,
    "start_time": "2024-10-29T18:38:47.417Z"
   },
   {
    "duration": 1855,
    "start_time": "2024-10-29T18:38:49.411Z"
   },
   {
    "duration": 1900,
    "start_time": "2024-10-29T18:38:51.268Z"
   },
   {
    "duration": 5,
    "start_time": "2024-10-29T18:39:10.484Z"
   },
   {
    "duration": 161,
    "start_time": "2024-10-29T18:39:11.347Z"
   },
   {
    "duration": 4,
    "start_time": "2024-10-29T18:39:27.806Z"
   },
   {
    "duration": 14,
    "start_time": "2024-10-29T18:39:28.475Z"
   },
   {
    "duration": 1503,
    "start_time": "2024-10-29T18:39:36.189Z"
   },
   {
    "duration": 233,
    "start_time": "2024-10-29T18:39:37.694Z"
   },
   {
    "duration": 208,
    "start_time": "2024-10-29T18:39:37.929Z"
   },
   {
    "duration": 208,
    "start_time": "2024-10-29T18:39:38.139Z"
   },
   {
    "duration": 6,
    "start_time": "2024-10-29T18:39:38.349Z"
   },
   {
    "duration": 2959,
    "start_time": "2024-10-29T18:39:38.356Z"
   },
   {
    "duration": 4,
    "start_time": "2024-10-29T18:39:41.317Z"
   },
   {
    "duration": 490,
    "start_time": "2024-10-29T18:39:41.323Z"
   },
   {
    "duration": 353,
    "start_time": "2024-10-29T18:39:41.814Z"
   },
   {
    "duration": 400,
    "start_time": "2024-10-29T18:39:42.170Z"
   },
   {
    "duration": 6,
    "start_time": "2024-10-29T18:39:42.571Z"
   },
   {
    "duration": 220,
    "start_time": "2024-10-29T18:39:42.578Z"
   },
   {
    "duration": 198,
    "start_time": "2024-10-29T18:39:42.800Z"
   },
   {
    "duration": 108,
    "start_time": "2024-10-29T18:39:42.999Z"
   },
   {
    "duration": 88,
    "start_time": "2024-10-29T18:39:43.110Z"
   },
   {
    "duration": 4,
    "start_time": "2024-10-29T18:39:43.200Z"
   },
   {
    "duration": 11,
    "start_time": "2024-10-29T18:39:43.206Z"
   },
   {
    "duration": 11,
    "start_time": "2024-10-29T18:39:43.218Z"
   },
   {
    "duration": 9,
    "start_time": "2024-10-29T18:39:43.231Z"
   },
   {
    "duration": 6,
    "start_time": "2024-10-29T18:39:43.242Z"
   },
   {
    "duration": 16,
    "start_time": "2024-10-29T18:39:43.249Z"
   },
   {
    "duration": 6,
    "start_time": "2024-10-29T18:39:43.299Z"
   },
   {
    "duration": 51,
    "start_time": "2024-10-29T18:39:43.307Z"
   },
   {
    "duration": 8,
    "start_time": "2024-10-29T18:39:43.360Z"
   },
   {
    "duration": 17,
    "start_time": "2024-10-29T18:39:43.369Z"
   },
   {
    "duration": 13,
    "start_time": "2024-10-29T18:39:43.387Z"
   },
   {
    "duration": 1957,
    "start_time": "2024-10-29T18:39:43.402Z"
   },
   {
    "duration": 1922,
    "start_time": "2024-10-29T18:39:45.362Z"
   },
   {
    "duration": 1963,
    "start_time": "2024-10-29T18:39:47.286Z"
   },
   {
    "duration": 4,
    "start_time": "2024-10-29T18:40:17.853Z"
   },
   {
    "duration": 22,
    "start_time": "2024-10-29T18:40:18.375Z"
   },
   {
    "duration": 1444,
    "start_time": "2024-10-29T18:40:23.325Z"
   },
   {
    "duration": 228,
    "start_time": "2024-10-29T18:40:24.771Z"
   },
   {
    "duration": 198,
    "start_time": "2024-10-29T18:40:25.000Z"
   },
   {
    "duration": 203,
    "start_time": "2024-10-29T18:40:25.201Z"
   },
   {
    "duration": 6,
    "start_time": "2024-10-29T18:40:25.406Z"
   },
   {
    "duration": 2819,
    "start_time": "2024-10-29T18:40:25.414Z"
   },
   {
    "duration": 4,
    "start_time": "2024-10-29T18:40:28.236Z"
   },
   {
    "duration": 539,
    "start_time": "2024-10-29T18:40:28.242Z"
   },
   {
    "duration": 391,
    "start_time": "2024-10-29T18:40:28.783Z"
   },
   {
    "duration": 397,
    "start_time": "2024-10-29T18:40:29.177Z"
   },
   {
    "duration": 5,
    "start_time": "2024-10-29T18:40:29.575Z"
   },
   {
    "duration": 129,
    "start_time": "2024-10-29T18:40:29.582Z"
   },
   {
    "duration": 194,
    "start_time": "2024-10-29T18:40:29.713Z"
   },
   {
    "duration": 191,
    "start_time": "2024-10-29T18:40:29.909Z"
   },
   {
    "duration": 4,
    "start_time": "2024-10-29T18:40:30.102Z"
   },
   {
    "duration": 131,
    "start_time": "2024-10-29T18:40:30.108Z"
   },
   {
    "duration": 33,
    "start_time": "2024-10-29T18:40:30.241Z"
   },
   {
    "duration": 81,
    "start_time": "2024-10-29T18:40:30.276Z"
   },
   {
    "duration": 38,
    "start_time": "2024-10-29T18:40:30.359Z"
   },
   {
    "duration": 47,
    "start_time": "2024-10-29T18:40:30.399Z"
   },
   {
    "duration": 34,
    "start_time": "2024-10-29T18:40:30.448Z"
   },
   {
    "duration": 10,
    "start_time": "2024-10-29T18:40:30.484Z"
   },
   {
    "duration": 45,
    "start_time": "2024-10-29T18:40:30.496Z"
   },
   {
    "duration": 15,
    "start_time": "2024-10-29T18:40:30.544Z"
   },
   {
    "duration": 19,
    "start_time": "2024-10-29T18:40:30.560Z"
   },
   {
    "duration": 20,
    "start_time": "2024-10-29T18:40:30.582Z"
   },
   {
    "duration": 1993,
    "start_time": "2024-10-29T18:40:30.604Z"
   },
   {
    "duration": 1945,
    "start_time": "2024-10-29T18:40:32.600Z"
   },
   {
    "duration": 1938,
    "start_time": "2024-10-29T18:40:34.546Z"
   },
   {
    "duration": 10,
    "start_time": "2024-10-29T18:42:00.981Z"
   },
   {
    "duration": 9,
    "start_time": "2024-10-29T18:42:02.717Z"
   },
   {
    "duration": 7,
    "start_time": "2024-10-29T18:42:03.172Z"
   },
   {
    "duration": 2063,
    "start_time": "2024-10-29T18:42:04.388Z"
   },
   {
    "duration": 197,
    "start_time": "2024-10-29T18:42:31.599Z"
   },
   {
    "duration": 9,
    "start_time": "2024-10-29T18:42:33.061Z"
   },
   {
    "duration": 7,
    "start_time": "2024-10-29T18:42:33.446Z"
   },
   {
    "duration": 1921,
    "start_time": "2024-10-29T18:42:34.580Z"
   },
   {
    "duration": 9,
    "start_time": "2024-10-29T18:42:50.064Z"
   },
   {
    "duration": 8,
    "start_time": "2024-10-29T18:42:51.588Z"
   },
   {
    "duration": 7,
    "start_time": "2024-10-29T18:42:52.021Z"
   },
   {
    "duration": 1897,
    "start_time": "2024-10-29T18:42:53.149Z"
   },
   {
    "duration": 1937,
    "start_time": "2024-10-29T18:43:02.318Z"
   },
   {
    "duration": 1951,
    "start_time": "2024-10-29T18:43:13.301Z"
   },
   {
    "duration": 1477,
    "start_time": "2024-10-29T18:44:45.456Z"
   },
   {
    "duration": 237,
    "start_time": "2024-10-29T18:44:46.936Z"
   },
   {
    "duration": 197,
    "start_time": "2024-10-29T18:44:47.174Z"
   },
   {
    "duration": 211,
    "start_time": "2024-10-29T18:44:47.373Z"
   },
   {
    "duration": 7,
    "start_time": "2024-10-29T18:44:47.586Z"
   },
   {
    "duration": 2690,
    "start_time": "2024-10-29T18:44:47.598Z"
   },
   {
    "duration": 9,
    "start_time": "2024-10-29T18:44:50.289Z"
   },
   {
    "duration": 481,
    "start_time": "2024-10-29T18:44:50.300Z"
   },
   {
    "duration": 398,
    "start_time": "2024-10-29T18:44:50.783Z"
   },
   {
    "duration": 368,
    "start_time": "2024-10-29T18:44:51.184Z"
   },
   {
    "duration": 4,
    "start_time": "2024-10-29T18:44:51.554Z"
   },
   {
    "duration": 240,
    "start_time": "2024-10-29T18:44:51.560Z"
   },
   {
    "duration": 104,
    "start_time": "2024-10-29T18:44:51.802Z"
   },
   {
    "duration": 292,
    "start_time": "2024-10-29T18:44:51.908Z"
   },
   {
    "duration": 3,
    "start_time": "2024-10-29T18:44:52.201Z"
   },
   {
    "duration": 27,
    "start_time": "2024-10-29T18:44:52.206Z"
   },
   {
    "duration": 42,
    "start_time": "2024-10-29T18:44:52.234Z"
   },
   {
    "duration": 7,
    "start_time": "2024-10-29T18:44:52.278Z"
   },
   {
    "duration": 13,
    "start_time": "2024-10-29T18:44:52.287Z"
   },
   {
    "duration": 18,
    "start_time": "2024-10-29T18:44:52.302Z"
   },
   {
    "duration": 24,
    "start_time": "2024-10-29T18:44:52.322Z"
   },
   {
    "duration": 9,
    "start_time": "2024-10-29T18:44:52.347Z"
   },
   {
    "duration": 15,
    "start_time": "2024-10-29T18:44:52.357Z"
   },
   {
    "duration": 10,
    "start_time": "2024-10-29T18:44:52.373Z"
   },
   {
    "duration": 37,
    "start_time": "2024-10-29T18:44:52.398Z"
   },
   {
    "duration": 10,
    "start_time": "2024-10-29T18:44:52.437Z"
   },
   {
    "duration": 1931,
    "start_time": "2024-10-29T18:44:52.449Z"
   },
   {
    "duration": 1964,
    "start_time": "2024-10-29T18:44:54.385Z"
   },
   {
    "duration": 1922,
    "start_time": "2024-10-29T18:44:56.351Z"
   },
   {
    "duration": 1424,
    "start_time": "2024-10-29T18:48:34.432Z"
   },
   {
    "duration": 246,
    "start_time": "2024-10-29T18:48:35.858Z"
   },
   {
    "duration": 200,
    "start_time": "2024-10-29T18:48:36.107Z"
   },
   {
    "duration": 222,
    "start_time": "2024-10-29T18:48:36.310Z"
   },
   {
    "duration": 8,
    "start_time": "2024-10-29T18:48:36.534Z"
   },
   {
    "duration": 2668,
    "start_time": "2024-10-29T18:48:36.544Z"
   },
   {
    "duration": 6,
    "start_time": "2024-10-29T18:48:39.214Z"
   },
   {
    "duration": 548,
    "start_time": "2024-10-29T18:48:39.222Z"
   },
   {
    "duration": 409,
    "start_time": "2024-10-29T18:48:39.771Z"
   },
   {
    "duration": 383,
    "start_time": "2024-10-29T18:48:40.184Z"
   },
   {
    "duration": 5,
    "start_time": "2024-10-29T18:48:40.569Z"
   },
   {
    "duration": 126,
    "start_time": "2024-10-29T18:48:40.575Z"
   },
   {
    "duration": 194,
    "start_time": "2024-10-29T18:48:40.703Z"
   },
   {
    "duration": 208,
    "start_time": "2024-10-29T18:48:40.900Z"
   },
   {
    "duration": 88,
    "start_time": "2024-10-29T18:48:41.110Z"
   },
   {
    "duration": 4,
    "start_time": "2024-10-29T18:48:41.200Z"
   },
   {
    "duration": 23,
    "start_time": "2024-10-29T18:48:41.206Z"
   },
   {
    "duration": 9,
    "start_time": "2024-10-29T18:48:41.231Z"
   },
   {
    "duration": 10,
    "start_time": "2024-10-29T18:48:41.242Z"
   },
   {
    "duration": 5,
    "start_time": "2024-10-29T18:48:41.254Z"
   },
   {
    "duration": 16,
    "start_time": "2024-10-29T18:48:41.297Z"
   },
   {
    "duration": 8,
    "start_time": "2024-10-29T18:48:41.315Z"
   },
   {
    "duration": 15,
    "start_time": "2024-10-29T18:48:41.325Z"
   },
   {
    "duration": 8,
    "start_time": "2024-10-29T18:48:41.341Z"
   },
   {
    "duration": 50,
    "start_time": "2024-10-29T18:48:41.351Z"
   },
   {
    "duration": 6,
    "start_time": "2024-10-29T18:48:41.403Z"
   },
   {
    "duration": 1978,
    "start_time": "2024-10-29T18:48:41.411Z"
   },
   {
    "duration": 2012,
    "start_time": "2024-10-29T18:48:43.400Z"
   },
   {
    "duration": 2036,
    "start_time": "2024-10-29T18:48:45.414Z"
   },
   {
    "duration": 95,
    "start_time": "2024-10-29T18:54:18.978Z"
   },
   {
    "duration": 1528,
    "start_time": "2024-12-06T20:02:27.900Z"
   },
   {
    "duration": 610,
    "start_time": "2024-12-06T20:02:29.430Z"
   },
   {
    "duration": 538,
    "start_time": "2024-12-06T20:02:30.042Z"
   },
   {
    "duration": 579,
    "start_time": "2024-12-06T20:02:30.582Z"
   },
   {
    "duration": 5,
    "start_time": "2024-12-06T20:02:31.162Z"
   },
   {
    "duration": 2518,
    "start_time": "2024-12-06T20:02:31.168Z"
   },
   {
    "duration": 3,
    "start_time": "2024-12-06T20:02:33.688Z"
   },
   {
    "duration": 429,
    "start_time": "2024-12-06T20:02:33.692Z"
   },
   {
    "duration": 395,
    "start_time": "2024-12-06T20:02:34.122Z"
   },
   {
    "duration": 383,
    "start_time": "2024-12-06T20:02:34.519Z"
   },
   {
    "duration": 5,
    "start_time": "2024-12-06T20:02:34.903Z"
   },
   {
    "duration": 186,
    "start_time": "2024-12-06T20:02:34.909Z"
   },
   {
    "duration": 194,
    "start_time": "2024-12-06T20:02:35.103Z"
   },
   {
    "duration": 178,
    "start_time": "2024-12-06T20:02:35.299Z"
   },
   {
    "duration": 9,
    "start_time": "2024-12-06T20:02:35.478Z"
   },
   {
    "duration": 93,
    "start_time": "2024-12-06T20:02:35.489Z"
   },
   {
    "duration": 22,
    "start_time": "2024-12-06T20:02:35.585Z"
   },
   {
    "duration": 41,
    "start_time": "2024-12-06T20:02:35.610Z"
   },
   {
    "duration": 30,
    "start_time": "2024-12-06T20:02:35.653Z"
   },
   {
    "duration": 6,
    "start_time": "2024-12-06T20:02:35.685Z"
   },
   {
    "duration": 40,
    "start_time": "2024-12-06T20:02:35.693Z"
   },
   {
    "duration": 18,
    "start_time": "2024-12-06T20:02:35.735Z"
   },
   {
    "duration": 29,
    "start_time": "2024-12-06T20:02:35.755Z"
   },
   {
    "duration": 16,
    "start_time": "2024-12-06T20:02:35.787Z"
   },
   {
    "duration": 53,
    "start_time": "2024-12-06T20:02:35.805Z"
   },
   {
    "duration": 9,
    "start_time": "2024-12-06T20:02:35.860Z"
   },
   {
    "duration": 1503,
    "start_time": "2024-12-06T20:02:35.880Z"
   },
   {
    "duration": 1479,
    "start_time": "2024-12-06T20:02:37.388Z"
   },
   {
    "duration": 1637,
    "start_time": "2025-06-07T11:50:06.837Z"
   },
   {
    "duration": 223,
    "start_time": "2025-06-07T11:50:08.476Z"
   },
   {
    "duration": 197,
    "start_time": "2025-06-07T11:50:08.702Z"
   },
   {
    "duration": 204,
    "start_time": "2025-06-07T11:50:08.901Z"
   },
   {
    "duration": 6,
    "start_time": "2025-06-07T11:50:09.107Z"
   },
   {
    "duration": 2818,
    "start_time": "2025-06-07T11:50:09.115Z"
   },
   {
    "duration": 3,
    "start_time": "2025-06-07T11:50:11.934Z"
   },
   {
    "duration": 512,
    "start_time": "2025-06-07T11:50:11.939Z"
   },
   {
    "duration": 377,
    "start_time": "2025-06-07T11:50:12.453Z"
   },
   {
    "duration": 387,
    "start_time": "2025-06-07T11:50:12.834Z"
   },
   {
    "duration": 6,
    "start_time": "2025-06-07T11:50:13.223Z"
   },
   {
    "duration": 153,
    "start_time": "2025-06-07T11:50:13.231Z"
   },
   {
    "duration": 289,
    "start_time": "2025-06-07T11:50:13.388Z"
   },
   {
    "duration": 103,
    "start_time": "2025-06-07T11:50:13.679Z"
   },
   {
    "duration": 93,
    "start_time": "2025-06-07T11:50:13.784Z"
   },
   {
    "duration": 4,
    "start_time": "2025-06-07T11:50:13.879Z"
   },
   {
    "duration": 12,
    "start_time": "2025-06-07T11:50:13.885Z"
   },
   {
    "duration": 6,
    "start_time": "2025-06-07T11:50:13.899Z"
   },
   {
    "duration": 10,
    "start_time": "2025-06-07T11:50:13.906Z"
   },
   {
    "duration": 4,
    "start_time": "2025-06-07T11:50:13.917Z"
   },
   {
    "duration": 17,
    "start_time": "2025-06-07T11:50:13.923Z"
   },
   {
    "duration": 7,
    "start_time": "2025-06-07T11:50:13.977Z"
   },
   {
    "duration": 15,
    "start_time": "2025-06-07T11:50:13.986Z"
   },
   {
    "duration": 8,
    "start_time": "2025-06-07T11:50:14.003Z"
   },
   {
    "duration": 15,
    "start_time": "2025-06-07T11:50:14.012Z"
   },
   {
    "duration": 7,
    "start_time": "2025-06-07T11:50:14.029Z"
   },
   {
    "duration": 1915,
    "start_time": "2025-06-07T11:50:14.037Z"
   },
   {
    "duration": 1851,
    "start_time": "2025-06-07T11:50:15.955Z"
   },
   {
    "duration": 1889,
    "start_time": "2025-06-07T11:50:17.808Z"
   }
  ],
  "kernelspec": {
   "display_name": "Python 3 (ipykernel)",
   "language": "python",
   "name": "python3"
  },
  "language_info": {
   "codemirror_mode": {
    "name": "ipython",
    "version": 3
   },
   "file_extension": ".py",
   "mimetype": "text/x-python",
   "name": "python",
   "nbconvert_exporter": "python",
   "pygments_lexer": "ipython3",
   "version": "3.9.21"
  },
  "toc": {
   "base_numbering": 1,
   "nav_menu": {},
   "number_sections": true,
   "sideBar": true,
   "skip_h1_title": true,
   "title_cell": "Table of Contents",
   "title_sidebar": "Contents",
   "toc_cell": false,
   "toc_position": {},
   "toc_section_display": true,
   "toc_window_display": false
  }
 },
 "nbformat": 4,
 "nbformat_minor": 4
}
